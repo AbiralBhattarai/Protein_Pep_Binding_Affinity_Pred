{
  "nbformat": 4,
  "nbformat_minor": 0,
  "metadata": {
    "colab": {
      "provenance": [],
      "gpuType": "T4"
    },
    "kernelspec": {
      "name": "python3",
      "display_name": "Python 3"
    },
    "language_info": {
      "name": "python"
    },
    "accelerator": "GPU",
    "widgets": {
      "application/vnd.jupyter.widget-state+json": {
        "aaa6f5ecc780418eab2862062f90073a": {
          "model_module": "@jupyter-widgets/controls",
          "model_name": "HBoxModel",
          "model_module_version": "1.5.0",
          "state": {
            "_dom_classes": [],
            "_model_module": "@jupyter-widgets/controls",
            "_model_module_version": "1.5.0",
            "_model_name": "HBoxModel",
            "_view_count": null,
            "_view_module": "@jupyter-widgets/controls",
            "_view_module_version": "1.5.0",
            "_view_name": "HBoxView",
            "box_style": "",
            "children": [
              "IPY_MODEL_51fc2122f99b480f86539f10d05feda4",
              "IPY_MODEL_fe3477dcaaac493b8d2472189a88f0af",
              "IPY_MODEL_b66d7f4c8b204441bcfbaf29314d99b4"
            ],
            "layout": "IPY_MODEL_c7f322ac92a8458bbd1446dd46337701"
          }
        },
        "51fc2122f99b480f86539f10d05feda4": {
          "model_module": "@jupyter-widgets/controls",
          "model_name": "HTMLModel",
          "model_module_version": "1.5.0",
          "state": {
            "_dom_classes": [],
            "_model_module": "@jupyter-widgets/controls",
            "_model_module_version": "1.5.0",
            "_model_name": "HTMLModel",
            "_view_count": null,
            "_view_module": "@jupyter-widgets/controls",
            "_view_module_version": "1.5.0",
            "_view_name": "HTMLView",
            "description": "",
            "description_tooltip": null,
            "layout": "IPY_MODEL_e5a7a89cecef4e79bf9f8bcb2853744c",
            "placeholder": "​",
            "style": "IPY_MODEL_1f9c5b8625fe47a9aedba7eed0c6f5e5",
            "value": "tokenizer_config.json: 100%"
          }
        },
        "fe3477dcaaac493b8d2472189a88f0af": {
          "model_module": "@jupyter-widgets/controls",
          "model_name": "FloatProgressModel",
          "model_module_version": "1.5.0",
          "state": {
            "_dom_classes": [],
            "_model_module": "@jupyter-widgets/controls",
            "_model_module_version": "1.5.0",
            "_model_name": "FloatProgressModel",
            "_view_count": null,
            "_view_module": "@jupyter-widgets/controls",
            "_view_module_version": "1.5.0",
            "_view_name": "ProgressView",
            "bar_style": "success",
            "description": "",
            "description_tooltip": null,
            "layout": "IPY_MODEL_61f4ac55fbaa46a69ab80aed456838c7",
            "max": 95,
            "min": 0,
            "orientation": "horizontal",
            "style": "IPY_MODEL_0753e120fbe7441da597e6e432461766",
            "value": 95
          }
        },
        "b66d7f4c8b204441bcfbaf29314d99b4": {
          "model_module": "@jupyter-widgets/controls",
          "model_name": "HTMLModel",
          "model_module_version": "1.5.0",
          "state": {
            "_dom_classes": [],
            "_model_module": "@jupyter-widgets/controls",
            "_model_module_version": "1.5.0",
            "_model_name": "HTMLModel",
            "_view_count": null,
            "_view_module": "@jupyter-widgets/controls",
            "_view_module_version": "1.5.0",
            "_view_name": "HTMLView",
            "description": "",
            "description_tooltip": null,
            "layout": "IPY_MODEL_dd3e61ccbb51454eb579f3172e1bc85b",
            "placeholder": "​",
            "style": "IPY_MODEL_295ca98a42e545a880fc8c68b5386a45",
            "value": " 95.0/95.0 [00:00&lt;00:00, 4.57kB/s]"
          }
        },
        "c7f322ac92a8458bbd1446dd46337701": {
          "model_module": "@jupyter-widgets/base",
          "model_name": "LayoutModel",
          "model_module_version": "1.2.0",
          "state": {
            "_model_module": "@jupyter-widgets/base",
            "_model_module_version": "1.2.0",
            "_model_name": "LayoutModel",
            "_view_count": null,
            "_view_module": "@jupyter-widgets/base",
            "_view_module_version": "1.2.0",
            "_view_name": "LayoutView",
            "align_content": null,
            "align_items": null,
            "align_self": null,
            "border": null,
            "bottom": null,
            "display": null,
            "flex": null,
            "flex_flow": null,
            "grid_area": null,
            "grid_auto_columns": null,
            "grid_auto_flow": null,
            "grid_auto_rows": null,
            "grid_column": null,
            "grid_gap": null,
            "grid_row": null,
            "grid_template_areas": null,
            "grid_template_columns": null,
            "grid_template_rows": null,
            "height": null,
            "justify_content": null,
            "justify_items": null,
            "left": null,
            "margin": null,
            "max_height": null,
            "max_width": null,
            "min_height": null,
            "min_width": null,
            "object_fit": null,
            "object_position": null,
            "order": null,
            "overflow": null,
            "overflow_x": null,
            "overflow_y": null,
            "padding": null,
            "right": null,
            "top": null,
            "visibility": null,
            "width": null
          }
        },
        "e5a7a89cecef4e79bf9f8bcb2853744c": {
          "model_module": "@jupyter-widgets/base",
          "model_name": "LayoutModel",
          "model_module_version": "1.2.0",
          "state": {
            "_model_module": "@jupyter-widgets/base",
            "_model_module_version": "1.2.0",
            "_model_name": "LayoutModel",
            "_view_count": null,
            "_view_module": "@jupyter-widgets/base",
            "_view_module_version": "1.2.0",
            "_view_name": "LayoutView",
            "align_content": null,
            "align_items": null,
            "align_self": null,
            "border": null,
            "bottom": null,
            "display": null,
            "flex": null,
            "flex_flow": null,
            "grid_area": null,
            "grid_auto_columns": null,
            "grid_auto_flow": null,
            "grid_auto_rows": null,
            "grid_column": null,
            "grid_gap": null,
            "grid_row": null,
            "grid_template_areas": null,
            "grid_template_columns": null,
            "grid_template_rows": null,
            "height": null,
            "justify_content": null,
            "justify_items": null,
            "left": null,
            "margin": null,
            "max_height": null,
            "max_width": null,
            "min_height": null,
            "min_width": null,
            "object_fit": null,
            "object_position": null,
            "order": null,
            "overflow": null,
            "overflow_x": null,
            "overflow_y": null,
            "padding": null,
            "right": null,
            "top": null,
            "visibility": null,
            "width": null
          }
        },
        "1f9c5b8625fe47a9aedba7eed0c6f5e5": {
          "model_module": "@jupyter-widgets/controls",
          "model_name": "DescriptionStyleModel",
          "model_module_version": "1.5.0",
          "state": {
            "_model_module": "@jupyter-widgets/controls",
            "_model_module_version": "1.5.0",
            "_model_name": "DescriptionStyleModel",
            "_view_count": null,
            "_view_module": "@jupyter-widgets/base",
            "_view_module_version": "1.2.0",
            "_view_name": "StyleView",
            "description_width": ""
          }
        },
        "61f4ac55fbaa46a69ab80aed456838c7": {
          "model_module": "@jupyter-widgets/base",
          "model_name": "LayoutModel",
          "model_module_version": "1.2.0",
          "state": {
            "_model_module": "@jupyter-widgets/base",
            "_model_module_version": "1.2.0",
            "_model_name": "LayoutModel",
            "_view_count": null,
            "_view_module": "@jupyter-widgets/base",
            "_view_module_version": "1.2.0",
            "_view_name": "LayoutView",
            "align_content": null,
            "align_items": null,
            "align_self": null,
            "border": null,
            "bottom": null,
            "display": null,
            "flex": null,
            "flex_flow": null,
            "grid_area": null,
            "grid_auto_columns": null,
            "grid_auto_flow": null,
            "grid_auto_rows": null,
            "grid_column": null,
            "grid_gap": null,
            "grid_row": null,
            "grid_template_areas": null,
            "grid_template_columns": null,
            "grid_template_rows": null,
            "height": null,
            "justify_content": null,
            "justify_items": null,
            "left": null,
            "margin": null,
            "max_height": null,
            "max_width": null,
            "min_height": null,
            "min_width": null,
            "object_fit": null,
            "object_position": null,
            "order": null,
            "overflow": null,
            "overflow_x": null,
            "overflow_y": null,
            "padding": null,
            "right": null,
            "top": null,
            "visibility": null,
            "width": null
          }
        },
        "0753e120fbe7441da597e6e432461766": {
          "model_module": "@jupyter-widgets/controls",
          "model_name": "ProgressStyleModel",
          "model_module_version": "1.5.0",
          "state": {
            "_model_module": "@jupyter-widgets/controls",
            "_model_module_version": "1.5.0",
            "_model_name": "ProgressStyleModel",
            "_view_count": null,
            "_view_module": "@jupyter-widgets/base",
            "_view_module_version": "1.2.0",
            "_view_name": "StyleView",
            "bar_color": null,
            "description_width": ""
          }
        },
        "dd3e61ccbb51454eb579f3172e1bc85b": {
          "model_module": "@jupyter-widgets/base",
          "model_name": "LayoutModel",
          "model_module_version": "1.2.0",
          "state": {
            "_model_module": "@jupyter-widgets/base",
            "_model_module_version": "1.2.0",
            "_model_name": "LayoutModel",
            "_view_count": null,
            "_view_module": "@jupyter-widgets/base",
            "_view_module_version": "1.2.0",
            "_view_name": "LayoutView",
            "align_content": null,
            "align_items": null,
            "align_self": null,
            "border": null,
            "bottom": null,
            "display": null,
            "flex": null,
            "flex_flow": null,
            "grid_area": null,
            "grid_auto_columns": null,
            "grid_auto_flow": null,
            "grid_auto_rows": null,
            "grid_column": null,
            "grid_gap": null,
            "grid_row": null,
            "grid_template_areas": null,
            "grid_template_columns": null,
            "grid_template_rows": null,
            "height": null,
            "justify_content": null,
            "justify_items": null,
            "left": null,
            "margin": null,
            "max_height": null,
            "max_width": null,
            "min_height": null,
            "min_width": null,
            "object_fit": null,
            "object_position": null,
            "order": null,
            "overflow": null,
            "overflow_x": null,
            "overflow_y": null,
            "padding": null,
            "right": null,
            "top": null,
            "visibility": null,
            "width": null
          }
        },
        "295ca98a42e545a880fc8c68b5386a45": {
          "model_module": "@jupyter-widgets/controls",
          "model_name": "DescriptionStyleModel",
          "model_module_version": "1.5.0",
          "state": {
            "_model_module": "@jupyter-widgets/controls",
            "_model_module_version": "1.5.0",
            "_model_name": "DescriptionStyleModel",
            "_view_count": null,
            "_view_module": "@jupyter-widgets/base",
            "_view_module_version": "1.2.0",
            "_view_name": "StyleView",
            "description_width": ""
          }
        },
        "6a0354ddb84f467984ab7877cd68d7ff": {
          "model_module": "@jupyter-widgets/controls",
          "model_name": "HBoxModel",
          "model_module_version": "1.5.0",
          "state": {
            "_dom_classes": [],
            "_model_module": "@jupyter-widgets/controls",
            "_model_module_version": "1.5.0",
            "_model_name": "HBoxModel",
            "_view_count": null,
            "_view_module": "@jupyter-widgets/controls",
            "_view_module_version": "1.5.0",
            "_view_name": "HBoxView",
            "box_style": "",
            "children": [
              "IPY_MODEL_8ea57e22ba8f431c8afe345aa9a7d356",
              "IPY_MODEL_da45a94a160f4906be7056b4d9b23902",
              "IPY_MODEL_72c912dcc409436ca7d0deac921996de"
            ],
            "layout": "IPY_MODEL_5b72999b728245c1b67b77ab64e7222f"
          }
        },
        "8ea57e22ba8f431c8afe345aa9a7d356": {
          "model_module": "@jupyter-widgets/controls",
          "model_name": "HTMLModel",
          "model_module_version": "1.5.0",
          "state": {
            "_dom_classes": [],
            "_model_module": "@jupyter-widgets/controls",
            "_model_module_version": "1.5.0",
            "_model_name": "HTMLModel",
            "_view_count": null,
            "_view_module": "@jupyter-widgets/controls",
            "_view_module_version": "1.5.0",
            "_view_name": "HTMLView",
            "description": "",
            "description_tooltip": null,
            "layout": "IPY_MODEL_6ff4e15f5458470d8c00f1c5d39a1718",
            "placeholder": "​",
            "style": "IPY_MODEL_1bed54b3f1e346ebb8f1e6558a73c2f9",
            "value": "vocab.txt: 100%"
          }
        },
        "da45a94a160f4906be7056b4d9b23902": {
          "model_module": "@jupyter-widgets/controls",
          "model_name": "FloatProgressModel",
          "model_module_version": "1.5.0",
          "state": {
            "_dom_classes": [],
            "_model_module": "@jupyter-widgets/controls",
            "_model_module_version": "1.5.0",
            "_model_name": "FloatProgressModel",
            "_view_count": null,
            "_view_module": "@jupyter-widgets/controls",
            "_view_module_version": "1.5.0",
            "_view_name": "ProgressView",
            "bar_style": "success",
            "description": "",
            "description_tooltip": null,
            "layout": "IPY_MODEL_80419bd45b2a47649cb794a2747a2f93",
            "max": 93,
            "min": 0,
            "orientation": "horizontal",
            "style": "IPY_MODEL_dbd547e4f200411eb8b81b40e5597eac",
            "value": 93
          }
        },
        "72c912dcc409436ca7d0deac921996de": {
          "model_module": "@jupyter-widgets/controls",
          "model_name": "HTMLModel",
          "model_module_version": "1.5.0",
          "state": {
            "_dom_classes": [],
            "_model_module": "@jupyter-widgets/controls",
            "_model_module_version": "1.5.0",
            "_model_name": "HTMLModel",
            "_view_count": null,
            "_view_module": "@jupyter-widgets/controls",
            "_view_module_version": "1.5.0",
            "_view_name": "HTMLView",
            "description": "",
            "description_tooltip": null,
            "layout": "IPY_MODEL_7811f5f0f6a94d3eb4c945da131a1824",
            "placeholder": "​",
            "style": "IPY_MODEL_6f9df9b730c14c05983451669ee958d0",
            "value": " 93.0/93.0 [00:00&lt;00:00, 4.41kB/s]"
          }
        },
        "5b72999b728245c1b67b77ab64e7222f": {
          "model_module": "@jupyter-widgets/base",
          "model_name": "LayoutModel",
          "model_module_version": "1.2.0",
          "state": {
            "_model_module": "@jupyter-widgets/base",
            "_model_module_version": "1.2.0",
            "_model_name": "LayoutModel",
            "_view_count": null,
            "_view_module": "@jupyter-widgets/base",
            "_view_module_version": "1.2.0",
            "_view_name": "LayoutView",
            "align_content": null,
            "align_items": null,
            "align_self": null,
            "border": null,
            "bottom": null,
            "display": null,
            "flex": null,
            "flex_flow": null,
            "grid_area": null,
            "grid_auto_columns": null,
            "grid_auto_flow": null,
            "grid_auto_rows": null,
            "grid_column": null,
            "grid_gap": null,
            "grid_row": null,
            "grid_template_areas": null,
            "grid_template_columns": null,
            "grid_template_rows": null,
            "height": null,
            "justify_content": null,
            "justify_items": null,
            "left": null,
            "margin": null,
            "max_height": null,
            "max_width": null,
            "min_height": null,
            "min_width": null,
            "object_fit": null,
            "object_position": null,
            "order": null,
            "overflow": null,
            "overflow_x": null,
            "overflow_y": null,
            "padding": null,
            "right": null,
            "top": null,
            "visibility": null,
            "width": null
          }
        },
        "6ff4e15f5458470d8c00f1c5d39a1718": {
          "model_module": "@jupyter-widgets/base",
          "model_name": "LayoutModel",
          "model_module_version": "1.2.0",
          "state": {
            "_model_module": "@jupyter-widgets/base",
            "_model_module_version": "1.2.0",
            "_model_name": "LayoutModel",
            "_view_count": null,
            "_view_module": "@jupyter-widgets/base",
            "_view_module_version": "1.2.0",
            "_view_name": "LayoutView",
            "align_content": null,
            "align_items": null,
            "align_self": null,
            "border": null,
            "bottom": null,
            "display": null,
            "flex": null,
            "flex_flow": null,
            "grid_area": null,
            "grid_auto_columns": null,
            "grid_auto_flow": null,
            "grid_auto_rows": null,
            "grid_column": null,
            "grid_gap": null,
            "grid_row": null,
            "grid_template_areas": null,
            "grid_template_columns": null,
            "grid_template_rows": null,
            "height": null,
            "justify_content": null,
            "justify_items": null,
            "left": null,
            "margin": null,
            "max_height": null,
            "max_width": null,
            "min_height": null,
            "min_width": null,
            "object_fit": null,
            "object_position": null,
            "order": null,
            "overflow": null,
            "overflow_x": null,
            "overflow_y": null,
            "padding": null,
            "right": null,
            "top": null,
            "visibility": null,
            "width": null
          }
        },
        "1bed54b3f1e346ebb8f1e6558a73c2f9": {
          "model_module": "@jupyter-widgets/controls",
          "model_name": "DescriptionStyleModel",
          "model_module_version": "1.5.0",
          "state": {
            "_model_module": "@jupyter-widgets/controls",
            "_model_module_version": "1.5.0",
            "_model_name": "DescriptionStyleModel",
            "_view_count": null,
            "_view_module": "@jupyter-widgets/base",
            "_view_module_version": "1.2.0",
            "_view_name": "StyleView",
            "description_width": ""
          }
        },
        "80419bd45b2a47649cb794a2747a2f93": {
          "model_module": "@jupyter-widgets/base",
          "model_name": "LayoutModel",
          "model_module_version": "1.2.0",
          "state": {
            "_model_module": "@jupyter-widgets/base",
            "_model_module_version": "1.2.0",
            "_model_name": "LayoutModel",
            "_view_count": null,
            "_view_module": "@jupyter-widgets/base",
            "_view_module_version": "1.2.0",
            "_view_name": "LayoutView",
            "align_content": null,
            "align_items": null,
            "align_self": null,
            "border": null,
            "bottom": null,
            "display": null,
            "flex": null,
            "flex_flow": null,
            "grid_area": null,
            "grid_auto_columns": null,
            "grid_auto_flow": null,
            "grid_auto_rows": null,
            "grid_column": null,
            "grid_gap": null,
            "grid_row": null,
            "grid_template_areas": null,
            "grid_template_columns": null,
            "grid_template_rows": null,
            "height": null,
            "justify_content": null,
            "justify_items": null,
            "left": null,
            "margin": null,
            "max_height": null,
            "max_width": null,
            "min_height": null,
            "min_width": null,
            "object_fit": null,
            "object_position": null,
            "order": null,
            "overflow": null,
            "overflow_x": null,
            "overflow_y": null,
            "padding": null,
            "right": null,
            "top": null,
            "visibility": null,
            "width": null
          }
        },
        "dbd547e4f200411eb8b81b40e5597eac": {
          "model_module": "@jupyter-widgets/controls",
          "model_name": "ProgressStyleModel",
          "model_module_version": "1.5.0",
          "state": {
            "_model_module": "@jupyter-widgets/controls",
            "_model_module_version": "1.5.0",
            "_model_name": "ProgressStyleModel",
            "_view_count": null,
            "_view_module": "@jupyter-widgets/base",
            "_view_module_version": "1.2.0",
            "_view_name": "StyleView",
            "bar_color": null,
            "description_width": ""
          }
        },
        "7811f5f0f6a94d3eb4c945da131a1824": {
          "model_module": "@jupyter-widgets/base",
          "model_name": "LayoutModel",
          "model_module_version": "1.2.0",
          "state": {
            "_model_module": "@jupyter-widgets/base",
            "_model_module_version": "1.2.0",
            "_model_name": "LayoutModel",
            "_view_count": null,
            "_view_module": "@jupyter-widgets/base",
            "_view_module_version": "1.2.0",
            "_view_name": "LayoutView",
            "align_content": null,
            "align_items": null,
            "align_self": null,
            "border": null,
            "bottom": null,
            "display": null,
            "flex": null,
            "flex_flow": null,
            "grid_area": null,
            "grid_auto_columns": null,
            "grid_auto_flow": null,
            "grid_auto_rows": null,
            "grid_column": null,
            "grid_gap": null,
            "grid_row": null,
            "grid_template_areas": null,
            "grid_template_columns": null,
            "grid_template_rows": null,
            "height": null,
            "justify_content": null,
            "justify_items": null,
            "left": null,
            "margin": null,
            "max_height": null,
            "max_width": null,
            "min_height": null,
            "min_width": null,
            "object_fit": null,
            "object_position": null,
            "order": null,
            "overflow": null,
            "overflow_x": null,
            "overflow_y": null,
            "padding": null,
            "right": null,
            "top": null,
            "visibility": null,
            "width": null
          }
        },
        "6f9df9b730c14c05983451669ee958d0": {
          "model_module": "@jupyter-widgets/controls",
          "model_name": "DescriptionStyleModel",
          "model_module_version": "1.5.0",
          "state": {
            "_model_module": "@jupyter-widgets/controls",
            "_model_module_version": "1.5.0",
            "_model_name": "DescriptionStyleModel",
            "_view_count": null,
            "_view_module": "@jupyter-widgets/base",
            "_view_module_version": "1.2.0",
            "_view_name": "StyleView",
            "description_width": ""
          }
        },
        "d700d36bbd9942388cc5d169f084a06c": {
          "model_module": "@jupyter-widgets/controls",
          "model_name": "HBoxModel",
          "model_module_version": "1.5.0",
          "state": {
            "_dom_classes": [],
            "_model_module": "@jupyter-widgets/controls",
            "_model_module_version": "1.5.0",
            "_model_name": "HBoxModel",
            "_view_count": null,
            "_view_module": "@jupyter-widgets/controls",
            "_view_module_version": "1.5.0",
            "_view_name": "HBoxView",
            "box_style": "",
            "children": [
              "IPY_MODEL_4dd7f16afcad478db7d422014e1afe3e",
              "IPY_MODEL_3304aa804a734b5c8c567bd8966d97b4",
              "IPY_MODEL_8f107031ef924e8ebf90c33d80f2b756"
            ],
            "layout": "IPY_MODEL_54e3e5490a23439fb544d814cf0f72ab"
          }
        },
        "4dd7f16afcad478db7d422014e1afe3e": {
          "model_module": "@jupyter-widgets/controls",
          "model_name": "HTMLModel",
          "model_module_version": "1.5.0",
          "state": {
            "_dom_classes": [],
            "_model_module": "@jupyter-widgets/controls",
            "_model_module_version": "1.5.0",
            "_model_name": "HTMLModel",
            "_view_count": null,
            "_view_module": "@jupyter-widgets/controls",
            "_view_module_version": "1.5.0",
            "_view_name": "HTMLView",
            "description": "",
            "description_tooltip": null,
            "layout": "IPY_MODEL_0180ec4d953f4a618f599ad4b3beb3a4",
            "placeholder": "​",
            "style": "IPY_MODEL_11d1bc134273460792be4862c31f7e2b",
            "value": "special_tokens_map.json: 100%"
          }
        },
        "3304aa804a734b5c8c567bd8966d97b4": {
          "model_module": "@jupyter-widgets/controls",
          "model_name": "FloatProgressModel",
          "model_module_version": "1.5.0",
          "state": {
            "_dom_classes": [],
            "_model_module": "@jupyter-widgets/controls",
            "_model_module_version": "1.5.0",
            "_model_name": "FloatProgressModel",
            "_view_count": null,
            "_view_module": "@jupyter-widgets/controls",
            "_view_module_version": "1.5.0",
            "_view_name": "ProgressView",
            "bar_style": "success",
            "description": "",
            "description_tooltip": null,
            "layout": "IPY_MODEL_254efc3ad15946a6a49353ea8085eff2",
            "max": 125,
            "min": 0,
            "orientation": "horizontal",
            "style": "IPY_MODEL_a1153a1887e54f13a816b8ddb5797e38",
            "value": 125
          }
        },
        "8f107031ef924e8ebf90c33d80f2b756": {
          "model_module": "@jupyter-widgets/controls",
          "model_name": "HTMLModel",
          "model_module_version": "1.5.0",
          "state": {
            "_dom_classes": [],
            "_model_module": "@jupyter-widgets/controls",
            "_model_module_version": "1.5.0",
            "_model_name": "HTMLModel",
            "_view_count": null,
            "_view_module": "@jupyter-widgets/controls",
            "_view_module_version": "1.5.0",
            "_view_name": "HTMLView",
            "description": "",
            "description_tooltip": null,
            "layout": "IPY_MODEL_86984abfe9b94ef3800199a7f76c039e",
            "placeholder": "​",
            "style": "IPY_MODEL_52283ababe2148749072e21f13da1fda",
            "value": " 125/125 [00:00&lt;00:00, 7.36kB/s]"
          }
        },
        "54e3e5490a23439fb544d814cf0f72ab": {
          "model_module": "@jupyter-widgets/base",
          "model_name": "LayoutModel",
          "model_module_version": "1.2.0",
          "state": {
            "_model_module": "@jupyter-widgets/base",
            "_model_module_version": "1.2.0",
            "_model_name": "LayoutModel",
            "_view_count": null,
            "_view_module": "@jupyter-widgets/base",
            "_view_module_version": "1.2.0",
            "_view_name": "LayoutView",
            "align_content": null,
            "align_items": null,
            "align_self": null,
            "border": null,
            "bottom": null,
            "display": null,
            "flex": null,
            "flex_flow": null,
            "grid_area": null,
            "grid_auto_columns": null,
            "grid_auto_flow": null,
            "grid_auto_rows": null,
            "grid_column": null,
            "grid_gap": null,
            "grid_row": null,
            "grid_template_areas": null,
            "grid_template_columns": null,
            "grid_template_rows": null,
            "height": null,
            "justify_content": null,
            "justify_items": null,
            "left": null,
            "margin": null,
            "max_height": null,
            "max_width": null,
            "min_height": null,
            "min_width": null,
            "object_fit": null,
            "object_position": null,
            "order": null,
            "overflow": null,
            "overflow_x": null,
            "overflow_y": null,
            "padding": null,
            "right": null,
            "top": null,
            "visibility": null,
            "width": null
          }
        },
        "0180ec4d953f4a618f599ad4b3beb3a4": {
          "model_module": "@jupyter-widgets/base",
          "model_name": "LayoutModel",
          "model_module_version": "1.2.0",
          "state": {
            "_model_module": "@jupyter-widgets/base",
            "_model_module_version": "1.2.0",
            "_model_name": "LayoutModel",
            "_view_count": null,
            "_view_module": "@jupyter-widgets/base",
            "_view_module_version": "1.2.0",
            "_view_name": "LayoutView",
            "align_content": null,
            "align_items": null,
            "align_self": null,
            "border": null,
            "bottom": null,
            "display": null,
            "flex": null,
            "flex_flow": null,
            "grid_area": null,
            "grid_auto_columns": null,
            "grid_auto_flow": null,
            "grid_auto_rows": null,
            "grid_column": null,
            "grid_gap": null,
            "grid_row": null,
            "grid_template_areas": null,
            "grid_template_columns": null,
            "grid_template_rows": null,
            "height": null,
            "justify_content": null,
            "justify_items": null,
            "left": null,
            "margin": null,
            "max_height": null,
            "max_width": null,
            "min_height": null,
            "min_width": null,
            "object_fit": null,
            "object_position": null,
            "order": null,
            "overflow": null,
            "overflow_x": null,
            "overflow_y": null,
            "padding": null,
            "right": null,
            "top": null,
            "visibility": null,
            "width": null
          }
        },
        "11d1bc134273460792be4862c31f7e2b": {
          "model_module": "@jupyter-widgets/controls",
          "model_name": "DescriptionStyleModel",
          "model_module_version": "1.5.0",
          "state": {
            "_model_module": "@jupyter-widgets/controls",
            "_model_module_version": "1.5.0",
            "_model_name": "DescriptionStyleModel",
            "_view_count": null,
            "_view_module": "@jupyter-widgets/base",
            "_view_module_version": "1.2.0",
            "_view_name": "StyleView",
            "description_width": ""
          }
        },
        "254efc3ad15946a6a49353ea8085eff2": {
          "model_module": "@jupyter-widgets/base",
          "model_name": "LayoutModel",
          "model_module_version": "1.2.0",
          "state": {
            "_model_module": "@jupyter-widgets/base",
            "_model_module_version": "1.2.0",
            "_model_name": "LayoutModel",
            "_view_count": null,
            "_view_module": "@jupyter-widgets/base",
            "_view_module_version": "1.2.0",
            "_view_name": "LayoutView",
            "align_content": null,
            "align_items": null,
            "align_self": null,
            "border": null,
            "bottom": null,
            "display": null,
            "flex": null,
            "flex_flow": null,
            "grid_area": null,
            "grid_auto_columns": null,
            "grid_auto_flow": null,
            "grid_auto_rows": null,
            "grid_column": null,
            "grid_gap": null,
            "grid_row": null,
            "grid_template_areas": null,
            "grid_template_columns": null,
            "grid_template_rows": null,
            "height": null,
            "justify_content": null,
            "justify_items": null,
            "left": null,
            "margin": null,
            "max_height": null,
            "max_width": null,
            "min_height": null,
            "min_width": null,
            "object_fit": null,
            "object_position": null,
            "order": null,
            "overflow": null,
            "overflow_x": null,
            "overflow_y": null,
            "padding": null,
            "right": null,
            "top": null,
            "visibility": null,
            "width": null
          }
        },
        "a1153a1887e54f13a816b8ddb5797e38": {
          "model_module": "@jupyter-widgets/controls",
          "model_name": "ProgressStyleModel",
          "model_module_version": "1.5.0",
          "state": {
            "_model_module": "@jupyter-widgets/controls",
            "_model_module_version": "1.5.0",
            "_model_name": "ProgressStyleModel",
            "_view_count": null,
            "_view_module": "@jupyter-widgets/base",
            "_view_module_version": "1.2.0",
            "_view_name": "StyleView",
            "bar_color": null,
            "description_width": ""
          }
        },
        "86984abfe9b94ef3800199a7f76c039e": {
          "model_module": "@jupyter-widgets/base",
          "model_name": "LayoutModel",
          "model_module_version": "1.2.0",
          "state": {
            "_model_module": "@jupyter-widgets/base",
            "_model_module_version": "1.2.0",
            "_model_name": "LayoutModel",
            "_view_count": null,
            "_view_module": "@jupyter-widgets/base",
            "_view_module_version": "1.2.0",
            "_view_name": "LayoutView",
            "align_content": null,
            "align_items": null,
            "align_self": null,
            "border": null,
            "bottom": null,
            "display": null,
            "flex": null,
            "flex_flow": null,
            "grid_area": null,
            "grid_auto_columns": null,
            "grid_auto_flow": null,
            "grid_auto_rows": null,
            "grid_column": null,
            "grid_gap": null,
            "grid_row": null,
            "grid_template_areas": null,
            "grid_template_columns": null,
            "grid_template_rows": null,
            "height": null,
            "justify_content": null,
            "justify_items": null,
            "left": null,
            "margin": null,
            "max_height": null,
            "max_width": null,
            "min_height": null,
            "min_width": null,
            "object_fit": null,
            "object_position": null,
            "order": null,
            "overflow": null,
            "overflow_x": null,
            "overflow_y": null,
            "padding": null,
            "right": null,
            "top": null,
            "visibility": null,
            "width": null
          }
        },
        "52283ababe2148749072e21f13da1fda": {
          "model_module": "@jupyter-widgets/controls",
          "model_name": "DescriptionStyleModel",
          "model_module_version": "1.5.0",
          "state": {
            "_model_module": "@jupyter-widgets/controls",
            "_model_module_version": "1.5.0",
            "_model_name": "DescriptionStyleModel",
            "_view_count": null,
            "_view_module": "@jupyter-widgets/base",
            "_view_module_version": "1.2.0",
            "_view_name": "StyleView",
            "description_width": ""
          }
        }
      }
    }
  },
  "cells": [
    {
      "cell_type": "code",
      "execution_count": null,
      "metadata": {
        "id": "U4fRER2LCGrl"
      },
      "outputs": [],
      "source": [
        "import numpy as np\n",
        "import pandas as pd\n",
        "import matplotlib.pyplot as plt\n",
        "import seaborn as sns\n",
        "from tensorflow.keras.preprocessing.text import Tokenizer\n",
        "from tensorflow.keras.preprocessing.sequence import pad_sequences\n",
        "from sklearn.model_selection import train_test_split,KFold\n",
        "import torch\n",
        "import torch.nn as nn\n",
        "from torch.utils.data import Dataset, DataLoader, TensorDataset, random_split\n",
        "from sklearn.metrics import roc_auc_score, r2_score, mean_squared_error,mean_absolute_error\n",
        "import math\n",
        "import torch.nn.functional as F\n",
        "from transformers import T5Tokenizer,AutoTokenizer,BertTokenizer,AutoModel\n",
        "import re\n",
        "from sklearn.model_selection import train_test_split"
      ]
    },
    {
      "cell_type": "code",
      "source": [
        "from google.colab import drive\n",
        "drive.mount('/content/drive')"
      ],
      "metadata": {
        "colab": {
          "base_uri": "https://localhost:8080/"
        },
        "id": "0ghX0TZzRVyJ",
        "outputId": "8c60155d-fdf2-473f-964a-ec4958162c72"
      },
      "execution_count": null,
      "outputs": [
        {
          "output_type": "stream",
          "name": "stdout",
          "text": [
            "Mounted at /content/drive\n"
          ]
        }
      ]
    },
    {
      "cell_type": "code",
      "source": [
        "df=pd.read_csv('/content/drive/MyDrive/data.csv')"
      ],
      "metadata": {
        "id": "U780vjQjCaPr"
      },
      "execution_count": null,
      "outputs": []
    },
    {
      "cell_type": "code",
      "source": [
        "threshold = 0.4256\n",
        "df['logic']=df['logic'].apply(lambda x: 1 if x > threshold else 0)"
      ],
      "metadata": {
        "id": "oZN3JNjGChcP"
      },
      "execution_count": null,
      "outputs": []
    },
    {
      "cell_type": "code",
      "source": [
        "df['logic'].value_counts()"
      ],
      "metadata": {
        "colab": {
          "base_uri": "https://localhost:8080/",
          "height": 178
        },
        "id": "atibuBl8Ciij",
        "outputId": "184ddfcc-5758-4f00-aa3d-1aa54b054bc1"
      },
      "execution_count": null,
      "outputs": [
        {
          "output_type": "execute_result",
          "data": {
            "text/plain": [
              "logic\n",
              "0    78308\n",
              "1    55973\n",
              "Name: count, dtype: int64"
            ],
            "text/html": [
              "<div>\n",
              "<style scoped>\n",
              "    .dataframe tbody tr th:only-of-type {\n",
              "        vertical-align: middle;\n",
              "    }\n",
              "\n",
              "    .dataframe tbody tr th {\n",
              "        vertical-align: top;\n",
              "    }\n",
              "\n",
              "    .dataframe thead th {\n",
              "        text-align: right;\n",
              "    }\n",
              "</style>\n",
              "<table border=\"1\" class=\"dataframe\">\n",
              "  <thead>\n",
              "    <tr style=\"text-align: right;\">\n",
              "      <th></th>\n",
              "      <th>count</th>\n",
              "    </tr>\n",
              "    <tr>\n",
              "      <th>logic</th>\n",
              "      <th></th>\n",
              "    </tr>\n",
              "  </thead>\n",
              "  <tbody>\n",
              "    <tr>\n",
              "      <th>0</th>\n",
              "      <td>78308</td>\n",
              "    </tr>\n",
              "    <tr>\n",
              "      <th>1</th>\n",
              "      <td>55973</td>\n",
              "    </tr>\n",
              "  </tbody>\n",
              "</table>\n",
              "</div><br><label><b>dtype:</b> int64</label>"
            ]
          },
          "metadata": {},
          "execution_count": 5
        }
      ]
    },
    {
      "cell_type": "code",
      "source": [
        "tokenizer = AutoTokenizer.from_pretrained(\"facebook/esm2_t6_8M_UR50D\",do_lower_case=False)"
      ],
      "metadata": {
        "colab": {
          "base_uri": "https://localhost:8080/",
          "height": 217,
          "referenced_widgets": [
            "aaa6f5ecc780418eab2862062f90073a",
            "51fc2122f99b480f86539f10d05feda4",
            "fe3477dcaaac493b8d2472189a88f0af",
            "b66d7f4c8b204441bcfbaf29314d99b4",
            "c7f322ac92a8458bbd1446dd46337701",
            "e5a7a89cecef4e79bf9f8bcb2853744c",
            "1f9c5b8625fe47a9aedba7eed0c6f5e5",
            "61f4ac55fbaa46a69ab80aed456838c7",
            "0753e120fbe7441da597e6e432461766",
            "dd3e61ccbb51454eb579f3172e1bc85b",
            "295ca98a42e545a880fc8c68b5386a45",
            "6a0354ddb84f467984ab7877cd68d7ff",
            "8ea57e22ba8f431c8afe345aa9a7d356",
            "da45a94a160f4906be7056b4d9b23902",
            "72c912dcc409436ca7d0deac921996de",
            "5b72999b728245c1b67b77ab64e7222f",
            "6ff4e15f5458470d8c00f1c5d39a1718",
            "1bed54b3f1e346ebb8f1e6558a73c2f9",
            "80419bd45b2a47649cb794a2747a2f93",
            "dbd547e4f200411eb8b81b40e5597eac",
            "7811f5f0f6a94d3eb4c945da131a1824",
            "6f9df9b730c14c05983451669ee958d0",
            "d700d36bbd9942388cc5d169f084a06c",
            "4dd7f16afcad478db7d422014e1afe3e",
            "3304aa804a734b5c8c567bd8966d97b4",
            "8f107031ef924e8ebf90c33d80f2b756",
            "54e3e5490a23439fb544d814cf0f72ab",
            "0180ec4d953f4a618f599ad4b3beb3a4",
            "11d1bc134273460792be4862c31f7e2b",
            "254efc3ad15946a6a49353ea8085eff2",
            "a1153a1887e54f13a816b8ddb5797e38",
            "86984abfe9b94ef3800199a7f76c039e",
            "52283ababe2148749072e21f13da1fda"
          ]
        },
        "id": "I12EkvXECsfc",
        "outputId": "7ae181ef-b3dd-43c6-e232-ec6aa24c4645"
      },
      "execution_count": null,
      "outputs": [
        {
          "output_type": "stream",
          "name": "stderr",
          "text": [
            "/usr/local/lib/python3.11/dist-packages/huggingface_hub/utils/_auth.py:94: UserWarning: \n",
            "The secret `HF_TOKEN` does not exist in your Colab secrets.\n",
            "To authenticate with the Hugging Face Hub, create a token in your settings tab (https://huggingface.co/settings/tokens), set it as secret in your Google Colab and restart your session.\n",
            "You will be able to reuse this secret in all of your notebooks.\n",
            "Please note that authentication is recommended but still optional to access public models or datasets.\n",
            "  warnings.warn(\n"
          ]
        },
        {
          "output_type": "display_data",
          "data": {
            "text/plain": [
              "tokenizer_config.json:   0%|          | 0.00/95.0 [00:00<?, ?B/s]"
            ],
            "application/vnd.jupyter.widget-view+json": {
              "version_major": 2,
              "version_minor": 0,
              "model_id": "aaa6f5ecc780418eab2862062f90073a"
            }
          },
          "metadata": {}
        },
        {
          "output_type": "display_data",
          "data": {
            "text/plain": [
              "vocab.txt:   0%|          | 0.00/93.0 [00:00<?, ?B/s]"
            ],
            "application/vnd.jupyter.widget-view+json": {
              "version_major": 2,
              "version_minor": 0,
              "model_id": "6a0354ddb84f467984ab7877cd68d7ff"
            }
          },
          "metadata": {}
        },
        {
          "output_type": "display_data",
          "data": {
            "text/plain": [
              "special_tokens_map.json:   0%|          | 0.00/125 [00:00<?, ?B/s]"
            ],
            "application/vnd.jupyter.widget-view+json": {
              "version_major": 2,
              "version_minor": 0,
              "model_id": "d700d36bbd9942388cc5d169f084a06c"
            }
          },
          "metadata": {}
        }
      ]
    },
    {
      "cell_type": "code",
      "source": [
        "pep_sequences = [\" \".join(list(re.sub(r\"[UZOB]\", \"X\", data))) for data in df['pep']]\n",
        "mhc_sequences = [\" \".join(list(re.sub(r\"[UZOB]\", \"X\", data))) for data in df['mhc']]"
      ],
      "metadata": {
        "id": "Uyc6hLi6Cw1u"
      },
      "execution_count": null,
      "outputs": []
    },
    {
      "cell_type": "code",
      "source": [
        "pep_ids = tokenizer(pep_sequences, add_special_tokens=True, padding=\"longest\")\n",
        "mhc_ids = tokenizer(mhc_sequences, add_special_tokens=True, padding=\"longest\")"
      ],
      "metadata": {
        "id": "iBeRPA3CCyS3"
      },
      "execution_count": null,
      "outputs": []
    },
    {
      "cell_type": "code",
      "source": [
        "tokenizer.get_vocab()"
      ],
      "metadata": {
        "colab": {
          "base_uri": "https://localhost:8080/"
        },
        "id": "dqupu7deCzpM",
        "outputId": "9468d4e7-1a73-4606-c70b-2cf3f32b42df"
      },
      "execution_count": null,
      "outputs": [
        {
          "output_type": "execute_result",
          "data": {
            "text/plain": [
              "{'<cls>': 0,\n",
              " '<pad>': 1,\n",
              " '<eos>': 2,\n",
              " '<unk>': 3,\n",
              " 'L': 4,\n",
              " 'A': 5,\n",
              " 'G': 6,\n",
              " 'V': 7,\n",
              " 'S': 8,\n",
              " 'E': 9,\n",
              " 'R': 10,\n",
              " 'T': 11,\n",
              " 'I': 12,\n",
              " 'D': 13,\n",
              " 'P': 14,\n",
              " 'K': 15,\n",
              " 'Q': 16,\n",
              " 'N': 17,\n",
              " 'F': 18,\n",
              " 'Y': 19,\n",
              " 'M': 20,\n",
              " 'H': 21,\n",
              " 'W': 22,\n",
              " 'C': 23,\n",
              " 'X': 24,\n",
              " 'B': 25,\n",
              " 'U': 26,\n",
              " 'Z': 27,\n",
              " 'O': 28,\n",
              " '.': 29,\n",
              " '-': 30,\n",
              " '<null_1>': 31,\n",
              " '<mask>': 32}"
            ]
          },
          "metadata": {},
          "execution_count": 9
        }
      ]
    },
    {
      "cell_type": "code",
      "source": [
        "device = 'cuda' if torch.cuda.is_available() else 'cpu'\n",
        "device"
      ],
      "metadata": {
        "colab": {
          "base_uri": "https://localhost:8080/",
          "height": 35
        },
        "id": "poevdQNSDBcC",
        "outputId": "5348f44e-28e7-4da9-fd18-8c5b8d4049de"
      },
      "execution_count": null,
      "outputs": [
        {
          "output_type": "execute_result",
          "data": {
            "text/plain": [
              "'cuda'"
            ],
            "application/vnd.google.colaboratory.intrinsic+json": {
              "type": "string"
            }
          },
          "metadata": {},
          "execution_count": 10
        }
      ]
    },
    {
      "cell_type": "code",
      "source": [
        "#save path=('/content/drive/MyDrive/filename)"
      ],
      "metadata": {
        "id": "wUR-b_h9UvEz"
      },
      "execution_count": null,
      "outputs": []
    },
    {
      "cell_type": "code",
      "source": [
        "pep_input_ids = torch.tensor(pep_ids['input_ids']).to(device)\n",
        "pep_attention_mask = torch.tensor(pep_ids['attention_mask']).to(device)\n",
        "mhc_input_ids = torch.tensor(mhc_ids['input_ids']).to(device)\n",
        "mhc_attention_mask = torch.tensor(mhc_ids['attention_mask']).to(device)\n"
      ],
      "metadata": {
        "id": "wazKQTKzDD8L"
      },
      "execution_count": null,
      "outputs": []
    },
    {
      "cell_type": "code",
      "source": [
        "scores = torch.tensor(df['logic'].values,dtype=torch.float32).to(device)"
      ],
      "metadata": {
        "id": "diPH7DOjDE6O"
      },
      "execution_count": null,
      "outputs": []
    },
    {
      "cell_type": "code",
      "source": [
        "extra_pad = pep_input_ids.size(1)-mhc_input_ids.size(1)\n",
        "extra_pad"
      ],
      "metadata": {
        "colab": {
          "base_uri": "https://localhost:8080/"
        },
        "id": "9hWN2L6YDIJI",
        "outputId": "3203d619-5c8f-469e-d0bc-babae014c8b1"
      },
      "execution_count": null,
      "outputs": [
        {
          "output_type": "execute_result",
          "data": {
            "text/plain": [
              "3"
            ]
          },
          "metadata": {},
          "execution_count": 13
        }
      ]
    },
    {
      "cell_type": "code",
      "source": [
        "mhc_input_ids = F.pad(mhc_input_ids, (0, extra_pad), value = 1)\n",
        "mhc_attention_mask = F.pad(mhc_attention_mask, (0, extra_pad), value = 0)"
      ],
      "metadata": {
        "id": "C5mreeFJDJTq"
      },
      "execution_count": null,
      "outputs": []
    },
    {
      "cell_type": "code",
      "source": [
        "y = scores"
      ],
      "metadata": {
        "id": "T9bLPD0TDKe4"
      },
      "execution_count": null,
      "outputs": []
    },
    {
      "cell_type": "code",
      "source": [
        "vocab_size= len(tokenizer.get_vocab())\n",
        "vocab_size"
      ],
      "metadata": {
        "colab": {
          "base_uri": "https://localhost:8080/"
        },
        "id": "XeHS3tiXDLqJ",
        "outputId": "673d7a0b-964d-434d-de30-da4bd4e9197c"
      },
      "execution_count": null,
      "outputs": [
        {
          "output_type": "execute_result",
          "data": {
            "text/plain": [
              "33"
            ]
          },
          "metadata": {},
          "execution_count": 16
        }
      ]
    },
    {
      "cell_type": "code",
      "source": [
        "import torch\n",
        "import torch.nn as nn\n",
        "import torch.nn.functional as F\n",
        "\n",
        "# Define the TCN block with residual connection\n",
        "class TCNBlock(nn.Module):\n",
        "    def __init__(self, input_dim, output_dim, kernel_size=3, dilation=1, dropout=0.1):\n",
        "        super(TCNBlock, self).__init__()\n",
        "        # Calculate padding to maintain sequence length\n",
        "        padding = (kernel_size - 1) * dilation // 2\n",
        "        self.conv = nn.Conv1d(input_dim, output_dim, kernel_size=kernel_size,\n",
        "                               padding=padding, dilation=dilation)\n",
        "        self.norm = nn.BatchNorm1d(output_dim)\n",
        "        self.dropout = nn.Dropout(dropout)\n",
        "        self.relu = nn.ReLU()\n",
        "\n",
        "    def forward(self, x):\n",
        "        residual = x  # Save the input for the residual connection\n",
        "        x = self.conv(x)\n",
        "        x = self.norm(x)\n",
        "        x = self.relu(x)\n",
        "        x = self.dropout(x)\n",
        "        x = x + residual  # Add the residual connection\n",
        "        return x\n",
        "\n",
        "\n",
        "class TCNEncoder(nn.Module):\n",
        "    def __init__(self, vocab_size, model_dim, num_layers, max_len=39, kernel_size=3, dropout=0.1):\n",
        "        super(TCNEncoder, self).__init__()\n",
        "        self.embedding = nn.Embedding(vocab_size, model_dim)\n",
        "        self.tcn_blocks = nn.ModuleList(\n",
        "            [TCNBlock(model_dim, model_dim, kernel_size, dilation=2**i, dropout=dropout) for i in range(num_layers)]\n",
        "        )\n",
        "\n",
        "    def forward(self, x):\n",
        "        x = self.embedding(x)\n",
        "        x = x.transpose(1, 2)  # Change shape to (batch_size, model_dim, sequence_length)\n",
        "        for tcn_block in self.tcn_blocks:\n",
        "            x = tcn_block(x)\n",
        "        return x.transpose(1, 2)  # Change shape back to (batch_size, sequence_length, model_dim)\n",
        "\n",
        "\n",
        "class CrossInteractionLayer(nn.Module):\n",
        "    def __init__(self, model_dim, dropout=0.1):\n",
        "        super(CrossInteractionLayer, self).__init__()\n",
        "        self.conv = nn.Conv1d(model_dim * 2, model_dim, kernel_size=3, padding=1)\n",
        "        self.norm = nn.BatchNorm1d(model_dim)\n",
        "        self.dropout = nn.Dropout(dropout)\n",
        "\n",
        "    def forward(self, pep_refined, mhc_refined):\n",
        "        combined = torch.cat((pep_refined, mhc_refined), dim=-1)\n",
        "        combined = combined.transpose(1, 2)\n",
        "        x = self.conv(combined)\n",
        "        x = self.norm(x)\n",
        "        x = F.relu(x)\n",
        "        x = self.dropout(x)\n",
        "        return x.transpose(1, 2)\n",
        "\n"
      ],
      "metadata": {
        "id": "dITpoi-_DMyu"
      },
      "execution_count": null,
      "outputs": []
    },
    {
      "cell_type": "code",
      "source": [
        "\n",
        "class TCNModel(nn.Module):\n",
        "    def __init__(self, model_dim, num_layers, dropout=0.1, vocab_size=33, num_classes=2):\n",
        "        super(TCNModel, self).__init__()\n",
        "        self.encoder_pep = TCNEncoder(vocab_size, model_dim, num_layers, dropout=dropout)\n",
        "        self.encoder_mhc = TCNEncoder(vocab_size, model_dim, num_layers, dropout=dropout)\n",
        "        self.cross_interaction = CrossInteractionLayer(model_dim, dropout)\n",
        "        self.fc1 = nn.Linear(model_dim, 512)\n",
        "        self.fc2 = nn.Linear(512, 64)\n",
        "        self.fc3 = nn.Linear(64, num_classes)  # Changed to classification output\n",
        "\n",
        "    def forward(self, pep_input, mhc_input):\n",
        "        pep_refined = self.encoder_pep(pep_input)\n",
        "        mhc_refined = self.encoder_mhc(mhc_input)\n",
        "        cross_output = self.cross_interaction(pep_refined, mhc_refined)\n",
        "        x = cross_output.mean(dim=1)\n",
        "        x = F.relu(self.fc1(x))\n",
        "        x = F.relu(self.fc2(x))\n",
        "        x = self.fc3(x)\n",
        "        return x"
      ],
      "metadata": {
        "id": "PUI0Q4u8DOIh"
      },
      "execution_count": null,
      "outputs": []
    },
    {
      "cell_type": "code",
      "source": [
        "from sklearn.model_selection import train_test_split\n",
        "import matplotlib.pyplot as plt\n",
        "\n",
        "train_input_ids, test_input_ids, train_attention_mask, test_attention_mask, train_labels, test_labels, train_mhc_input_ids, test_mhc_input_ids, train_mhc_attention_mask, test_mhc_attention_mask = train_test_split(\n",
        "    pep_input_ids, pep_attention_mask, y, mhc_input_ids, mhc_attention_mask, test_size=0.2, random_state=42)\n",
        "\n",
        "train_input_ids, val_input_ids, train_attention_mask, val_attention_mask, train_labels, val_labels, train_mhc_input_ids, val_mhc_input_ids, train_mhc_attention_mask, val_mhc_attention_mask = train_test_split(\n",
        "    train_input_ids, train_attention_mask, train_labels, train_mhc_input_ids, train_mhc_attention_mask, test_size=0.2, random_state=42)\n",
        "\n",
        "train_data = TensorDataset(train_input_ids, train_attention_mask, train_mhc_input_ids, train_mhc_attention_mask, train_labels)\n",
        "train_loader = DataLoader(train_data, batch_size=32, shuffle=True)\n",
        "\n",
        "val_data = TensorDataset(val_input_ids, val_attention_mask, val_mhc_input_ids, val_mhc_attention_mask, val_labels)\n",
        "val_loader = DataLoader(val_data, batch_size=32, shuffle=False)\n",
        "\n",
        "test_data = TensorDataset(test_input_ids, test_attention_mask, test_mhc_input_ids, test_mhc_attention_mask, test_labels)\n",
        "test_loader = DataLoader(test_data, batch_size=32, shuffle=False)\n",
        "\n",
        "\n"
      ],
      "metadata": {
        "id": "78VWlD_JDQYT"
      },
      "execution_count": null,
      "outputs": []
    },
    {
      "cell_type": "code",
      "source": [
        "torch.manual_seed(4201)\n"
      ],
      "metadata": {
        "colab": {
          "base_uri": "https://localhost:8080/"
        },
        "id": "pobxySfHJ4bs",
        "outputId": "92304d99-a06c-4b72-80ac-de80046ba550"
      },
      "execution_count": null,
      "outputs": [
        {
          "output_type": "execute_result",
          "data": {
            "text/plain": [
              "<torch._C.Generator at 0x7a8eb37fd9b0>"
            ]
          },
          "metadata": {},
          "execution_count": 55
        }
      ]
    },
    {
      "cell_type": "code",
      "source": [
        "!pip install optuna"
      ],
      "metadata": {
        "colab": {
          "base_uri": "https://localhost:8080/"
        },
        "id": "mZHceecoEfu1",
        "outputId": "5b1ee097-628c-4d52-a9ad-221d15c65360"
      },
      "execution_count": null,
      "outputs": [
        {
          "output_type": "stream",
          "name": "stdout",
          "text": [
            "Collecting optuna\n",
            "  Downloading optuna-4.2.0-py3-none-any.whl.metadata (17 kB)\n",
            "Collecting alembic>=1.5.0 (from optuna)\n",
            "  Downloading alembic-1.14.1-py3-none-any.whl.metadata (7.4 kB)\n",
            "Collecting colorlog (from optuna)\n",
            "  Downloading colorlog-6.9.0-py3-none-any.whl.metadata (10 kB)\n",
            "Requirement already satisfied: numpy in /usr/local/lib/python3.10/dist-packages (from optuna) (1.26.4)\n",
            "Requirement already satisfied: packaging>=20.0 in /usr/local/lib/python3.10/dist-packages (from optuna) (24.2)\n",
            "Requirement already satisfied: sqlalchemy>=1.4.2 in /usr/local/lib/python3.10/dist-packages (from optuna) (2.0.36)\n",
            "Requirement already satisfied: tqdm in /usr/local/lib/python3.10/dist-packages (from optuna) (4.67.1)\n",
            "Requirement already satisfied: PyYAML in /usr/local/lib/python3.10/dist-packages (from optuna) (6.0.2)\n",
            "Collecting Mako (from alembic>=1.5.0->optuna)\n",
            "  Downloading Mako-1.3.9-py3-none-any.whl.metadata (2.9 kB)\n",
            "Requirement already satisfied: typing-extensions>=4 in /usr/local/lib/python3.10/dist-packages (from alembic>=1.5.0->optuna) (4.12.2)\n",
            "Requirement already satisfied: greenlet!=0.4.17 in /usr/local/lib/python3.10/dist-packages (from sqlalchemy>=1.4.2->optuna) (3.1.1)\n",
            "Requirement already satisfied: MarkupSafe>=0.9.2 in /usr/local/lib/python3.10/dist-packages (from Mako->alembic>=1.5.0->optuna) (3.0.2)\n",
            "Downloading optuna-4.2.0-py3-none-any.whl (383 kB)\n",
            "\u001b[2K   \u001b[90m━━━━━━━━━━━━━━━━━━━━━━━━━━━━━━━━━━━━━━━━\u001b[0m \u001b[32m383.4/383.4 kB\u001b[0m \u001b[31m15.1 MB/s\u001b[0m eta \u001b[36m0:00:00\u001b[0m\n",
            "\u001b[?25hDownloading alembic-1.14.1-py3-none-any.whl (233 kB)\n",
            "\u001b[2K   \u001b[90m━━━━━━━━━━━━━━━━━━━━━━━━━━━━━━━━━━━━━━━━\u001b[0m \u001b[32m233.6/233.6 kB\u001b[0m \u001b[31m21.7 MB/s\u001b[0m eta \u001b[36m0:00:00\u001b[0m\n",
            "\u001b[?25hDownloading colorlog-6.9.0-py3-none-any.whl (11 kB)\n",
            "Downloading Mako-1.3.9-py3-none-any.whl (78 kB)\n",
            "\u001b[2K   \u001b[90m━━━━━━━━━━━━━━━━━━━━━━━━━━━━━━━━━━━━━━━━\u001b[0m \u001b[32m78.5/78.5 kB\u001b[0m \u001b[31m7.6 MB/s\u001b[0m eta \u001b[36m0:00:00\u001b[0m\n",
            "\u001b[?25hInstalling collected packages: Mako, colorlog, alembic, optuna\n",
            "Successfully installed Mako-1.3.9 alembic-1.14.1 colorlog-6.9.0 optuna-4.2.0\n"
          ]
        }
      ]
    },
    {
      "cell_type": "code",
      "source": [
        "import optuna\n",
        "import torch\n",
        "import torch.nn as nn\n",
        "import torch.optim as optim\n",
        "import torch.nn.functional as F\n",
        "import matplotlib.pyplot as plt\n",
        "from sklearn.metrics import roc_auc_score\n",
        "from torch.utils.data import DataLoader, TensorDataset\n",
        "\n",
        "def objective(trial):\n",
        "    model_dim = trial.suggest_categorical(\"model_dim\", [64, 128, 256])\n",
        "    num_layers = trial.suggest_int(\"num_layers\", 2, 4)\n",
        "    dropout = trial.suggest_float(\"dropout\", 0.1, 0.5)\n",
        "    lr = trial.suggest_categorical(\"lr\", [1e-3, 1e-4])\n",
        "    batch_size = trial.suggest_categorical(\"batch_size\", [16, 32, 64])\n",
        "\n",
        "    train_loader = DataLoader(train_data, batch_size=batch_size, shuffle=True)\n",
        "    val_loader = DataLoader(val_data, batch_size=batch_size, shuffle=False)\n",
        "\n",
        "    model = TCNModel(model_dim=model_dim, num_layers=num_layers, dropout=dropout, vocab_size=33, num_classes=1).to(device)\n",
        "    optimizer = optim.Adam(model.parameters(), lr=lr)\n",
        "    criterion = nn.BCEWithLogitsLoss()\n",
        "\n",
        "    num_epochs = 5\n",
        "    best_auroc = 0\n",
        "\n",
        "    print(f\"Starting Trial {trial.number} with params: model_dim={model_dim}, num_layers={num_layers}, dropout={dropout:.4f}, lr={lr:.6f}, batch_size={batch_size}\")\n",
        "\n",
        "    for epoch in range(num_epochs):\n",
        "        model.train()\n",
        "        for batch in train_loader:\n",
        "            pep_input_ids_batch, _, mhc_input_ids_batch, _, labels_batch = batch\n",
        "            labels_batch = labels_batch.float().to(device)\n",
        "            optimizer.zero_grad()\n",
        "            outputs = model(pep_input_ids_batch.to(device), mhc_input_ids_batch.to(device)).squeeze()\n",
        "            loss = criterion(outputs, labels_batch)\n",
        "            loss.backward()\n",
        "            optimizer.step()\n",
        "\n",
        "        model.eval()\n",
        "        y_true, y_pred = [], []\n",
        "        with torch.no_grad():\n",
        "            for batch in val_loader:\n",
        "                pep_input_ids_batch, _, mhc_input_ids_batch, _, labels_batch = batch\n",
        "                labels_batch = labels_batch.float().to(device)\n",
        "                outputs = model(pep_input_ids_batch.to(device), mhc_input_ids_batch.to(device)).squeeze()\n",
        "                y_true.extend(labels_batch.cpu().numpy())\n",
        "                y_pred.extend(torch.sigmoid(outputs).cpu().numpy())\n",
        "\n",
        "        auroc = roc_auc_score(y_true, y_pred)\n",
        "        print(f\"Epoch {epoch+1}/{num_epochs} - AUROC: {auroc:.4f}\")\n",
        "\n",
        "        if auroc > best_auroc:\n",
        "            best_auroc = auroc\n",
        "\n",
        "    print(f\"Trial {trial.number} completed - Best AUROC: {best_auroc:.4f}\\n\")\n",
        "    return best_auroc\n",
        "\n",
        "study = optuna.create_study(direction='maximize')\n",
        "study.optimize(objective, n_trials=10)\n",
        "\n",
        "best_params = study.best_params\n",
        "print(\"Best Hyperparameters:\", best_params)"
      ],
      "metadata": {
        "colab": {
          "base_uri": "https://localhost:8080/"
        },
        "id": "wPAuSljIDR5h",
        "outputId": "8c2d6680-0371-490f-e949-dd299a3995d7"
      },
      "execution_count": null,
      "outputs": [
        {
          "output_type": "stream",
          "name": "stderr",
          "text": [
            "[I 2025-02-09 11:15:10,464] A new study created in memory with name: no-name-08ffba4d-5a05-4430-a6ee-92eeecfceca4\n"
          ]
        },
        {
          "output_type": "stream",
          "name": "stdout",
          "text": [
            "Starting Trial 0 with params: model_dim=128, num_layers=4, dropout=0.2164, lr=0.001000, batch_size=64\n",
            "Epoch 1/5 - AUROC: 0.8279\n",
            "Epoch 2/5 - AUROC: 0.8480\n",
            "Epoch 3/5 - AUROC: 0.8589\n",
            "Epoch 4/5 - AUROC: 0.8625\n"
          ]
        },
        {
          "output_type": "stream",
          "name": "stderr",
          "text": [
            "[I 2025-02-09 11:16:42,571] Trial 0 finished with value: 0.8686862231623165 and parameters: {'model_dim': 128, 'num_layers': 4, 'dropout': 0.21636014704275805, 'lr': 0.001, 'batch_size': 64}. Best is trial 0 with value: 0.8686862231623165.\n"
          ]
        },
        {
          "output_type": "stream",
          "name": "stdout",
          "text": [
            "Epoch 5/5 - AUROC: 0.8687\n",
            "Trial 0 completed - Best AUROC: 0.8687\n",
            "\n",
            "Starting Trial 1 with params: model_dim=128, num_layers=3, dropout=0.4081, lr=0.000100, batch_size=32\n",
            "Epoch 1/5 - AUROC: 0.8072\n",
            "Epoch 2/5 - AUROC: 0.8261\n",
            "Epoch 3/5 - AUROC: 0.8304\n",
            "Epoch 4/5 - AUROC: 0.8415\n"
          ]
        },
        {
          "output_type": "stream",
          "name": "stderr",
          "text": [
            "[I 2025-02-09 11:18:50,661] Trial 1 finished with value: 0.8493136265410122 and parameters: {'model_dim': 128, 'num_layers': 3, 'dropout': 0.40809752188021853, 'lr': 0.0001, 'batch_size': 32}. Best is trial 0 with value: 0.8686862231623165.\n"
          ]
        },
        {
          "output_type": "stream",
          "name": "stdout",
          "text": [
            "Epoch 5/5 - AUROC: 0.8493\n",
            "Trial 1 completed - Best AUROC: 0.8493\n",
            "\n",
            "Starting Trial 2 with params: model_dim=128, num_layers=4, dropout=0.4130, lr=0.000100, batch_size=64\n",
            "Epoch 1/5 - AUROC: 0.8043\n",
            "Epoch 2/5 - AUROC: 0.8235\n",
            "Epoch 3/5 - AUROC: 0.8295\n",
            "Epoch 4/5 - AUROC: 0.8411\n"
          ]
        },
        {
          "output_type": "stream",
          "name": "stderr",
          "text": [
            "[I 2025-02-09 11:20:08,519] Trial 2 finished with value: 0.8474882805496436 and parameters: {'model_dim': 128, 'num_layers': 4, 'dropout': 0.4129688826664214, 'lr': 0.0001, 'batch_size': 64}. Best is trial 0 with value: 0.8686862231623165.\n"
          ]
        },
        {
          "output_type": "stream",
          "name": "stdout",
          "text": [
            "Epoch 5/5 - AUROC: 0.8475\n",
            "Trial 2 completed - Best AUROC: 0.8475\n",
            "\n",
            "Starting Trial 3 with params: model_dim=64, num_layers=4, dropout=0.2096, lr=0.000100, batch_size=32\n",
            "Epoch 1/5 - AUROC: 0.8118\n",
            "Epoch 2/5 - AUROC: 0.8291\n",
            "Epoch 3/5 - AUROC: 0.8382\n",
            "Epoch 4/5 - AUROC: 0.8485\n"
          ]
        },
        {
          "output_type": "stream",
          "name": "stderr",
          "text": [
            "[I 2025-02-09 11:22:34,033] Trial 3 finished with value: 0.8530207540327798 and parameters: {'model_dim': 64, 'num_layers': 4, 'dropout': 0.2095573444040781, 'lr': 0.0001, 'batch_size': 32}. Best is trial 0 with value: 0.8686862231623165.\n"
          ]
        },
        {
          "output_type": "stream",
          "name": "stdout",
          "text": [
            "Epoch 5/5 - AUROC: 0.8530\n",
            "Trial 3 completed - Best AUROC: 0.8530\n",
            "\n",
            "Starting Trial 4 with params: model_dim=256, num_layers=4, dropout=0.4718, lr=0.000100, batch_size=16\n",
            "Epoch 1/5 - AUROC: 0.8142\n",
            "Epoch 2/5 - AUROC: 0.8293\n",
            "Epoch 3/5 - AUROC: 0.8428\n",
            "Epoch 4/5 - AUROC: 0.8517\n"
          ]
        },
        {
          "output_type": "stream",
          "name": "stderr",
          "text": [
            "[I 2025-02-09 11:27:18,499] Trial 4 finished with value: 0.8571183489867233 and parameters: {'model_dim': 256, 'num_layers': 4, 'dropout': 0.4718245691537142, 'lr': 0.0001, 'batch_size': 16}. Best is trial 0 with value: 0.8686862231623165.\n"
          ]
        },
        {
          "output_type": "stream",
          "name": "stdout",
          "text": [
            "Epoch 5/5 - AUROC: 0.8571\n",
            "Trial 4 completed - Best AUROC: 0.8571\n",
            "\n",
            "Starting Trial 5 with params: model_dim=64, num_layers=4, dropout=0.1454, lr=0.000100, batch_size=16\n",
            "Epoch 1/5 - AUROC: 0.8164\n",
            "Epoch 2/5 - AUROC: 0.8328\n",
            "Epoch 3/5 - AUROC: 0.8466\n",
            "Epoch 4/5 - AUROC: 0.8526\n"
          ]
        },
        {
          "output_type": "stream",
          "name": "stderr",
          "text": [
            "[I 2025-02-09 11:32:01,927] Trial 5 finished with value: 0.8563765533445452 and parameters: {'model_dim': 64, 'num_layers': 4, 'dropout': 0.14538412233710601, 'lr': 0.0001, 'batch_size': 16}. Best is trial 0 with value: 0.8686862231623165.\n"
          ]
        },
        {
          "output_type": "stream",
          "name": "stdout",
          "text": [
            "Epoch 5/5 - AUROC: 0.8564\n",
            "Trial 5 completed - Best AUROC: 0.8564\n",
            "\n",
            "Starting Trial 6 with params: model_dim=64, num_layers=4, dropout=0.2830, lr=0.000100, batch_size=64\n",
            "Epoch 1/5 - AUROC: 0.7941\n",
            "Epoch 2/5 - AUROC: 0.8147\n",
            "Epoch 3/5 - AUROC: 0.8249\n",
            "Epoch 4/5 - AUROC: 0.8335\n"
          ]
        },
        {
          "output_type": "stream",
          "name": "stderr",
          "text": [
            "[I 2025-02-09 11:33:19,247] Trial 6 finished with value: 0.8389371356639491 and parameters: {'model_dim': 64, 'num_layers': 4, 'dropout': 0.28295292944106337, 'lr': 0.0001, 'batch_size': 64}. Best is trial 0 with value: 0.8686862231623165.\n"
          ]
        },
        {
          "output_type": "stream",
          "name": "stdout",
          "text": [
            "Epoch 5/5 - AUROC: 0.8389\n",
            "Trial 6 completed - Best AUROC: 0.8389\n",
            "\n",
            "Starting Trial 7 with params: model_dim=64, num_layers=4, dropout=0.3318, lr=0.000100, batch_size=64\n",
            "Epoch 1/5 - AUROC: 0.7902\n",
            "Epoch 2/5 - AUROC: 0.8132\n",
            "Epoch 3/5 - AUROC: 0.8246\n",
            "Epoch 4/5 - AUROC: 0.8295\n"
          ]
        },
        {
          "output_type": "stream",
          "name": "stderr",
          "text": [
            "[I 2025-02-09 11:34:37,731] Trial 7 finished with value: 0.8353272394712418 and parameters: {'model_dim': 64, 'num_layers': 4, 'dropout': 0.33176335797236006, 'lr': 0.0001, 'batch_size': 64}. Best is trial 0 with value: 0.8686862231623165.\n"
          ]
        },
        {
          "output_type": "stream",
          "name": "stdout",
          "text": [
            "Epoch 5/5 - AUROC: 0.8353\n",
            "Trial 7 completed - Best AUROC: 0.8353\n",
            "\n",
            "Starting Trial 8 with params: model_dim=128, num_layers=3, dropout=0.4016, lr=0.000100, batch_size=64\n",
            "Epoch 1/5 - AUROC: 0.8045\n",
            "Epoch 2/5 - AUROC: 0.8209\n",
            "Epoch 3/5 - AUROC: 0.8303\n",
            "Epoch 4/5 - AUROC: 0.8374\n"
          ]
        },
        {
          "output_type": "stream",
          "name": "stderr",
          "text": [
            "[I 2025-02-09 11:35:46,959] Trial 8 finished with value: 0.8445418214654219 and parameters: {'model_dim': 128, 'num_layers': 3, 'dropout': 0.4016229703467452, 'lr': 0.0001, 'batch_size': 64}. Best is trial 0 with value: 0.8686862231623165.\n"
          ]
        },
        {
          "output_type": "stream",
          "name": "stdout",
          "text": [
            "Epoch 5/5 - AUROC: 0.8445\n",
            "Trial 8 completed - Best AUROC: 0.8445\n",
            "\n",
            "Starting Trial 9 with params: model_dim=256, num_layers=4, dropout=0.3236, lr=0.001000, batch_size=32\n",
            "Epoch 1/5 - AUROC: 0.8281\n",
            "Epoch 2/5 - AUROC: 0.8479\n",
            "Epoch 3/5 - AUROC: 0.8583\n",
            "Epoch 4/5 - AUROC: 0.8629\n"
          ]
        },
        {
          "output_type": "stream",
          "name": "stderr",
          "text": [
            "[I 2025-02-09 11:38:21,209] Trial 9 finished with value: 0.8706710394513681 and parameters: {'model_dim': 256, 'num_layers': 4, 'dropout': 0.3235936232131089, 'lr': 0.001, 'batch_size': 32}. Best is trial 9 with value: 0.8706710394513681.\n"
          ]
        },
        {
          "output_type": "stream",
          "name": "stdout",
          "text": [
            "Epoch 5/5 - AUROC: 0.8707\n",
            "Trial 9 completed - Best AUROC: 0.8707\n",
            "\n",
            "Best Hyperparameters: {'model_dim': 256, 'num_layers': 4, 'dropout': 0.3235936232131089, 'lr': 0.001, 'batch_size': 32}\n"
          ]
        }
      ]
    },
    {
      "cell_type": "code",
      "source": [
        "import torch\n",
        "import torch.nn as nn\n",
        "import torch.optim as optim\n",
        "import torch.nn.functional as F\n",
        "import matplotlib.pyplot as plt\n",
        "from sklearn.metrics import roc_auc_score, precision_recall_curve, auc, roc_curve\n",
        "from torch.utils.data import DataLoader\n",
        "\n",
        "# Initialize best model path\n",
        "best_model_path = \"best_model.pth\"\n",
        "\n",
        "def train_model(model, train_data, val_data, device, best_model_path, patience=5, num_epochs=50):\n",
        "    train_loader = DataLoader(train_data, batch_size=32, shuffle=True)\n",
        "    val_loader = DataLoader(val_data, batch_size=32, shuffle=False)\n",
        "\n",
        "    optimizer = optim.Adam(model.parameters(), lr=0.001)\n",
        "    criterion = nn.BCEWithLogitsLoss()\n",
        "\n",
        "    train_losses, val_losses = [], []\n",
        "    best_val_loss = float(\"inf\")\n",
        "    early_stop_counter = 0\n",
        "\n",
        "    all_y_true, all_y_pred = [], []\n",
        "\n",
        "    print(\"Starting Training...\")\n",
        "    for epoch in range(num_epochs):\n",
        "        model.train()\n",
        "        total_train_loss = 0\n",
        "\n",
        "        for batch in train_loader:\n",
        "            pep_input_ids_batch, _, mhc_input_ids_batch, _, labels_batch = batch\n",
        "            labels_batch = labels_batch.float().to(device)\n",
        "\n",
        "            optimizer.zero_grad()\n",
        "            outputs = model(pep_input_ids_batch.to(device), mhc_input_ids_batch.to(device)).squeeze()\n",
        "            loss = criterion(outputs, labels_batch)\n",
        "            loss.backward()\n",
        "            optimizer.step()\n",
        "\n",
        "            total_train_loss += loss.item()\n",
        "\n",
        "        avg_train_loss = total_train_loss / len(train_loader)\n",
        "        train_losses.append(avg_train_loss)\n",
        "\n",
        "        # Validation step\n",
        "        model.eval()\n",
        "        total_val_loss = 0\n",
        "        y_true, y_pred = [], []\n",
        "\n",
        "        with torch.no_grad():\n",
        "            for batch in val_loader:\n",
        "                pep_input_ids_batch, _, mhc_input_ids_batch, _, labels_batch = batch\n",
        "                labels_batch = labels_batch.float().to(device)\n",
        "                outputs = model(pep_input_ids_batch.to(device), mhc_input_ids_batch.to(device)).squeeze()\n",
        "                loss = criterion(outputs, labels_batch)\n",
        "                total_val_loss += loss.item()\n",
        "\n",
        "                y_true.extend(labels_batch.cpu().numpy())\n",
        "                y_pred.extend(torch.sigmoid(outputs).cpu().numpy())\n",
        "\n",
        "        avg_val_loss = total_val_loss / len(val_loader)\n",
        "        val_losses.append(avg_val_loss)\n",
        "\n",
        "        # Compute AUROC for this epoch\n",
        "        auroc = roc_auc_score(y_true, y_pred)\n",
        "\n",
        "        # Compute Precision-Recall AUC\n",
        "        precision, recall, _ = precision_recall_curve(y_true, y_pred)\n",
        "        pr_auc = auc(recall, precision)\n",
        "\n",
        "        all_y_true.extend(y_true)\n",
        "        all_y_pred.extend(y_pred)\n",
        "\n",
        "        print(f\"Epoch {epoch+1}/{num_epochs} - Train Loss: {avg_train_loss:.4f} - Val Loss: {avg_val_loss:.4f} - AUROC: {auroc:.4f} - PR AUC: {pr_auc:.4f}\")\n",
        "\n",
        "        # Early stopping & model checkpointing\n",
        "        if avg_val_loss < best_val_loss:\n",
        "            best_val_loss = avg_val_loss\n",
        "            torch.save(model.state_dict(), best_model_path)\n",
        "            print(f\"New best model saved with Val Loss: {avg_val_loss:.4f}\")\n",
        "            early_stop_counter = 0\n",
        "        else:\n",
        "            early_stop_counter += 1\n",
        "            if early_stop_counter >= patience:\n",
        "                print(\"Early stopping triggered\")\n",
        "                break\n",
        "\n",
        "    # Compute the final AUROC based on accumulated true and predicted values\n",
        "    final_auroc = roc_auc_score(all_y_true, all_y_pred)\n",
        "    print(f\"Final AUROC (across all epochs): {final_auroc:.4f}\")\n",
        "\n",
        "    # Plot training & validation loss\n",
        "    plt.figure(figsize=(10, 5))\n",
        "    plt.plot(range(1,len(train_losses)+1), train_losses, label='Train Loss')\n",
        "    plt.plot(range(1,len(val_losses)+1), val_losses, label='Validation Loss')\n",
        "    plt.xlabel(\"Epochs\")\n",
        "    plt.ylabel(\"Loss\")\n",
        "    plt.legend()\n",
        "    plt.title(\"Training and Validation Loss Over Epochs\")\n",
        "    plt.show()\n",
        "\n",
        "    # Plot AUROC curve\n",
        "    fpr, tpr, _ = roc_curve(all_y_true, all_y_pred)\n",
        "    plt.figure(figsize=(10, 5))\n",
        "    plt.plot(fpr, tpr, label=f'AUROC: {final_auroc:.4f}')\n",
        "    plt.xlabel(\"False Positive Rate\")\n",
        "    plt.ylabel(\"True Positive Rate\")\n",
        "    plt.title(\"AUROC Curve\")\n",
        "    plt.legend()\n",
        "    plt.show()\n",
        "\n",
        "    print(\"Training Complete.\")\n",
        "\n",
        "# Load best hyperparameters and train the model\n",
        "model = TCNModel(model_dim=256, num_layers=4, dropout=0.3235, vocab_size=33, num_classes=1).to(device)\n",
        "train_model(model, train_data, val_data, device, best_model_path)\n"
      ],
      "metadata": {
        "id": "m-7Fq1cfRTRU",
        "colab": {
          "base_uri": "https://localhost:8080/",
          "height": 1000
        },
        "outputId": "19952d2e-a78b-4a9c-8c1c-b4bb19e99c40"
      },
      "execution_count": null,
      "outputs": [
        {
          "output_type": "stream",
          "name": "stdout",
          "text": [
            "Starting Training...\n",
            "Epoch 1/50 - Train Loss: 0.5532 - Val Loss: 0.5265 - AUROC: 0.8048 - PR AUC: 0.7642\n",
            "New best model saved with Val Loss: 0.5265\n",
            "Epoch 2/50 - Train Loss: 0.5127 - Val Loss: 0.5010 - AUROC: 0.8258 - PR AUC: 0.7880\n",
            "New best model saved with Val Loss: 0.5010\n",
            "Epoch 3/50 - Train Loss: 0.4900 - Val Loss: 0.5034 - AUROC: 0.8344 - PR AUC: 0.7995\n",
            "Epoch 4/50 - Train Loss: 0.4749 - Val Loss: 0.4860 - AUROC: 0.8474 - PR AUC: 0.8129\n",
            "New best model saved with Val Loss: 0.4860\n",
            "Epoch 5/50 - Train Loss: 0.4608 - Val Loss: 0.4763 - AUROC: 0.8526 - PR AUC: 0.8203\n",
            "New best model saved with Val Loss: 0.4763\n",
            "Epoch 6/50 - Train Loss: 0.4506 - Val Loss: 0.4700 - AUROC: 0.8561 - PR AUC: 0.8252\n",
            "New best model saved with Val Loss: 0.4700\n",
            "Epoch 7/50 - Train Loss: 0.4402 - Val Loss: 0.4597 - AUROC: 0.8603 - PR AUC: 0.8302\n",
            "New best model saved with Val Loss: 0.4597\n",
            "Epoch 8/50 - Train Loss: 0.4325 - Val Loss: 0.4607 - AUROC: 0.8644 - PR AUC: 0.8345\n",
            "Epoch 9/50 - Train Loss: 0.4247 - Val Loss: 0.4514 - AUROC: 0.8654 - PR AUC: 0.8344\n",
            "New best model saved with Val Loss: 0.4514\n",
            "Epoch 10/50 - Train Loss: 0.4172 - Val Loss: 0.4514 - AUROC: 0.8658 - PR AUC: 0.8355\n",
            "Epoch 11/50 - Train Loss: 0.4110 - Val Loss: 0.4563 - AUROC: 0.8684 - PR AUC: 0.8394\n",
            "Epoch 12/50 - Train Loss: 0.4048 - Val Loss: 0.4484 - AUROC: 0.8693 - PR AUC: 0.8409\n",
            "New best model saved with Val Loss: 0.4484\n",
            "Epoch 13/50 - Train Loss: 0.3980 - Val Loss: 0.4407 - AUROC: 0.8721 - PR AUC: 0.8427\n",
            "New best model saved with Val Loss: 0.4407\n",
            "Epoch 14/50 - Train Loss: 0.3932 - Val Loss: 0.4507 - AUROC: 0.8727 - PR AUC: 0.8440\n",
            "Epoch 15/50 - Train Loss: 0.3859 - Val Loss: 0.4476 - AUROC: 0.8737 - PR AUC: 0.8455\n",
            "Epoch 16/50 - Train Loss: 0.3806 - Val Loss: 0.4362 - AUROC: 0.8748 - PR AUC: 0.8467\n",
            "New best model saved with Val Loss: 0.4362\n",
            "Epoch 17/50 - Train Loss: 0.3753 - Val Loss: 0.4454 - AUROC: 0.8744 - PR AUC: 0.8470\n",
            "Epoch 18/50 - Train Loss: 0.3711 - Val Loss: 0.4497 - AUROC: 0.8741 - PR AUC: 0.8446\n",
            "Epoch 19/50 - Train Loss: 0.3662 - Val Loss: 0.4416 - AUROC: 0.8767 - PR AUC: 0.8492\n",
            "Epoch 20/50 - Train Loss: 0.3635 - Val Loss: 0.4501 - AUROC: 0.8757 - PR AUC: 0.8491\n",
            "Epoch 21/50 - Train Loss: 0.3581 - Val Loss: 0.4402 - AUROC: 0.8783 - PR AUC: 0.8519\n",
            "Early stopping triggered\n",
            "Final AUROC (across all epochs): 0.8599\n"
          ]
        },
        {
          "output_type": "display_data",
          "data": {
            "text/plain": [
              "<Figure size 1000x500 with 1 Axes>"
            ],
            "image/png": "[encoded data removed]"
          },
          "metadata": {}
        },
        {
          "output_type": "display_data",
          "data": {
            "text/plain": [
              "<Figure size 1000x500 with 1 Axes>"
            ],
            "image/png": "[encoded data removed]"
          },
          "metadata": {}
        },
        {
          "output_type": "stream",
          "name": "stdout",
          "text": [
            "Training Complete.\n"
          ]
        }
      ]
    },
    {
      "cell_type": "code",
      "source": [
        "import torch\n",
        "import matplotlib.pyplot as plt\n",
        "from sklearn.metrics import roc_auc_score, precision_recall_curve, auc, roc_curve, confusion_matrix, precision_score, recall_score, f1_score, accuracy_score\n",
        "import seaborn as sns\n",
        "from torch.utils.data import DataLoader\n",
        "\n",
        "\n",
        "best_model_path = \"/content/best_model.pth\"\n",
        "device = torch.device(\"cuda\" if torch.cuda.is_available() else \"cpu\")\n",
        "model = TCNModel(model_dim=256, num_layers=4, dropout=0.3235, vocab_size=33, num_classes=1).to(device)\n",
        "\n",
        "\n",
        "model_state = torch.load(best_model_path, map_location=device)\n",
        "if isinstance(model_state, dict):\n",
        "    model.load_state_dict(model_state)\n",
        "else:\n",
        "    model = model_state\n",
        "\n",
        "model.to(device)\n",
        "model.eval()\n",
        "\n",
        "\n",
        "def test_model(model, test_data, device):\n",
        "    test_loader = DataLoader(test_data, batch_size=32, shuffle=False)\n",
        "\n",
        "    y_true, y_pred = [], []\n",
        "\n",
        "    with torch.no_grad():\n",
        "        for batch in test_loader:\n",
        "            pep_input_ids_batch, _, mhc_input_ids_batch, _, labels_batch = batch\n",
        "            labels_batch = labels_batch.float().to(device)\n",
        "            outputs = model(pep_input_ids_batch.to(device), mhc_input_ids_batch.to(device)).squeeze()\n",
        "\n",
        "            y_true.extend(labels_batch.cpu().numpy())\n",
        "            y_pred.extend(torch.sigmoid(outputs).cpu().numpy())\n",
        "\n",
        "    auroc = roc_auc_score(y_true, y_pred)\n",
        "    p, r, _ = precision_recall_curve(y_true, y_pred)\n",
        "    pr_auc = auc(r, p)\n",
        "\n",
        "    y_pred_binary = [1 if prob > 0.5 else 0 for prob in y_pred]\n",
        "\n",
        "    cm = confusion_matrix(y_true, y_pred_binary)\n",
        "\n",
        "    precision = precision_score(y_true, y_pred_binary)\n",
        "    recall = recall_score(y_true, y_pred_binary)\n",
        "    f1 = f1_score(y_true, y_pred_binary)\n",
        "    accuracy = accuracy_score(y_true, y_pred_binary)\n",
        "\n",
        "\n",
        "    print(f\"Test AUROC: {auroc:.4f}\")\n",
        "    print(f\"Test PR AUC: {pr_auc:.4f}\")\n",
        "    print(f\"Test Precision: {precision:.4f}\")\n",
        "    print(f\"Test Recall: {recall:.4f}\")\n",
        "    print(f\"Test F1 Score: {f1:.4f}\")\n",
        "    print(f\"Test Accuracy: {accuracy:.4f}\")\n",
        "    print(f\"Confusion Matrix:\\n{cm}\")\n",
        "\n",
        "\n",
        "    fpr, tpr, _ = roc_curve(y_true, y_pred)\n",
        "    plt.figure(figsize=(6, 6))\n",
        "    plt.plot(fpr, tpr, label=f'Test AUROC: {auroc:.4f}')\n",
        "    plt.xlabel(\"False Positive Rate\")\n",
        "    plt.ylabel(\"True Positive Rate\")\n",
        "    plt.title(\"Test AUROC Curve\")\n",
        "    plt.grid()\n",
        "    plt.legend()\n",
        "    plt.show()\n",
        "\n",
        "    # Plot Precision-Recall Curve\n",
        "    plt.figure(figsize=(6, 6))\n",
        "    plt.plot(r, p, label=f'Test PR AUC: {pr_auc:.4f}')\n",
        "    plt.xlabel(\"Recall\")\n",
        "    plt.ylabel(\"Precision\")\n",
        "    plt.title(\"Test Precision-Recall Curve\")\n",
        "    plt.legend()\n",
        "    plt.grid()\n",
        "    plt.show()\n",
        "\n",
        "\n",
        "    plt.figure(figsize=(6, 6))\n",
        "    sns.heatmap(cm, annot=True, fmt=\"d\", cmap=\"Blues\", xticklabels=[\"Negative\", \"Positive\"], yticklabels=[\"Negative\", \"Positive\"])\n",
        "    plt.xlabel(\"Predicted Labels\")\n",
        "    plt.ylabel(\"True Labels\")\n",
        "    plt.title(\"Confusion Matrix\")\n",
        "    plt.show()\n",
        "\n",
        "    return auroc, pr_auc, precision, recall, f1, accuracy\n",
        "\n",
        "auroc, pr_auc, precision, recall, f1, accuracy = test_model(model, test_data, device)\n"
      ],
      "metadata": {
        "colab": {
          "base_uri": "https://localhost:8080/",
          "height": 1000
        },
        "id": "VWmC4ckylvgx",
        "outputId": "28fb4a50-128b-4901-e4f1-74f5cb5ec132"
      },
      "execution_count": null,
      "outputs": [
        {
          "output_type": "stream",
          "name": "stderr",
          "text": [
            "<ipython-input-64-6dff93a0dac7>:13: FutureWarning: You are using `torch.load` with `weights_only=False` (the current default value), which uses the default pickle module implicitly. It is possible to construct malicious pickle data which will execute arbitrary code during unpickling (See https://github.com/pytorch/pytorch/blob/main/SECURITY.md#untrusted-models for more details). In a future release, the default value for `weights_only` will be flipped to `True`. This limits the functions that could be executed during unpickling. Arbitrary objects will no longer be allowed to be loaded via this mode unless they are explicitly allowlisted by the user via `torch.serialization.add_safe_globals`. We recommend you start setting `weights_only=True` for any use case where you don't have full control of the loaded file. Please open an issue on GitHub for any issues related to this experimental feature.\n",
            "  model_state = torch.load(best_model_path, map_location=device)\n"
          ]
        },
        {
          "output_type": "stream",
          "name": "stdout",
          "text": [
            "Test AUROC: 0.8810\n",
            "Test PR AUC: 0.8501\n",
            "Test Precision: 0.7668\n",
            "Test Recall: 0.7523\n",
            "Test F1 Score: 0.7595\n",
            "Test Accuracy: 0.7999\n",
            "Confusion Matrix:\n",
            "[[13000  2580]\n",
            " [ 2793  8484]]\n"
          ]
        },
        {
          "output_type": "display_data",
          "data": {
            "text/plain": [
              "<Figure size 600x600 with 1 Axes>"
            ],
            "image/png": "[encoded data removed]"
          },
          "metadata": {}
        },
        {
          "output_type": "display_data",
          "data": {
            "text/plain": [
              "<Figure size 600x600 with 1 Axes>"
            ],
            "image/png": "[encoded data removed]"
          },
          "metadata": {}
        },
        {
          "output_type": "display_data",
          "data": {
            "text/plain": [
              "<Figure size 600x600 with 2 Axes>"
            ],
            "image/png": "[encoded data removed]"
          },
          "metadata": {}
        }
      ]
    },
    {
      "cell_type": "markdown",
      "source": [
        "Kfold"
      ],
      "metadata": {
        "id": "bfpwD7WpSV3Z"
      }
    },
    {
      "cell_type": "code",
      "source": [
        "train_input_ids, test_input_ids, train_attention_mask, test_attention_mask, train_labels, test_labels, train_mhc_input_ids, test_mhc_input_ids, train_mhc_attention_mask, test_mhc_attention_mask = train_test_split(\n",
        "    pep_input_ids, pep_attention_mask, y, mhc_input_ids, mhc_attention_mask, test_size=0.2, random_state=42)\n",
        "\n",
        "train_data = TensorDataset(train_input_ids, train_attention_mask, train_mhc_input_ids, train_mhc_attention_mask, train_labels)\n",
        "\n",
        "test_data = TensorDataset(test_input_ids, test_attention_mask, test_mhc_input_ids, test_mhc_attention_mask, test_labels)\n",
        "test_loader = DataLoader(test_data, batch_size=32, shuffle=False)"
      ],
      "metadata": {
        "id": "G-dhu0ODS3G2"
      },
      "execution_count": null,
      "outputs": []
    },
    {
      "cell_type": "code",
      "source": [
        "import torch\n",
        "import torch.nn as nn\n",
        "import torch.optim as optim\n",
        "import torch.nn.functional as F\n",
        "import matplotlib.pyplot as plt\n",
        "from sklearn.metrics import roc_auc_score, precision_recall_curve, auc, roc_curve\n",
        "from sklearn.model_selection import KFold\n",
        "from torch.utils.data import DataLoader, Subset\n",
        "\n",
        "kf = KFold(n_splits=5, shuffle=True, random_state=42)\n",
        "fold_results = []\n",
        "best_models = []\n",
        "\n",
        "for fold, (train_idx, val_idx) in enumerate(kf.split(train_data)):\n",
        "    print(f\"\\nFold {fold+1}/5\")\n",
        "    train_subset = Subset(train_data, train_idx)\n",
        "    val_subset = Subset(train_data, val_idx)\n",
        "\n",
        "    train_loader = DataLoader(train_subset, batch_size=32, shuffle=True)\n",
        "    val_loader = DataLoader(val_subset, batch_size=32, shuffle=False)\n",
        "\n",
        "    model = TCNModel(model_dim=256, num_layers=4, dropout=0.3235, vocab_size=33, num_classes=1).to(device)\n",
        "    optimizer = optim.Adam(model.parameters(), lr=0.001)\n",
        "    criterion = nn.BCEWithLogitsLoss()\n",
        "\n",
        "    best_val_loss = float(\"inf\")\n",
        "    early_stop_counter = 0\n",
        "    best_model_path = f\"/content/drive/MyDrive/best_model_fold{fold+1}.pth\"\n",
        "\n",
        "    for epoch in range(50):\n",
        "        model.train()\n",
        "        total_train_loss = 0\n",
        "\n",
        "        for batch in train_loader:\n",
        "            pep_input_ids_batch, _, mhc_input_ids_batch, _, labels_batch = batch\n",
        "            labels_batch = labels_batch.float().to(device)\n",
        "\n",
        "            optimizer.zero_grad()\n",
        "            outputs = model(pep_input_ids_batch.to(device), mhc_input_ids_batch.to(device)).squeeze()\n",
        "            loss = criterion(outputs, labels_batch)\n",
        "            loss.backward()\n",
        "            optimizer.step()\n",
        "\n",
        "            total_train_loss += loss.item()\n",
        "\n",
        "        avg_train_loss = total_train_loss / len(train_loader)\n",
        "\n",
        "        model.eval()\n",
        "        total_val_loss = 0\n",
        "        y_true, y_pred = [], []\n",
        "\n",
        "        with torch.no_grad():\n",
        "            for batch in val_loader:\n",
        "                pep_input_ids_batch, _, mhc_input_ids_batch, _, labels_batch = batch\n",
        "                labels_batch = labels_batch.float().to(device)\n",
        "                outputs = model(pep_input_ids_batch.to(device), mhc_input_ids_batch.to(device)).squeeze()\n",
        "                loss = criterion(outputs, labels_batch)\n",
        "                total_val_loss += loss.item()\n",
        "\n",
        "                y_true.extend(labels_batch.cpu().numpy())\n",
        "                y_pred.extend(torch.sigmoid(outputs).cpu().numpy())\n",
        "\n",
        "        avg_val_loss = total_val_loss / len(val_loader)\n",
        "\n",
        "        auroc = roc_auc_score(y_true, y_pred)\n",
        "        precision, recall, _ = precision_recall_curve(y_true, y_pred)\n",
        "        pr_auc = auc(recall, precision)\n",
        "\n",
        "        print(f\"Epoch {epoch+1}/50 - Train Loss: {avg_train_loss:.4f} - Val Loss: {avg_val_loss:.4f} - AUROC: {auroc:.4f} - PR AUC: {pr_auc:.4f}\")\n",
        "\n",
        "        if avg_val_loss < best_val_loss:\n",
        "            best_val_loss = avg_val_loss\n",
        "            torch.save(model.state_dict(), best_model_path)\n",
        "            print(f\"New best model saved for Fold {fold+1} with Val Loss: {avg_val_loss:.4f}\")\n",
        "            early_stop_counter = 0\n",
        "        else:\n",
        "            early_stop_counter += 1\n",
        "            if early_stop_counter >= 5:\n",
        "                print(\"Early stopping triggered\")\n",
        "                break\n",
        "\n",
        "    fold_results.append({'fold': fold+1, 'best_val_loss': best_val_loss})\n",
        "    best_models.append(best_model_path)\n",
        "\n",
        "print(\"\\nCross-validation complete. Best models saved for each fold.\")\n"
      ],
      "metadata": {
        "id": "HRJh5XgJoUNL",
        "colab": {
          "base_uri": "https://localhost:8080/"
        },
        "outputId": "1c2c7957-48c4-42c0-b3fe-87982c3b22ca"
      },
      "execution_count": null,
      "outputs": [
        {
          "output_type": "stream",
          "name": "stdout",
          "text": [
            "\n",
            "Fold 1/5\n",
            "Epoch 1/50 - Train Loss: 0.5517 - Val Loss: 0.5289 - AUROC: 0.8070 - PR AUC: 0.7640\n",
            "New best model saved for Fold 1 with Val Loss: 0.5289\n",
            "Epoch 2/50 - Train Loss: 0.5100 - Val Loss: 0.5068 - AUROC: 0.8253 - PR AUC: 0.7905\n",
            "New best model saved for Fold 1 with Val Loss: 0.5068\n",
            "Epoch 3/50 - Train Loss: 0.4897 - Val Loss: 0.4995 - AUROC: 0.8332 - PR AUC: 0.7979\n",
            "New best model saved for Fold 1 with Val Loss: 0.4995\n",
            "Epoch 4/50 - Train Loss: 0.4758 - Val Loss: 0.4768 - AUROC: 0.8449 - PR AUC: 0.8116\n",
            "New best model saved for Fold 1 with Val Loss: 0.4768\n",
            "Epoch 5/50 - Train Loss: 0.4632 - Val Loss: 0.4779 - AUROC: 0.8468 - PR AUC: 0.8128\n",
            "Epoch 6/50 - Train Loss: 0.4520 - Val Loss: 0.4628 - AUROC: 0.8558 - PR AUC: 0.8231\n",
            "New best model saved for Fold 1 with Val Loss: 0.4628\n",
            "Epoch 7/50 - Train Loss: 0.4431 - Val Loss: 0.4609 - AUROC: 0.8580 - PR AUC: 0.8255\n",
            "New best model saved for Fold 1 with Val Loss: 0.4609\n",
            "Epoch 8/50 - Train Loss: 0.4342 - Val Loss: 0.4559 - AUROC: 0.8605 - PR AUC: 0.8300\n",
            "New best model saved for Fold 1 with Val Loss: 0.4559\n",
            "Epoch 9/50 - Train Loss: 0.4270 - Val Loss: 0.4543 - AUROC: 0.8619 - PR AUC: 0.8322\n",
            "New best model saved for Fold 1 with Val Loss: 0.4543\n",
            "Epoch 10/50 - Train Loss: 0.4215 - Val Loss: 0.4500 - AUROC: 0.8662 - PR AUC: 0.8359\n",
            "New best model saved for Fold 1 with Val Loss: 0.4500\n",
            "Epoch 11/50 - Train Loss: 0.4133 - Val Loss: 0.4488 - AUROC: 0.8679 - PR AUC: 0.8389\n",
            "New best model saved for Fold 1 with Val Loss: 0.4488\n",
            "Epoch 12/50 - Train Loss: 0.4067 - Val Loss: 0.4521 - AUROC: 0.8692 - PR AUC: 0.8405\n",
            "Epoch 13/50 - Train Loss: 0.4006 - Val Loss: 0.4511 - AUROC: 0.8706 - PR AUC: 0.8421\n",
            "Epoch 14/50 - Train Loss: 0.3952 - Val Loss: 0.4491 - AUROC: 0.8726 - PR AUC: 0.8447\n",
            "Epoch 15/50 - Train Loss: 0.3902 - Val Loss: 0.4460 - AUROC: 0.8707 - PR AUC: 0.8424\n",
            "New best model saved for Fold 1 with Val Loss: 0.4460\n",
            "Epoch 16/50 - Train Loss: 0.3842 - Val Loss: 0.4633 - AUROC: 0.8717 - PR AUC: 0.8432\n",
            "Epoch 17/50 - Train Loss: 0.3790 - Val Loss: 0.4435 - AUROC: 0.8736 - PR AUC: 0.8470\n",
            "New best model saved for Fold 1 with Val Loss: 0.4435\n",
            "Epoch 18/50 - Train Loss: 0.3754 - Val Loss: 0.4626 - AUROC: 0.8745 - PR AUC: 0.8457\n",
            "Epoch 19/50 - Train Loss: 0.3698 - Val Loss: 0.4622 - AUROC: 0.8733 - PR AUC: 0.8437\n",
            "Epoch 20/50 - Train Loss: 0.3669 - Val Loss: 0.4432 - AUROC: 0.8767 - PR AUC: 0.8477\n",
            "New best model saved for Fold 1 with Val Loss: 0.4432\n",
            "Epoch 21/50 - Train Loss: 0.3621 - Val Loss: 0.4450 - AUROC: 0.8758 - PR AUC: 0.8472\n",
            "Epoch 22/50 - Train Loss: 0.3575 - Val Loss: 0.4489 - AUROC: 0.8715 - PR AUC: 0.8445\n",
            "Epoch 23/50 - Train Loss: 0.3532 - Val Loss: 0.4757 - AUROC: 0.8758 - PR AUC: 0.8462\n",
            "Epoch 24/50 - Train Loss: 0.3484 - Val Loss: 0.4478 - AUROC: 0.8771 - PR AUC: 0.8503\n",
            "Epoch 25/50 - Train Loss: 0.3449 - Val Loss: 0.4508 - AUROC: 0.8782 - PR AUC: 0.8499\n",
            "Early stopping triggered\n",
            "\n",
            "Fold 2/5\n",
            "Epoch 1/50 - Train Loss: 0.5542 - Val Loss: 0.5079 - AUROC: 0.8190 - PR AUC: 0.7706\n",
            "New best model saved for Fold 2 with Val Loss: 0.5079\n",
            "Epoch 2/50 - Train Loss: 0.5090 - Val Loss: 0.4883 - AUROC: 0.8340 - PR AUC: 0.7893\n",
            "New best model saved for Fold 2 with Val Loss: 0.4883\n",
            "Epoch 3/50 - Train Loss: 0.4873 - Val Loss: 0.4923 - AUROC: 0.8412 - PR AUC: 0.7950\n",
            "Epoch 4/50 - Train Loss: 0.4721 - Val Loss: 0.4646 - AUROC: 0.8523 - PR AUC: 0.8116\n",
            "New best model saved for Fold 2 with Val Loss: 0.4646\n",
            "Epoch 5/50 - Train Loss: 0.4611 - Val Loss: 0.4576 - AUROC: 0.8601 - PR AUC: 0.8208\n",
            "New best model saved for Fold 2 with Val Loss: 0.4576\n",
            "Epoch 6/50 - Train Loss: 0.4494 - Val Loss: 0.4496 - AUROC: 0.8650 - PR AUC: 0.8255\n",
            "New best model saved for Fold 2 with Val Loss: 0.4496\n",
            "Epoch 7/50 - Train Loss: 0.4382 - Val Loss: 0.4403 - AUROC: 0.8695 - PR AUC: 0.8335\n",
            "New best model saved for Fold 2 with Val Loss: 0.4403\n",
            "Epoch 8/50 - Train Loss: 0.4320 - Val Loss: 0.4413 - AUROC: 0.8695 - PR AUC: 0.8342\n",
            "Epoch 9/50 - Train Loss: 0.4225 - Val Loss: 0.4363 - AUROC: 0.8730 - PR AUC: 0.8370\n",
            "New best model saved for Fold 2 with Val Loss: 0.4363\n",
            "Epoch 10/50 - Train Loss: 0.4171 - Val Loss: 0.4394 - AUROC: 0.8739 - PR AUC: 0.8391\n",
            "Epoch 11/50 - Train Loss: 0.4099 - Val Loss: 0.4351 - AUROC: 0.8749 - PR AUC: 0.8409\n",
            "New best model saved for Fold 2 with Val Loss: 0.4351\n",
            "Epoch 12/50 - Train Loss: 0.4036 - Val Loss: 0.4346 - AUROC: 0.8765 - PR AUC: 0.8405\n",
            "New best model saved for Fold 2 with Val Loss: 0.4346\n",
            "Epoch 13/50 - Train Loss: 0.3965 - Val Loss: 0.4272 - AUROC: 0.8791 - PR AUC: 0.8457\n",
            "New best model saved for Fold 2 with Val Loss: 0.4272\n",
            "Epoch 14/50 - Train Loss: 0.3929 - Val Loss: 0.4394 - AUROC: 0.8775 - PR AUC: 0.8421\n",
            "Epoch 15/50 - Train Loss: 0.3861 - Val Loss: 0.4290 - AUROC: 0.8794 - PR AUC: 0.8453\n",
            "Epoch 16/50 - Train Loss: 0.3832 - Val Loss: 0.4309 - AUROC: 0.8817 - PR AUC: 0.8480\n",
            "Epoch 17/50 - Train Loss: 0.3765 - Val Loss: 0.4293 - AUROC: 0.8821 - PR AUC: 0.8491\n",
            "Epoch 18/50 - Train Loss: 0.3706 - Val Loss: 0.4274 - AUROC: 0.8829 - PR AUC: 0.8501\n",
            "Early stopping triggered\n",
            "\n",
            "Fold 3/5\n",
            "Epoch 1/50 - Train Loss: 0.5536 - Val Loss: 0.5206 - AUROC: 0.8107 - PR AUC: 0.7637\n",
            "New best model saved for Fold 3 with Val Loss: 0.5206\n",
            "Epoch 2/50 - Train Loss: 0.5117 - Val Loss: 0.4955 - AUROC: 0.8302 - PR AUC: 0.7865\n",
            "New best model saved for Fold 3 with Val Loss: 0.4955\n",
            "Epoch 3/50 - Train Loss: 0.4888 - Val Loss: 0.4884 - AUROC: 0.8442 - PR AUC: 0.8034\n",
            "New best model saved for Fold 3 with Val Loss: 0.4884\n",
            "Epoch 4/50 - Train Loss: 0.4738 - Val Loss: 0.4708 - AUROC: 0.8538 - PR AUC: 0.8134\n",
            "New best model saved for Fold 3 with Val Loss: 0.4708\n",
            "Epoch 5/50 - Train Loss: 0.4595 - Val Loss: 0.4741 - AUROC: 0.8545 - PR AUC: 0.8159\n",
            "Epoch 6/50 - Train Loss: 0.4504 - Val Loss: 0.4575 - AUROC: 0.8600 - PR AUC: 0.8233\n",
            "New best model saved for Fold 3 with Val Loss: 0.4575\n",
            "Epoch 7/50 - Train Loss: 0.4399 - Val Loss: 0.4564 - AUROC: 0.8605 - PR AUC: 0.8247\n",
            "New best model saved for Fold 3 with Val Loss: 0.4564\n",
            "Epoch 8/50 - Train Loss: 0.4323 - Val Loss: 0.4493 - AUROC: 0.8660 - PR AUC: 0.8291\n",
            "New best model saved for Fold 3 with Val Loss: 0.4493\n",
            "Epoch 9/50 - Train Loss: 0.4231 - Val Loss: 0.4448 - AUROC: 0.8699 - PR AUC: 0.8327\n",
            "New best model saved for Fold 3 with Val Loss: 0.4448\n",
            "Epoch 10/50 - Train Loss: 0.4169 - Val Loss: 0.4423 - AUROC: 0.8730 - PR AUC: 0.8384\n",
            "New best model saved for Fold 3 with Val Loss: 0.4423\n",
            "Epoch 11/50 - Train Loss: 0.4107 - Val Loss: 0.4421 - AUROC: 0.8713 - PR AUC: 0.8364\n",
            "New best model saved for Fold 3 with Val Loss: 0.4421\n",
            "Epoch 12/50 - Train Loss: 0.4051 - Val Loss: 0.4738 - AUROC: 0.8740 - PR AUC: 0.8407\n",
            "Epoch 13/50 - Train Loss: 0.3975 - Val Loss: 0.4327 - AUROC: 0.8775 - PR AUC: 0.8443\n",
            "New best model saved for Fold 3 with Val Loss: 0.4327\n",
            "Epoch 14/50 - Train Loss: 0.3915 - Val Loss: 0.4550 - AUROC: 0.8762 - PR AUC: 0.8447\n",
            "Epoch 15/50 - Train Loss: 0.3862 - Val Loss: 0.4368 - AUROC: 0.8784 - PR AUC: 0.8467\n",
            "Epoch 16/50 - Train Loss: 0.3809 - Val Loss: 0.4352 - AUROC: 0.8799 - PR AUC: 0.8458\n",
            "Epoch 17/50 - Train Loss: 0.3757 - Val Loss: 0.4282 - AUROC: 0.8798 - PR AUC: 0.8463\n",
            "New best model saved for Fold 3 with Val Loss: 0.4282\n",
            "Epoch 18/50 - Train Loss: 0.3697 - Val Loss: 0.4457 - AUROC: 0.8817 - PR AUC: 0.8500\n",
            "Epoch 19/50 - Train Loss: 0.3660 - Val Loss: 0.4356 - AUROC: 0.8831 - PR AUC: 0.8515\n",
            "Epoch 20/50 - Train Loss: 0.3619 - Val Loss: 0.4328 - AUROC: 0.8835 - PR AUC: 0.8521\n",
            "Epoch 21/50 - Train Loss: 0.3582 - Val Loss: 0.4273 - AUROC: 0.8839 - PR AUC: 0.8520\n",
            "New best model saved for Fold 3 with Val Loss: 0.4273\n",
            "Epoch 22/50 - Train Loss: 0.3519 - Val Loss: 0.4323 - AUROC: 0.8842 - PR AUC: 0.8525\n",
            "Epoch 23/50 - Train Loss: 0.3484 - Val Loss: 0.4326 - AUROC: 0.8823 - PR AUC: 0.8490\n",
            "Epoch 24/50 - Train Loss: 0.3419 - Val Loss: 0.4325 - AUROC: 0.8844 - PR AUC: 0.8512\n",
            "Epoch 25/50 - Train Loss: 0.3395 - Val Loss: 0.4586 - AUROC: 0.8836 - PR AUC: 0.8511\n",
            "Epoch 26/50 - Train Loss: 0.3355 - Val Loss: 0.4302 - AUROC: 0.8865 - PR AUC: 0.8552\n",
            "Early stopping triggered\n",
            "\n",
            "Fold 4/5\n",
            "Epoch 1/50 - Train Loss: 0.5556 - Val Loss: 0.5268 - AUROC: 0.8176 - PR AUC: 0.7700\n",
            "New best model saved for Fold 4 with Val Loss: 0.5268\n",
            "Epoch 2/50 - Train Loss: 0.5123 - Val Loss: 0.4824 - AUROC: 0.8439 - PR AUC: 0.8033\n",
            "New best model saved for Fold 4 with Val Loss: 0.4824\n",
            "Epoch 3/50 - Train Loss: 0.4893 - Val Loss: 0.4674 - AUROC: 0.8537 - PR AUC: 0.8141\n",
            "New best model saved for Fold 4 with Val Loss: 0.4674\n",
            "Epoch 4/50 - Train Loss: 0.4743 - Val Loss: 0.4635 - AUROC: 0.8585 - PR AUC: 0.8208\n",
            "New best model saved for Fold 4 with Val Loss: 0.4635\n",
            "Epoch 5/50 - Train Loss: 0.4621 - Val Loss: 0.4531 - AUROC: 0.8636 - PR AUC: 0.8273\n",
            "New best model saved for Fold 4 with Val Loss: 0.4531\n",
            "Epoch 6/50 - Train Loss: 0.4522 - Val Loss: 0.4461 - AUROC: 0.8667 - PR AUC: 0.8320\n",
            "New best model saved for Fold 4 with Val Loss: 0.4461\n",
            "Epoch 7/50 - Train Loss: 0.4427 - Val Loss: 0.4539 - AUROC: 0.8667 - PR AUC: 0.8291\n",
            "Epoch 8/50 - Train Loss: 0.4336 - Val Loss: 0.4452 - AUROC: 0.8702 - PR AUC: 0.8350\n",
            "New best model saved for Fold 4 with Val Loss: 0.4452\n",
            "Epoch 9/50 - Train Loss: 0.4261 - Val Loss: 0.4520 - AUROC: 0.8721 - PR AUC: 0.8367\n",
            "Epoch 10/50 - Train Loss: 0.4198 - Val Loss: 0.4381 - AUROC: 0.8725 - PR AUC: 0.8402\n",
            "New best model saved for Fold 4 with Val Loss: 0.4381\n",
            "Epoch 11/50 - Train Loss: 0.4133 - Val Loss: 0.4361 - AUROC: 0.8757 - PR AUC: 0.8400\n",
            "New best model saved for Fold 4 with Val Loss: 0.4361\n",
            "Epoch 12/50 - Train Loss: 0.4086 - Val Loss: 0.4335 - AUROC: 0.8759 - PR AUC: 0.8436\n",
            "New best model saved for Fold 4 with Val Loss: 0.4335\n",
            "Epoch 13/50 - Train Loss: 0.3998 - Val Loss: 0.4364 - AUROC: 0.8761 - PR AUC: 0.8428\n",
            "Epoch 14/50 - Train Loss: 0.3947 - Val Loss: 0.4353 - AUROC: 0.8773 - PR AUC: 0.8449\n",
            "Epoch 15/50 - Train Loss: 0.3897 - Val Loss: 0.4282 - AUROC: 0.8803 - PR AUC: 0.8477\n",
            "New best model saved for Fold 4 with Val Loss: 0.4282\n",
            "Epoch 16/50 - Train Loss: 0.3842 - Val Loss: 0.4469 - AUROC: 0.8798 - PR AUC: 0.8470\n",
            "Epoch 17/50 - Train Loss: 0.3794 - Val Loss: 0.4316 - AUROC: 0.8818 - PR AUC: 0.8500\n",
            "Epoch 18/50 - Train Loss: 0.3763 - Val Loss: 0.4281 - AUROC: 0.8812 - PR AUC: 0.8490\n",
            "New best model saved for Fold 4 with Val Loss: 0.4281\n",
            "Epoch 19/50 - Train Loss: 0.3705 - Val Loss: 0.4313 - AUROC: 0.8808 - PR AUC: 0.8481\n",
            "Epoch 20/50 - Train Loss: 0.3654 - Val Loss: 0.4294 - AUROC: 0.8801 - PR AUC: 0.8478\n",
            "Epoch 21/50 - Train Loss: 0.3614 - Val Loss: 0.4430 - AUROC: 0.8795 - PR AUC: 0.8467\n",
            "Epoch 22/50 - Train Loss: 0.3571 - Val Loss: 0.4346 - AUROC: 0.8814 - PR AUC: 0.8500\n",
            "Epoch 23/50 - Train Loss: 0.3524 - Val Loss: 0.4464 - AUROC: 0.8810 - PR AUC: 0.8483\n",
            "Early stopping triggered\n",
            "\n",
            "Fold 5/5\n",
            "Epoch 1/50 - Train Loss: 0.5537 - Val Loss: 0.5192 - AUROC: 0.8178 - PR AUC: 0.7717\n",
            "New best model saved for Fold 5 with Val Loss: 0.5192\n",
            "Epoch 2/50 - Train Loss: 0.5125 - Val Loss: 0.4980 - AUROC: 0.8368 - PR AUC: 0.7943\n",
            "New best model saved for Fold 5 with Val Loss: 0.4980\n",
            "Epoch 3/50 - Train Loss: 0.4912 - Val Loss: 0.4707 - AUROC: 0.8487 - PR AUC: 0.8113\n",
            "New best model saved for Fold 5 with Val Loss: 0.4707\n",
            "Epoch 4/50 - Train Loss: 0.4760 - Val Loss: 0.4645 - AUROC: 0.8549 - PR AUC: 0.8178\n",
            "New best model saved for Fold 5 with Val Loss: 0.4645\n",
            "Epoch 5/50 - Train Loss: 0.4636 - Val Loss: 0.4657 - AUROC: 0.8602 - PR AUC: 0.8240\n",
            "Epoch 6/50 - Train Loss: 0.4541 - Val Loss: 0.4519 - AUROC: 0.8627 - PR AUC: 0.8273\n",
            "New best model saved for Fold 5 with Val Loss: 0.4519\n",
            "Epoch 7/50 - Train Loss: 0.4455 - Val Loss: 0.4420 - AUROC: 0.8695 - PR AUC: 0.8342\n",
            "New best model saved for Fold 5 with Val Loss: 0.4420\n",
            "Epoch 8/50 - Train Loss: 0.4361 - Val Loss: 0.4452 - AUROC: 0.8704 - PR AUC: 0.8367\n",
            "Epoch 9/50 - Train Loss: 0.4277 - Val Loss: 0.4554 - AUROC: 0.8718 - PR AUC: 0.8363\n",
            "Epoch 10/50 - Train Loss: 0.4210 - Val Loss: 0.4438 - AUROC: 0.8719 - PR AUC: 0.8380\n",
            "Epoch 11/50 - Train Loss: 0.4154 - Val Loss: 0.4344 - AUROC: 0.8754 - PR AUC: 0.8423\n",
            "New best model saved for Fold 5 with Val Loss: 0.4344\n",
            "Epoch 12/50 - Train Loss: 0.4077 - Val Loss: 0.4519 - AUROC: 0.8785 - PR AUC: 0.8454\n",
            "Epoch 13/50 - Train Loss: 0.4028 - Val Loss: 0.4393 - AUROC: 0.8783 - PR AUC: 0.8438\n",
            "Epoch 14/50 - Train Loss: 0.3967 - Val Loss: 0.4352 - AUROC: 0.8785 - PR AUC: 0.8438\n",
            "Epoch 15/50 - Train Loss: 0.3915 - Val Loss: 0.4366 - AUROC: 0.8809 - PR AUC: 0.8488\n",
            "Epoch 16/50 - Train Loss: 0.3853 - Val Loss: 0.4274 - AUROC: 0.8818 - PR AUC: 0.8495\n",
            "New best model saved for Fold 5 with Val Loss: 0.4274\n",
            "Epoch 17/50 - Train Loss: 0.3809 - Val Loss: 0.4292 - AUROC: 0.8814 - PR AUC: 0.8484\n",
            "Epoch 18/50 - Train Loss: 0.3764 - Val Loss: 0.4266 - AUROC: 0.8839 - PR AUC: 0.8511\n",
            "New best model saved for Fold 5 with Val Loss: 0.4266\n",
            "Epoch 19/50 - Train Loss: 0.3720 - Val Loss: 0.4278 - AUROC: 0.8827 - PR AUC: 0.8516\n",
            "Epoch 20/50 - Train Loss: 0.3674 - Val Loss: 0.4304 - AUROC: 0.8824 - PR AUC: 0.8506\n",
            "Epoch 21/50 - Train Loss: 0.3616 - Val Loss: 0.4384 - AUROC: 0.8838 - PR AUC: 0.8516\n",
            "Epoch 22/50 - Train Loss: 0.3573 - Val Loss: 0.4245 - AUROC: 0.8848 - PR AUC: 0.8510\n",
            "New best model saved for Fold 5 with Val Loss: 0.4245\n",
            "Epoch 23/50 - Train Loss: 0.3525 - Val Loss: 0.4379 - AUROC: 0.8833 - PR AUC: 0.8510\n",
            "Epoch 24/50 - Train Loss: 0.3489 - Val Loss: 0.4293 - AUROC: 0.8836 - PR AUC: 0.8539\n",
            "Epoch 25/50 - Train Loss: 0.3427 - Val Loss: 0.4272 - AUROC: 0.8844 - PR AUC: 0.8519\n",
            "Epoch 26/50 - Train Loss: 0.3405 - Val Loss: 0.4488 - AUROC: 0.8860 - PR AUC: 0.8526\n",
            "Epoch 27/50 - Train Loss: 0.3375 - Val Loss: 0.4489 - AUROC: 0.8840 - PR AUC: 0.8500\n",
            "Early stopping triggered\n",
            "\n",
            "Cross-validation complete. Best models saved for each fold.\n"
          ]
        }
      ]
    },
    {
      "cell_type": "code",
      "source": [
        "from sklearn.metrics import f1_score,precision_score,recall_score"
      ],
      "metadata": {
        "id": "3DQE2um-jdFP"
      },
      "execution_count": null,
      "outputs": []
    },
    {
      "cell_type": "code",
      "source": [
        "import torch\n",
        "import numpy as np\n",
        "from sklearn.metrics import roc_auc_score, precision_score, recall_score, f1_score, precision_recall_curve, auc\n",
        "import torch.nn.functional as F\n",
        "\n",
        "ensemble_preds = []\n",
        "all_y_true = []\n",
        "test_loss = 0.0\n",
        "\n",
        "criterion = torch.nn.BCEWithLogitsLoss()\n",
        "\n",
        "for model_path in best_models:\n",
        "    model = TCNModel(model_dim=256, num_layers=4, dropout=0.3235, vocab_size=33, num_classes=1).to(device)\n",
        "    model.load_state_dict(torch.load(model_path, weights_only=True))\n",
        "    model.eval()\n",
        "    fold_preds = []\n",
        "    fold_losses = []  # Store batch losses\n",
        "\n",
        "    with torch.no_grad():\n",
        "        for batch in test_loader:\n",
        "            pep_input_ids_batch, _, mhc_input_ids_batch, _, labels_batch = batch\n",
        "            labels_batch = labels_batch.float().to(device)\n",
        "\n",
        "            outputs = model(pep_input_ids_batch.to(device), mhc_input_ids_batch.to(device)).squeeze()\n",
        "            loss = criterion(outputs, labels_batch)\n",
        "            fold_losses.append(loss.item())\n",
        "\n",
        "            fold_preds.append(torch.sigmoid(outputs).cpu().numpy())\n",
        "\n",
        "            if model_path == best_models[0]:\n",
        "                all_y_true.append(labels_batch.cpu().numpy())\n",
        "\n",
        "    ensemble_preds.append(np.concatenate(fold_preds))\n",
        "\n",
        "\n",
        "    test_loss += np.mean(fold_losses)\n",
        "\n",
        "\n",
        "test_loss /= len(best_models)\n",
        "\n",
        "all_y_true = np.concatenate(all_y_true)\n",
        "final_preds = np.mean(ensemble_preds, axis=0)\n",
        "final_preds_binary = (final_preds >= 0.4256).astype(int)\n",
        "\n",
        "test_auroc = roc_auc_score(all_y_true, final_preds)\n",
        "test_precision = precision_score(all_y_true, final_preds_binary)\n",
        "test_recall = recall_score(all_y_true, final_preds_binary)\n",
        "test_p, test_r, _ = precision_recall_curve(all_y_true, final_preds)\n",
        "test_pr_auc = auc(test_r, test_p)\n",
        "test_f1 = f1_score(all_y_true, final_preds_binary)\n",
        "\n",
        "print(f\"Test Loss: {test_loss:.4f} - Test AUROC: {test_auroc:.4f} - Test PR AUC: {test_pr_auc:.4f} - Test Precision: {test_precision:.4f} - Test Recall: {test_recall:.4f} - Test F1: {test_f1:.4f}\")\n"
      ],
      "metadata": {
        "colab": {
          "base_uri": "https://localhost:8080/"
        },
        "id": "wuuXnbG_TCn-",
        "outputId": "4accdf2b-faad-4bf8-debe-2b27c98d62c2"
      },
      "execution_count": null,
      "outputs": [
        {
          "output_type": "stream",
          "name": "stdout",
          "text": [
            "Test Loss: 0.4286 - Test AUROC: 0.8933 - Test PR AUC: 0.8663 - Test Precision: 0.7495 - Test Recall: 0.8081 - Test F1: 0.7777\n"
          ]
        }
      ]
    },
    {
      "cell_type": "code",
      "source": [
        "import numpy as np\n",
        "import matplotlib.pyplot as plt\n",
        "import seaborn as sns\n",
        "from sklearn.metrics import roc_curve, precision_recall_curve, confusion_matrix\n",
        "\n",
        "# AUROC Curve\n",
        "fpr, tpr, _ = roc_curve(all_y_true, final_preds)\n",
        "plt.figure(figsize=(6, 6))\n",
        "plt.plot(fpr, tpr, label=f'AUROC: {test_auroc:.4f}', linewidth=2)\n",
        "plt.xlabel(\"False Positive Rate\")\n",
        "plt.ylabel(\"True Positive Rate\")\n",
        "plt.title(\"Test AUROC Curve\")\n",
        "plt.legend()\n",
        "plt.grid()\n",
        "plt.show()\n",
        "\n",
        "# Precision-Recall Curve\n",
        "plt.figure(figsize=(6, 6))\n",
        "plt.plot(test_r, test_p, label=f'PR AUC: {test_pr_auc:.4f}', linewidth=2)\n",
        "plt.xlabel(\"Recall\")\n",
        "plt.ylabel(\"Precision\")\n",
        "plt.title(\"Test Precision-Recall Curve\")\n",
        "plt.legend()\n",
        "plt.grid()\n",
        "plt.show()\n",
        "\n",
        "# Confusion Matrix\n",
        "threshold = 0.5\n",
        "y_pred_labels = (final_preds >= threshold).astype(int)\n",
        "conf_matrix = confusion_matrix(all_y_true, y_pred_labels)\n",
        "\n",
        "plt.figure(figsize=(6, 6))\n",
        "sns.heatmap(conf_matrix, annot=True, fmt='d', cmap='Blues', xticklabels=[\"Negative\", \"Positive\"], yticklabels=[\"Negative\", \"Positive\"])\n",
        "plt.xlabel(\"Predicted Label\")\n",
        "plt.ylabel(\"Actual Label\")\n",
        "plt.title(\"Confusion Matrix\")\n",
        "plt.tight_layout()\n",
        "plt.show()\n"
      ],
      "metadata": {
        "colab": {
          "base_uri": "https://localhost:8080/",
          "height": 1000
        },
        "id": "EE2wRjliYdoR",
        "outputId": "00f418d5-7888-45ea-cd4f-778ac53fef72"
      },
      "execution_count": null,
      "outputs": [
        {
          "output_type": "display_data",
          "data": {
            "text/plain": [
              "<Figure size 600x600 with 1 Axes>"
            ],
            "image/png": "[encoded data removed]"
          },
          "metadata": {}
        },
        {
          "output_type": "display_data",
          "data": {
            "text/plain": [
              "<Figure size 600x600 with 1 Axes>"
            ],
            "image/png": "[encoded data removed]"
          },
          "metadata": {}
        },
        {
          "output_type": "display_data",
          "data": {
            "text/plain": [
              "<Figure size 600x600 with 2 Axes>"
            ],
            "image/png": "[encoded data removed]"
          },
          "metadata": {}
        }
      ]
    },
    {
      "cell_type": "code",
      "source": [],
      "metadata": {
        "id": "OCLY71JCoA3Z"
      },
      "execution_count": null,
      "outputs": []
    }
  ]
}