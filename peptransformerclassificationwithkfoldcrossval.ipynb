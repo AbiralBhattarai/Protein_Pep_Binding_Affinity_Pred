{
  "nbformat": 4,
  "nbformat_minor": 0,
  "metadata": {
    "colab": {
      "provenance": [],
      "gpuType": "T4"
    },
    "kernelspec": {
      "name": "python3",
      "display_name": "Python 3"
    },
    "language_info": {
      "name": "python"
    },
    "accelerator": "GPU"
  },
  "cells": [
    {
      "cell_type": "code",
      "source": [
        "!pip install optuna"
      ],
      "metadata": {
        "id": "WtHVM27GG-Dj"
      },
      "execution_count": null,
      "outputs": []
    },
    {
      "cell_type": "code",
      "execution_count": 42,
      "metadata": {
        "id": "-SAI8HIZVEW9"
      },
      "outputs": [],
      "source": [
        "import numpy as np\n",
        "import pandas as pd\n",
        "import matplotlib.pyplot as plt\n",
        "import seaborn as sns\n",
        "from sklearn.model_selection import train_test_split,KFold\n",
        "import torch\n",
        "import torch.nn as nn\n",
        "from torch.utils.data import Dataset, DataLoader, TensorDataset, random_split\n",
        "from sklearn.metrics import precision_score, recall_score, f1_score, roc_auc_score\n",
        "import math\n",
        "import torch.nn.functional as F\n",
        "import re\n",
        "import optuna\n",
        "from optuna.trial import TrialState\n",
        "from torch.optim import Adam\n",
        "import torch.nn.functional as F"
      ]
    },
    {
      "cell_type": "code",
      "source": [
        "from google.colab import drive\n",
        "drive.mount('/content/drive')"
      ],
      "metadata": {
        "colab": {
          "base_uri": "https://localhost:8080/"
        },
        "id": "7kjyf5sXWNdK",
        "outputId": "25d0c66a-fd32-4fc3-9ed6-a47e33b12bb3"
      },
      "execution_count": 2,
      "outputs": [
        {
          "output_type": "stream",
          "name": "stdout",
          "text": [
            "Mounted at /content/drive\n"
          ]
        }
      ]
    },
    {
      "cell_type": "code",
      "source": [
        "df = pd.read_csv('/content/drive/MyDrive/data.csv')"
      ],
      "metadata": {
        "id": "OybMtcWEWPXN"
      },
      "execution_count": 3,
      "outputs": []
    },
    {
      "cell_type": "code",
      "source": [
        "df.shape"
      ],
      "metadata": {
        "colab": {
          "base_uri": "https://localhost:8080/"
        },
        "id": "onCLlMiSWVGA",
        "outputId": "26db63f0-9dcc-4a53-b86a-b327032d21c2"
      },
      "execution_count": 4,
      "outputs": [
        {
          "output_type": "execute_result",
          "data": {
            "text/plain": [
              "(134281, 4)"
            ]
          },
          "metadata": {},
          "execution_count": 4
        }
      ]
    },
    {
      "cell_type": "code",
      "source": [
        "df.sample(5)"
      ],
      "metadata": {
        "colab": {
          "base_uri": "https://localhost:8080/",
          "height": 206
        },
        "id": "kHWQBKctWWlP",
        "outputId": "bf6e75fa-58b3-48f7-dfa2-1c77d01966eb"
      },
      "execution_count": 5,
      "outputs": [
        {
          "output_type": "execute_result",
          "data": {
            "text/plain": [
              "                    pep     logic                 allele  \\\n",
              "127991  SYKICTDKMFFVKNP  0.521603              DRB1_1301   \n",
              "6300    EPTAAPAEPEAPAPE  0.430975  HLA-DQA10301-DQB10302   \n",
              "41004   YDKFLENVSTVLTGK  0.549817              DRB1_0401   \n",
              "18371   EAVSLLCSDKQPCNG  0.039747              DRB1_0901   \n",
              "102409     RFYKTLRAEQAS  0.383350              DRB1_1101   \n",
              "\n",
              "                                       mhc  \n",
              "127991  QEFFIASGAAVDAIMESSFDYFDIDEATYHVVFT  \n",
              "6300    YNYHERRFATVLHIVYFGLTYYAVRTETVHLETT  \n",
              "41004   QEFFIASGAAVDAIMEVHFDYYDLQKATYHVGFT  \n",
              "18371   QEFFIASGAAVDAIMKDFYHGYVFRRETVHVGFT  \n",
              "102409  QEFFIASGAAVDAIMESSFDYFDFDRATYHVGFT  "
            ],
            "text/html": [
              "\n",
              "  <div id=\"df-1eed1f82-b852-4e43-9c10-1298604c110c\" class=\"colab-df-container\">\n",
              "    <div>\n",
              "<style scoped>\n",
              "    .dataframe tbody tr th:only-of-type {\n",
              "        vertical-align: middle;\n",
              "    }\n",
              "\n",
              "    .dataframe tbody tr th {\n",
              "        vertical-align: top;\n",
              "    }\n",
              "\n",
              "    .dataframe thead th {\n",
              "        text-align: right;\n",
              "    }\n",
              "</style>\n",
              "<table border=\"1\" class=\"dataframe\">\n",
              "  <thead>\n",
              "    <tr style=\"text-align: right;\">\n",
              "      <th></th>\n",
              "      <th>pep</th>\n",
              "      <th>logic</th>\n",
              "      <th>allele</th>\n",
              "      <th>mhc</th>\n",
              "    </tr>\n",
              "  </thead>\n",
              "  <tbody>\n",
              "    <tr>\n",
              "      <th>127991</th>\n",
              "      <td>SYKICTDKMFFVKNP</td>\n",
              "      <td>0.521603</td>\n",
              "      <td>DRB1_1301</td>\n",
              "      <td>QEFFIASGAAVDAIMESSFDYFDIDEATYHVVFT</td>\n",
              "    </tr>\n",
              "    <tr>\n",
              "      <th>6300</th>\n",
              "      <td>EPTAAPAEPEAPAPE</td>\n",
              "      <td>0.430975</td>\n",
              "      <td>HLA-DQA10301-DQB10302</td>\n",
              "      <td>YNYHERRFATVLHIVYFGLTYYAVRTETVHLETT</td>\n",
              "    </tr>\n",
              "    <tr>\n",
              "      <th>41004</th>\n",
              "      <td>YDKFLENVSTVLTGK</td>\n",
              "      <td>0.549817</td>\n",
              "      <td>DRB1_0401</td>\n",
              "      <td>QEFFIASGAAVDAIMEVHFDYYDLQKATYHVGFT</td>\n",
              "    </tr>\n",
              "    <tr>\n",
              "      <th>18371</th>\n",
              "      <td>EAVSLLCSDKQPCNG</td>\n",
              "      <td>0.039747</td>\n",
              "      <td>DRB1_0901</td>\n",
              "      <td>QEFFIASGAAVDAIMKDFYHGYVFRRETVHVGFT</td>\n",
              "    </tr>\n",
              "    <tr>\n",
              "      <th>102409</th>\n",
              "      <td>RFYKTLRAEQAS</td>\n",
              "      <td>0.383350</td>\n",
              "      <td>DRB1_1101</td>\n",
              "      <td>QEFFIASGAAVDAIMESSFDYFDFDRATYHVGFT</td>\n",
              "    </tr>\n",
              "  </tbody>\n",
              "</table>\n",
              "</div>\n",
              "    <div class=\"colab-df-buttons\">\n",
              "\n",
              "  <div class=\"colab-df-container\">\n",
              "    <button class=\"colab-df-convert\" onclick=\"convertToInteractive('df-1eed1f82-b852-4e43-9c10-1298604c110c')\"\n",
              "            title=\"Convert this dataframe to an interactive table.\"\n",
              "            style=\"display:none;\">\n",
              "\n",
              "  <svg xmlns=\"http://www.w3.org/2000/svg\" height=\"24px\" viewBox=\"0 -960 960 960\">\n",
              "    <path d=\"M120-120v-720h720v720H120Zm60-500h600v-160H180v160Zm220 220h160v-160H400v160Zm0 220h160v-160H400v160ZM180-400h160v-160H180v160Zm440 0h160v-160H620v160ZM180-180h160v-160H180v160Zm440 0h160v-160H620v160Z\"/>\n",
              "  </svg>\n",
              "    </button>\n",
              "\n",
              "  <style>\n",
              "    .colab-df-container {\n",
              "      display:flex;\n",
              "      gap: 12px;\n",
              "    }\n",
              "\n",
              "    .colab-df-convert {\n",
              "      background-color: #E8F0FE;\n",
              "      border: none;\n",
              "      border-radius: 50%;\n",
              "      cursor: pointer;\n",
              "      display: none;\n",
              "      fill: #1967D2;\n",
              "      height: 32px;\n",
              "      padding: 0 0 0 0;\n",
              "      width: 32px;\n",
              "    }\n",
              "\n",
              "    .colab-df-convert:hover {\n",
              "      background-color: #E2EBFA;\n",
              "      box-shadow: 0px 1px 2px rgba(60, 64, 67, 0.3), 0px 1px 3px 1px rgba(60, 64, 67, 0.15);\n",
              "      fill: #174EA6;\n",
              "    }\n",
              "\n",
              "    .colab-df-buttons div {\n",
              "      margin-bottom: 4px;\n",
              "    }\n",
              "\n",
              "    [theme=dark] .colab-df-convert {\n",
              "      background-color: #3B4455;\n",
              "      fill: #D2E3FC;\n",
              "    }\n",
              "\n",
              "    [theme=dark] .colab-df-convert:hover {\n",
              "      background-color: #434B5C;\n",
              "      box-shadow: 0px 1px 3px 1px rgba(0, 0, 0, 0.15);\n",
              "      filter: drop-shadow(0px 1px 2px rgba(0, 0, 0, 0.3));\n",
              "      fill: #FFFFFF;\n",
              "    }\n",
              "  </style>\n",
              "\n",
              "    <script>\n",
              "      const buttonEl =\n",
              "        document.querySelector('#df-1eed1f82-b852-4e43-9c10-1298604c110c button.colab-df-convert');\n",
              "      buttonEl.style.display =\n",
              "        google.colab.kernel.accessAllowed ? 'block' : 'none';\n",
              "\n",
              "      async function convertToInteractive(key) {\n",
              "        const element = document.querySelector('#df-1eed1f82-b852-4e43-9c10-1298604c110c');\n",
              "        const dataTable =\n",
              "          await google.colab.kernel.invokeFunction('convertToInteractive',\n",
              "                                                    [key], {});\n",
              "        if (!dataTable) return;\n",
              "\n",
              "        const docLinkHtml = 'Like what you see? Visit the ' +\n",
              "          '<a target=\"_blank\" href=https://colab.research.google.com/notebooks/data_table.ipynb>data table notebook</a>'\n",
              "          + ' to learn more about interactive tables.';\n",
              "        element.innerHTML = '';\n",
              "        dataTable['output_type'] = 'display_data';\n",
              "        await google.colab.output.renderOutput(dataTable, element);\n",
              "        const docLink = document.createElement('div');\n",
              "        docLink.innerHTML = docLinkHtml;\n",
              "        element.appendChild(docLink);\n",
              "      }\n",
              "    </script>\n",
              "  </div>\n",
              "\n",
              "\n",
              "<div id=\"df-c06d34af-c685-42d1-aebc-a8c9c129a5c1\">\n",
              "  <button class=\"colab-df-quickchart\" onclick=\"quickchart('df-c06d34af-c685-42d1-aebc-a8c9c129a5c1')\"\n",
              "            title=\"Suggest charts\"\n",
              "            style=\"display:none;\">\n",
              "\n",
              "<svg xmlns=\"http://www.w3.org/2000/svg\" height=\"24px\"viewBox=\"0 0 24 24\"\n",
              "     width=\"24px\">\n",
              "    <g>\n",
              "        <path d=\"M19 3H5c-1.1 0-2 .9-2 2v14c0 1.1.9 2 2 2h14c1.1 0 2-.9 2-2V5c0-1.1-.9-2-2-2zM9 17H7v-7h2v7zm4 0h-2V7h2v10zm4 0h-2v-4h2v4z\"/>\n",
              "    </g>\n",
              "</svg>\n",
              "  </button>\n",
              "\n",
              "<style>\n",
              "  .colab-df-quickchart {\n",
              "      --bg-color: #E8F0FE;\n",
              "      --fill-color: #1967D2;\n",
              "      --hover-bg-color: #E2EBFA;\n",
              "      --hover-fill-color: #174EA6;\n",
              "      --disabled-fill-color: #AAA;\n",
              "      --disabled-bg-color: #DDD;\n",
              "  }\n",
              "\n",
              "  [theme=dark] .colab-df-quickchart {\n",
              "      --bg-color: #3B4455;\n",
              "      --fill-color: #D2E3FC;\n",
              "      --hover-bg-color: #434B5C;\n",
              "      --hover-fill-color: #FFFFFF;\n",
              "      --disabled-bg-color: #3B4455;\n",
              "      --disabled-fill-color: #666;\n",
              "  }\n",
              "\n",
              "  .colab-df-quickchart {\n",
              "    background-color: var(--bg-color);\n",
              "    border: none;\n",
              "    border-radius: 50%;\n",
              "    cursor: pointer;\n",
              "    display: none;\n",
              "    fill: var(--fill-color);\n",
              "    height: 32px;\n",
              "    padding: 0;\n",
              "    width: 32px;\n",
              "  }\n",
              "\n",
              "  .colab-df-quickchart:hover {\n",
              "    background-color: var(--hover-bg-color);\n",
              "    box-shadow: 0 1px 2px rgba(60, 64, 67, 0.3), 0 1px 3px 1px rgba(60, 64, 67, 0.15);\n",
              "    fill: var(--button-hover-fill-color);\n",
              "  }\n",
              "\n",
              "  .colab-df-quickchart-complete:disabled,\n",
              "  .colab-df-quickchart-complete:disabled:hover {\n",
              "    background-color: var(--disabled-bg-color);\n",
              "    fill: var(--disabled-fill-color);\n",
              "    box-shadow: none;\n",
              "  }\n",
              "\n",
              "  .colab-df-spinner {\n",
              "    border: 2px solid var(--fill-color);\n",
              "    border-color: transparent;\n",
              "    border-bottom-color: var(--fill-color);\n",
              "    animation:\n",
              "      spin 1s steps(1) infinite;\n",
              "  }\n",
              "\n",
              "  @keyframes spin {\n",
              "    0% {\n",
              "      border-color: transparent;\n",
              "      border-bottom-color: var(--fill-color);\n",
              "      border-left-color: var(--fill-color);\n",
              "    }\n",
              "    20% {\n",
              "      border-color: transparent;\n",
              "      border-left-color: var(--fill-color);\n",
              "      border-top-color: var(--fill-color);\n",
              "    }\n",
              "    30% {\n",
              "      border-color: transparent;\n",
              "      border-left-color: var(--fill-color);\n",
              "      border-top-color: var(--fill-color);\n",
              "      border-right-color: var(--fill-color);\n",
              "    }\n",
              "    40% {\n",
              "      border-color: transparent;\n",
              "      border-right-color: var(--fill-color);\n",
              "      border-top-color: var(--fill-color);\n",
              "    }\n",
              "    60% {\n",
              "      border-color: transparent;\n",
              "      border-right-color: var(--fill-color);\n",
              "    }\n",
              "    80% {\n",
              "      border-color: transparent;\n",
              "      border-right-color: var(--fill-color);\n",
              "      border-bottom-color: var(--fill-color);\n",
              "    }\n",
              "    90% {\n",
              "      border-color: transparent;\n",
              "      border-bottom-color: var(--fill-color);\n",
              "    }\n",
              "  }\n",
              "</style>\n",
              "\n",
              "  <script>\n",
              "    async function quickchart(key) {\n",
              "      const quickchartButtonEl =\n",
              "        document.querySelector('#' + key + ' button');\n",
              "      quickchartButtonEl.disabled = true;  // To prevent multiple clicks.\n",
              "      quickchartButtonEl.classList.add('colab-df-spinner');\n",
              "      try {\n",
              "        const charts = await google.colab.kernel.invokeFunction(\n",
              "            'suggestCharts', [key], {});\n",
              "      } catch (error) {\n",
              "        console.error('Error during call to suggestCharts:', error);\n",
              "      }\n",
              "      quickchartButtonEl.classList.remove('colab-df-spinner');\n",
              "      quickchartButtonEl.classList.add('colab-df-quickchart-complete');\n",
              "    }\n",
              "    (() => {\n",
              "      let quickchartButtonEl =\n",
              "        document.querySelector('#df-c06d34af-c685-42d1-aebc-a8c9c129a5c1 button');\n",
              "      quickchartButtonEl.style.display =\n",
              "        google.colab.kernel.accessAllowed ? 'block' : 'none';\n",
              "    })();\n",
              "  </script>\n",
              "</div>\n",
              "\n",
              "    </div>\n",
              "  </div>\n"
            ],
            "application/vnd.google.colaboratory.intrinsic+json": {
              "type": "dataframe",
              "summary": "{\n  \"name\": \"df\",\n  \"rows\": 5,\n  \"fields\": [\n    {\n      \"column\": \"pep\",\n      \"properties\": {\n        \"dtype\": \"string\",\n        \"num_unique_values\": 5,\n        \"samples\": [\n          \"EPTAAPAEPEAPAPE\",\n          \"RFYKTLRAEQAS\",\n          \"YDKFLENVSTVLTGK\"\n        ],\n        \"semantic_type\": \"\",\n        \"description\": \"\"\n      }\n    },\n    {\n      \"column\": \"logic\",\n      \"properties\": {\n        \"dtype\": \"number\",\n        \"std\": 0.20441442697324472,\n        \"min\": 0.039747,\n        \"max\": 0.549817,\n        \"num_unique_values\": 5,\n        \"samples\": [\n          0.430975,\n          0.38335,\n          0.549817\n        ],\n        \"semantic_type\": \"\",\n        \"description\": \"\"\n      }\n    },\n    {\n      \"column\": \"allele\",\n      \"properties\": {\n        \"dtype\": \"string\",\n        \"num_unique_values\": 5,\n        \"samples\": [\n          \"HLA-DQA10301-DQB10302\",\n          \"DRB1_1101\",\n          \"DRB1_0401\"\n        ],\n        \"semantic_type\": \"\",\n        \"description\": \"\"\n      }\n    },\n    {\n      \"column\": \"mhc\",\n      \"properties\": {\n        \"dtype\": \"string\",\n        \"num_unique_values\": 5,\n        \"samples\": [\n          \"YNYHERRFATVLHIVYFGLTYYAVRTETVHLETT\",\n          \"QEFFIASGAAVDAIMESSFDYFDFDRATYHVGFT\",\n          \"QEFFIASGAAVDAIMEVHFDYYDLQKATYHVGFT\"\n        ],\n        \"semantic_type\": \"\",\n        \"description\": \"\"\n      }\n    }\n  ]\n}"
            }
          },
          "metadata": {},
          "execution_count": 5
        }
      ]
    },
    {
      "cell_type": "code",
      "source": [
        "df.isnull().sum()"
      ],
      "metadata": {
        "colab": {
          "base_uri": "https://localhost:8080/",
          "height": 210
        },
        "id": "X7HDaW8KWsXO",
        "outputId": "ec3c5cb5-2121-4075-99c9-9973b848f12b"
      },
      "execution_count": null,
      "outputs": [
        {
          "output_type": "execute_result",
          "data": {
            "text/plain": [
              "pep       0\n",
              "logic     0\n",
              "allele    0\n",
              "mhc       0\n",
              "dtype: int64"
            ],
            "text/html": [
              "<div>\n",
              "<style scoped>\n",
              "    .dataframe tbody tr th:only-of-type {\n",
              "        vertical-align: middle;\n",
              "    }\n",
              "\n",
              "    .dataframe tbody tr th {\n",
              "        vertical-align: top;\n",
              "    }\n",
              "\n",
              "    .dataframe thead th {\n",
              "        text-align: right;\n",
              "    }\n",
              "</style>\n",
              "<table border=\"1\" class=\"dataframe\">\n",
              "  <thead>\n",
              "    <tr style=\"text-align: right;\">\n",
              "      <th></th>\n",
              "      <th>0</th>\n",
              "    </tr>\n",
              "  </thead>\n",
              "  <tbody>\n",
              "    <tr>\n",
              "      <th>pep</th>\n",
              "      <td>0</td>\n",
              "    </tr>\n",
              "    <tr>\n",
              "      <th>logic</th>\n",
              "      <td>0</td>\n",
              "    </tr>\n",
              "    <tr>\n",
              "      <th>allele</th>\n",
              "      <td>0</td>\n",
              "    </tr>\n",
              "    <tr>\n",
              "      <th>mhc</th>\n",
              "      <td>0</td>\n",
              "    </tr>\n",
              "  </tbody>\n",
              "</table>\n",
              "</div><br><label><b>dtype:</b> int64</label>"
            ]
          },
          "metadata": {},
          "execution_count": 6
        }
      ]
    },
    {
      "cell_type": "code",
      "source": [
        "df.info()"
      ],
      "metadata": {
        "colab": {
          "base_uri": "https://localhost:8080/"
        },
        "id": "CVRwQxMcWxDH",
        "outputId": "88332480-da29-4749-b486-7addf861a85e"
      },
      "execution_count": null,
      "outputs": [
        {
          "output_type": "stream",
          "name": "stdout",
          "text": [
            "<class 'pandas.core.frame.DataFrame'>\n",
            "RangeIndex: 134281 entries, 0 to 134280\n",
            "Data columns (total 4 columns):\n",
            " #   Column  Non-Null Count   Dtype  \n",
            "---  ------  --------------   -----  \n",
            " 0   pep     134281 non-null  object \n",
            " 1   logic   134281 non-null  float64\n",
            " 2   allele  134281 non-null  object \n",
            " 3   mhc     134281 non-null  object \n",
            "dtypes: float64(1), object(3)\n",
            "memory usage: 4.1+ MB\n"
          ]
        }
      ]
    },
    {
      "cell_type": "code",
      "source": [
        "df.drop(columns=['allele'],inplace=True)\n",
        "df.sample(5)"
      ],
      "metadata": {
        "colab": {
          "base_uri": "https://localhost:8080/",
          "height": 206
        },
        "id": "-ejXCp0-WyIQ",
        "outputId": "e832a268-aaea-4de8-9700-4440fd9cc5d6"
      },
      "execution_count": 6,
      "outputs": [
        {
          "output_type": "execute_result",
          "data": {
            "text/plain": [
              "                    pep     logic                                 mhc\n",
              "30246   ATVATAPEVKYTVFE  0.152382  YMFFMFSGGAISNTLFGQFEYFDIEKVRMHLGMT\n",
              "89033   AYGSFVRTVSLPVGA  0.230868  CNYHEGGGARVAHIMYFGGTHYVVGASRVHVAGI\n",
              "19856   MVFTPLLALATNLTE  0.712301  QEFFIASGAAVDAIMESSFDYFDFDRATYHVGFT\n",
              "123165    VCGMFTNRSGSQQ  0.390562  QEFFIASGAAVDAIMWGYFELYVIDRQTVHVGFT\n",
              "12272   VRKNRWLLLNVTSED  0.430172  QEFFIASGAAVDAIMESSYDYFDLQKRNYHVVFT"
            ],
            "text/html": [
              "\n",
              "  <div id=\"df-9c446442-0fe2-4b9b-b9eb-e6cd77736018\" class=\"colab-df-container\">\n",
              "    <div>\n",
              "<style scoped>\n",
              "    .dataframe tbody tr th:only-of-type {\n",
              "        vertical-align: middle;\n",
              "    }\n",
              "\n",
              "    .dataframe tbody tr th {\n",
              "        vertical-align: top;\n",
              "    }\n",
              "\n",
              "    .dataframe thead th {\n",
              "        text-align: right;\n",
              "    }\n",
              "</style>\n",
              "<table border=\"1\" class=\"dataframe\">\n",
              "  <thead>\n",
              "    <tr style=\"text-align: right;\">\n",
              "      <th></th>\n",
              "      <th>pep</th>\n",
              "      <th>logic</th>\n",
              "      <th>mhc</th>\n",
              "    </tr>\n",
              "  </thead>\n",
              "  <tbody>\n",
              "    <tr>\n",
              "      <th>30246</th>\n",
              "      <td>ATVATAPEVKYTVFE</td>\n",
              "      <td>0.152382</td>\n",
              "      <td>YMFFMFSGGAISNTLFGQFEYFDIEKVRMHLGMT</td>\n",
              "    </tr>\n",
              "    <tr>\n",
              "      <th>89033</th>\n",
              "      <td>AYGSFVRTVSLPVGA</td>\n",
              "      <td>0.230868</td>\n",
              "      <td>CNYHEGGGARVAHIMYFGGTHYVVGASRVHVAGI</td>\n",
              "    </tr>\n",
              "    <tr>\n",
              "      <th>19856</th>\n",
              "      <td>MVFTPLLALATNLTE</td>\n",
              "      <td>0.712301</td>\n",
              "      <td>QEFFIASGAAVDAIMESSFDYFDFDRATYHVGFT</td>\n",
              "    </tr>\n",
              "    <tr>\n",
              "      <th>123165</th>\n",
              "      <td>VCGMFTNRSGSQQ</td>\n",
              "      <td>0.390562</td>\n",
              "      <td>QEFFIASGAAVDAIMWGYFELYVIDRQTVHVGFT</td>\n",
              "    </tr>\n",
              "    <tr>\n",
              "      <th>12272</th>\n",
              "      <td>VRKNRWLLLNVTSED</td>\n",
              "      <td>0.430172</td>\n",
              "      <td>QEFFIASGAAVDAIMESSYDYFDLQKRNYHVVFT</td>\n",
              "    </tr>\n",
              "  </tbody>\n",
              "</table>\n",
              "</div>\n",
              "    <div class=\"colab-df-buttons\">\n",
              "\n",
              "  <div class=\"colab-df-container\">\n",
              "    <button class=\"colab-df-convert\" onclick=\"convertToInteractive('df-9c446442-0fe2-4b9b-b9eb-e6cd77736018')\"\n",
              "            title=\"Convert this dataframe to an interactive table.\"\n",
              "            style=\"display:none;\">\n",
              "\n",
              "  <svg xmlns=\"http://www.w3.org/2000/svg\" height=\"24px\" viewBox=\"0 -960 960 960\">\n",
              "    <path d=\"M120-120v-720h720v720H120Zm60-500h600v-160H180v160Zm220 220h160v-160H400v160Zm0 220h160v-160H400v160ZM180-400h160v-160H180v160Zm440 0h160v-160H620v160ZM180-180h160v-160H180v160Zm440 0h160v-160H620v160Z\"/>\n",
              "  </svg>\n",
              "    </button>\n",
              "\n",
              "  <style>\n",
              "    .colab-df-container {\n",
              "      display:flex;\n",
              "      gap: 12px;\n",
              "    }\n",
              "\n",
              "    .colab-df-convert {\n",
              "      background-color: #E8F0FE;\n",
              "      border: none;\n",
              "      border-radius: 50%;\n",
              "      cursor: pointer;\n",
              "      display: none;\n",
              "      fill: #1967D2;\n",
              "      height: 32px;\n",
              "      padding: 0 0 0 0;\n",
              "      width: 32px;\n",
              "    }\n",
              "\n",
              "    .colab-df-convert:hover {\n",
              "      background-color: #E2EBFA;\n",
              "      box-shadow: 0px 1px 2px rgba(60, 64, 67, 0.3), 0px 1px 3px 1px rgba(60, 64, 67, 0.15);\n",
              "      fill: #174EA6;\n",
              "    }\n",
              "\n",
              "    .colab-df-buttons div {\n",
              "      margin-bottom: 4px;\n",
              "    }\n",
              "\n",
              "    [theme=dark] .colab-df-convert {\n",
              "      background-color: #3B4455;\n",
              "      fill: #D2E3FC;\n",
              "    }\n",
              "\n",
              "    [theme=dark] .colab-df-convert:hover {\n",
              "      background-color: #434B5C;\n",
              "      box-shadow: 0px 1px 3px 1px rgba(0, 0, 0, 0.15);\n",
              "      filter: drop-shadow(0px 1px 2px rgba(0, 0, 0, 0.3));\n",
              "      fill: #FFFFFF;\n",
              "    }\n",
              "  </style>\n",
              "\n",
              "    <script>\n",
              "      const buttonEl =\n",
              "        document.querySelector('#df-9c446442-0fe2-4b9b-b9eb-e6cd77736018 button.colab-df-convert');\n",
              "      buttonEl.style.display =\n",
              "        google.colab.kernel.accessAllowed ? 'block' : 'none';\n",
              "\n",
              "      async function convertToInteractive(key) {\n",
              "        const element = document.querySelector('#df-9c446442-0fe2-4b9b-b9eb-e6cd77736018');\n",
              "        const dataTable =\n",
              "          await google.colab.kernel.invokeFunction('convertToInteractive',\n",
              "                                                    [key], {});\n",
              "        if (!dataTable) return;\n",
              "\n",
              "        const docLinkHtml = 'Like what you see? Visit the ' +\n",
              "          '<a target=\"_blank\" href=https://colab.research.google.com/notebooks/data_table.ipynb>data table notebook</a>'\n",
              "          + ' to learn more about interactive tables.';\n",
              "        element.innerHTML = '';\n",
              "        dataTable['output_type'] = 'display_data';\n",
              "        await google.colab.output.renderOutput(dataTable, element);\n",
              "        const docLink = document.createElement('div');\n",
              "        docLink.innerHTML = docLinkHtml;\n",
              "        element.appendChild(docLink);\n",
              "      }\n",
              "    </script>\n",
              "  </div>\n",
              "\n",
              "\n",
              "<div id=\"df-f94d8132-bed3-403c-8879-e991220eaae2\">\n",
              "  <button class=\"colab-df-quickchart\" onclick=\"quickchart('df-f94d8132-bed3-403c-8879-e991220eaae2')\"\n",
              "            title=\"Suggest charts\"\n",
              "            style=\"display:none;\">\n",
              "\n",
              "<svg xmlns=\"http://www.w3.org/2000/svg\" height=\"24px\"viewBox=\"0 0 24 24\"\n",
              "     width=\"24px\">\n",
              "    <g>\n",
              "        <path d=\"M19 3H5c-1.1 0-2 .9-2 2v14c0 1.1.9 2 2 2h14c1.1 0 2-.9 2-2V5c0-1.1-.9-2-2-2zM9 17H7v-7h2v7zm4 0h-2V7h2v10zm4 0h-2v-4h2v4z\"/>\n",
              "    </g>\n",
              "</svg>\n",
              "  </button>\n",
              "\n",
              "<style>\n",
              "  .colab-df-quickchart {\n",
              "      --bg-color: #E8F0FE;\n",
              "      --fill-color: #1967D2;\n",
              "      --hover-bg-color: #E2EBFA;\n",
              "      --hover-fill-color: #174EA6;\n",
              "      --disabled-fill-color: #AAA;\n",
              "      --disabled-bg-color: #DDD;\n",
              "  }\n",
              "\n",
              "  [theme=dark] .colab-df-quickchart {\n",
              "      --bg-color: #3B4455;\n",
              "      --fill-color: #D2E3FC;\n",
              "      --hover-bg-color: #434B5C;\n",
              "      --hover-fill-color: #FFFFFF;\n",
              "      --disabled-bg-color: #3B4455;\n",
              "      --disabled-fill-color: #666;\n",
              "  }\n",
              "\n",
              "  .colab-df-quickchart {\n",
              "    background-color: var(--bg-color);\n",
              "    border: none;\n",
              "    border-radius: 50%;\n",
              "    cursor: pointer;\n",
              "    display: none;\n",
              "    fill: var(--fill-color);\n",
              "    height: 32px;\n",
              "    padding: 0;\n",
              "    width: 32px;\n",
              "  }\n",
              "\n",
              "  .colab-df-quickchart:hover {\n",
              "    background-color: var(--hover-bg-color);\n",
              "    box-shadow: 0 1px 2px rgba(60, 64, 67, 0.3), 0 1px 3px 1px rgba(60, 64, 67, 0.15);\n",
              "    fill: var(--button-hover-fill-color);\n",
              "  }\n",
              "\n",
              "  .colab-df-quickchart-complete:disabled,\n",
              "  .colab-df-quickchart-complete:disabled:hover {\n",
              "    background-color: var(--disabled-bg-color);\n",
              "    fill: var(--disabled-fill-color);\n",
              "    box-shadow: none;\n",
              "  }\n",
              "\n",
              "  .colab-df-spinner {\n",
              "    border: 2px solid var(--fill-color);\n",
              "    border-color: transparent;\n",
              "    border-bottom-color: var(--fill-color);\n",
              "    animation:\n",
              "      spin 1s steps(1) infinite;\n",
              "  }\n",
              "\n",
              "  @keyframes spin {\n",
              "    0% {\n",
              "      border-color: transparent;\n",
              "      border-bottom-color: var(--fill-color);\n",
              "      border-left-color: var(--fill-color);\n",
              "    }\n",
              "    20% {\n",
              "      border-color: transparent;\n",
              "      border-left-color: var(--fill-color);\n",
              "      border-top-color: var(--fill-color);\n",
              "    }\n",
              "    30% {\n",
              "      border-color: transparent;\n",
              "      border-left-color: var(--fill-color);\n",
              "      border-top-color: var(--fill-color);\n",
              "      border-right-color: var(--fill-color);\n",
              "    }\n",
              "    40% {\n",
              "      border-color: transparent;\n",
              "      border-right-color: var(--fill-color);\n",
              "      border-top-color: var(--fill-color);\n",
              "    }\n",
              "    60% {\n",
              "      border-color: transparent;\n",
              "      border-right-color: var(--fill-color);\n",
              "    }\n",
              "    80% {\n",
              "      border-color: transparent;\n",
              "      border-right-color: var(--fill-color);\n",
              "      border-bottom-color: var(--fill-color);\n",
              "    }\n",
              "    90% {\n",
              "      border-color: transparent;\n",
              "      border-bottom-color: var(--fill-color);\n",
              "    }\n",
              "  }\n",
              "</style>\n",
              "\n",
              "  <script>\n",
              "    async function quickchart(key) {\n",
              "      const quickchartButtonEl =\n",
              "        document.querySelector('#' + key + ' button');\n",
              "      quickchartButtonEl.disabled = true;  // To prevent multiple clicks.\n",
              "      quickchartButtonEl.classList.add('colab-df-spinner');\n",
              "      try {\n",
              "        const charts = await google.colab.kernel.invokeFunction(\n",
              "            'suggestCharts', [key], {});\n",
              "      } catch (error) {\n",
              "        console.error('Error during call to suggestCharts:', error);\n",
              "      }\n",
              "      quickchartButtonEl.classList.remove('colab-df-spinner');\n",
              "      quickchartButtonEl.classList.add('colab-df-quickchart-complete');\n",
              "    }\n",
              "    (() => {\n",
              "      let quickchartButtonEl =\n",
              "        document.querySelector('#df-f94d8132-bed3-403c-8879-e991220eaae2 button');\n",
              "      quickchartButtonEl.style.display =\n",
              "        google.colab.kernel.accessAllowed ? 'block' : 'none';\n",
              "    })();\n",
              "  </script>\n",
              "</div>\n",
              "\n",
              "    </div>\n",
              "  </div>\n"
            ],
            "application/vnd.google.colaboratory.intrinsic+json": {
              "type": "dataframe",
              "summary": "{\n  \"name\": \"df\",\n  \"rows\": 5,\n  \"fields\": [\n    {\n      \"column\": \"pep\",\n      \"properties\": {\n        \"dtype\": \"string\",\n        \"num_unique_values\": 5,\n        \"samples\": [\n          \"AYGSFVRTVSLPVGA\",\n          \"VRKNRWLLLNVTSED\",\n          \"MVFTPLLALATNLTE\"\n        ],\n        \"semantic_type\": \"\",\n        \"description\": \"\"\n      }\n    },\n    {\n      \"column\": \"logic\",\n      \"properties\": {\n        \"dtype\": \"number\",\n        \"std\": 0.21624639137567125,\n        \"min\": 0.152382,\n        \"max\": 0.712301,\n        \"num_unique_values\": 5,\n        \"samples\": [\n          0.230868,\n          0.430172,\n          0.712301\n        ],\n        \"semantic_type\": \"\",\n        \"description\": \"\"\n      }\n    },\n    {\n      \"column\": \"mhc\",\n      \"properties\": {\n        \"dtype\": \"string\",\n        \"num_unique_values\": 5,\n        \"samples\": [\n          \"CNYHEGGGARVAHIMYFGGTHYVVGASRVHVAGI\",\n          \"QEFFIASGAAVDAIMESSYDYFDLQKRNYHVVFT\",\n          \"QEFFIASGAAVDAIMESSFDYFDFDRATYHVGFT\"\n        ],\n        \"semantic_type\": \"\",\n        \"description\": \"\"\n      }\n    }\n  ]\n}"
            }
          },
          "metadata": {},
          "execution_count": 6
        }
      ]
    },
    {
      "cell_type": "code",
      "source": [
        "device = 'cuda' if torch.cuda.is_available() else 'cpu'\n",
        "device"
      ],
      "metadata": {
        "colab": {
          "base_uri": "https://localhost:8080/",
          "height": 35
        },
        "id": "TUJb6m8BXDQ8",
        "outputId": "cbe57347-12cf-444f-aaf8-6f8b9096acb4"
      },
      "execution_count": 7,
      "outputs": [
        {
          "output_type": "execute_result",
          "data": {
            "text/plain": [
              "'cuda'"
            ],
            "application/vnd.google.colaboratory.intrinsic+json": {
              "type": "string"
            }
          },
          "metadata": {},
          "execution_count": 7
        }
      ]
    },
    {
      "cell_type": "code",
      "source": [
        "threshold = 0.4256\n",
        "\n",
        "scoredf = df['logic'].apply(lambda x: 1 if x > threshold else 0)"
      ],
      "metadata": {
        "id": "IVEeo_cSZ1dv"
      },
      "execution_count": 8,
      "outputs": []
    },
    {
      "cell_type": "code",
      "source": [
        "scoredf.value_counts()"
      ],
      "metadata": {
        "colab": {
          "base_uri": "https://localhost:8080/",
          "height": 178
        },
        "id": "bQej_EnZfkxR",
        "outputId": "94572de9-f5e7-43ff-d51b-6e1c6e478ee5"
      },
      "execution_count": 9,
      "outputs": [
        {
          "output_type": "execute_result",
          "data": {
            "text/plain": [
              "logic\n",
              "0    78308\n",
              "1    55973\n",
              "Name: count, dtype: int64"
            ],
            "text/html": [
              "<div>\n",
              "<style scoped>\n",
              "    .dataframe tbody tr th:only-of-type {\n",
              "        vertical-align: middle;\n",
              "    }\n",
              "\n",
              "    .dataframe tbody tr th {\n",
              "        vertical-align: top;\n",
              "    }\n",
              "\n",
              "    .dataframe thead th {\n",
              "        text-align: right;\n",
              "    }\n",
              "</style>\n",
              "<table border=\"1\" class=\"dataframe\">\n",
              "  <thead>\n",
              "    <tr style=\"text-align: right;\">\n",
              "      <th></th>\n",
              "      <th>count</th>\n",
              "    </tr>\n",
              "    <tr>\n",
              "      <th>logic</th>\n",
              "      <th></th>\n",
              "    </tr>\n",
              "  </thead>\n",
              "  <tbody>\n",
              "    <tr>\n",
              "      <th>0</th>\n",
              "      <td>78308</td>\n",
              "    </tr>\n",
              "    <tr>\n",
              "      <th>1</th>\n",
              "      <td>55973</td>\n",
              "    </tr>\n",
              "  </tbody>\n",
              "</table>\n",
              "</div><br><label><b>dtype:</b> int64</label>"
            ]
          },
          "metadata": {},
          "execution_count": 9
        }
      ]
    },
    {
      "cell_type": "code",
      "source": [
        "y = torch.tensor(scoredf.values,dtype=torch.float32)"
      ],
      "metadata": {
        "id": "2HM49HJ3XPP6"
      },
      "execution_count": 10,
      "outputs": []
    },
    {
      "cell_type": "code",
      "source": [
        "pep_embeddings = torch.tensor(np.load('/content/drive/MyDrive/tensor_data_pep_cls.npy'))"
      ],
      "metadata": {
        "id": "9qzSLxreXgvT"
      },
      "execution_count": 11,
      "outputs": []
    },
    {
      "cell_type": "code",
      "source": [
        "file_path = '/content/drive/MyDrive/tensor_data_mhc_cls.npy'\n",
        "mhc_embeddings = torch.tensor(np.load(file_path))"
      ],
      "metadata": {
        "id": "cm-I5bZgXnBD"
      },
      "execution_count": 12,
      "outputs": []
    },
    {
      "cell_type": "code",
      "source": [
        "X = torch.stack((pep_embeddings,mhc_embeddings),dim=1)\n",
        "y = scores"
      ],
      "metadata": {
        "id": "BkAmBSOUYFQ2"
      },
      "execution_count": null,
      "outputs": []
    },
    {
      "cell_type": "code",
      "source": [
        "X_train,X_test,y_train,y_test = train_test_split(X,y,test_size=0.2,random_state=42)"
      ],
      "metadata": {
        "id": "ugr9O4iaYI7I"
      },
      "execution_count": null,
      "outputs": []
    },
    {
      "cell_type": "code",
      "source": [
        "X_train,X_val,y_train,y_val = train_test_split(X_train,y_train,test_size=0.2,random_state=42)"
      ],
      "metadata": {
        "id": "YfwF9GikYOwY"
      },
      "execution_count": null,
      "outputs": []
    },
    {
      "cell_type": "code",
      "source": [
        "train_dataset = TensorDataset(X_train[: ,0],X_train[:,1], y_train)\n",
        "val_dataset = TensorDataset(X_val[:,0],X_val[:,1], y_val)\n"
      ],
      "metadata": {
        "id": "_gdyM3xtYQlG"
      },
      "execution_count": null,
      "outputs": []
    },
    {
      "cell_type": "code",
      "source": [
        "test_dataset = TensorDataset(X_test[:,0],X_test[:,1],y_test)"
      ],
      "metadata": {
        "id": "CSGbiQ5v2wbd"
      },
      "execution_count": 23,
      "outputs": []
    },
    {
      "cell_type": "code",
      "source": [
        "test_loader = DataLoader(test_dataset, batch_size=256, shuffle=False)"
      ],
      "metadata": {
        "id": "ZlWa5hq6YTao"
      },
      "execution_count": 24,
      "outputs": []
    },
    {
      "cell_type": "code",
      "source": [
        "class TransformerEncoder(nn.Module):\n",
        "    def __init__(self, model_dim, num_heads, num_layers, dropout=0.1):\n",
        "        super(TransformerEncoder, self).__init__()\n",
        "        self.encoder_layer = nn.TransformerEncoderLayer(\n",
        "            d_model=model_dim, nhead=num_heads, dropout=dropout, batch_first=True\n",
        "        )\n",
        "        self.transformer_encoder = nn.TransformerEncoder(self.encoder_layer, num_layers=num_layers)\n",
        "\n",
        "    def forward(self, x):\n",
        "        return self.transformer_encoder(x)\n",
        "\n",
        "\n",
        "class CrossAttentionLayer(nn.Module):\n",
        "    def __init__(self, embed_dim, num_heads, ff_dim, dropout=0.1):\n",
        "        super(CrossAttentionLayer, self).__init__()\n",
        "        self.multihead_attn = nn.MultiheadAttention(embed_dim, num_heads, dropout=dropout, batch_first=True)\n",
        "        self.norm1 = nn.LayerNorm(embed_dim)\n",
        "        self.ffn = nn.Sequential(\n",
        "            nn.Linear(embed_dim, ff_dim),\n",
        "            nn.ReLU(),\n",
        "            nn.Dropout(dropout),\n",
        "            nn.Linear(ff_dim, embed_dim),\n",
        "            nn.Dropout(dropout),\n",
        "        )\n",
        "        self.norm2 = nn.LayerNorm(embed_dim)\n",
        "\n",
        "    def forward(self, query, key, value):\n",
        "        attn_output, _ = self.multihead_attn(query, key, value)\n",
        "        attn_output = self.norm1(attn_output + query)\n",
        "        ffn_output = self.ffn(attn_output)\n",
        "        output = self.norm2(ffn_output + attn_output)\n",
        "\n",
        "        return output\n",
        "\n",
        "\n",
        "class SequenceModel(nn.Module):\n",
        "    def __init__(self, model_dim, num_heads, num_layers, ffdim, dropout=0.1):\n",
        "        super(SequenceModel, self).__init__()\n",
        "        self.encoder_pep = TransformerEncoder(model_dim, num_heads, num_layers, dropout)\n",
        "        self.encoder_mhc = TransformerEncoder(model_dim, num_heads, num_layers, dropout)\n",
        "        self.cross_attention = CrossAttentionLayer(model_dim, num_heads, ffdim, dropout)\n",
        "        self.fc1 = nn.Linear(model_dim, 512)\n",
        "        self.fc2 = nn.Linear(512, 64)\n",
        "        self.fc3 = nn.Linear(64, 1)\n",
        "\n",
        "        self.dropout = nn.Dropout(dropout)\n",
        "\n",
        "    def forward(self, pep_cls, mhc_cls):\n",
        "        pep_refined = self.encoder_pep(pep_cls.unsqueeze(1)).squeeze(1)\n",
        "        mhc_refined = self.encoder_mhc(mhc_cls.unsqueeze(1)).squeeze(1)\n",
        "        cross_output = self.cross_attention(pep_refined.unsqueeze(1), mhc_refined.unsqueeze(1), mhc_refined.unsqueeze(1))\n",
        "        cross_output = cross_output.squeeze(1)\n",
        "        x = F.relu(self.fc1(cross_output))\n",
        "        x = self.dropout(x)\n",
        "        x = F.relu(self.fc2(x))\n",
        "        x = self.fc3(x)\n",
        "\n",
        "        return x"
      ],
      "metadata": {
        "id": "oaUvqDG3YVII"
      },
      "execution_count": 20,
      "outputs": []
    },
    {
      "cell_type": "code",
      "source": [
        "torch.manual_seed(3407)"
      ],
      "metadata": {
        "colab": {
          "base_uri": "https://localhost:8080/"
        },
        "id": "mBnlL6bqYe95",
        "outputId": "58c59a77-f516-4c3c-f582-8be0b835b75d"
      },
      "execution_count": null,
      "outputs": [
        {
          "output_type": "execute_result",
          "data": {
            "text/plain": [
              "<torch._C.Generator at 0x7a44e1a5c410>"
            ]
          },
          "metadata": {},
          "execution_count": 57
        }
      ]
    },
    {
      "cell_type": "code",
      "source": [
        "def objective(trial):\n",
        "    #hyperparamas\n",
        "    model_dim = 320\n",
        "    num_heads = trial.suggest_categorical(\"num_heads\", [4, 8])\n",
        "    num_layers = trial.suggest_categorical(\"num_layers\", [2, 3, 4])\n",
        "    dropout = trial.suggest_categorical(\"dropout\", [0.1, 0.2, 0.3])\n",
        "    ffdim = trial.suggest_categorical(\"ffdim\", [256, 512])\n",
        "    lr = trial.suggest_categorical(\"learning_rate\", [1e-4, 5e-4, 1e-3])\n",
        "    weight_decay = trial.suggest_float(\"weight_decay\", 1e-5, 1e-2, log=True)\n",
        "    batch_size = trial.suggest_categorical(\"batch_size\", [32, 64, 128, 256])\n",
        "\n",
        "    #model init\n",
        "    model = SequenceModel(\n",
        "        model_dim=model_dim,\n",
        "        num_heads=num_heads,\n",
        "        num_layers=num_layers,\n",
        "        ffdim=ffdim,\n",
        "        dropout=dropout\n",
        "    ).to(device)\n",
        "\n",
        "    criterion = nn.BCEWithLogitsLoss()\n",
        "    optimizer = Adam(model.parameters(), lr=lr, weight_decay=weight_decay)\n",
        "\n",
        "    train_loader = torch.utils.data.DataLoader(train_dataset, batch_size=batch_size, shuffle=True)\n",
        "    val_loader = torch.utils.data.DataLoader(val_dataset, batch_size=batch_size, shuffle=False)\n",
        "\n",
        "    for epoch in range(5):\n",
        "\n",
        "        model.train()\n",
        "        for pep_ids, mhc_ids, scores in train_loader:\n",
        "            pep_ids, mhc_ids, scores = pep_ids.to(device), mhc_ids.to(device), scores.to(device)\n",
        "            optimizer.zero_grad()\n",
        "            outputs = model(pep_ids, mhc_ids).squeeze()\n",
        "\n",
        "            loss = criterion(outputs, scores)\n",
        "            loss.backward()\n",
        "            optimizer.step()\n",
        "\n",
        "        model.eval()\n",
        "        val_loss = 0\n",
        "        total_preds, total_labels = [], []\n",
        "        with torch.no_grad():\n",
        "            for pep_ids, mhc_ids, scores in val_loader:\n",
        "                pep_ids, mhc_ids, scores = pep_ids.to(device), mhc_ids.to(device), scores.to(device)\n",
        "                outputs = model(pep_ids, mhc_ids).squeeze()\n",
        "                loss = criterion(outputs, scores)\n",
        "                val_loss += loss.item()\n",
        "\n",
        "                probs = torch.sigmoid(outputs).cpu()\n",
        "                total_preds.append(probs)\n",
        "                total_labels.append(scores.cpu())\n",
        "\n",
        "        val_loss /= len(val_loader)\n",
        "\n",
        "        total_preds = torch.cat(total_preds).numpy()\n",
        "        total_labels = torch.cat(total_labels).numpy()\n",
        "\n",
        "        binary_preds = (total_preds > 0.4256).astype(int)\n",
        "\n",
        "        val_precision = precision_score(total_labels, binary_preds)\n",
        "        val_recall = recall_score(total_labels, binary_preds)\n",
        "        val_f1 = f1_score(total_labels, binary_preds)\n",
        "\n",
        "        val_auroc = roc_auc_score(total_labels, total_preds)\n",
        "\n",
        "        print(f\"Trial Results: Val Loss: {val_loss:.4f}, Precision: {val_precision:.4f}, Recall: {val_recall:.4f}, F1 Score: {val_f1:.4f}, AUROC: {val_auroc:.4f}\")\n",
        "\n",
        "    return val_loss\n",
        "\n",
        "\n",
        "study = optuna.create_study(direction=\"minimize\")\n",
        "study.optimize(objective, n_trials=20)\n",
        "\n",
        "print(\"Best trial:\")\n",
        "trial = study.best_trial\n",
        "print(f\"  Val Loss: {trial.value:.4f}\")\n",
        "print(f\"  Hyperparameters: {trial.params}\")\n"
      ],
      "metadata": {
        "colab": {
          "base_uri": "https://localhost:8080/"
        },
        "id": "kn3omfJsY78p",
        "outputId": "e0af9283-c498-4d5b-c9d6-5265ced47e04"
      },
      "execution_count": null,
      "outputs": [
        {
          "output_type": "stream",
          "name": "stderr",
          "text": [
            "[I 2025-02-04 10:43:21,352] A new study created in memory with name: no-name-1cca244a-781f-497f-9df3-4870f992b9a1\n"
          ]
        },
        {
          "output_type": "stream",
          "name": "stdout",
          "text": [
            "Trial Results: Val Loss: 0.6245, Precision: 0.5695, Recall: 0.6812, F1 Score: 0.6203, AUROC: 0.6963\n",
            "Trial Results: Val Loss: 0.6189, Precision: 0.5590, Recall: 0.7326, F1 Score: 0.6342, AUROC: 0.6986\n",
            "Trial Results: Val Loss: 0.6165, Precision: 0.5604, Recall: 0.7406, F1 Score: 0.6380, AUROC: 0.6999\n",
            "Trial Results: Val Loss: 0.6167, Precision: 0.5666, Recall: 0.7204, F1 Score: 0.6343, AUROC: 0.7010\n"
          ]
        },
        {
          "output_type": "stream",
          "name": "stderr",
          "text": [
            "[I 2025-02-04 10:44:15,623] Trial 0 finished with value: 0.6208582307611193 and parameters: {'num_heads': 4, 'num_layers': 2, 'dropout': 0.2, 'ffdim': 256, 'learning_rate': 0.001, 'weight_decay': 0.0010824412769400316, 'batch_size': 128}. Best is trial 0 with value: 0.6208582307611193.\n"
          ]
        },
        {
          "output_type": "stream",
          "name": "stdout",
          "text": [
            "Trial Results: Val Loss: 0.6209, Precision: 0.5310, Recall: 0.8268, F1 Score: 0.6466, AUROC: 0.7067\n",
            "Trial Results: Val Loss: 0.6342, Precision: 0.6139, Recall: 0.4669, F1 Score: 0.5304, AUROC: 0.7057\n",
            "Trial Results: Val Loss: 0.6213, Precision: 0.5257, Recall: 0.8310, F1 Score: 0.6440, AUROC: 0.7124\n",
            "Trial Results: Val Loss: 0.6061, Precision: 0.5585, Recall: 0.7517, F1 Score: 0.6409, AUROC: 0.7192\n",
            "Trial Results: Val Loss: 0.6051, Precision: 0.5533, Recall: 0.7795, F1 Score: 0.6472, AUROC: 0.7201\n"
          ]
        },
        {
          "output_type": "stream",
          "name": "stderr",
          "text": [
            "[I 2025-02-04 10:45:00,537] Trial 1 finished with value: 0.6157769915603456 and parameters: {'num_heads': 8, 'num_layers': 3, 'dropout': 0.1, 'ffdim': 512, 'learning_rate': 0.001, 'weight_decay': 0.0009121862739674533, 'batch_size': 256}. Best is trial 1 with value: 0.6157769915603456.\n"
          ]
        },
        {
          "output_type": "stream",
          "name": "stdout",
          "text": [
            "Trial Results: Val Loss: 0.6158, Precision: 0.6030, Recall: 0.5647, F1 Score: 0.5832, AUROC: 0.7193\n",
            "Trial Results: Val Loss: 0.5814, Precision: 0.6249, Recall: 0.6613, F1 Score: 0.6426, AUROC: 0.7515\n",
            "Trial Results: Val Loss: 0.5616, Precision: 0.6303, Recall: 0.6809, F1 Score: 0.6546, AUROC: 0.7700\n",
            "Trial Results: Val Loss: 0.5612, Precision: 0.6122, Recall: 0.7321, F1 Score: 0.6668, AUROC: 0.7732\n",
            "Trial Results: Val Loss: 0.5617, Precision: 0.6654, Recall: 0.6235, F1 Score: 0.6438, AUROC: 0.7770\n"
          ]
        },
        {
          "output_type": "stream",
          "name": "stderr",
          "text": [
            "[I 2025-02-04 10:45:31,098] Trial 2 finished with value: 0.5475142906819072 and parameters: {'num_heads': 4, 'num_layers': 2, 'dropout': 0.2, 'ffdim': 512, 'learning_rate': 0.0001, 'weight_decay': 0.0005219032898403999, 'batch_size': 256}. Best is trial 2 with value: 0.5475142906819072.\n"
          ]
        },
        {
          "output_type": "stream",
          "name": "stdout",
          "text": [
            "Trial Results: Val Loss: 0.5475, Precision: 0.6557, Recall: 0.6723, F1 Score: 0.6639, AUROC: 0.7831\n",
            "Trial Results: Val Loss: 0.6814, Precision: 0.4229, Recall: 1.0000, F1 Score: 0.5945, AUROC: 0.4965\n"
          ]
        },
        {
          "output_type": "stream",
          "name": "stderr",
          "text": [
            "/usr/local/lib/python3.11/dist-packages/sklearn/metrics/_classification.py:1565: UndefinedMetricWarning: Precision is ill-defined and being set to 0.0 due to no predicted samples. Use `zero_division` parameter to control this behavior.\n",
            "  _warn_prf(average, modifier, f\"{metric.capitalize()} is\", len(result))\n"
          ]
        },
        {
          "output_type": "stream",
          "name": "stdout",
          "text": [
            "Trial Results: Val Loss: 0.6812, Precision: 0.0000, Recall: 0.0000, F1 Score: 0.0000, AUROC: 0.6075\n"
          ]
        },
        {
          "output_type": "stream",
          "name": "stderr",
          "text": [
            "/usr/local/lib/python3.11/dist-packages/sklearn/metrics/_classification.py:1565: UndefinedMetricWarning: Precision is ill-defined and being set to 0.0 due to no predicted samples. Use `zero_division` parameter to control this behavior.\n",
            "  _warn_prf(average, modifier, f\"{metric.capitalize()} is\", len(result))\n"
          ]
        },
        {
          "output_type": "stream",
          "name": "stdout",
          "text": [
            "Trial Results: Val Loss: 0.6830, Precision: 0.0000, Recall: 0.0000, F1 Score: 0.0000, AUROC: 0.5149\n"
          ]
        },
        {
          "output_type": "stream",
          "name": "stderr",
          "text": [
            "/usr/local/lib/python3.11/dist-packages/sklearn/metrics/_classification.py:1565: UndefinedMetricWarning: Precision is ill-defined and being set to 0.0 due to no predicted samples. Use `zero_division` parameter to control this behavior.\n",
            "  _warn_prf(average, modifier, f\"{metric.capitalize()} is\", len(result))\n"
          ]
        },
        {
          "output_type": "stream",
          "name": "stdout",
          "text": [
            "Trial Results: Val Loss: 0.6812, Precision: 0.0000, Recall: 0.0000, F1 Score: 0.0000, AUROC: 0.5169\n"
          ]
        },
        {
          "output_type": "stream",
          "name": "stderr",
          "text": [
            "/usr/local/lib/python3.11/dist-packages/sklearn/metrics/_classification.py:1565: UndefinedMetricWarning: Precision is ill-defined and being set to 0.0 due to no predicted samples. Use `zero_division` parameter to control this behavior.\n",
            "  _warn_prf(average, modifier, f\"{metric.capitalize()} is\", len(result))\n",
            "[I 2025-02-04 10:47:53,923] Trial 3 finished with value: 0.6812562169063658 and parameters: {'num_heads': 8, 'num_layers': 3, 'dropout': 0.2, 'ffdim': 512, 'learning_rate': 0.001, 'weight_decay': 1.4304859979568765e-05, 'batch_size': 64}. Best is trial 2 with value: 0.5475142906819072.\n"
          ]
        },
        {
          "output_type": "stream",
          "name": "stdout",
          "text": [
            "Trial Results: Val Loss: 0.6813, Precision: 0.0000, Recall: 0.0000, F1 Score: 0.0000, AUROC: 0.5184\n",
            "Trial Results: Val Loss: 0.6434, Precision: 0.4973, Recall: 0.8972, F1 Score: 0.6399, AUROC: 0.6945\n",
            "Trial Results: Val Loss: 0.6275, Precision: 0.5258, Recall: 0.8256, F1 Score: 0.6424, AUROC: 0.6961\n",
            "Trial Results: Val Loss: 0.6234, Precision: 0.5336, Recall: 0.8123, F1 Score: 0.6441, AUROC: 0.6997\n",
            "Trial Results: Val Loss: 0.6188, Precision: 0.5725, Recall: 0.6729, F1 Score: 0.6186, AUROC: 0.6999\n"
          ]
        },
        {
          "output_type": "stream",
          "name": "stderr",
          "text": [
            "[I 2025-02-04 10:49:07,344] Trial 4 finished with value: 0.6180809622719174 and parameters: {'num_heads': 8, 'num_layers': 3, 'dropout': 0.3, 'ffdim': 512, 'learning_rate': 0.001, 'weight_decay': 0.0020322654703058894, 'batch_size': 128}. Best is trial 2 with value: 0.5475142906819072.\n"
          ]
        },
        {
          "output_type": "stream",
          "name": "stdout",
          "text": [
            "Trial Results: Val Loss: 0.6181, Precision: 0.5473, Recall: 0.7855, F1 Score: 0.6451, AUROC: 0.7029\n",
            "Trial Results: Val Loss: 0.5814, Precision: 0.6232, Recall: 0.6675, F1 Score: 0.6446, AUROC: 0.7537\n",
            "Trial Results: Val Loss: 0.5741, Precision: 0.6069, Recall: 0.7217, F1 Score: 0.6593, AUROC: 0.7649\n",
            "Trial Results: Val Loss: 0.5848, Precision: 0.5716, Recall: 0.7734, F1 Score: 0.6573, AUROC: 0.7567\n",
            "Trial Results: Val Loss: 0.5714, Precision: 0.6453, Recall: 0.6259, F1 Score: 0.6355, AUROC: 0.7645\n"
          ]
        },
        {
          "output_type": "stream",
          "name": "stderr",
          "text": [
            "[I 2025-02-04 10:53:47,470] Trial 5 finished with value: 0.5629576052583399 and parameters: {'num_heads': 8, 'num_layers': 3, 'dropout': 0.1, 'ffdim': 256, 'learning_rate': 0.0001, 'weight_decay': 0.0007129316793598172, 'batch_size': 32}. Best is trial 2 with value: 0.5475142906819072.\n"
          ]
        },
        {
          "output_type": "stream",
          "name": "stdout",
          "text": [
            "Trial Results: Val Loss: 0.5630, Precision: 0.6617, Recall: 0.6299, F1 Score: 0.6454, AUROC: 0.7733\n",
            "Trial Results: Val Loss: 0.6398, Precision: 0.5171, Recall: 0.8055, F1 Score: 0.6299, AUROC: 0.6836\n",
            "Trial Results: Val Loss: 0.6299, Precision: 0.5893, Recall: 0.5755, F1 Score: 0.5823, AUROC: 0.6930\n",
            "Trial Results: Val Loss: 0.6278, Precision: 0.5900, Recall: 0.5750, F1 Score: 0.5824, AUROC: 0.6956\n",
            "Trial Results: Val Loss: 0.6201, Precision: 0.5625, Recall: 0.7218, F1 Score: 0.6323, AUROC: 0.6933\n"
          ]
        },
        {
          "output_type": "stream",
          "name": "stderr",
          "text": [
            "[I 2025-02-04 10:55:19,675] Trial 6 finished with value: 0.6253380239719436 and parameters: {'num_heads': 4, 'num_layers': 4, 'dropout': 0.1, 'ffdim': 256, 'learning_rate': 0.001, 'weight_decay': 0.009615756449233256, 'batch_size': 128}. Best is trial 2 with value: 0.5475142906819072.\n"
          ]
        },
        {
          "output_type": "stream",
          "name": "stdout",
          "text": [
            "Trial Results: Val Loss: 0.6253, Precision: 0.5897, Recall: 0.5886, F1 Score: 0.5892, AUROC: 0.6971\n",
            "Trial Results: Val Loss: 0.5968, Precision: 0.6449, Recall: 0.5577, F1 Score: 0.5981, AUROC: 0.7364\n",
            "Trial Results: Val Loss: 0.5762, Precision: 0.6261, Recall: 0.6591, F1 Score: 0.6421, AUROC: 0.7563\n",
            "Trial Results: Val Loss: 0.5780, Precision: 0.6293, Recall: 0.6542, F1 Score: 0.6415, AUROC: 0.7563\n",
            "Trial Results: Val Loss: 0.5701, Precision: 0.6700, Recall: 0.6037, F1 Score: 0.6351, AUROC: 0.7692\n"
          ]
        },
        {
          "output_type": "stream",
          "name": "stderr",
          "text": [
            "[I 2025-02-04 10:58:45,195] Trial 7 finished with value: 0.5605837679689839 and parameters: {'num_heads': 8, 'num_layers': 4, 'dropout': 0.3, 'ffdim': 256, 'learning_rate': 0.0001, 'weight_decay': 1.225532422954887e-05, 'batch_size': 64}. Best is trial 2 with value: 0.5475142906819072.\n"
          ]
        },
        {
          "output_type": "stream",
          "name": "stdout",
          "text": [
            "Trial Results: Val Loss: 0.5606, Precision: 0.6839, Recall: 0.5864, F1 Score: 0.6314, AUROC: 0.7747\n",
            "Trial Results: Val Loss: 0.6812, Precision: 0.4229, Recall: 1.0000, F1 Score: 0.5945, AUROC: 0.6481\n",
            "Trial Results: Val Loss: 0.6246, Precision: 0.5472, Recall: 0.7542, F1 Score: 0.6342, AUROC: 0.6913\n",
            "Trial Results: Val Loss: 0.6156, Precision: 0.5338, Recall: 0.8062, F1 Score: 0.6423, AUROC: 0.7111\n",
            "Trial Results: Val Loss: 0.6120, Precision: 0.5459, Recall: 0.7852, F1 Score: 0.6440, AUROC: 0.7187\n"
          ]
        },
        {
          "output_type": "stream",
          "name": "stderr",
          "text": [
            "[I 2025-02-04 11:00:30,151] Trial 8 finished with value: 0.6036310100129673 and parameters: {'num_heads': 4, 'num_layers': 2, 'dropout': 0.1, 'ffdim': 256, 'learning_rate': 0.001, 'weight_decay': 3.7561471320220043e-05, 'batch_size': 64}. Best is trial 2 with value: 0.5475142906819072.\n"
          ]
        },
        {
          "output_type": "stream",
          "name": "stdout",
          "text": [
            "Trial Results: Val Loss: 0.6036, Precision: 0.5884, Recall: 0.6399, F1 Score: 0.6131, AUROC: 0.7238\n",
            "Trial Results: Val Loss: 0.5899, Precision: 0.5902, Recall: 0.7415, F1 Score: 0.6572, AUROC: 0.7512\n",
            "Trial Results: Val Loss: 0.5723, Precision: 0.6628, Recall: 0.5907, F1 Score: 0.6247, AUROC: 0.7654\n",
            "Trial Results: Val Loss: 0.5604, Precision: 0.6422, Recall: 0.6634, F1 Score: 0.6526, AUROC: 0.7707\n",
            "Trial Results: Val Loss: 0.5578, Precision: 0.6571, Recall: 0.6420, F1 Score: 0.6495, AUROC: 0.7750\n"
          ]
        },
        {
          "output_type": "stream",
          "name": "stderr",
          "text": [
            "[I 2025-02-04 11:01:59,767] Trial 9 finished with value: 0.5531045342130321 and parameters: {'num_heads': 4, 'num_layers': 4, 'dropout': 0.2, 'ffdim': 512, 'learning_rate': 0.0001, 'weight_decay': 0.0006412073622637559, 'batch_size': 128}. Best is trial 2 with value: 0.5475142906819072.\n"
          ]
        },
        {
          "output_type": "stream",
          "name": "stdout",
          "text": [
            "Trial Results: Val Loss: 0.5531, Precision: 0.6540, Recall: 0.6619, F1 Score: 0.6580, AUROC: 0.7776\n",
            "Trial Results: Val Loss: 0.6026, Precision: 0.6345, Recall: 0.5717, F1 Score: 0.6015, AUROC: 0.7320\n",
            "Trial Results: Val Loss: 0.5818, Precision: 0.6262, Recall: 0.6532, F1 Score: 0.6394, AUROC: 0.7549\n",
            "Trial Results: Val Loss: 0.5627, Precision: 0.6194, Recall: 0.7061, F1 Score: 0.6599, AUROC: 0.7706\n",
            "Trial Results: Val Loss: 0.5657, Precision: 0.5932, Recall: 0.7641, F1 Score: 0.6679, AUROC: 0.7702\n"
          ]
        },
        {
          "output_type": "stream",
          "name": "stderr",
          "text": [
            "[I 2025-02-04 11:02:31,857] Trial 10 finished with value: 0.5598493161655608 and parameters: {'num_heads': 4, 'num_layers': 2, 'dropout': 0.2, 'ffdim': 512, 'learning_rate': 0.0005, 'weight_decay': 0.00012726606742723273, 'batch_size': 256}. Best is trial 2 with value: 0.5475142906819072.\n"
          ]
        },
        {
          "output_type": "stream",
          "name": "stdout",
          "text": [
            "Trial Results: Val Loss: 0.5598, Precision: 0.6806, Recall: 0.6016, F1 Score: 0.6387, AUROC: 0.7757\n",
            "Trial Results: Val Loss: 0.6104, Precision: 0.5386, Recall: 0.8170, F1 Score: 0.6492, AUROC: 0.7369\n",
            "Trial Results: Val Loss: 0.5690, Precision: 0.6045, Recall: 0.7294, F1 Score: 0.6611, AUROC: 0.7668\n",
            "Trial Results: Val Loss: 0.5660, Precision: 0.5868, Recall: 0.7590, F1 Score: 0.6619, AUROC: 0.7681\n",
            "Trial Results: Val Loss: 0.5670, Precision: 0.6809, Recall: 0.5939, F1 Score: 0.6345, AUROC: 0.7766\n"
          ]
        },
        {
          "output_type": "stream",
          "name": "stderr",
          "text": [
            "[I 2025-02-04 11:03:23,565] Trial 11 finished with value: 0.5459519532464799 and parameters: {'num_heads': 4, 'num_layers': 4, 'dropout': 0.2, 'ffdim': 512, 'learning_rate': 0.0001, 'weight_decay': 0.00018883096161472504, 'batch_size': 256}. Best is trial 11 with value: 0.5459519532464799.\n"
          ]
        },
        {
          "output_type": "stream",
          "name": "stdout",
          "text": [
            "Trial Results: Val Loss: 0.5460, Precision: 0.6519, Recall: 0.6740, F1 Score: 0.6628, AUROC: 0.7834\n",
            "Trial Results: Val Loss: 0.5799, Precision: 0.6058, Recall: 0.7025, F1 Score: 0.6506, AUROC: 0.7522\n",
            "Trial Results: Val Loss: 0.5724, Precision: 0.6414, Recall: 0.6452, F1 Score: 0.6433, AUROC: 0.7667\n",
            "Trial Results: Val Loss: 0.5687, Precision: 0.6807, Recall: 0.5790, F1 Score: 0.6257, AUROC: 0.7726\n",
            "Trial Results: Val Loss: 0.5501, Precision: 0.6433, Recall: 0.6940, F1 Score: 0.6677, AUROC: 0.7799\n"
          ]
        },
        {
          "output_type": "stream",
          "name": "stderr",
          "text": [
            "[I 2025-02-04 11:04:16,560] Trial 12 finished with value: 0.5474629345394316 and parameters: {'num_heads': 4, 'num_layers': 4, 'dropout': 0.2, 'ffdim': 512, 'learning_rate': 0.0001, 'weight_decay': 0.00014436417457109265, 'batch_size': 256}. Best is trial 11 with value: 0.5459519532464799.\n"
          ]
        },
        {
          "output_type": "stream",
          "name": "stdout",
          "text": [
            "Trial Results: Val Loss: 0.5475, Precision: 0.6908, Recall: 0.6173, F1 Score: 0.6519, AUROC: 0.7857\n",
            "Trial Results: Val Loss: 0.5824, Precision: 0.5882, Recall: 0.7518, F1 Score: 0.6600, AUROC: 0.7543\n",
            "Trial Results: Val Loss: 0.5661, Precision: 0.6088, Recall: 0.7269, F1 Score: 0.6626, AUROC: 0.7678\n",
            "Trial Results: Val Loss: 0.5538, Precision: 0.6546, Recall: 0.6592, F1 Score: 0.6569, AUROC: 0.7783\n",
            "Trial Results: Val Loss: 0.5533, Precision: 0.6680, Recall: 0.6306, F1 Score: 0.6487, AUROC: 0.7799\n"
          ]
        },
        {
          "output_type": "stream",
          "name": "stderr",
          "text": [
            "[I 2025-02-04 11:05:08,815] Trial 13 finished with value: 0.5415346785670235 and parameters: {'num_heads': 4, 'num_layers': 4, 'dropout': 0.2, 'ffdim': 512, 'learning_rate': 0.0001, 'weight_decay': 0.00014550741821155695, 'batch_size': 256}. Best is trial 13 with value: 0.5415346785670235.\n"
          ]
        },
        {
          "output_type": "stream",
          "name": "stdout",
          "text": [
            "Trial Results: Val Loss: 0.5415, Precision: 0.6405, Recall: 0.7173, F1 Score: 0.6767, AUROC: 0.7890\n",
            "Trial Results: Val Loss: 0.6132, Precision: 0.5831, Recall: 0.6613, F1 Score: 0.6197, AUROC: 0.7116\n",
            "Trial Results: Val Loss: 0.5967, Precision: 0.5824, Recall: 0.7030, F1 Score: 0.6370, AUROC: 0.7424\n",
            "Trial Results: Val Loss: 0.5787, Precision: 0.6682, Recall: 0.5523, F1 Score: 0.6048, AUROC: 0.7504\n",
            "Trial Results: Val Loss: 0.5802, Precision: 0.6390, Recall: 0.6085, F1 Score: 0.6234, AUROC: 0.7544\n"
          ]
        },
        {
          "output_type": "stream",
          "name": "stderr",
          "text": [
            "[I 2025-02-04 11:06:01,014] Trial 14 finished with value: 0.5702745439041228 and parameters: {'num_heads': 4, 'num_layers': 4, 'dropout': 0.2, 'ffdim': 512, 'learning_rate': 0.0005, 'weight_decay': 0.00014080849241945623, 'batch_size': 256}. Best is trial 13 with value: 0.5415346785670235.\n"
          ]
        },
        {
          "output_type": "stream",
          "name": "stdout",
          "text": [
            "Trial Results: Val Loss: 0.5703, Precision: 0.6757, Recall: 0.5641, F1 Score: 0.6149, AUROC: 0.7652\n",
            "Trial Results: Val Loss: 0.6192, Precision: 0.5522, Recall: 0.7454, F1 Score: 0.6344, AUROC: 0.7085\n",
            "Trial Results: Val Loss: 0.5896, Precision: 0.5797, Recall: 0.7200, F1 Score: 0.6423, AUROC: 0.7422\n",
            "Trial Results: Val Loss: 0.5847, Precision: 0.6230, Recall: 0.6293, F1 Score: 0.6261, AUROC: 0.7479\n",
            "Trial Results: Val Loss: 0.5776, Precision: 0.6009, Recall: 0.6806, F1 Score: 0.6383, AUROC: 0.7505\n"
          ]
        },
        {
          "output_type": "stream",
          "name": "stderr",
          "text": [
            "[I 2025-02-04 11:11:48,939] Trial 15 finished with value: 0.5723144596974764 and parameters: {'num_heads': 4, 'num_layers': 4, 'dropout': 0.3, 'ffdim': 512, 'learning_rate': 0.0001, 'weight_decay': 5.211517688903165e-05, 'batch_size': 32}. Best is trial 13 with value: 0.5415346785670235.\n"
          ]
        },
        {
          "output_type": "stream",
          "name": "stdout",
          "text": [
            "Trial Results: Val Loss: 0.5723, Precision: 0.6579, Recall: 0.5839, F1 Score: 0.6187, AUROC: 0.7574\n",
            "Trial Results: Val Loss: 0.5827, Precision: 0.6521, Recall: 0.6007, F1 Score: 0.6254, AUROC: 0.7528\n",
            "Trial Results: Val Loss: 0.5777, Precision: 0.6659, Recall: 0.5768, F1 Score: 0.6181, AUROC: 0.7588\n",
            "Trial Results: Val Loss: 0.5558, Precision: 0.6295, Recall: 0.7031, F1 Score: 0.6643, AUROC: 0.7748\n",
            "Trial Results: Val Loss: 0.5597, Precision: 0.6284, Recall: 0.7011, F1 Score: 0.6627, AUROC: 0.7763\n"
          ]
        },
        {
          "output_type": "stream",
          "name": "stderr",
          "text": [
            "[I 2025-02-04 11:12:41,188] Trial 16 finished with value: 0.5488277563736552 and parameters: {'num_heads': 4, 'num_layers': 4, 'dropout': 0.2, 'ffdim': 512, 'learning_rate': 0.0001, 'weight_decay': 0.00023802975795722282, 'batch_size': 256}. Best is trial 13 with value: 0.5415346785670235.\n"
          ]
        },
        {
          "output_type": "stream",
          "name": "stdout",
          "text": [
            "Trial Results: Val Loss: 0.5488, Precision: 0.6489, Recall: 0.6778, F1 Score: 0.6630, AUROC: 0.7833\n",
            "Trial Results: Val Loss: 0.5901, Precision: 0.6376, Recall: 0.6162, F1 Score: 0.6267, AUROC: 0.7509\n",
            "Trial Results: Val Loss: 0.5611, Precision: 0.6197, Recall: 0.7129, F1 Score: 0.6630, AUROC: 0.7716\n",
            "Trial Results: Val Loss: 0.5561, Precision: 0.6338, Recall: 0.7033, F1 Score: 0.6668, AUROC: 0.7786\n",
            "Trial Results: Val Loss: 0.5585, Precision: 0.6050, Recall: 0.7613, F1 Score: 0.6742, AUROC: 0.7792\n"
          ]
        },
        {
          "output_type": "stream",
          "name": "stderr",
          "text": [
            "[I 2025-02-04 11:13:33,333] Trial 17 finished with value: 0.5413282144637335 and parameters: {'num_heads': 4, 'num_layers': 4, 'dropout': 0.2, 'ffdim': 512, 'learning_rate': 0.0001, 'weight_decay': 4.691210368734568e-05, 'batch_size': 256}. Best is trial 17 with value: 0.5413282144637335.\n"
          ]
        },
        {
          "output_type": "stream",
          "name": "stdout",
          "text": [
            "Trial Results: Val Loss: 0.5413, Precision: 0.6427, Recall: 0.6995, F1 Score: 0.6699, AUROC: 0.7868\n"
          ]
        },
        {
          "output_type": "stream",
          "name": "stderr",
          "text": [
            "/usr/local/lib/python3.11/dist-packages/sklearn/metrics/_classification.py:1565: UndefinedMetricWarning: Precision is ill-defined and being set to 0.0 due to no predicted samples. Use `zero_division` parameter to control this behavior.\n",
            "  _warn_prf(average, modifier, f\"{metric.capitalize()} is\", len(result))\n"
          ]
        },
        {
          "output_type": "stream",
          "name": "stdout",
          "text": [
            "Trial Results: Val Loss: 0.6829, Precision: 0.0000, Recall: 0.0000, F1 Score: 0.0000, AUROC: 0.5766\n"
          ]
        },
        {
          "output_type": "stream",
          "name": "stderr",
          "text": [
            "/usr/local/lib/python3.11/dist-packages/sklearn/metrics/_classification.py:1565: UndefinedMetricWarning: Precision is ill-defined and being set to 0.0 due to no predicted samples. Use `zero_division` parameter to control this behavior.\n",
            "  _warn_prf(average, modifier, f\"{metric.capitalize()} is\", len(result))\n"
          ]
        },
        {
          "output_type": "stream",
          "name": "stdout",
          "text": [
            "Trial Results: Val Loss: 0.6812, Precision: 0.0000, Recall: 0.0000, F1 Score: 0.0000, AUROC: 0.6147\n",
            "Trial Results: Val Loss: 0.6216, Precision: 0.5643, Recall: 0.6858, F1 Score: 0.6192, AUROC: 0.6938\n",
            "Trial Results: Val Loss: 0.6055, Precision: 0.6054, Recall: 0.6096, F1 Score: 0.6074, AUROC: 0.7224\n"
          ]
        },
        {
          "output_type": "stream",
          "name": "stderr",
          "text": [
            "[I 2025-02-04 11:14:24,785] Trial 18 finished with value: 0.6130642358745847 and parameters: {'num_heads': 4, 'num_layers': 4, 'dropout': 0.2, 'ffdim': 512, 'learning_rate': 0.0005, 'weight_decay': 4.99160635089877e-05, 'batch_size': 256}. Best is trial 17 with value: 0.5413282144637335.\n"
          ]
        },
        {
          "output_type": "stream",
          "name": "stdout",
          "text": [
            "Trial Results: Val Loss: 0.6131, Precision: 0.6126, Recall: 0.6032, F1 Score: 0.6079, AUROC: 0.7300\n",
            "Trial Results: Val Loss: 0.6182, Precision: 0.5720, Recall: 0.6790, F1 Score: 0.6209, AUROC: 0.7073\n",
            "Trial Results: Val Loss: 0.6255, Precision: 0.6020, Recall: 0.5505, F1 Score: 0.5751, AUROC: 0.7156\n",
            "Trial Results: Val Loss: 0.6027, Precision: 0.5712, Recall: 0.7123, F1 Score: 0.6340, AUROC: 0.7220\n",
            "Trial Results: Val Loss: 0.6057, Precision: 0.5983, Recall: 0.6640, F1 Score: 0.6294, AUROC: 0.7293\n"
          ]
        },
        {
          "output_type": "stream",
          "name": "stderr",
          "text": [
            "[I 2025-02-04 11:20:34,583] Trial 19 finished with value: 0.577259541178743 and parameters: {'num_heads': 4, 'num_layers': 4, 'dropout': 0.3, 'ffdim': 512, 'learning_rate': 0.0001, 'weight_decay': 3.0396826339289592e-05, 'batch_size': 32}. Best is trial 17 with value: 0.5413282144637335.\n"
          ]
        },
        {
          "output_type": "stream",
          "name": "stdout",
          "text": [
            "Trial Results: Val Loss: 0.5773, Precision: 0.6260, Recall: 0.6309, F1 Score: 0.6284, AUROC: 0.7535\n",
            "Best trial:\n",
            "  Val Loss: 0.5413\n",
            "  Hyperparameters: {'num_heads': 4, 'num_layers': 4, 'dropout': 0.2, 'ffdim': 512, 'learning_rate': 0.0001, 'weight_decay': 4.691210368734568e-05, 'batch_size': 256}\n"
          ]
        }
      ]
    },
    {
      "cell_type": "code",
      "source": [
        "train_loader = DataLoader(train_dataset, batch_size=256, shuffle=True)\n",
        "val_loader = DataLoader(val_dataset,batch_size=256,shuffle=False)"
      ],
      "metadata": {
        "id": "UKVEtRqRaU2Y"
      },
      "execution_count": null,
      "outputs": []
    },
    {
      "cell_type": "code",
      "source": [
        "model_dim = 320\n",
        "num_heads = 4\n",
        "num_layers = 4\n",
        "dropout = 0.2\n",
        "ffdim = 512\n",
        "model = SequenceModel(model_dim, num_heads, num_layers,ffdim,dropout=dropout).to(device)\n",
        "criterion = nn.BCEWithLogitsLoss()\n",
        "optimizer = torch.optim.Adam(model.parameters(), lr=0.0001 ,weight_decay=4.691210368734568e-05)\n",
        "epochs = 200"
      ],
      "metadata": {
        "id": "RB7B6pMcmiwg"
      },
      "execution_count": 26,
      "outputs": []
    },
    {
      "cell_type": "code",
      "source": [
        "model.to(device)"
      ],
      "metadata": {
        "colab": {
          "base_uri": "https://localhost:8080/"
        },
        "id": "REuFF2XSmlFr",
        "outputId": "f7ff5c4b-4351-4cee-efa5-a4bd045896f4"
      },
      "execution_count": 27,
      "outputs": [
        {
          "output_type": "execute_result",
          "data": {
            "text/plain": [
              "SequenceModel(\n",
              "  (encoder_pep): TransformerEncoder(\n",
              "    (encoder_layer): TransformerEncoderLayer(\n",
              "      (self_attn): MultiheadAttention(\n",
              "        (out_proj): NonDynamicallyQuantizableLinear(in_features=320, out_features=320, bias=True)\n",
              "      )\n",
              "      (linear1): Linear(in_features=320, out_features=2048, bias=True)\n",
              "      (dropout): Dropout(p=0.2, inplace=False)\n",
              "      (linear2): Linear(in_features=2048, out_features=320, bias=True)\n",
              "      (norm1): LayerNorm((320,), eps=1e-05, elementwise_affine=True)\n",
              "      (norm2): LayerNorm((320,), eps=1e-05, elementwise_affine=True)\n",
              "      (dropout1): Dropout(p=0.2, inplace=False)\n",
              "      (dropout2): Dropout(p=0.2, inplace=False)\n",
              "    )\n",
              "    (transformer_encoder): TransformerEncoder(\n",
              "      (layers): ModuleList(\n",
              "        (0-3): 4 x TransformerEncoderLayer(\n",
              "          (self_attn): MultiheadAttention(\n",
              "            (out_proj): NonDynamicallyQuantizableLinear(in_features=320, out_features=320, bias=True)\n",
              "          )\n",
              "          (linear1): Linear(in_features=320, out_features=2048, bias=True)\n",
              "          (dropout): Dropout(p=0.2, inplace=False)\n",
              "          (linear2): Linear(in_features=2048, out_features=320, bias=True)\n",
              "          (norm1): LayerNorm((320,), eps=1e-05, elementwise_affine=True)\n",
              "          (norm2): LayerNorm((320,), eps=1e-05, elementwise_affine=True)\n",
              "          (dropout1): Dropout(p=0.2, inplace=False)\n",
              "          (dropout2): Dropout(p=0.2, inplace=False)\n",
              "        )\n",
              "      )\n",
              "    )\n",
              "  )\n",
              "  (encoder_mhc): TransformerEncoder(\n",
              "    (encoder_layer): TransformerEncoderLayer(\n",
              "      (self_attn): MultiheadAttention(\n",
              "        (out_proj): NonDynamicallyQuantizableLinear(in_features=320, out_features=320, bias=True)\n",
              "      )\n",
              "      (linear1): Linear(in_features=320, out_features=2048, bias=True)\n",
              "      (dropout): Dropout(p=0.2, inplace=False)\n",
              "      (linear2): Linear(in_features=2048, out_features=320, bias=True)\n",
              "      (norm1): LayerNorm((320,), eps=1e-05, elementwise_affine=True)\n",
              "      (norm2): LayerNorm((320,), eps=1e-05, elementwise_affine=True)\n",
              "      (dropout1): Dropout(p=0.2, inplace=False)\n",
              "      (dropout2): Dropout(p=0.2, inplace=False)\n",
              "    )\n",
              "    (transformer_encoder): TransformerEncoder(\n",
              "      (layers): ModuleList(\n",
              "        (0-3): 4 x TransformerEncoderLayer(\n",
              "          (self_attn): MultiheadAttention(\n",
              "            (out_proj): NonDynamicallyQuantizableLinear(in_features=320, out_features=320, bias=True)\n",
              "          )\n",
              "          (linear1): Linear(in_features=320, out_features=2048, bias=True)\n",
              "          (dropout): Dropout(p=0.2, inplace=False)\n",
              "          (linear2): Linear(in_features=2048, out_features=320, bias=True)\n",
              "          (norm1): LayerNorm((320,), eps=1e-05, elementwise_affine=True)\n",
              "          (norm2): LayerNorm((320,), eps=1e-05, elementwise_affine=True)\n",
              "          (dropout1): Dropout(p=0.2, inplace=False)\n",
              "          (dropout2): Dropout(p=0.2, inplace=False)\n",
              "        )\n",
              "      )\n",
              "    )\n",
              "  )\n",
              "  (cross_attention): CrossAttentionLayer(\n",
              "    (multihead_attn): MultiheadAttention(\n",
              "      (out_proj): NonDynamicallyQuantizableLinear(in_features=320, out_features=320, bias=True)\n",
              "    )\n",
              "    (norm1): LayerNorm((320,), eps=1e-05, elementwise_affine=True)\n",
              "    (ffn): Sequential(\n",
              "      (0): Linear(in_features=320, out_features=512, bias=True)\n",
              "      (1): ReLU()\n",
              "      (2): Dropout(p=0.2, inplace=False)\n",
              "      (3): Linear(in_features=512, out_features=320, bias=True)\n",
              "      (4): Dropout(p=0.2, inplace=False)\n",
              "    )\n",
              "    (norm2): LayerNorm((320,), eps=1e-05, elementwise_affine=True)\n",
              "  )\n",
              "  (fc1): Linear(in_features=320, out_features=512, bias=True)\n",
              "  (fc2): Linear(in_features=512, out_features=64, bias=True)\n",
              "  (fc3): Linear(in_features=64, out_features=1, bias=True)\n",
              "  (dropout): Dropout(p=0.2, inplace=False)\n",
              ")"
            ]
          },
          "metadata": {},
          "execution_count": 27
        }
      ]
    },
    {
      "cell_type": "code",
      "source": [
        "patience = 10\n",
        "best_val_auroc = 0\n",
        "patience_counter = 0\n",
        "save_path = '/content/drive/MyDrive/classification_model.pth'\n",
        "train_losses = []\n",
        "val_losses = []\n",
        "train_auroc_list = []\n",
        "val_auroc_list = []\n",
        "train_f1_list = []\n",
        "val_f1_list = []\n",
        "train_precision_list = []\n",
        "val_precision_list = []\n",
        "train_recall_list = []\n",
        "val_recall_list = []\n",
        "\n",
        "for epoch in range(epochs):\n",
        "    #train loop\n",
        "    model.train()\n",
        "    train_loss = 0\n",
        "    total_train_preds = []\n",
        "    total_train_labels = []\n",
        "\n",
        "    for pep_ids, mhc_ids, scores in train_loader:\n",
        "        pep_ids, mhc_ids, scores = pep_ids.to(device), mhc_ids.to(device), scores.to(device)\n",
        "        optimizer.zero_grad()\n",
        "        outputs = model(pep_ids, mhc_ids).squeeze()\n",
        "        loss = criterion(outputs, scores)\n",
        "        loss.backward()\n",
        "        optimizer.step()\n",
        "\n",
        "        train_loss += loss.item()\n",
        "        total_train_preds.append(torch.sigmoid(outputs).detach().cpu())\n",
        "        total_train_labels.append(scores.detach().cpu())\n",
        "\n",
        "    train_loss /= len(train_loader)\n",
        "    train_losses.append(train_loss)\n",
        "\n",
        "    total_train_preds = torch.cat(total_train_preds).numpy()\n",
        "    total_train_labels = torch.cat(total_train_labels).numpy()\n",
        "    train_auroc = roc_auc_score(total_train_labels, total_train_preds)\n",
        "    train_f1 = f1_score(total_train_labels, total_train_preds > 0.4256,zero_division=0)\n",
        "    train_precision = precision_score(total_train_labels, total_train_preds > 0.4256,zero_division=0)\n",
        "    train_recall = recall_score(total_train_labels, total_train_preds > 0.4256,zero_division=0)\n",
        "\n",
        "    train_auroc_list.append(train_auroc)\n",
        "    train_f1_list.append(train_f1)\n",
        "    train_precision_list.append(train_precision)\n",
        "    train_recall_list.append(train_recall)\n",
        "\n",
        "    print(f\"Epoch {epoch+1}, Train Loss: {train_loss:.4f}, AUROC: {train_auroc:.4f}, F1: {train_f1:.4f}, Precision: {train_precision:.4f}, Recall: {train_recall:.4f}\")\n",
        "\n",
        "    #val loop\n",
        "    model.eval()\n",
        "    val_loss = 0\n",
        "    total_val_preds = []\n",
        "    total_val_labels = []\n",
        "\n",
        "    with torch.no_grad():\n",
        "        for pep_ids, mhc_ids, scores in val_loader:\n",
        "            pep_ids, mhc_ids, scores = pep_ids.to(device), mhc_ids.to(device), scores.to(device)\n",
        "            outputs = model(pep_ids, mhc_ids).squeeze()\n",
        "            loss = criterion(outputs, scores)\n",
        "            val_loss += loss.item()\n",
        "            total_val_preds.append(torch.sigmoid(outputs).cpu())\n",
        "            total_val_labels.append(scores.cpu())\n",
        "\n",
        "    val_loss /= len(val_loader)\n",
        "    val_losses.append(val_loss)\n",
        "\n",
        "    total_val_preds = torch.cat(total_val_preds).numpy()\n",
        "    total_val_labels = torch.cat(total_val_labels).numpy()\n",
        "    val_auroc = roc_auc_score(total_val_labels, total_val_preds)\n",
        "    val_f1 = f1_score(total_val_labels, total_val_preds > 0.4256)\n",
        "    val_precision = precision_score(total_val_labels, total_val_preds > 0.4256)\n",
        "    val_recall = recall_score(total_val_labels, total_val_preds > 0.4256)\n",
        "\n",
        "    val_auroc_list.append(val_auroc)\n",
        "    val_f1_list.append(val_f1)\n",
        "    val_precision_list.append(val_precision)\n",
        "    val_recall_list.append(val_recall)\n",
        "\n",
        "    print(f\"Epoch {epoch+1}, Val Loss: {val_loss:.4f}, AUROC: {val_auroc:.4f}, F1: {val_f1:.4f}, Precision: {val_precision:.4f}, Recall: {val_recall:.4f}\")\n",
        "\n",
        "    #early stop\n",
        "    if val_auroc > best_val_auroc:\n",
        "        best_val_auroc = val_auroc\n",
        "        patience_counter = 0\n",
        "        torch.save(model.state_dict(), save_path)\n",
        "        print(f\"Best model saved with AUROC: {best_val_auroc:.4f}\")\n",
        "    else:\n",
        "        patience_counter += 1\n",
        "        if patience_counter >= patience:\n",
        "            print(f\"Early stopping at epoch {epoch+1}. Best Val AUROC: {best_val_auroc:.4f}\")\n",
        "            break\n"
      ],
      "metadata": {
        "colab": {
          "base_uri": "https://localhost:8080/",
          "height": 1000
        },
        "id": "c2SROejRmljY",
        "outputId": "125f0d31-2993-4460-c9da-63fdae1e309a"
      },
      "execution_count": null,
      "outputs": [
        {
          "output_type": "stream",
          "name": "stdout",
          "text": [
            "Epoch 1, Train Loss: 0.6144, AUROC: 0.7026, F1: 0.5979, Precision: 0.5672, Recall: 0.6322\n",
            "Epoch 1, Val Loss: 0.5879, AUROC: 0.7546, F1: 0.5943, Precision: 0.6784, Recall: 0.5287\n",
            "Best model saved with AUROC: 0.7546\n",
            "Epoch 2, Train Loss: 0.5733, AUROC: 0.7560, F1: 0.6419, Precision: 0.6155, Recall: 0.6705\n",
            "Epoch 2, Val Loss: 0.5630, AUROC: 0.7695, F1: 0.6574, Precision: 0.6153, Recall: 0.7056\n",
            "Best model saved with AUROC: 0.7695\n",
            "Epoch 3, Train Loss: 0.5602, AUROC: 0.7687, F1: 0.6488, Precision: 0.6287, Recall: 0.6701\n",
            "Epoch 3, Val Loss: 0.5494, AUROC: 0.7808, F1: 0.6663, Precision: 0.6268, Recall: 0.7111\n",
            "Best model saved with AUROC: 0.7808\n",
            "Epoch 4, Train Loss: 0.5518, AUROC: 0.7768, F1: 0.6534, Precision: 0.6360, Recall: 0.6717\n",
            "Epoch 4, Val Loss: 0.5571, AUROC: 0.7808, F1: 0.6694, Precision: 0.6239, Recall: 0.7219\n",
            "Best model saved with AUROC: 0.7808\n",
            "Epoch 5, Train Loss: 0.5451, AUROC: 0.7835, F1: 0.6608, Precision: 0.6423, Recall: 0.6805\n",
            "Epoch 5, Val Loss: 0.5578, AUROC: 0.7766, F1: 0.6708, Precision: 0.6033, Recall: 0.7553\n",
            "Epoch 6, Train Loss: 0.5401, AUROC: 0.7891, F1: 0.6690, Precision: 0.6459, Recall: 0.6939\n",
            "Epoch 6, Val Loss: 0.5469, AUROC: 0.7910, F1: 0.6766, Precision: 0.6541, Recall: 0.7007\n",
            "Best model saved with AUROC: 0.7910\n",
            "Epoch 7, Train Loss: 0.5344, AUROC: 0.7944, F1: 0.6744, Precision: 0.6541, Recall: 0.6961\n",
            "Epoch 7, Val Loss: 0.5396, AUROC: 0.7954, F1: 0.6692, Precision: 0.6904, Recall: 0.6492\n",
            "Best model saved with AUROC: 0.7954\n",
            "Epoch 8, Train Loss: 0.5306, AUROC: 0.7980, F1: 0.6768, Precision: 0.6568, Recall: 0.6981\n",
            "Epoch 8, Val Loss: 0.5267, AUROC: 0.8040, F1: 0.6872, Precision: 0.6650, Recall: 0.7109\n",
            "Best model saved with AUROC: 0.8040\n",
            "Epoch 9, Train Loss: 0.5241, AUROC: 0.8039, F1: 0.6828, Precision: 0.6621, Recall: 0.7048\n",
            "Epoch 9, Val Loss: 0.5295, AUROC: 0.8022, F1: 0.6884, Precision: 0.6707, Recall: 0.7071\n",
            "Epoch 10, Train Loss: 0.5200, AUROC: 0.8076, F1: 0.6884, Precision: 0.6655, Recall: 0.7129\n",
            "Epoch 10, Val Loss: 0.5291, AUROC: 0.8052, F1: 0.6915, Precision: 0.6479, Recall: 0.7414\n",
            "Best model saved with AUROC: 0.8052\n",
            "Epoch 11, Train Loss: 0.5166, AUROC: 0.8107, F1: 0.6881, Precision: 0.6688, Recall: 0.7085\n",
            "Epoch 11, Val Loss: 0.5194, AUROC: 0.8111, F1: 0.6915, Precision: 0.6816, Recall: 0.7017\n",
            "Best model saved with AUROC: 0.8111\n",
            "Epoch 12, Train Loss: 0.5107, AUROC: 0.8155, F1: 0.6915, Precision: 0.6705, Recall: 0.7138\n",
            "Epoch 12, Val Loss: 0.5112, AUROC: 0.8170, F1: 0.7043, Precision: 0.6605, Recall: 0.7543\n",
            "Best model saved with AUROC: 0.8170\n",
            "Epoch 13, Train Loss: 0.5070, AUROC: 0.8190, F1: 0.6959, Precision: 0.6763, Recall: 0.7166\n",
            "Epoch 13, Val Loss: 0.5150, AUROC: 0.8123, F1: 0.6876, Precision: 0.6799, Recall: 0.6954\n",
            "Epoch 14, Train Loss: 0.5044, AUROC: 0.8214, F1: 0.6996, Precision: 0.6784, Recall: 0.7222\n",
            "Epoch 14, Val Loss: 0.5102, AUROC: 0.8186, F1: 0.7026, Precision: 0.6837, Recall: 0.7226\n",
            "Best model saved with AUROC: 0.8186\n",
            "Epoch 15, Train Loss: 0.5005, AUROC: 0.8243, F1: 0.7012, Precision: 0.6797, Recall: 0.7243\n",
            "Epoch 15, Val Loss: 0.5058, AUROC: 0.8229, F1: 0.6959, Precision: 0.7002, Recall: 0.6918\n",
            "Best model saved with AUROC: 0.8229\n",
            "Epoch 16, Train Loss: 0.4971, AUROC: 0.8273, F1: 0.7045, Precision: 0.6831, Recall: 0.7273\n",
            "Epoch 16, Val Loss: 0.5073, AUROC: 0.8203, F1: 0.7044, Precision: 0.6659, Recall: 0.7478\n",
            "Epoch 17, Train Loss: 0.4946, AUROC: 0.8295, F1: 0.7073, Precision: 0.6854, Recall: 0.7306\n",
            "Epoch 17, Val Loss: 0.5150, AUROC: 0.8187, F1: 0.6839, Precision: 0.7219, Recall: 0.6496\n",
            "Epoch 18, Train Loss: 0.4935, AUROC: 0.8305, F1: 0.7082, Precision: 0.6865, Recall: 0.7312\n",
            "Epoch 18, Val Loss: 0.5021, AUROC: 0.8251, F1: 0.7117, Precision: 0.6649, Recall: 0.7656\n",
            "Best model saved with AUROC: 0.8251\n",
            "Epoch 19, Train Loss: 0.4883, AUROC: 0.8344, F1: 0.7121, Precision: 0.6901, Recall: 0.7356\n",
            "Epoch 19, Val Loss: 0.5016, AUROC: 0.8284, F1: 0.7174, Precision: 0.6526, Recall: 0.7965\n",
            "Best model saved with AUROC: 0.8284\n",
            "Epoch 20, Train Loss: 0.4872, AUROC: 0.8353, F1: 0.7136, Precision: 0.6900, Recall: 0.7389\n",
            "Epoch 20, Val Loss: 0.4993, AUROC: 0.8263, F1: 0.7071, Precision: 0.6854, Recall: 0.7303\n",
            "Epoch 21, Train Loss: 0.4844, AUROC: 0.8378, F1: 0.7168, Precision: 0.6942, Recall: 0.7409\n",
            "Epoch 21, Val Loss: 0.4958, AUROC: 0.8301, F1: 0.7100, Precision: 0.6853, Recall: 0.7364\n",
            "Best model saved with AUROC: 0.8301\n",
            "Epoch 22, Train Loss: 0.4810, AUROC: 0.8405, F1: 0.7207, Precision: 0.6965, Recall: 0.7467\n",
            "Epoch 22, Val Loss: 0.4931, AUROC: 0.8333, F1: 0.7122, Precision: 0.6924, Recall: 0.7331\n",
            "Best model saved with AUROC: 0.8333\n",
            "Epoch 23, Train Loss: 0.4784, AUROC: 0.8423, F1: 0.7206, Precision: 0.6967, Recall: 0.7461\n",
            "Epoch 23, Val Loss: 0.4964, AUROC: 0.8302, F1: 0.7169, Precision: 0.6578, Recall: 0.7878\n",
            "Epoch 24, Train Loss: 0.4766, AUROC: 0.8437, F1: 0.7223, Precision: 0.6985, Recall: 0.7476\n",
            "Epoch 24, Val Loss: 0.4902, AUROC: 0.8352, F1: 0.7189, Precision: 0.6837, Recall: 0.7579\n",
            "Best model saved with AUROC: 0.8352\n",
            "Epoch 25, Train Loss: 0.4747, AUROC: 0.8451, F1: 0.7239, Precision: 0.6977, Recall: 0.7522\n",
            "Epoch 25, Val Loss: 0.5042, AUROC: 0.8332, F1: 0.6901, Precision: 0.7406, Recall: 0.6460\n",
            "Epoch 26, Train Loss: 0.4714, AUROC: 0.8477, F1: 0.7273, Precision: 0.7008, Recall: 0.7558\n",
            "Epoch 26, Val Loss: 0.4925, AUROC: 0.8356, F1: 0.7204, Precision: 0.6736, Recall: 0.7741\n",
            "Best model saved with AUROC: 0.8356\n",
            "Epoch 27, Train Loss: 0.4687, AUROC: 0.8496, F1: 0.7271, Precision: 0.7019, Recall: 0.7542\n",
            "Epoch 27, Val Loss: 0.4945, AUROC: 0.8336, F1: 0.7098, Precision: 0.7012, Recall: 0.7186\n",
            "Epoch 28, Train Loss: 0.4651, AUROC: 0.8523, F1: 0.7326, Precision: 0.7053, Recall: 0.7620\n",
            "Epoch 28, Val Loss: 0.5028, AUROC: 0.8319, F1: 0.7211, Precision: 0.6563, Recall: 0.8002\n",
            "Epoch 29, Train Loss: 0.4642, AUROC: 0.8534, F1: 0.7341, Precision: 0.7077, Recall: 0.7624\n",
            "Epoch 29, Val Loss: 0.4888, AUROC: 0.8375, F1: 0.7147, Precision: 0.7017, Recall: 0.7282\n",
            "Best model saved with AUROC: 0.8375\n",
            "Epoch 30, Train Loss: 0.4598, AUROC: 0.8562, F1: 0.7358, Precision: 0.7101, Recall: 0.7634\n",
            "Epoch 30, Val Loss: 0.4815, AUROC: 0.8408, F1: 0.7191, Precision: 0.6989, Recall: 0.7404\n",
            "Best model saved with AUROC: 0.8408\n",
            "Epoch 31, Train Loss: 0.4571, AUROC: 0.8583, F1: 0.7398, Precision: 0.7122, Recall: 0.7696\n",
            "Epoch 31, Val Loss: 0.4907, AUROC: 0.8403, F1: 0.7093, Precision: 0.7261, Recall: 0.6933\n",
            "Epoch 32, Train Loss: 0.4557, AUROC: 0.8591, F1: 0.7384, Precision: 0.7124, Recall: 0.7664\n",
            "Epoch 32, Val Loss: 0.4794, AUROC: 0.8426, F1: 0.7262, Precision: 0.6809, Recall: 0.7779\n",
            "Best model saved with AUROC: 0.8426\n",
            "Epoch 33, Train Loss: 0.4532, AUROC: 0.8610, F1: 0.7416, Precision: 0.7161, Recall: 0.7690\n",
            "Epoch 33, Val Loss: 0.4869, AUROC: 0.8428, F1: 0.7311, Precision: 0.6701, Recall: 0.8042\n",
            "Best model saved with AUROC: 0.8428\n",
            "Epoch 34, Train Loss: 0.4511, AUROC: 0.8625, F1: 0.7429, Precision: 0.7148, Recall: 0.7733\n",
            "Epoch 34, Val Loss: 0.4820, AUROC: 0.8440, F1: 0.7187, Precision: 0.7250, Recall: 0.7124\n",
            "Best model saved with AUROC: 0.8440\n",
            "Epoch 35, Train Loss: 0.4479, AUROC: 0.8645, F1: 0.7438, Precision: 0.7171, Recall: 0.7727\n",
            "Epoch 35, Val Loss: 0.4793, AUROC: 0.8439, F1: 0.7282, Precision: 0.6821, Recall: 0.7809\n",
            "Epoch 36, Train Loss: 0.4438, AUROC: 0.8676, F1: 0.7495, Precision: 0.7206, Recall: 0.7808\n",
            "Epoch 36, Val Loss: 0.4794, AUROC: 0.8447, F1: 0.7245, Precision: 0.7038, Recall: 0.7463\n",
            "Best model saved with AUROC: 0.8447\n",
            "Epoch 37, Train Loss: 0.4422, AUROC: 0.8683, F1: 0.7494, Precision: 0.7214, Recall: 0.7797\n",
            "Epoch 37, Val Loss: 0.4849, AUROC: 0.8450, F1: 0.7325, Precision: 0.6585, Recall: 0.8252\n",
            "Best model saved with AUROC: 0.8450\n",
            "Epoch 38, Train Loss: 0.4402, AUROC: 0.8698, F1: 0.7494, Precision: 0.7224, Recall: 0.7786\n",
            "Epoch 38, Val Loss: 0.4854, AUROC: 0.8456, F1: 0.7208, Precision: 0.7163, Recall: 0.7253\n",
            "Best model saved with AUROC: 0.8456\n",
            "Epoch 39, Train Loss: 0.4369, AUROC: 0.8720, F1: 0.7536, Precision: 0.7256, Recall: 0.7840\n",
            "Epoch 39, Val Loss: 0.4786, AUROC: 0.8450, F1: 0.7268, Precision: 0.7077, Recall: 0.7470\n",
            "Epoch 40, Train Loss: 0.4332, AUROC: 0.8744, F1: 0.7563, Precision: 0.7292, Recall: 0.7856\n",
            "Epoch 40, Val Loss: 0.4838, AUROC: 0.8486, F1: 0.7208, Precision: 0.7287, Recall: 0.7131\n",
            "Best model saved with AUROC: 0.8486\n",
            "Epoch 41, Train Loss: 0.4325, AUROC: 0.8748, F1: 0.7551, Precision: 0.7282, Recall: 0.7841\n",
            "Epoch 41, Val Loss: 0.4784, AUROC: 0.8483, F1: 0.7270, Precision: 0.7154, Recall: 0.7390\n",
            "Epoch 42, Train Loss: 0.4269, AUROC: 0.8785, F1: 0.7590, Precision: 0.7319, Recall: 0.7882\n",
            "Epoch 42, Val Loss: 0.4808, AUROC: 0.8477, F1: 0.7172, Precision: 0.7360, Recall: 0.6994\n",
            "Epoch 43, Train Loss: 0.4264, AUROC: 0.8789, F1: 0.7601, Precision: 0.7328, Recall: 0.7894\n",
            "Epoch 43, Val Loss: 0.4775, AUROC: 0.8491, F1: 0.7308, Precision: 0.7075, Recall: 0.7558\n",
            "Best model saved with AUROC: 0.8491\n",
            "Epoch 44, Train Loss: 0.4228, AUROC: 0.8810, F1: 0.7631, Precision: 0.7345, Recall: 0.7940\n",
            "Epoch 44, Val Loss: 0.4737, AUROC: 0.8517, F1: 0.7386, Precision: 0.6857, Recall: 0.8003\n",
            "Best model saved with AUROC: 0.8517\n",
            "Epoch 45, Train Loss: 0.4179, AUROC: 0.8841, F1: 0.7658, Precision: 0.7387, Recall: 0.7949\n",
            "Epoch 45, Val Loss: 0.4776, AUROC: 0.8508, F1: 0.7347, Precision: 0.6929, Recall: 0.7818\n",
            "Epoch 46, Train Loss: 0.4163, AUROC: 0.8851, F1: 0.7681, Precision: 0.7385, Recall: 0.8002\n",
            "Epoch 46, Val Loss: 0.4743, AUROC: 0.8528, F1: 0.7380, Precision: 0.6916, Recall: 0.7911\n",
            "Best model saved with AUROC: 0.8528\n",
            "Epoch 47, Train Loss: 0.4139, AUROC: 0.8865, F1: 0.7699, Precision: 0.7421, Recall: 0.7999\n",
            "Epoch 47, Val Loss: 0.4787, AUROC: 0.8523, F1: 0.7332, Precision: 0.7186, Recall: 0.7483\n",
            "Epoch 48, Train Loss: 0.4112, AUROC: 0.8880, F1: 0.7702, Precision: 0.7421, Recall: 0.8005\n",
            "Epoch 48, Val Loss: 0.4799, AUROC: 0.8518, F1: 0.7340, Precision: 0.6953, Recall: 0.7774\n",
            "Epoch 49, Train Loss: 0.4074, AUROC: 0.8905, F1: 0.7737, Precision: 0.7447, Recall: 0.8051\n",
            "Epoch 49, Val Loss: 0.4772, AUROC: 0.8552, F1: 0.7393, Precision: 0.7039, Recall: 0.7785\n",
            "Best model saved with AUROC: 0.8552\n",
            "Epoch 50, Train Loss: 0.4039, AUROC: 0.8926, F1: 0.7764, Precision: 0.7483, Recall: 0.8068\n",
            "Epoch 50, Val Loss: 0.4777, AUROC: 0.8505, F1: 0.7232, Precision: 0.7351, Recall: 0.7117\n",
            "Epoch 51, Train Loss: 0.4026, AUROC: 0.8934, F1: 0.7780, Precision: 0.7496, Recall: 0.8087\n",
            "Epoch 51, Val Loss: 0.4809, AUROC: 0.8520, F1: 0.7370, Precision: 0.6778, Recall: 0.8076\n",
            "Epoch 52, Train Loss: 0.3998, AUROC: 0.8948, F1: 0.7777, Precision: 0.7487, Recall: 0.8089\n",
            "Epoch 52, Val Loss: 0.4762, AUROC: 0.8555, F1: 0.7433, Precision: 0.6943, Recall: 0.7998\n",
            "Best model saved with AUROC: 0.8555\n",
            "Epoch 53, Train Loss: 0.3959, AUROC: 0.8971, F1: 0.7820, Precision: 0.7523, Recall: 0.8141\n",
            "Epoch 53, Val Loss: 0.4725, AUROC: 0.8549, F1: 0.7372, Precision: 0.7192, Recall: 0.7560\n",
            "Epoch 54, Train Loss: 0.3941, AUROC: 0.8980, F1: 0.7821, Precision: 0.7532, Recall: 0.8132\n",
            "Epoch 54, Val Loss: 0.4728, AUROC: 0.8579, F1: 0.7437, Precision: 0.7016, Recall: 0.7911\n",
            "Best model saved with AUROC: 0.8579\n",
            "Epoch 55, Train Loss: 0.3921, AUROC: 0.8991, F1: 0.7836, Precision: 0.7554, Recall: 0.8139\n",
            "Epoch 55, Val Loss: 0.4942, AUROC: 0.8566, F1: 0.7408, Precision: 0.6672, Recall: 0.8327\n",
            "Epoch 56, Train Loss: 0.3876, AUROC: 0.9015, F1: 0.7866, Precision: 0.7583, Recall: 0.8171\n",
            "Epoch 56, Val Loss: 0.4772, AUROC: 0.8558, F1: 0.7395, Precision: 0.7082, Recall: 0.7737\n",
            "Epoch 57, Train Loss: 0.3843, AUROC: 0.9035, F1: 0.7882, Precision: 0.7596, Recall: 0.8190\n",
            "Epoch 57, Val Loss: 0.4710, AUROC: 0.8593, F1: 0.7443, Precision: 0.7168, Recall: 0.7740\n",
            "Best model saved with AUROC: 0.8593\n",
            "Epoch 58, Train Loss: 0.3810, AUROC: 0.9052, F1: 0.7899, Precision: 0.7615, Recall: 0.8205\n",
            "Epoch 58, Val Loss: 0.4871, AUROC: 0.8541, F1: 0.7378, Precision: 0.6959, Recall: 0.7852\n",
            "Epoch 59, Train Loss: 0.3783, AUROC: 0.9066, F1: 0.7925, Precision: 0.7654, Recall: 0.8216\n",
            "Epoch 59, Val Loss: 0.4758, AUROC: 0.8591, F1: 0.7454, Precision: 0.7069, Recall: 0.7883\n",
            "Epoch 60, Train Loss: 0.3754, AUROC: 0.9082, F1: 0.7956, Precision: 0.7693, Recall: 0.8237\n",
            "Epoch 60, Val Loss: 0.4740, AUROC: 0.8603, F1: 0.7451, Precision: 0.7117, Recall: 0.7817\n",
            "Best model saved with AUROC: 0.8603\n",
            "Epoch 61, Train Loss: 0.3712, AUROC: 0.9104, F1: 0.7982, Precision: 0.7709, Recall: 0.8275\n",
            "Epoch 61, Val Loss: 0.4841, AUROC: 0.8588, F1: 0.7438, Precision: 0.7157, Recall: 0.7742\n",
            "Epoch 62, Train Loss: 0.3704, AUROC: 0.9107, F1: 0.7974, Precision: 0.7702, Recall: 0.8266\n",
            "Epoch 62, Val Loss: 0.4801, AUROC: 0.8590, F1: 0.7443, Precision: 0.7092, Recall: 0.7831\n",
            "Epoch 63, Train Loss: 0.3655, AUROC: 0.9133, F1: 0.8003, Precision: 0.7724, Recall: 0.8304\n",
            "Epoch 63, Val Loss: 0.4886, AUROC: 0.8563, F1: 0.7416, Precision: 0.7018, Recall: 0.7862\n",
            "Epoch 64, Train Loss: 0.3622, AUROC: 0.9148, F1: 0.8023, Precision: 0.7750, Recall: 0.8316\n",
            "Epoch 64, Val Loss: 0.4897, AUROC: 0.8594, F1: 0.7456, Precision: 0.7142, Recall: 0.7798\n",
            "Epoch 65, Train Loss: 0.3599, AUROC: 0.9162, F1: 0.8049, Precision: 0.7763, Recall: 0.8356\n",
            "Epoch 65, Val Loss: 0.4956, AUROC: 0.8590, F1: 0.7400, Precision: 0.7355, Recall: 0.7446\n",
            "Epoch 66, Train Loss: 0.3574, AUROC: 0.9173, F1: 0.8072, Precision: 0.7786, Recall: 0.8380\n",
            "Epoch 66, Val Loss: 0.4954, AUROC: 0.8556, F1: 0.7316, Precision: 0.7498, Recall: 0.7143\n",
            "Epoch 67, Train Loss: 0.3520, AUROC: 0.9199, F1: 0.8098, Precision: 0.7831, Recall: 0.8385\n",
            "Epoch 67, Val Loss: 0.4861, AUROC: 0.8593, F1: 0.7428, Precision: 0.7337, Recall: 0.7521\n",
            "Epoch 68, Train Loss: 0.3508, AUROC: 0.9206, F1: 0.8097, Precision: 0.7820, Recall: 0.8395\n",
            "Epoch 68, Val Loss: 0.4844, AUROC: 0.8585, F1: 0.7466, Precision: 0.7125, Recall: 0.7842\n",
            "Epoch 69, Train Loss: 0.3487, AUROC: 0.9215, F1: 0.8130, Precision: 0.7862, Recall: 0.8417\n",
            "Epoch 69, Val Loss: 0.4958, AUROC: 0.8575, F1: 0.7414, Precision: 0.7279, Recall: 0.7554\n",
            "Epoch 70, Train Loss: 0.3435, AUROC: 0.9239, F1: 0.8148, Precision: 0.7880, Recall: 0.8436\n",
            "Epoch 70, Val Loss: 0.5005, AUROC: 0.8604, F1: 0.7435, Precision: 0.7321, Recall: 0.7553\n",
            "Best model saved with AUROC: 0.8604\n",
            "Epoch 71, Train Loss: 0.3418, AUROC: 0.9247, F1: 0.8152, Precision: 0.7874, Recall: 0.8450\n",
            "Epoch 71, Val Loss: 0.4878, AUROC: 0.8613, F1: 0.7501, Precision: 0.7090, Recall: 0.7964\n",
            "Best model saved with AUROC: 0.8613\n"
          ]
        },
        {
          "output_type": "error",
          "ename": "KeyboardInterrupt",
          "evalue": "",
          "traceback": [
            "\u001b[0;31m---------------------------------------------------------------------------\u001b[0m",
            "\u001b[0;31mKeyboardInterrupt\u001b[0m                         Traceback (most recent call last)",
            "\u001b[0;32m<ipython-input-65-5568eafad56c>\u001b[0m in \u001b[0;36m<cell line: 0>\u001b[0;34m()\u001b[0m\n\u001b[1;32m     21\u001b[0m     \u001b[0mtotal_train_labels\u001b[0m \u001b[0;34m=\u001b[0m \u001b[0;34m[\u001b[0m\u001b[0;34m]\u001b[0m\u001b[0;34m\u001b[0m\u001b[0;34m\u001b[0m\u001b[0m\n\u001b[1;32m     22\u001b[0m \u001b[0;34m\u001b[0m\u001b[0m\n\u001b[0;32m---> 23\u001b[0;31m     \u001b[0;32mfor\u001b[0m \u001b[0mpep_ids\u001b[0m\u001b[0;34m,\u001b[0m \u001b[0mmhc_ids\u001b[0m\u001b[0;34m,\u001b[0m \u001b[0mscores\u001b[0m \u001b[0;32min\u001b[0m \u001b[0mtrain_loader\u001b[0m\u001b[0;34m:\u001b[0m\u001b[0;34m\u001b[0m\u001b[0;34m\u001b[0m\u001b[0m\n\u001b[0m\u001b[1;32m     24\u001b[0m         \u001b[0mpep_ids\u001b[0m\u001b[0;34m,\u001b[0m \u001b[0mmhc_ids\u001b[0m\u001b[0;34m,\u001b[0m \u001b[0mscores\u001b[0m \u001b[0;34m=\u001b[0m \u001b[0mpep_ids\u001b[0m\u001b[0;34m.\u001b[0m\u001b[0mto\u001b[0m\u001b[0;34m(\u001b[0m\u001b[0mdevice\u001b[0m\u001b[0;34m)\u001b[0m\u001b[0;34m,\u001b[0m \u001b[0mmhc_ids\u001b[0m\u001b[0;34m.\u001b[0m\u001b[0mto\u001b[0m\u001b[0;34m(\u001b[0m\u001b[0mdevice\u001b[0m\u001b[0;34m)\u001b[0m\u001b[0;34m,\u001b[0m \u001b[0mscores\u001b[0m\u001b[0;34m.\u001b[0m\u001b[0mto\u001b[0m\u001b[0;34m(\u001b[0m\u001b[0mdevice\u001b[0m\u001b[0;34m)\u001b[0m\u001b[0;34m\u001b[0m\u001b[0;34m\u001b[0m\u001b[0m\n\u001b[1;32m     25\u001b[0m         \u001b[0moptimizer\u001b[0m\u001b[0;34m.\u001b[0m\u001b[0mzero_grad\u001b[0m\u001b[0;34m(\u001b[0m\u001b[0;34m)\u001b[0m\u001b[0;34m\u001b[0m\u001b[0;34m\u001b[0m\u001b[0m\n",
            "\u001b[0;32m/usr/local/lib/python3.11/dist-packages/torch/utils/data/dataloader.py\u001b[0m in \u001b[0;36m__next__\u001b[0;34m(self)\u001b[0m\n\u001b[1;32m    699\u001b[0m                 \u001b[0;31m# TODO(https://github.com/pytorch/pytorch/issues/76750)\u001b[0m\u001b[0;34m\u001b[0m\u001b[0;34m\u001b[0m\u001b[0m\n\u001b[1;32m    700\u001b[0m                 \u001b[0mself\u001b[0m\u001b[0;34m.\u001b[0m\u001b[0m_reset\u001b[0m\u001b[0;34m(\u001b[0m\u001b[0;34m)\u001b[0m  \u001b[0;31m# type: ignore[call-arg]\u001b[0m\u001b[0;34m\u001b[0m\u001b[0;34m\u001b[0m\u001b[0m\n\u001b[0;32m--> 701\u001b[0;31m             \u001b[0mdata\u001b[0m \u001b[0;34m=\u001b[0m \u001b[0mself\u001b[0m\u001b[0;34m.\u001b[0m\u001b[0m_next_data\u001b[0m\u001b[0;34m(\u001b[0m\u001b[0;34m)\u001b[0m\u001b[0;34m\u001b[0m\u001b[0;34m\u001b[0m\u001b[0m\n\u001b[0m\u001b[1;32m    702\u001b[0m             \u001b[0mself\u001b[0m\u001b[0;34m.\u001b[0m\u001b[0m_num_yielded\u001b[0m \u001b[0;34m+=\u001b[0m \u001b[0;36m1\u001b[0m\u001b[0;34m\u001b[0m\u001b[0;34m\u001b[0m\u001b[0m\n\u001b[1;32m    703\u001b[0m             if (\n",
            "\u001b[0;32m/usr/local/lib/python3.11/dist-packages/torch/utils/data/dataloader.py\u001b[0m in \u001b[0;36m_next_data\u001b[0;34m(self)\u001b[0m\n\u001b[1;32m    755\u001b[0m     \u001b[0;32mdef\u001b[0m \u001b[0m_next_data\u001b[0m\u001b[0;34m(\u001b[0m\u001b[0mself\u001b[0m\u001b[0;34m)\u001b[0m\u001b[0;34m:\u001b[0m\u001b[0;34m\u001b[0m\u001b[0;34m\u001b[0m\u001b[0m\n\u001b[1;32m    756\u001b[0m         \u001b[0mindex\u001b[0m \u001b[0;34m=\u001b[0m \u001b[0mself\u001b[0m\u001b[0;34m.\u001b[0m\u001b[0m_next_index\u001b[0m\u001b[0;34m(\u001b[0m\u001b[0;34m)\u001b[0m  \u001b[0;31m# may raise StopIteration\u001b[0m\u001b[0;34m\u001b[0m\u001b[0;34m\u001b[0m\u001b[0m\n\u001b[0;32m--> 757\u001b[0;31m         \u001b[0mdata\u001b[0m \u001b[0;34m=\u001b[0m \u001b[0mself\u001b[0m\u001b[0;34m.\u001b[0m\u001b[0m_dataset_fetcher\u001b[0m\u001b[0;34m.\u001b[0m\u001b[0mfetch\u001b[0m\u001b[0;34m(\u001b[0m\u001b[0mindex\u001b[0m\u001b[0;34m)\u001b[0m  \u001b[0;31m# may raise StopIteration\u001b[0m\u001b[0;34m\u001b[0m\u001b[0;34m\u001b[0m\u001b[0m\n\u001b[0m\u001b[1;32m    758\u001b[0m         \u001b[0;32mif\u001b[0m \u001b[0mself\u001b[0m\u001b[0;34m.\u001b[0m\u001b[0m_pin_memory\u001b[0m\u001b[0;34m:\u001b[0m\u001b[0;34m\u001b[0m\u001b[0;34m\u001b[0m\u001b[0m\n\u001b[1;32m    759\u001b[0m             \u001b[0mdata\u001b[0m \u001b[0;34m=\u001b[0m \u001b[0m_utils\u001b[0m\u001b[0;34m.\u001b[0m\u001b[0mpin_memory\u001b[0m\u001b[0;34m.\u001b[0m\u001b[0mpin_memory\u001b[0m\u001b[0;34m(\u001b[0m\u001b[0mdata\u001b[0m\u001b[0;34m,\u001b[0m \u001b[0mself\u001b[0m\u001b[0;34m.\u001b[0m\u001b[0m_pin_memory_device\u001b[0m\u001b[0;34m)\u001b[0m\u001b[0;34m\u001b[0m\u001b[0;34m\u001b[0m\u001b[0m\n",
            "\u001b[0;32m/usr/local/lib/python3.11/dist-packages/torch/utils/data/_utils/fetch.py\u001b[0m in \u001b[0;36mfetch\u001b[0;34m(self, possibly_batched_index)\u001b[0m\n\u001b[1;32m     50\u001b[0m                 \u001b[0mdata\u001b[0m \u001b[0;34m=\u001b[0m \u001b[0mself\u001b[0m\u001b[0;34m.\u001b[0m\u001b[0mdataset\u001b[0m\u001b[0;34m.\u001b[0m\u001b[0m__getitems__\u001b[0m\u001b[0;34m(\u001b[0m\u001b[0mpossibly_batched_index\u001b[0m\u001b[0;34m)\u001b[0m\u001b[0;34m\u001b[0m\u001b[0;34m\u001b[0m\u001b[0m\n\u001b[1;32m     51\u001b[0m             \u001b[0;32melse\u001b[0m\u001b[0;34m:\u001b[0m\u001b[0;34m\u001b[0m\u001b[0;34m\u001b[0m\u001b[0m\n\u001b[0;32m---> 52\u001b[0;31m                 \u001b[0mdata\u001b[0m \u001b[0;34m=\u001b[0m \u001b[0;34m[\u001b[0m\u001b[0mself\u001b[0m\u001b[0;34m.\u001b[0m\u001b[0mdataset\u001b[0m\u001b[0;34m[\u001b[0m\u001b[0midx\u001b[0m\u001b[0;34m]\u001b[0m \u001b[0;32mfor\u001b[0m \u001b[0midx\u001b[0m \u001b[0;32min\u001b[0m \u001b[0mpossibly_batched_index\u001b[0m\u001b[0;34m]\u001b[0m\u001b[0;34m\u001b[0m\u001b[0;34m\u001b[0m\u001b[0m\n\u001b[0m\u001b[1;32m     53\u001b[0m         \u001b[0;32melse\u001b[0m\u001b[0;34m:\u001b[0m\u001b[0;34m\u001b[0m\u001b[0;34m\u001b[0m\u001b[0m\n\u001b[1;32m     54\u001b[0m             \u001b[0mdata\u001b[0m \u001b[0;34m=\u001b[0m \u001b[0mself\u001b[0m\u001b[0;34m.\u001b[0m\u001b[0mdataset\u001b[0m\u001b[0;34m[\u001b[0m\u001b[0mpossibly_batched_index\u001b[0m\u001b[0;34m]\u001b[0m\u001b[0;34m\u001b[0m\u001b[0;34m\u001b[0m\u001b[0m\n",
            "\u001b[0;32m/usr/local/lib/python3.11/dist-packages/torch/utils/data/_utils/fetch.py\u001b[0m in \u001b[0;36m<listcomp>\u001b[0;34m(.0)\u001b[0m\n\u001b[1;32m     50\u001b[0m                 \u001b[0mdata\u001b[0m \u001b[0;34m=\u001b[0m \u001b[0mself\u001b[0m\u001b[0;34m.\u001b[0m\u001b[0mdataset\u001b[0m\u001b[0;34m.\u001b[0m\u001b[0m__getitems__\u001b[0m\u001b[0;34m(\u001b[0m\u001b[0mpossibly_batched_index\u001b[0m\u001b[0;34m)\u001b[0m\u001b[0;34m\u001b[0m\u001b[0;34m\u001b[0m\u001b[0m\n\u001b[1;32m     51\u001b[0m             \u001b[0;32melse\u001b[0m\u001b[0;34m:\u001b[0m\u001b[0;34m\u001b[0m\u001b[0;34m\u001b[0m\u001b[0m\n\u001b[0;32m---> 52\u001b[0;31m                 \u001b[0mdata\u001b[0m \u001b[0;34m=\u001b[0m \u001b[0;34m[\u001b[0m\u001b[0mself\u001b[0m\u001b[0;34m.\u001b[0m\u001b[0mdataset\u001b[0m\u001b[0;34m[\u001b[0m\u001b[0midx\u001b[0m\u001b[0;34m]\u001b[0m \u001b[0;32mfor\u001b[0m \u001b[0midx\u001b[0m \u001b[0;32min\u001b[0m \u001b[0mpossibly_batched_index\u001b[0m\u001b[0;34m]\u001b[0m\u001b[0;34m\u001b[0m\u001b[0;34m\u001b[0m\u001b[0m\n\u001b[0m\u001b[1;32m     53\u001b[0m         \u001b[0;32melse\u001b[0m\u001b[0;34m:\u001b[0m\u001b[0;34m\u001b[0m\u001b[0;34m\u001b[0m\u001b[0m\n\u001b[1;32m     54\u001b[0m             \u001b[0mdata\u001b[0m \u001b[0;34m=\u001b[0m \u001b[0mself\u001b[0m\u001b[0;34m.\u001b[0m\u001b[0mdataset\u001b[0m\u001b[0;34m[\u001b[0m\u001b[0mpossibly_batched_index\u001b[0m\u001b[0;34m]\u001b[0m\u001b[0;34m\u001b[0m\u001b[0;34m\u001b[0m\u001b[0m\n",
            "\u001b[0;32m/usr/local/lib/python3.11/dist-packages/torch/utils/data/dataset.py\u001b[0m in \u001b[0;36m__getitem__\u001b[0;34m(self, index)\u001b[0m\n\u001b[1;32m    209\u001b[0m \u001b[0;34m\u001b[0m\u001b[0m\n\u001b[1;32m    210\u001b[0m     \u001b[0;32mdef\u001b[0m \u001b[0m__getitem__\u001b[0m\u001b[0;34m(\u001b[0m\u001b[0mself\u001b[0m\u001b[0;34m,\u001b[0m \u001b[0mindex\u001b[0m\u001b[0;34m)\u001b[0m\u001b[0;34m:\u001b[0m\u001b[0;34m\u001b[0m\u001b[0;34m\u001b[0m\u001b[0m\n\u001b[0;32m--> 211\u001b[0;31m         \u001b[0;32mreturn\u001b[0m \u001b[0mtuple\u001b[0m\u001b[0;34m(\u001b[0m\u001b[0mtensor\u001b[0m\u001b[0;34m[\u001b[0m\u001b[0mindex\u001b[0m\u001b[0;34m]\u001b[0m \u001b[0;32mfor\u001b[0m \u001b[0mtensor\u001b[0m \u001b[0;32min\u001b[0m \u001b[0mself\u001b[0m\u001b[0;34m.\u001b[0m\u001b[0mtensors\u001b[0m\u001b[0;34m)\u001b[0m\u001b[0;34m\u001b[0m\u001b[0;34m\u001b[0m\u001b[0m\n\u001b[0m\u001b[1;32m    212\u001b[0m \u001b[0;34m\u001b[0m\u001b[0m\n\u001b[1;32m    213\u001b[0m     \u001b[0;32mdef\u001b[0m \u001b[0m__len__\u001b[0m\u001b[0;34m(\u001b[0m\u001b[0mself\u001b[0m\u001b[0;34m)\u001b[0m\u001b[0;34m:\u001b[0m\u001b[0;34m\u001b[0m\u001b[0;34m\u001b[0m\u001b[0m\n",
            "\u001b[0;32m/usr/local/lib/python3.11/dist-packages/torch/utils/data/dataset.py\u001b[0m in \u001b[0;36m<genexpr>\u001b[0;34m(.0)\u001b[0m\n\u001b[1;32m    209\u001b[0m \u001b[0;34m\u001b[0m\u001b[0m\n\u001b[1;32m    210\u001b[0m     \u001b[0;32mdef\u001b[0m \u001b[0m__getitem__\u001b[0m\u001b[0;34m(\u001b[0m\u001b[0mself\u001b[0m\u001b[0;34m,\u001b[0m \u001b[0mindex\u001b[0m\u001b[0;34m)\u001b[0m\u001b[0;34m:\u001b[0m\u001b[0;34m\u001b[0m\u001b[0;34m\u001b[0m\u001b[0m\n\u001b[0;32m--> 211\u001b[0;31m         \u001b[0;32mreturn\u001b[0m \u001b[0mtuple\u001b[0m\u001b[0;34m(\u001b[0m\u001b[0mtensor\u001b[0m\u001b[0;34m[\u001b[0m\u001b[0mindex\u001b[0m\u001b[0;34m]\u001b[0m \u001b[0;32mfor\u001b[0m \u001b[0mtensor\u001b[0m \u001b[0;32min\u001b[0m \u001b[0mself\u001b[0m\u001b[0;34m.\u001b[0m\u001b[0mtensors\u001b[0m\u001b[0;34m)\u001b[0m\u001b[0;34m\u001b[0m\u001b[0;34m\u001b[0m\u001b[0m\n\u001b[0m\u001b[1;32m    212\u001b[0m \u001b[0;34m\u001b[0m\u001b[0m\n\u001b[1;32m    213\u001b[0m     \u001b[0;32mdef\u001b[0m \u001b[0m__len__\u001b[0m\u001b[0;34m(\u001b[0m\u001b[0mself\u001b[0m\u001b[0;34m)\u001b[0m\u001b[0;34m:\u001b[0m\u001b[0;34m\u001b[0m\u001b[0;34m\u001b[0m\u001b[0m\n",
            "\u001b[0;31mKeyboardInterrupt\u001b[0m: "
          ]
        }
      ]
    },
    {
      "cell_type": "code",
      "source": [
        "plt.figure(figsize=(8,4))\n",
        "plt.plot(train_losses[:60], label='Training Loss')\n",
        "plt.plot(val_losses[:60], label='Validation Loss')\n",
        "plt.xlabel('Epoch')\n",
        "plt.ylabel('Loss')\n",
        "plt.title('Training and Validation Loss')\n",
        "plt.legend()"
      ],
      "metadata": {
        "colab": {
          "base_uri": "https://localhost:8080/",
          "height": 427
        },
        "id": "EE32-iP4udZQ",
        "outputId": "658db722-87f6-44f2-b3bb-f77cdf2a781f"
      },
      "execution_count": null,
      "outputs": [
        {
          "output_type": "execute_result",
          "data": {
            "text/plain": [
              "<matplotlib.legend.Legend at 0x7a445e54a010>"
            ]
          },
          "metadata": {},
          "execution_count": 66
        },
        {
          "output_type": "display_data",
          "data": {
            "text/plain": [
              "<Figure size 800x400 with 1 Axes>"
            ],
            "image/png": "[encoded data removed]"
          },
          "metadata": {}
        }
      ]
    },
    {
      "cell_type": "code",
      "source": [
        "save_path = '/content/drive/MyDrive/classification_model.pth'"
      ],
      "metadata": {
        "id": "z9SFBMZ0Hd2r"
      },
      "execution_count": 43,
      "outputs": []
    },
    {
      "cell_type": "code",
      "source": [
        "from sklearn.metrics import (\n",
        "    precision_recall_curve,\n",
        "    roc_curve,\n",
        "    auc,\n",
        "    confusion_matrix)\n",
        "\n",
        "model.load_state_dict(torch.load(save_path,weights_only=True))\n",
        "model.eval()\n",
        "total_test_preds = []\n",
        "total_test_labels = []\n",
        "test_loss = 0\n",
        "\n",
        "with torch.no_grad():\n",
        "    for pep_ids, mhc_ids, scores in test_loader:\n",
        "        pep_ids, mhc_ids, scores = pep_ids.to(device), mhc_ids.to(device), scores.to(device)\n",
        "        outputs = model(pep_ids, mhc_ids).squeeze()\n",
        "        loss = criterion(outputs, scores)\n",
        "        test_loss += loss.item()\n",
        "        total_test_preds.append(torch.sigmoid(outputs).cpu())\n",
        "        total_test_labels.append(scores.cpu())\n",
        "\n",
        "test_loss /= len(test_loader)\n",
        "total_test_preds = torch.cat(total_test_preds).numpy()\n",
        "total_test_labels = torch.cat(total_test_labels).numpy()\n",
        "threshold = 0.4256\n",
        "binary_preds = (total_test_preds >= threshold).astype(int)\n",
        "test_auroc = roc_auc_score(total_test_labels, total_test_preds)\n",
        "test_f1 = f1_score(total_test_labels, binary_preds)\n",
        "test_precision = precision_score(total_test_labels, binary_preds)\n",
        "test_recall = recall_score(total_test_labels, binary_preds)\n",
        "print(f\"Test Loss: {test_loss:.4f}, AUROC: {test_auroc:.4f}, F1: {test_f1:.4f}, Precision: {test_precision:.4f}, Recall: {test_recall:.4f}\")\n"
      ],
      "metadata": {
        "colab": {
          "base_uri": "https://localhost:8080/"
        },
        "id": "nCB2qXrWsrSc",
        "outputId": "8c72156a-8ef6-4354-e1f4-b94eb7bffeca"
      },
      "execution_count": 44,
      "outputs": [
        {
          "output_type": "stream",
          "name": "stdout",
          "text": [
            "Test Loss: 0.4691, AUROC: 0.8700, F1: 0.7567, Precision: 0.7140, Recall: 0.8048\n"
          ]
        }
      ]
    },
    {
      "cell_type": "code",
      "source": [
        "precision, recall, _ = precision_recall_curve(total_test_labels, total_test_preds)\n",
        "pr_auc = auc(recall, precision)\n",
        "\n",
        "\n",
        "plt.figure(figsize=(6, 6))\n",
        "plt.plot(recall, precision, label=f'PR AUC = {pr_auc:.4f}', color='blue')\n",
        "plt.xlabel('Recall')\n",
        "plt.ylabel('Precision')\n",
        "plt.title('Precision-Recall Curve')\n",
        "plt.legend(loc='best')\n",
        "plt.grid()\n",
        "plt.show()"
      ],
      "metadata": {
        "colab": {
          "base_uri": "https://localhost:8080/",
          "height": 564
        },
        "id": "Z_Tc22QewAnQ",
        "outputId": "9159cc1a-6c64-4a40-b5e0-c0f9fefbb905"
      },
      "execution_count": null,
      "outputs": [
        {
          "output_type": "display_data",
          "data": {
            "text/plain": [
              "<Figure size 600x600 with 1 Axes>"
            ],
            "image/png": "[encoded data removed]"
          },
          "metadata": {}
        }
      ]
    },
    {
      "cell_type": "code",
      "source": [
        "fpr, tpr, _ = roc_curve(total_test_labels, total_test_preds)\n",
        "roc_auc = auc(fpr, tpr)\n",
        "\n",
        "plt.figure(figsize=(6, 6))\n",
        "plt.plot(fpr, tpr, label=f'AUROC = {roc_auc:.4f}', color='darkorange')\n",
        "plt.xlabel('False Positive Rate')\n",
        "plt.ylabel('True Positive Rate')\n",
        "plt.title('ROC Curve')\n",
        "plt.legend(loc='best')\n",
        "plt.grid()\n",
        "plt.show()"
      ],
      "metadata": {
        "colab": {
          "base_uri": "https://localhost:8080/",
          "height": 564
        },
        "id": "g1nxRurywO7T",
        "outputId": "a55aa218-f0ef-43b9-c957-29783291e0d5"
      },
      "execution_count": null,
      "outputs": [
        {
          "output_type": "display_data",
          "data": {
            "text/plain": [
              "<Figure size 600x600 with 1 Axes>"
            ],
            "image/png": "[encoded data removed]"
          },
          "metadata": {}
        }
      ]
    },
    {
      "cell_type": "code",
      "source": [
        "cm = confusion_matrix(total_test_labels, binary_preds)\n",
        "\n",
        "plt.figure(figsize=(5, 4))\n",
        "sns.heatmap(cm, annot=True, fmt='d', cmap='Blues', xticklabels=['Negative (0)', 'Positive (1)'], yticklabels=['Negative (0)', 'Positive (1)'])\n",
        "plt.xlabel('Predicted Label')\n",
        "plt.ylabel('True Label')\n",
        "plt.title('Confusion Matrix')\n",
        "plt.show()"
      ],
      "metadata": {
        "colab": {
          "base_uri": "https://localhost:8080/",
          "height": 410
        },
        "id": "9sorBPP6wQ8R",
        "outputId": "3d384d0b-5fa9-4d04-9899-f1c7b2811133"
      },
      "execution_count": null,
      "outputs": [
        {
          "output_type": "display_data",
          "data": {
            "text/plain": [
              "<Figure size 500x400 with 2 Axes>"
            ],
            "image/png": "[encoded data removed]"
          },
          "metadata": {}
        }
      ]
    },
    {
      "cell_type": "markdown",
      "source": [
        "K-Fold Cross Val"
      ],
      "metadata": {
        "id": "qnC4DKoB3Tkz"
      }
    },
    {
      "cell_type": "code",
      "source": [
        "model_dim = 320\n",
        "num_heads = 4\n",
        "num_layers = 4\n",
        "dropout = 0.2\n",
        "ffdim = 512\n",
        "model = SequenceModel(model_dim, num_heads, num_layers,ffdim,dropout=dropout).to(device)\n",
        "criterion = nn.BCEWithLogitsLoss()\n",
        "optimizer = torch.optim.Adam(model.parameters(), lr=0.0001 ,weight_decay=4.691210368734568e-05)\n",
        "epochs = 200"
      ],
      "metadata": {
        "id": "9AiHMMc_3Vp-"
      },
      "execution_count": 30,
      "outputs": []
    },
    {
      "cell_type": "code",
      "source": [
        "X = torch.stack((pep_embeddings,mhc_embeddings),dim=1)\n",
        "y = torch.tensor(scoredf.values,dtype=torch.float32)"
      ],
      "metadata": {
        "id": "oxSEBgEl1DLR"
      },
      "execution_count": 14,
      "outputs": []
    },
    {
      "cell_type": "code",
      "source": [
        "X.shape"
      ],
      "metadata": {
        "colab": {
          "base_uri": "https://localhost:8080/"
        },
        "id": "49Ly0Eya1UPj",
        "outputId": "58e60cfc-ffff-4a34-a930-5f53e6f3f1cf"
      },
      "execution_count": 15,
      "outputs": [
        {
          "output_type": "execute_result",
          "data": {
            "text/plain": [
              "torch.Size([134281, 2, 320])"
            ]
          },
          "metadata": {},
          "execution_count": 15
        }
      ]
    },
    {
      "cell_type": "code",
      "source": [
        "y.shape"
      ],
      "metadata": {
        "colab": {
          "base_uri": "https://localhost:8080/"
        },
        "id": "RmPi7CW32I02",
        "outputId": "b00c48fd-30c4-401c-853c-e71f4921c421"
      },
      "execution_count": 16,
      "outputs": [
        {
          "output_type": "execute_result",
          "data": {
            "text/plain": [
              "torch.Size([134281])"
            ]
          },
          "metadata": {},
          "execution_count": 16
        }
      ]
    },
    {
      "cell_type": "code",
      "source": [
        "X_train,X_test,y_train,y_test = train_test_split(X,y,test_size=0.2,random_state=42)"
      ],
      "metadata": {
        "id": "joC6vyBk1EQI"
      },
      "execution_count": 17,
      "outputs": []
    },
    {
      "cell_type": "code",
      "source": [
        "batch_size =  256"
      ],
      "metadata": {
        "id": "4qqz8sA52Yb1"
      },
      "execution_count": 18,
      "outputs": []
    },
    {
      "cell_type": "code",
      "source": [
        "from torch.utils.data import Subset, DataLoader\n",
        "from sklearn.model_selection import KFold\n",
        "from sklearn.metrics import roc_auc_score, f1_score, precision_score, recall_score\n",
        "import torch\n",
        "import numpy as np\n",
        "import os\n",
        "\n",
        "k_folds = 5 #num of folds\n",
        "kf = KFold(n_splits=k_folds, shuffle=True, random_state=42)\n",
        "\n",
        "device = torch.device(\"cuda\" if torch.cuda.is_available() else \"cpu\")\n",
        "\n",
        "save_dir = \"/content/drive/MyDrive\"\n",
        "os.makedirs(save_dir, exist_ok=True)\n",
        "\n",
        "for fold, (train_idx, val_idx) in enumerate(kf.split(range(len(X_train)))):\n",
        "    print(f\"\\n========== Starting Fold {fold + 1}/{k_folds} ==========\")\n",
        "\n",
        "    train_dataset = TensorDataset(X_train[train_idx, 0], X_train[train_idx, 1], y_train[train_idx])\n",
        "    val_dataset = TensorDataset(X_train[val_idx, 0], X_train[val_idx, 1], y_train[val_idx])\n",
        "\n",
        "    train_loader = DataLoader(train_dataset, batch_size=batch_size, shuffle=True)\n",
        "    val_loader = DataLoader(val_dataset, batch_size=batch_size, shuffle=False)\n",
        "\n",
        "    #model init\n",
        "    model = SequenceModel(model_dim,num_heads,num_layers,ffdim)\n",
        "    model.to(device)\n",
        "    optimizer = torch.optim.AdamW(model.parameters(), lr=0.0001, weight_decay=4.691210368734568e-05)\n",
        "    criterion = torch.nn.BCEWithLogitsLoss()\n",
        "\n",
        "    #early stop params\n",
        "    best_val_auroc = 0\n",
        "    patience_counter = 0\n",
        "    patience = 10\n",
        "    threshold = 0.4256\n",
        "    save_path = os.path.join(save_dir, f\"best_model_fold_{fold + 1}.pth\")\n",
        "\n",
        "    for epoch in range(epochs):\n",
        "        #train loop\n",
        "        model.train()\n",
        "        train_loss = 0\n",
        "        total_train_preds, total_train_labels = [], []\n",
        "\n",
        "        for pep_ids, mhc_ids, scores in train_loader:\n",
        "            pep_ids, mhc_ids, scores = pep_ids.to(device), mhc_ids.to(device), scores.to(device)\n",
        "            optimizer.zero_grad()\n",
        "            outputs = model(pep_ids, mhc_ids).squeeze()\n",
        "            loss = criterion(outputs, scores)\n",
        "            loss.backward()\n",
        "            optimizer.step()\n",
        "\n",
        "            train_loss += loss.item()\n",
        "            total_train_preds.append(torch.sigmoid(outputs).detach().cpu())\n",
        "            total_train_labels.append(scores.detach().cpu())\n",
        "\n",
        "        train_loss /= len(train_loader)\n",
        "        total_train_preds = torch.cat(total_train_preds).numpy()\n",
        "        total_train_labels = torch.cat(total_train_labels).numpy()\n",
        "        train_auroc = roc_auc_score(total_train_labels, total_train_preds)\n",
        "        train_f1 = f1_score(total_train_labels, total_train_preds > threshold, zero_division=0)\n",
        "        train_precision = precision_score(total_train_labels, total_train_preds > threshold, zero_division=0)\n",
        "        train_recall = recall_score(total_train_labels, total_train_preds > threshold, zero_division=0)\n",
        "\n",
        "        print(f\"Epoch {epoch+1}, Train Loss: {train_loss:.4f}, AUROC: {train_auroc:.4f}, F1: {train_f1:.4f}, Precision: {train_precision:.4f}, Recall: {train_recall:.4f}\")\n",
        "\n",
        "        #val loop\n",
        "        model.eval()\n",
        "        val_loss = 0\n",
        "        total_val_preds, total_val_labels = [], []\n",
        "\n",
        "        with torch.no_grad():\n",
        "            for pep_ids, mhc_ids, scores in val_loader:\n",
        "                pep_ids, mhc_ids, scores = pep_ids.to(device), mhc_ids.to(device), scores.to(device)\n",
        "                outputs = model(pep_ids, mhc_ids).squeeze()\n",
        "                loss = criterion(outputs, scores)\n",
        "                val_loss += loss.item()\n",
        "                total_val_preds.append(torch.sigmoid(outputs).cpu())\n",
        "                total_val_labels.append(scores.cpu())\n",
        "\n",
        "        val_loss /= len(val_loader)\n",
        "        total_val_preds = torch.cat(total_val_preds).numpy()\n",
        "        total_val_labels = torch.cat(total_val_labels).numpy()\n",
        "        val_auroc = roc_auc_score(total_val_labels, total_val_preds)\n",
        "        val_f1 = f1_score(total_val_labels, total_val_preds > threshold)\n",
        "        val_precision = precision_score(total_val_labels, total_val_preds > threshold)\n",
        "        val_recall = recall_score(total_val_labels, total_val_preds > threshold)\n",
        "\n",
        "        print(f\"Epoch {epoch+1}, Val Loss: {val_loss:.4f}, AUROC: {val_auroc:.4f}, F1: {val_f1:.4f}, Precision: {val_precision:.4f}, Recall: {val_recall:.4f}\")\n",
        "\n",
        "        #earlystop\n",
        "        if val_auroc > best_val_auroc:\n",
        "            best_val_auroc = val_auroc\n",
        "            patience_counter = 0\n",
        "            torch.save(model.state_dict(), save_path)\n",
        "            print(f\"Best model saved for Fold {fold+1} with AUROC: {best_val_auroc:.4f}\")\n",
        "        else:\n",
        "            patience_counter += 1\n",
        "            if patience_counter >= patience:\n",
        "                print(f\"Early stopping at epoch {epoch+1}. Best Val AUROC: {best_val_auroc:.4f}\")\n",
        "                break\n",
        "\n",
        "    print(f\"========== Completed Fold {fold + 1}/{k_folds} ==========\")"
      ],
      "metadata": {
        "colab": {
          "base_uri": "https://localhost:8080/"
        },
        "id": "HDsOJVbRxyR-",
        "outputId": "86eafe01-dc2b-4019-a7d7-a519e2ff591d"
      },
      "execution_count": 31,
      "outputs": [
        {
          "output_type": "stream",
          "name": "stdout",
          "text": [
            "\n",
            "========== Starting Fold 1/5 ==========\n",
            "Epoch 1, Train Loss: 0.6026, AUROC: 0.7176, F1: 0.6075, Precision: 0.5770, Recall: 0.6414\n",
            "Epoch 1, Val Loss: 0.5651, AUROC: 0.7645, F1: 0.6434, Precision: 0.6325, Recall: 0.6547\n",
            "Best model saved for Fold 1 with AUROC: 0.7645\n",
            "Epoch 2, Train Loss: 0.5596, AUROC: 0.7694, F1: 0.6478, Precision: 0.6315, Recall: 0.6650\n",
            "Epoch 2, Val Loss: 0.5494, AUROC: 0.7826, F1: 0.6596, Precision: 0.6545, Recall: 0.6648\n",
            "Best model saved for Fold 1 with AUROC: 0.7826\n",
            "Epoch 3, Train Loss: 0.5453, AUROC: 0.7837, F1: 0.6622, Precision: 0.6453, Recall: 0.6800\n",
            "Epoch 3, Val Loss: 0.5416, AUROC: 0.7883, F1: 0.6751, Precision: 0.6437, Recall: 0.7098\n",
            "Best model saved for Fold 1 with AUROC: 0.7883\n",
            "Epoch 4, Train Loss: 0.5362, AUROC: 0.7923, F1: 0.6701, Precision: 0.6516, Recall: 0.6897\n",
            "Epoch 4, Val Loss: 0.5344, AUROC: 0.7978, F1: 0.6751, Precision: 0.6672, Recall: 0.6832\n",
            "Best model saved for Fold 1 with AUROC: 0.7978\n",
            "Epoch 5, Train Loss: 0.5251, AUROC: 0.8027, F1: 0.6806, Precision: 0.6603, Recall: 0.7022\n",
            "Epoch 5, Val Loss: 0.5235, AUROC: 0.8056, F1: 0.6855, Precision: 0.6769, Recall: 0.6944\n",
            "Best model saved for Fold 1 with AUROC: 0.8056\n",
            "Epoch 6, Train Loss: 0.5186, AUROC: 0.8090, F1: 0.6873, Precision: 0.6642, Recall: 0.7120\n",
            "Epoch 6, Val Loss: 0.5150, AUROC: 0.8125, F1: 0.6935, Precision: 0.6800, Recall: 0.7076\n",
            "Best model saved for Fold 1 with AUROC: 0.8125\n",
            "Epoch 7, Train Loss: 0.5081, AUROC: 0.8180, F1: 0.6971, Precision: 0.6763, Recall: 0.7193\n",
            "Epoch 7, Val Loss: 0.5175, AUROC: 0.8142, F1: 0.7024, Precision: 0.6522, Recall: 0.7610\n",
            "Best model saved for Fold 1 with AUROC: 0.8142\n",
            "Epoch 8, Train Loss: 0.5033, AUROC: 0.8222, F1: 0.7000, Precision: 0.6787, Recall: 0.7228\n",
            "Epoch 8, Val Loss: 0.5122, AUROC: 0.8199, F1: 0.7005, Precision: 0.6837, Recall: 0.7181\n",
            "Best model saved for Fold 1 with AUROC: 0.8199\n",
            "Epoch 9, Train Loss: 0.4967, AUROC: 0.8275, F1: 0.7056, Precision: 0.6840, Recall: 0.7286\n",
            "Epoch 9, Val Loss: 0.5105, AUROC: 0.8223, F1: 0.7082, Precision: 0.6357, Recall: 0.7995\n",
            "Best model saved for Fold 1 with AUROC: 0.8223\n",
            "Epoch 10, Train Loss: 0.4894, AUROC: 0.8333, F1: 0.7104, Precision: 0.6867, Recall: 0.7358\n",
            "Epoch 10, Val Loss: 0.5073, AUROC: 0.8241, F1: 0.7023, Precision: 0.6962, Recall: 0.7085\n",
            "Best model saved for Fold 1 with AUROC: 0.8241\n",
            "Epoch 11, Train Loss: 0.4827, AUROC: 0.8386, F1: 0.7176, Precision: 0.6938, Recall: 0.7432\n",
            "Epoch 11, Val Loss: 0.4987, AUROC: 0.8282, F1: 0.7098, Precision: 0.6813, Recall: 0.7407\n",
            "Best model saved for Fold 1 with AUROC: 0.8282\n",
            "Epoch 12, Train Loss: 0.4772, AUROC: 0.8431, F1: 0.7224, Precision: 0.6976, Recall: 0.7492\n",
            "Epoch 12, Val Loss: 0.4943, AUROC: 0.8298, F1: 0.7062, Precision: 0.7028, Recall: 0.7097\n",
            "Best model saved for Fold 1 with AUROC: 0.8298\n",
            "Epoch 13, Train Loss: 0.4727, AUROC: 0.8462, F1: 0.7244, Precision: 0.7017, Recall: 0.7486\n",
            "Epoch 13, Val Loss: 0.4914, AUROC: 0.8354, F1: 0.7218, Precision: 0.6712, Recall: 0.7807\n",
            "Best model saved for Fold 1 with AUROC: 0.8354\n",
            "Epoch 14, Train Loss: 0.4659, AUROC: 0.8515, F1: 0.7308, Precision: 0.7050, Recall: 0.7585\n",
            "Epoch 14, Val Loss: 0.4867, AUROC: 0.8376, F1: 0.7223, Precision: 0.6845, Recall: 0.7644\n",
            "Best model saved for Fold 1 with AUROC: 0.8376\n",
            "Epoch 15, Train Loss: 0.4591, AUROC: 0.8564, F1: 0.7359, Precision: 0.7095, Recall: 0.7644\n",
            "Epoch 15, Val Loss: 0.4888, AUROC: 0.8393, F1: 0.7133, Precision: 0.7208, Recall: 0.7060\n",
            "Best model saved for Fold 1 with AUROC: 0.8393\n",
            "Epoch 16, Train Loss: 0.4543, AUROC: 0.8596, F1: 0.7378, Precision: 0.7116, Recall: 0.7660\n",
            "Epoch 16, Val Loss: 0.4835, AUROC: 0.8395, F1: 0.7175, Precision: 0.6999, Recall: 0.7359\n",
            "Best model saved for Fold 1 with AUROC: 0.8395\n",
            "Epoch 17, Train Loss: 0.4458, AUROC: 0.8656, F1: 0.7457, Precision: 0.7211, Recall: 0.7719\n",
            "Epoch 17, Val Loss: 0.4788, AUROC: 0.8439, F1: 0.7266, Precision: 0.6952, Recall: 0.7610\n",
            "Best model saved for Fold 1 with AUROC: 0.8439\n",
            "Epoch 18, Train Loss: 0.4436, AUROC: 0.8674, F1: 0.7471, Precision: 0.7208, Recall: 0.7755\n",
            "Epoch 18, Val Loss: 0.4829, AUROC: 0.8414, F1: 0.7243, Precision: 0.6927, Recall: 0.7590\n",
            "Epoch 19, Train Loss: 0.4375, AUROC: 0.8714, F1: 0.7519, Precision: 0.7248, Recall: 0.7812\n",
            "Epoch 19, Val Loss: 0.4882, AUROC: 0.8451, F1: 0.7293, Precision: 0.6666, Recall: 0.8050\n",
            "Best model saved for Fold 1 with AUROC: 0.8451\n",
            "Epoch 20, Train Loss: 0.4298, AUROC: 0.8764, F1: 0.7572, Precision: 0.7299, Recall: 0.7866\n",
            "Epoch 20, Val Loss: 0.4873, AUROC: 0.8427, F1: 0.7124, Precision: 0.7291, Recall: 0.6964\n",
            "Epoch 21, Train Loss: 0.4237, AUROC: 0.8802, F1: 0.7615, Precision: 0.7336, Recall: 0.7915\n",
            "Epoch 21, Val Loss: 0.4841, AUROC: 0.8466, F1: 0.7185, Precision: 0.7323, Recall: 0.7052\n",
            "Best model saved for Fold 1 with AUROC: 0.8466\n",
            "Epoch 22, Train Loss: 0.4198, AUROC: 0.8827, F1: 0.7646, Precision: 0.7379, Recall: 0.7934\n",
            "Epoch 22, Val Loss: 0.4723, AUROC: 0.8511, F1: 0.7349, Precision: 0.6978, Recall: 0.7762\n",
            "Best model saved for Fold 1 with AUROC: 0.8511\n",
            "Epoch 23, Train Loss: 0.4117, AUROC: 0.8878, F1: 0.7704, Precision: 0.7438, Recall: 0.7989\n",
            "Epoch 23, Val Loss: 0.4819, AUROC: 0.8497, F1: 0.7334, Precision: 0.6883, Recall: 0.7849\n",
            "Epoch 24, Train Loss: 0.4057, AUROC: 0.8912, F1: 0.7742, Precision: 0.7466, Recall: 0.8040\n",
            "Epoch 24, Val Loss: 0.4839, AUROC: 0.8510, F1: 0.7274, Precision: 0.7248, Recall: 0.7299\n",
            "Epoch 25, Train Loss: 0.4028, AUROC: 0.8929, F1: 0.7752, Precision: 0.7488, Recall: 0.8036\n",
            "Epoch 25, Val Loss: 0.4757, AUROC: 0.8523, F1: 0.7305, Precision: 0.7350, Recall: 0.7260\n",
            "Best model saved for Fold 1 with AUROC: 0.8523\n",
            "Epoch 26, Train Loss: 0.3938, AUROC: 0.8981, F1: 0.7841, Precision: 0.7570, Recall: 0.8132\n",
            "Epoch 26, Val Loss: 0.4809, AUROC: 0.8563, F1: 0.7420, Precision: 0.7064, Recall: 0.7813\n",
            "Best model saved for Fold 1 with AUROC: 0.8563\n",
            "Epoch 27, Train Loss: 0.3892, AUROC: 0.9007, F1: 0.7861, Precision: 0.7578, Recall: 0.8166\n",
            "Epoch 27, Val Loss: 0.4795, AUROC: 0.8535, F1: 0.7387, Precision: 0.6945, Recall: 0.7889\n",
            "Epoch 28, Train Loss: 0.3842, AUROC: 0.9035, F1: 0.7894, Precision: 0.7613, Recall: 0.8196\n",
            "Epoch 28, Val Loss: 0.4745, AUROC: 0.8569, F1: 0.7421, Precision: 0.7157, Recall: 0.7704\n",
            "Best model saved for Fold 1 with AUROC: 0.8569\n",
            "Epoch 29, Train Loss: 0.3772, AUROC: 0.9071, F1: 0.7940, Precision: 0.7671, Recall: 0.8229\n",
            "Epoch 29, Val Loss: 0.4773, AUROC: 0.8573, F1: 0.7429, Precision: 0.6946, Recall: 0.7984\n",
            "Best model saved for Fold 1 with AUROC: 0.8573\n",
            "Epoch 30, Train Loss: 0.3721, AUROC: 0.9098, F1: 0.7977, Precision: 0.7697, Recall: 0.8277\n",
            "Epoch 30, Val Loss: 0.4774, AUROC: 0.8555, F1: 0.7421, Precision: 0.7031, Recall: 0.7857\n",
            "Epoch 31, Train Loss: 0.3641, AUROC: 0.9139, F1: 0.8025, Precision: 0.7746, Recall: 0.8325\n",
            "Epoch 31, Val Loss: 0.4873, AUROC: 0.8572, F1: 0.7377, Precision: 0.7336, Recall: 0.7418\n",
            "Epoch 32, Train Loss: 0.3587, AUROC: 0.9166, F1: 0.8059, Precision: 0.7792, Recall: 0.8345\n",
            "Epoch 32, Val Loss: 0.4790, AUROC: 0.8611, F1: 0.7497, Precision: 0.6911, Recall: 0.8192\n",
            "Best model saved for Fold 1 with AUROC: 0.8611\n",
            "Epoch 33, Train Loss: 0.3525, AUROC: 0.9197, F1: 0.8082, Precision: 0.7797, Recall: 0.8389\n",
            "Epoch 33, Val Loss: 0.4855, AUROC: 0.8566, F1: 0.7415, Precision: 0.7288, Recall: 0.7547\n",
            "Epoch 34, Train Loss: 0.3474, AUROC: 0.9221, F1: 0.8130, Precision: 0.7866, Recall: 0.8413\n",
            "Epoch 34, Val Loss: 0.4833, AUROC: 0.8615, F1: 0.7483, Precision: 0.7016, Recall: 0.8017\n",
            "Best model saved for Fold 1 with AUROC: 0.8615\n",
            "Epoch 35, Train Loss: 0.3388, AUROC: 0.9261, F1: 0.8165, Precision: 0.7890, Recall: 0.8460\n",
            "Epoch 35, Val Loss: 0.4967, AUROC: 0.8582, F1: 0.7453, Precision: 0.7257, Recall: 0.7659\n",
            "Epoch 36, Train Loss: 0.3334, AUROC: 0.9285, F1: 0.8200, Precision: 0.7931, Recall: 0.8488\n",
            "Epoch 36, Val Loss: 0.4860, AUROC: 0.8609, F1: 0.7419, Precision: 0.7328, Recall: 0.7513\n",
            "Epoch 37, Train Loss: 0.3282, AUROC: 0.9308, F1: 0.8234, Precision: 0.7960, Recall: 0.8526\n",
            "Epoch 37, Val Loss: 0.5106, AUROC: 0.8582, F1: 0.7411, Precision: 0.7410, Recall: 0.7412\n",
            "Epoch 38, Train Loss: 0.3240, AUROC: 0.9326, F1: 0.8252, Precision: 0.7994, Recall: 0.8528\n",
            "Epoch 38, Val Loss: 0.4956, AUROC: 0.8557, F1: 0.7415, Precision: 0.7131, Recall: 0.7723\n",
            "Epoch 39, Train Loss: 0.3163, AUROC: 0.9360, F1: 0.8306, Precision: 0.8034, Recall: 0.8596\n",
            "Epoch 39, Val Loss: 0.5077, AUROC: 0.8619, F1: 0.7465, Precision: 0.7117, Recall: 0.7847\n",
            "Best model saved for Fold 1 with AUROC: 0.8619\n",
            "Epoch 40, Train Loss: 0.3104, AUROC: 0.9385, F1: 0.8359, Precision: 0.8101, Recall: 0.8633\n",
            "Epoch 40, Val Loss: 0.5138, AUROC: 0.8583, F1: 0.7423, Precision: 0.7139, Recall: 0.7731\n",
            "Epoch 41, Train Loss: 0.3025, AUROC: 0.9416, F1: 0.8390, Precision: 0.8140, Recall: 0.8657\n",
            "Epoch 41, Val Loss: 0.5100, AUROC: 0.8601, F1: 0.7480, Precision: 0.6968, Recall: 0.8074\n",
            "Epoch 42, Train Loss: 0.2987, AUROC: 0.9431, F1: 0.8416, Precision: 0.8152, Recall: 0.8697\n",
            "Epoch 42, Val Loss: 0.5055, AUROC: 0.8595, F1: 0.7422, Precision: 0.7269, Recall: 0.7582\n",
            "Epoch 43, Train Loss: 0.2925, AUROC: 0.9456, F1: 0.8439, Precision: 0.8191, Recall: 0.8703\n",
            "Epoch 43, Val Loss: 0.5237, AUROC: 0.8572, F1: 0.7438, Precision: 0.7001, Recall: 0.7932\n",
            "Epoch 44, Train Loss: 0.2873, AUROC: 0.9475, F1: 0.8476, Precision: 0.8228, Recall: 0.8740\n",
            "Epoch 44, Val Loss: 0.5383, AUROC: 0.8601, F1: 0.7459, Precision: 0.7253, Recall: 0.7677\n",
            "Epoch 45, Train Loss: 0.2822, AUROC: 0.9494, F1: 0.8508, Precision: 0.8272, Recall: 0.8757\n",
            "Epoch 45, Val Loss: 0.5389, AUROC: 0.8564, F1: 0.7416, Precision: 0.7190, Recall: 0.7656\n",
            "Epoch 46, Train Loss: 0.2759, AUROC: 0.9518, F1: 0.8544, Precision: 0.8301, Recall: 0.8803\n",
            "Epoch 46, Val Loss: 0.5405, AUROC: 0.8547, F1: 0.7393, Precision: 0.7168, Recall: 0.7632\n",
            "Epoch 47, Train Loss: 0.2673, AUROC: 0.9548, F1: 0.8605, Precision: 0.8369, Recall: 0.8855\n",
            "Epoch 47, Val Loss: 0.5583, AUROC: 0.8580, F1: 0.7443, Precision: 0.7268, Recall: 0.7626\n",
            "Epoch 48, Train Loss: 0.2618, AUROC: 0.9566, F1: 0.8622, Precision: 0.8387, Recall: 0.8871\n",
            "Epoch 48, Val Loss: 0.5686, AUROC: 0.8575, F1: 0.7438, Precision: 0.7266, Recall: 0.7619\n",
            "Epoch 49, Train Loss: 0.2556, AUROC: 0.9587, F1: 0.8658, Precision: 0.8437, Recall: 0.8890\n",
            "Epoch 49, Val Loss: 0.5690, AUROC: 0.8582, F1: 0.7427, Precision: 0.7286, Recall: 0.7575\n",
            "Early stopping at epoch 49. Best Val AUROC: 0.8619\n",
            "========== Completed Fold 1/5 ==========\n",
            "\n",
            "========== Starting Fold 2/5 ==========\n",
            "Epoch 1, Train Loss: 0.6003, AUROC: 0.7221, F1: 0.6136, Precision: 0.5797, Recall: 0.6517\n",
            "Epoch 1, Val Loss: 0.5618, AUROC: 0.7673, F1: 0.6533, Precision: 0.6116, Recall: 0.7012\n",
            "Best model saved for Fold 2 with AUROC: 0.7673\n",
            "Epoch 2, Train Loss: 0.5594, AUROC: 0.7699, F1: 0.6514, Precision: 0.6284, Recall: 0.6762\n",
            "Epoch 2, Val Loss: 0.5439, AUROC: 0.7858, F1: 0.6527, Precision: 0.6625, Recall: 0.6432\n",
            "Best model saved for Fold 2 with AUROC: 0.7858\n",
            "Epoch 3, Train Loss: 0.5478, AUROC: 0.7815, F1: 0.6646, Precision: 0.6386, Recall: 0.6929\n",
            "Epoch 3, Val Loss: 0.5380, AUROC: 0.7892, F1: 0.6688, Precision: 0.6459, Recall: 0.6933\n",
            "Best model saved for Fold 2 with AUROC: 0.7892\n",
            "Epoch 4, Train Loss: 0.5380, AUROC: 0.7909, F1: 0.6737, Precision: 0.6498, Recall: 0.6994\n",
            "Epoch 4, Val Loss: 0.5300, AUROC: 0.7989, F1: 0.6797, Precision: 0.6428, Recall: 0.7211\n",
            "Best model saved for Fold 2 with AUROC: 0.7989\n",
            "Epoch 5, Train Loss: 0.5278, AUROC: 0.8002, F1: 0.6803, Precision: 0.6554, Recall: 0.7072\n",
            "Epoch 5, Val Loss: 0.5320, AUROC: 0.8004, F1: 0.6827, Precision: 0.6070, Recall: 0.7798\n",
            "Best model saved for Fold 2 with AUROC: 0.8004\n",
            "Epoch 6, Train Loss: 0.5203, AUROC: 0.8075, F1: 0.6881, Precision: 0.6602, Recall: 0.7185\n",
            "Epoch 6, Val Loss: 0.5206, AUROC: 0.8129, F1: 0.6720, Precision: 0.7104, Recall: 0.6375\n",
            "Best model saved for Fold 2 with AUROC: 0.8129\n",
            "Epoch 7, Train Loss: 0.5115, AUROC: 0.8153, F1: 0.6961, Precision: 0.6720, Recall: 0.7221\n",
            "Epoch 7, Val Loss: 0.5124, AUROC: 0.8174, F1: 0.6895, Precision: 0.6820, Recall: 0.6972\n",
            "Best model saved for Fold 2 with AUROC: 0.8174\n",
            "Epoch 8, Train Loss: 0.5057, AUROC: 0.8207, F1: 0.7010, Precision: 0.6758, Recall: 0.7281\n",
            "Epoch 8, Val Loss: 0.4971, AUROC: 0.8271, F1: 0.7032, Precision: 0.6849, Recall: 0.7224\n",
            "Best model saved for Fold 2 with AUROC: 0.8271\n",
            "Epoch 9, Train Loss: 0.4980, AUROC: 0.8271, F1: 0.7086, Precision: 0.6838, Recall: 0.7353\n",
            "Epoch 9, Val Loss: 0.5014, AUROC: 0.8256, F1: 0.7020, Precision: 0.6742, Recall: 0.7323\n",
            "Epoch 10, Train Loss: 0.4912, AUROC: 0.8323, F1: 0.7116, Precision: 0.6868, Recall: 0.7381\n",
            "Epoch 10, Val Loss: 0.4940, AUROC: 0.8303, F1: 0.7075, Precision: 0.6665, Recall: 0.7538\n",
            "Best model saved for Fold 2 with AUROC: 0.8303\n",
            "Epoch 11, Train Loss: 0.4865, AUROC: 0.8360, F1: 0.7166, Precision: 0.6910, Recall: 0.7441\n",
            "Epoch 11, Val Loss: 0.4833, AUROC: 0.8383, F1: 0.7162, Precision: 0.6886, Recall: 0.7461\n",
            "Best model saved for Fold 2 with AUROC: 0.8383\n",
            "Epoch 12, Train Loss: 0.4823, AUROC: 0.8391, F1: 0.7199, Precision: 0.6944, Recall: 0.7473\n",
            "Epoch 12, Val Loss: 0.4831, AUROC: 0.8385, F1: 0.7142, Precision: 0.7048, Recall: 0.7239\n",
            "Best model saved for Fold 2 with AUROC: 0.8385\n",
            "Epoch 13, Train Loss: 0.4755, AUROC: 0.8447, F1: 0.7263, Precision: 0.7001, Recall: 0.7544\n",
            "Epoch 13, Val Loss: 0.4818, AUROC: 0.8435, F1: 0.7131, Precision: 0.7240, Recall: 0.7024\n",
            "Best model saved for Fold 2 with AUROC: 0.8435\n",
            "Epoch 14, Train Loss: 0.4689, AUROC: 0.8495, F1: 0.7302, Precision: 0.7011, Recall: 0.7618\n",
            "Epoch 14, Val Loss: 0.4783, AUROC: 0.8420, F1: 0.7135, Precision: 0.7067, Recall: 0.7204\n",
            "Epoch 15, Train Loss: 0.4623, AUROC: 0.8544, F1: 0.7349, Precision: 0.7068, Recall: 0.7653\n",
            "Epoch 15, Val Loss: 0.4860, AUROC: 0.8372, F1: 0.7128, Precision: 0.6770, Recall: 0.7525\n",
            "Epoch 16, Train Loss: 0.4576, AUROC: 0.8579, F1: 0.7384, Precision: 0.7091, Recall: 0.7703\n",
            "Epoch 16, Val Loss: 0.4712, AUROC: 0.8470, F1: 0.7232, Precision: 0.6901, Recall: 0.7597\n",
            "Best model saved for Fold 2 with AUROC: 0.8470\n",
            "Epoch 17, Train Loss: 0.4528, AUROC: 0.8613, F1: 0.7421, Precision: 0.7130, Recall: 0.7736\n",
            "Epoch 17, Val Loss: 0.4672, AUROC: 0.8511, F1: 0.7306, Precision: 0.6991, Recall: 0.7651\n",
            "Best model saved for Fold 2 with AUROC: 0.8511\n",
            "Epoch 18, Train Loss: 0.4474, AUROC: 0.8648, F1: 0.7472, Precision: 0.7192, Recall: 0.7774\n",
            "Epoch 18, Val Loss: 0.4701, AUROC: 0.8515, F1: 0.7256, Precision: 0.7146, Recall: 0.7370\n",
            "Best model saved for Fold 2 with AUROC: 0.8515\n",
            "Epoch 19, Train Loss: 0.4392, AUROC: 0.8705, F1: 0.7524, Precision: 0.7243, Recall: 0.7829\n",
            "Epoch 19, Val Loss: 0.4681, AUROC: 0.8497, F1: 0.7263, Precision: 0.6981, Recall: 0.7568\n",
            "Epoch 20, Train Loss: 0.4356, AUROC: 0.8731, F1: 0.7550, Precision: 0.7272, Recall: 0.7851\n",
            "Epoch 20, Val Loss: 0.4728, AUROC: 0.8532, F1: 0.7319, Precision: 0.6918, Recall: 0.7769\n",
            "Best model saved for Fold 2 with AUROC: 0.8532\n",
            "Epoch 21, Train Loss: 0.4272, AUROC: 0.8782, F1: 0.7611, Precision: 0.7333, Recall: 0.7911\n",
            "Epoch 21, Val Loss: 0.4646, AUROC: 0.8561, F1: 0.7367, Precision: 0.7040, Recall: 0.7726\n",
            "Best model saved for Fold 2 with AUROC: 0.8561\n",
            "Epoch 22, Train Loss: 0.4225, AUROC: 0.8813, F1: 0.7652, Precision: 0.7372, Recall: 0.7955\n",
            "Epoch 22, Val Loss: 0.4626, AUROC: 0.8576, F1: 0.7393, Precision: 0.7082, Recall: 0.7733\n",
            "Best model saved for Fold 2 with AUROC: 0.8576\n",
            "Epoch 23, Train Loss: 0.4162, AUROC: 0.8851, F1: 0.7688, Precision: 0.7402, Recall: 0.7997\n",
            "Epoch 23, Val Loss: 0.4732, AUROC: 0.8496, F1: 0.7301, Precision: 0.6720, Recall: 0.7991\n",
            "Epoch 24, Train Loss: 0.4101, AUROC: 0.8889, F1: 0.7715, Precision: 0.7436, Recall: 0.8017\n",
            "Epoch 24, Val Loss: 0.4598, AUROC: 0.8587, F1: 0.7399, Precision: 0.6980, Recall: 0.7871\n",
            "Best model saved for Fold 2 with AUROC: 0.8587\n",
            "Epoch 25, Train Loss: 0.4030, AUROC: 0.8931, F1: 0.7784, Precision: 0.7496, Recall: 0.8096\n",
            "Epoch 25, Val Loss: 0.4654, AUROC: 0.8606, F1: 0.7361, Precision: 0.7369, Recall: 0.7353\n",
            "Best model saved for Fold 2 with AUROC: 0.8606\n",
            "Epoch 26, Train Loss: 0.3974, AUROC: 0.8962, F1: 0.7820, Precision: 0.7537, Recall: 0.8125\n",
            "Epoch 26, Val Loss: 0.4612, AUROC: 0.8610, F1: 0.7433, Precision: 0.6988, Recall: 0.7938\n",
            "Best model saved for Fold 2 with AUROC: 0.8610\n",
            "Epoch 27, Train Loss: 0.3918, AUROC: 0.8995, F1: 0.7845, Precision: 0.7575, Recall: 0.8136\n",
            "Epoch 27, Val Loss: 0.4602, AUROC: 0.8641, F1: 0.7471, Precision: 0.7043, Recall: 0.7954\n",
            "Best model saved for Fold 2 with AUROC: 0.8641\n",
            "Epoch 28, Train Loss: 0.3836, AUROC: 0.9039, F1: 0.7917, Precision: 0.7641, Recall: 0.8213\n",
            "Epoch 28, Val Loss: 0.4597, AUROC: 0.8617, F1: 0.7428, Precision: 0.7126, Recall: 0.7756\n",
            "Epoch 29, Train Loss: 0.3800, AUROC: 0.9059, F1: 0.7931, Precision: 0.7650, Recall: 0.8233\n",
            "Epoch 29, Val Loss: 0.4581, AUROC: 0.8635, F1: 0.7454, Precision: 0.7133, Recall: 0.7805\n",
            "Epoch 30, Train Loss: 0.3731, AUROC: 0.9095, F1: 0.7977, Precision: 0.7707, Recall: 0.8266\n",
            "Epoch 30, Val Loss: 0.4589, AUROC: 0.8666, F1: 0.7402, Precision: 0.7436, Recall: 0.7369\n",
            "Best model saved for Fold 2 with AUROC: 0.8666\n",
            "Epoch 31, Train Loss: 0.3660, AUROC: 0.9131, F1: 0.8016, Precision: 0.7750, Recall: 0.8301\n",
            "Epoch 31, Val Loss: 0.4651, AUROC: 0.8646, F1: 0.7459, Precision: 0.7115, Recall: 0.7838\n",
            "Epoch 32, Train Loss: 0.3599, AUROC: 0.9161, F1: 0.8050, Precision: 0.7786, Recall: 0.8333\n",
            "Epoch 32, Val Loss: 0.4769, AUROC: 0.8613, F1: 0.7462, Precision: 0.6961, Recall: 0.8042\n",
            "Epoch 33, Train Loss: 0.3530, AUROC: 0.9195, F1: 0.8098, Precision: 0.7825, Recall: 0.8392\n",
            "Epoch 33, Val Loss: 0.4623, AUROC: 0.8655, F1: 0.7448, Precision: 0.7267, Recall: 0.7639\n",
            "Epoch 34, Train Loss: 0.3479, AUROC: 0.9220, F1: 0.8133, Precision: 0.7862, Recall: 0.8424\n",
            "Epoch 34, Val Loss: 0.4742, AUROC: 0.8663, F1: 0.7516, Precision: 0.6970, Recall: 0.8155\n",
            "Epoch 35, Train Loss: 0.3413, AUROC: 0.9251, F1: 0.8181, Precision: 0.7916, Recall: 0.8464\n",
            "Epoch 35, Val Loss: 0.4658, AUROC: 0.8685, F1: 0.7501, Precision: 0.7238, Recall: 0.7782\n",
            "Best model saved for Fold 2 with AUROC: 0.8685\n",
            "Epoch 36, Train Loss: 0.3347, AUROC: 0.9281, F1: 0.8221, Precision: 0.7948, Recall: 0.8513\n",
            "Epoch 36, Val Loss: 0.4760, AUROC: 0.8666, F1: 0.7479, Precision: 0.7237, Recall: 0.7738\n",
            "Epoch 37, Train Loss: 0.3288, AUROC: 0.9307, F1: 0.8243, Precision: 0.7976, Recall: 0.8529\n",
            "Epoch 37, Val Loss: 0.4869, AUROC: 0.8620, F1: 0.7427, Precision: 0.7190, Recall: 0.7679\n",
            "Epoch 38, Train Loss: 0.3231, AUROC: 0.9331, F1: 0.8276, Precision: 0.8010, Recall: 0.8559\n",
            "Epoch 38, Val Loss: 0.5002, AUROC: 0.8650, F1: 0.7488, Precision: 0.6969, Recall: 0.8090\n",
            "Epoch 39, Train Loss: 0.3175, AUROC: 0.9357, F1: 0.8321, Precision: 0.8052, Recall: 0.8609\n",
            "Epoch 39, Val Loss: 0.5049, AUROC: 0.8657, F1: 0.7513, Precision: 0.7033, Recall: 0.8062\n",
            "Epoch 40, Train Loss: 0.3102, AUROC: 0.9386, F1: 0.8361, Precision: 0.8108, Recall: 0.8631\n",
            "Epoch 40, Val Loss: 0.4835, AUROC: 0.8671, F1: 0.7497, Precision: 0.7162, Recall: 0.7866\n",
            "Epoch 41, Train Loss: 0.3032, AUROC: 0.9415, F1: 0.8401, Precision: 0.8150, Recall: 0.8668\n",
            "Epoch 41, Val Loss: 0.5001, AUROC: 0.8673, F1: 0.7448, Precision: 0.7383, Recall: 0.7514\n",
            "Epoch 42, Train Loss: 0.2965, AUROC: 0.9440, F1: 0.8441, Precision: 0.8192, Recall: 0.8706\n",
            "Epoch 42, Val Loss: 0.5153, AUROC: 0.8647, F1: 0.7471, Precision: 0.7146, Recall: 0.7827\n",
            "Epoch 43, Train Loss: 0.2926, AUROC: 0.9457, F1: 0.8468, Precision: 0.8208, Recall: 0.8746\n",
            "Epoch 43, Val Loss: 0.5194, AUROC: 0.8635, F1: 0.7472, Precision: 0.7077, Recall: 0.7913\n",
            "Epoch 44, Train Loss: 0.2864, AUROC: 0.9480, F1: 0.8496, Precision: 0.8250, Recall: 0.8757\n",
            "Epoch 44, Val Loss: 0.5065, AUROC: 0.8669, F1: 0.7506, Precision: 0.7209, Recall: 0.7829\n",
            "Epoch 45, Train Loss: 0.2784, AUROC: 0.9509, F1: 0.8547, Precision: 0.8294, Recall: 0.8815\n",
            "Epoch 45, Val Loss: 0.5514, AUROC: 0.8638, F1: 0.7460, Precision: 0.7360, Recall: 0.7563\n",
            "Early stopping at epoch 45. Best Val AUROC: 0.8685\n",
            "========== Completed Fold 2/5 ==========\n",
            "\n",
            "========== Starting Fold 3/5 ==========\n",
            "Epoch 1, Train Loss: 0.6077, AUROC: 0.7125, F1: 0.6091, Precision: 0.5719, Recall: 0.6515\n",
            "Epoch 1, Val Loss: 0.5633, AUROC: 0.7679, F1: 0.6529, Precision: 0.6145, Recall: 0.6965\n",
            "Best model saved for Fold 3 with AUROC: 0.7679\n",
            "Epoch 2, Train Loss: 0.5636, AUROC: 0.7660, F1: 0.6491, Precision: 0.6215, Recall: 0.6794\n",
            "Epoch 2, Val Loss: 0.5626, AUROC: 0.7747, F1: 0.6622, Precision: 0.6233, Recall: 0.7064\n",
            "Best model saved for Fold 3 with AUROC: 0.7747\n",
            "Epoch 3, Train Loss: 0.5459, AUROC: 0.7830, F1: 0.6623, Precision: 0.6422, Recall: 0.6838\n",
            "Epoch 3, Val Loss: 0.5381, AUROC: 0.7912, F1: 0.6628, Precision: 0.6624, Recall: 0.6633\n",
            "Best model saved for Fold 3 with AUROC: 0.7912\n",
            "Epoch 4, Train Loss: 0.5386, AUROC: 0.7902, F1: 0.6712, Precision: 0.6500, Recall: 0.6939\n",
            "Epoch 4, Val Loss: 0.5344, AUROC: 0.7955, F1: 0.6803, Precision: 0.6462, Recall: 0.7184\n",
            "Best model saved for Fold 3 with AUROC: 0.7955\n",
            "Epoch 5, Train Loss: 0.5273, AUROC: 0.8014, F1: 0.6808, Precision: 0.6612, Recall: 0.7017\n",
            "Epoch 5, Val Loss: 0.5374, AUROC: 0.7961, F1: 0.6826, Precision: 0.6132, Recall: 0.7697\n",
            "Best model saved for Fold 3 with AUROC: 0.7961\n",
            "Epoch 6, Train Loss: 0.5204, AUROC: 0.8074, F1: 0.6876, Precision: 0.6693, Recall: 0.7070\n",
            "Epoch 6, Val Loss: 0.5129, AUROC: 0.8163, F1: 0.6982, Precision: 0.6523, Recall: 0.7510\n",
            "Best model saved for Fold 3 with AUROC: 0.8163\n",
            "Epoch 7, Train Loss: 0.5102, AUROC: 0.8167, F1: 0.6967, Precision: 0.6760, Recall: 0.7188\n",
            "Epoch 7, Val Loss: 0.5212, AUROC: 0.8095, F1: 0.6727, Precision: 0.6979, Recall: 0.6492\n",
            "Epoch 8, Train Loss: 0.5067, AUROC: 0.8195, F1: 0.6980, Precision: 0.6766, Recall: 0.7209\n",
            "Epoch 8, Val Loss: 0.5115, AUROC: 0.8166, F1: 0.6914, Precision: 0.6845, Recall: 0.6984\n",
            "Best model saved for Fold 3 with AUROC: 0.8166\n",
            "Epoch 9, Train Loss: 0.4979, AUROC: 0.8267, F1: 0.7067, Precision: 0.6831, Recall: 0.7320\n",
            "Epoch 9, Val Loss: 0.4988, AUROC: 0.8255, F1: 0.7012, Precision: 0.6843, Recall: 0.7189\n",
            "Best model saved for Fold 3 with AUROC: 0.8255\n",
            "Epoch 10, Train Loss: 0.4915, AUROC: 0.8319, F1: 0.7122, Precision: 0.6879, Recall: 0.7383\n",
            "Epoch 10, Val Loss: 0.4994, AUROC: 0.8268, F1: 0.7017, Precision: 0.6664, Recall: 0.7410\n",
            "Best model saved for Fold 3 with AUROC: 0.8268\n",
            "Epoch 11, Train Loss: 0.4853, AUROC: 0.8365, F1: 0.7167, Precision: 0.6928, Recall: 0.7422\n",
            "Epoch 11, Val Loss: 0.4927, AUROC: 0.8307, F1: 0.7075, Precision: 0.6952, Recall: 0.7202\n",
            "Best model saved for Fold 3 with AUROC: 0.8307\n",
            "Epoch 12, Train Loss: 0.4806, AUROC: 0.8404, F1: 0.7197, Precision: 0.6922, Recall: 0.7495\n",
            "Epoch 12, Val Loss: 0.4908, AUROC: 0.8331, F1: 0.7146, Precision: 0.6754, Recall: 0.7586\n",
            "Best model saved for Fold 3 with AUROC: 0.8331\n",
            "Epoch 13, Train Loss: 0.4743, AUROC: 0.8452, F1: 0.7244, Precision: 0.6984, Recall: 0.7525\n",
            "Epoch 13, Val Loss: 0.4891, AUROC: 0.8374, F1: 0.7208, Precision: 0.6590, Recall: 0.7953\n",
            "Best model saved for Fold 3 with AUROC: 0.8374\n",
            "Epoch 14, Train Loss: 0.4683, AUROC: 0.8500, F1: 0.7303, Precision: 0.7028, Recall: 0.7600\n",
            "Epoch 14, Val Loss: 0.4836, AUROC: 0.8398, F1: 0.7140, Precision: 0.7093, Recall: 0.7187\n",
            "Best model saved for Fold 3 with AUROC: 0.8398\n",
            "Epoch 15, Train Loss: 0.4631, AUROC: 0.8537, F1: 0.7335, Precision: 0.7071, Recall: 0.7619\n",
            "Epoch 15, Val Loss: 0.4846, AUROC: 0.8401, F1: 0.7200, Precision: 0.6858, Recall: 0.7577\n",
            "Best model saved for Fold 3 with AUROC: 0.8401\n",
            "Epoch 16, Train Loss: 0.4571, AUROC: 0.8584, F1: 0.7392, Precision: 0.7109, Recall: 0.7698\n",
            "Epoch 16, Val Loss: 0.4717, AUROC: 0.8475, F1: 0.7229, Precision: 0.6970, Recall: 0.7508\n",
            "Best model saved for Fold 3 with AUROC: 0.8475\n",
            "Epoch 17, Train Loss: 0.4532, AUROC: 0.8607, F1: 0.7400, Precision: 0.7122, Recall: 0.7701\n",
            "Epoch 17, Val Loss: 0.4777, AUROC: 0.8465, F1: 0.7296, Precision: 0.6900, Recall: 0.7741\n",
            "Epoch 18, Train Loss: 0.4452, AUROC: 0.8664, F1: 0.7476, Precision: 0.7200, Recall: 0.7773\n",
            "Epoch 18, Val Loss: 0.4763, AUROC: 0.8480, F1: 0.7290, Precision: 0.6841, Recall: 0.7801\n",
            "Best model saved for Fold 3 with AUROC: 0.8480\n",
            "Epoch 19, Train Loss: 0.4389, AUROC: 0.8706, F1: 0.7507, Precision: 0.7235, Recall: 0.7800\n",
            "Epoch 19, Val Loss: 0.4780, AUROC: 0.8472, F1: 0.7146, Precision: 0.7366, Recall: 0.6939\n",
            "Epoch 20, Train Loss: 0.4346, AUROC: 0.8735, F1: 0.7557, Precision: 0.7275, Recall: 0.7862\n",
            "Epoch 20, Val Loss: 0.4738, AUROC: 0.8505, F1: 0.7282, Precision: 0.7173, Recall: 0.7395\n",
            "Best model saved for Fold 3 with AUROC: 0.8505\n",
            "Epoch 21, Train Loss: 0.4276, AUROC: 0.8779, F1: 0.7596, Precision: 0.7286, Recall: 0.7933\n",
            "Epoch 21, Val Loss: 0.4667, AUROC: 0.8538, F1: 0.7293, Precision: 0.7270, Recall: 0.7316\n",
            "Best model saved for Fold 3 with AUROC: 0.8538\n",
            "Epoch 22, Train Loss: 0.4207, AUROC: 0.8823, F1: 0.7645, Precision: 0.7345, Recall: 0.7971\n",
            "Epoch 22, Val Loss: 0.4644, AUROC: 0.8569, F1: 0.7398, Precision: 0.6884, Recall: 0.7996\n",
            "Best model saved for Fold 3 with AUROC: 0.8569\n",
            "Epoch 23, Train Loss: 0.4164, AUROC: 0.8850, F1: 0.7666, Precision: 0.7377, Recall: 0.7979\n",
            "Epoch 23, Val Loss: 0.4730, AUROC: 0.8543, F1: 0.7343, Precision: 0.7032, Recall: 0.7682\n",
            "Epoch 24, Train Loss: 0.4103, AUROC: 0.8889, F1: 0.7741, Precision: 0.7444, Recall: 0.8063\n",
            "Epoch 24, Val Loss: 0.4674, AUROC: 0.8561, F1: 0.7340, Precision: 0.7205, Recall: 0.7479\n",
            "Epoch 25, Train Loss: 0.4033, AUROC: 0.8931, F1: 0.7788, Precision: 0.7501, Recall: 0.8099\n",
            "Epoch 25, Val Loss: 0.4617, AUROC: 0.8596, F1: 0.7388, Precision: 0.7023, Recall: 0.7793\n",
            "Best model saved for Fold 3 with AUROC: 0.8596\n",
            "Epoch 26, Train Loss: 0.3973, AUROC: 0.8963, F1: 0.7809, Precision: 0.7516, Recall: 0.8125\n",
            "Epoch 26, Val Loss: 0.4669, AUROC: 0.8593, F1: 0.7369, Precision: 0.7223, Recall: 0.7521\n",
            "Epoch 27, Train Loss: 0.3917, AUROC: 0.8992, F1: 0.7856, Precision: 0.7571, Recall: 0.8163\n",
            "Epoch 27, Val Loss: 0.4688, AUROC: 0.8619, F1: 0.7405, Precision: 0.7317, Recall: 0.7494\n",
            "Best model saved for Fold 3 with AUROC: 0.8619\n",
            "Epoch 28, Train Loss: 0.3872, AUROC: 0.9019, F1: 0.7887, Precision: 0.7611, Recall: 0.8184\n",
            "Epoch 28, Val Loss: 0.4698, AUROC: 0.8620, F1: 0.7458, Precision: 0.7060, Recall: 0.7905\n",
            "Best model saved for Fold 3 with AUROC: 0.8620\n",
            "Epoch 29, Train Loss: 0.3804, AUROC: 0.9056, F1: 0.7927, Precision: 0.7650, Recall: 0.8224\n",
            "Epoch 29, Val Loss: 0.4633, AUROC: 0.8640, F1: 0.7455, Precision: 0.7042, Recall: 0.7921\n",
            "Best model saved for Fold 3 with AUROC: 0.8640\n",
            "Epoch 30, Train Loss: 0.3741, AUROC: 0.9089, F1: 0.7958, Precision: 0.7672, Recall: 0.8267\n",
            "Epoch 30, Val Loss: 0.4654, AUROC: 0.8636, F1: 0.7491, Precision: 0.7061, Recall: 0.7976\n",
            "Epoch 31, Train Loss: 0.3669, AUROC: 0.9127, F1: 0.8012, Precision: 0.7733, Recall: 0.8312\n",
            "Epoch 31, Val Loss: 0.4686, AUROC: 0.8608, F1: 0.7375, Precision: 0.7285, Recall: 0.7468\n",
            "Epoch 32, Train Loss: 0.3611, AUROC: 0.9156, F1: 0.8061, Precision: 0.7771, Recall: 0.8373\n",
            "Epoch 32, Val Loss: 0.4673, AUROC: 0.8625, F1: 0.7430, Precision: 0.7231, Recall: 0.7641\n",
            "Epoch 33, Train Loss: 0.3552, AUROC: 0.9185, F1: 0.8086, Precision: 0.7814, Recall: 0.8377\n",
            "Epoch 33, Val Loss: 0.4767, AUROC: 0.8635, F1: 0.7456, Precision: 0.7252, Recall: 0.7671\n",
            "Epoch 34, Train Loss: 0.3485, AUROC: 0.9217, F1: 0.8118, Precision: 0.7841, Recall: 0.8416\n",
            "Epoch 34, Val Loss: 0.4732, AUROC: 0.8657, F1: 0.7506, Precision: 0.7141, Recall: 0.7910\n",
            "Best model saved for Fold 3 with AUROC: 0.8657\n",
            "Epoch 35, Train Loss: 0.3422, AUROC: 0.9247, F1: 0.8178, Precision: 0.7887, Recall: 0.8491\n",
            "Epoch 35, Val Loss: 0.4866, AUROC: 0.8624, F1: 0.7438, Precision: 0.6947, Recall: 0.8003\n",
            "Epoch 36, Train Loss: 0.3380, AUROC: 0.9266, F1: 0.8194, Precision: 0.7911, Recall: 0.8496\n",
            "Epoch 36, Val Loss: 0.4961, AUROC: 0.8636, F1: 0.7494, Precision: 0.7274, Recall: 0.7727\n",
            "Epoch 37, Train Loss: 0.3332, AUROC: 0.9287, F1: 0.8212, Precision: 0.7935, Recall: 0.8509\n",
            "Epoch 37, Val Loss: 0.4878, AUROC: 0.8644, F1: 0.7496, Precision: 0.7251, Recall: 0.7759\n",
            "Epoch 38, Train Loss: 0.3246, AUROC: 0.9326, F1: 0.8274, Precision: 0.7991, Recall: 0.8578\n",
            "Epoch 38, Val Loss: 0.4886, AUROC: 0.8622, F1: 0.7488, Precision: 0.7107, Recall: 0.7912\n",
            "Epoch 39, Train Loss: 0.3196, AUROC: 0.9346, F1: 0.8300, Precision: 0.8041, Recall: 0.8577\n",
            "Epoch 39, Val Loss: 0.4956, AUROC: 0.8621, F1: 0.7468, Precision: 0.7046, Recall: 0.7943\n",
            "Epoch 40, Train Loss: 0.3137, AUROC: 0.9371, F1: 0.8345, Precision: 0.8083, Recall: 0.8624\n",
            "Epoch 40, Val Loss: 0.4960, AUROC: 0.8640, F1: 0.7479, Precision: 0.7166, Recall: 0.7820\n",
            "Epoch 41, Train Loss: 0.3073, AUROC: 0.9398, F1: 0.8381, Precision: 0.8111, Recall: 0.8668\n",
            "Epoch 41, Val Loss: 0.4966, AUROC: 0.8664, F1: 0.7482, Precision: 0.7348, Recall: 0.7621\n",
            "Best model saved for Fold 3 with AUROC: 0.8664\n",
            "Epoch 42, Train Loss: 0.3019, AUROC: 0.9420, F1: 0.8415, Precision: 0.8143, Recall: 0.8706\n",
            "Epoch 42, Val Loss: 0.5140, AUROC: 0.8632, F1: 0.7494, Precision: 0.7016, Recall: 0.8042\n",
            "Epoch 43, Train Loss: 0.2939, AUROC: 0.9451, F1: 0.8441, Precision: 0.8179, Recall: 0.8720\n",
            "Epoch 43, Val Loss: 0.5209, AUROC: 0.8639, F1: 0.7448, Precision: 0.7202, Recall: 0.7711\n",
            "Epoch 44, Train Loss: 0.2882, AUROC: 0.9473, F1: 0.8488, Precision: 0.8221, Recall: 0.8773\n",
            "Epoch 44, Val Loss: 0.5149, AUROC: 0.8606, F1: 0.7399, Precision: 0.7395, Recall: 0.7403\n",
            "Epoch 45, Train Loss: 0.2812, AUROC: 0.9498, F1: 0.8529, Precision: 0.8274, Recall: 0.8799\n",
            "Epoch 45, Val Loss: 0.5335, AUROC: 0.8652, F1: 0.7518, Precision: 0.7184, Recall: 0.7883\n",
            "Epoch 46, Train Loss: 0.2762, AUROC: 0.9517, F1: 0.8541, Precision: 0.8290, Recall: 0.8809\n",
            "Epoch 46, Val Loss: 0.5472, AUROC: 0.8601, F1: 0.7398, Precision: 0.7321, Recall: 0.7477\n",
            "Epoch 47, Train Loss: 0.2704, AUROC: 0.9538, F1: 0.8582, Precision: 0.8335, Recall: 0.8844\n",
            "Epoch 47, Val Loss: 0.5477, AUROC: 0.8630, F1: 0.7477, Precision: 0.7189, Recall: 0.7790\n",
            "Epoch 48, Train Loss: 0.2672, AUROC: 0.9549, F1: 0.8602, Precision: 0.8354, Recall: 0.8866\n",
            "Epoch 48, Val Loss: 0.5554, AUROC: 0.8646, F1: 0.7469, Precision: 0.7151, Recall: 0.7817\n",
            "Epoch 49, Train Loss: 0.2577, AUROC: 0.9581, F1: 0.8662, Precision: 0.8416, Recall: 0.8922\n",
            "Epoch 49, Val Loss: 0.5635, AUROC: 0.8611, F1: 0.7414, Precision: 0.7340, Recall: 0.7490\n",
            "Epoch 50, Train Loss: 0.2552, AUROC: 0.9589, F1: 0.8672, Precision: 0.8429, Recall: 0.8930\n",
            "Epoch 50, Val Loss: 0.5772, AUROC: 0.8631, F1: 0.7456, Precision: 0.7261, Recall: 0.7662\n",
            "Epoch 51, Train Loss: 0.2473, AUROC: 0.9615, F1: 0.8720, Precision: 0.8484, Recall: 0.8969\n",
            "Epoch 51, Val Loss: 0.5808, AUROC: 0.8629, F1: 0.7456, Precision: 0.7349, Recall: 0.7566\n",
            "Early stopping at epoch 51. Best Val AUROC: 0.8664\n",
            "========== Completed Fold 3/5 ==========\n",
            "\n",
            "========== Starting Fold 4/5 ==========\n",
            "Epoch 1, Train Loss: 0.6057, AUROC: 0.7140, F1: 0.6019, Precision: 0.5773, Recall: 0.6287\n",
            "Epoch 1, Val Loss: 0.5570, AUROC: 0.7736, F1: 0.6575, Precision: 0.6228, Recall: 0.6962\n",
            "Best model saved for Fold 4 with AUROC: 0.7736\n",
            "Epoch 2, Train Loss: 0.5658, AUROC: 0.7638, F1: 0.6446, Precision: 0.6280, Recall: 0.6621\n",
            "Epoch 2, Val Loss: 0.5417, AUROC: 0.7890, F1: 0.6712, Precision: 0.6417, Recall: 0.7035\n",
            "Best model saved for Fold 4 with AUROC: 0.7890\n",
            "Epoch 3, Train Loss: 0.5516, AUROC: 0.7771, F1: 0.6553, Precision: 0.6430, Recall: 0.6682\n",
            "Epoch 3, Val Loss: 0.5318, AUROC: 0.7992, F1: 0.6812, Precision: 0.6481, Recall: 0.7178\n",
            "Best model saved for Fold 4 with AUROC: 0.7992\n",
            "Epoch 4, Train Loss: 0.5446, AUROC: 0.7838, F1: 0.6613, Precision: 0.6471, Recall: 0.6762\n",
            "Epoch 4, Val Loss: 0.5246, AUROC: 0.8056, F1: 0.6895, Precision: 0.6513, Recall: 0.7324\n",
            "Best model saved for Fold 4 with AUROC: 0.8056\n",
            "Epoch 5, Train Loss: 0.5332, AUROC: 0.7952, F1: 0.6743, Precision: 0.6536, Recall: 0.6964\n",
            "Epoch 5, Val Loss: 0.5210, AUROC: 0.8107, F1: 0.6762, Precision: 0.7052, Recall: 0.6496\n",
            "Best model saved for Fold 4 with AUROC: 0.8107\n",
            "Epoch 6, Train Loss: 0.5275, AUROC: 0.8002, F1: 0.6784, Precision: 0.6599, Recall: 0.6980\n",
            "Epoch 6, Val Loss: 0.5104, AUROC: 0.8172, F1: 0.6935, Precision: 0.6856, Recall: 0.7015\n",
            "Best model saved for Fold 4 with AUROC: 0.8172\n",
            "Epoch 7, Train Loss: 0.5193, AUROC: 0.8074, F1: 0.6848, Precision: 0.6674, Recall: 0.7031\n",
            "Epoch 7, Val Loss: 0.5075, AUROC: 0.8226, F1: 0.7057, Precision: 0.6690, Recall: 0.7467\n",
            "Best model saved for Fold 4 with AUROC: 0.8226\n",
            "Epoch 8, Train Loss: 0.5116, AUROC: 0.8147, F1: 0.6917, Precision: 0.6714, Recall: 0.7134\n",
            "Epoch 8, Val Loss: 0.5065, AUROC: 0.8227, F1: 0.6862, Precision: 0.7149, Recall: 0.6597\n",
            "Best model saved for Fold 4 with AUROC: 0.8227\n",
            "Epoch 9, Train Loss: 0.5054, AUROC: 0.8201, F1: 0.6963, Precision: 0.6760, Recall: 0.7179\n",
            "Epoch 9, Val Loss: 0.4956, AUROC: 0.8299, F1: 0.7093, Precision: 0.6799, Recall: 0.7414\n",
            "Best model saved for Fold 4 with AUROC: 0.8299\n",
            "Epoch 10, Train Loss: 0.4980, AUROC: 0.8263, F1: 0.7028, Precision: 0.6843, Recall: 0.7223\n",
            "Epoch 10, Val Loss: 0.4921, AUROC: 0.8314, F1: 0.7127, Precision: 0.6953, Recall: 0.7311\n",
            "Best model saved for Fold 4 with AUROC: 0.8314\n",
            "Epoch 11, Train Loss: 0.4921, AUROC: 0.8311, F1: 0.7092, Precision: 0.6881, Recall: 0.7317\n",
            "Epoch 11, Val Loss: 0.4921, AUROC: 0.8334, F1: 0.7163, Precision: 0.6649, Recall: 0.7763\n",
            "Best model saved for Fold 4 with AUROC: 0.8334\n",
            "Epoch 12, Train Loss: 0.4842, AUROC: 0.8375, F1: 0.7161, Precision: 0.6944, Recall: 0.7392\n",
            "Epoch 12, Val Loss: 0.4826, AUROC: 0.8402, F1: 0.7253, Precision: 0.6840, Recall: 0.7720\n",
            "Best model saved for Fold 4 with AUROC: 0.8402\n",
            "Epoch 13, Train Loss: 0.4798, AUROC: 0.8410, F1: 0.7178, Precision: 0.6958, Recall: 0.7413\n",
            "Epoch 13, Val Loss: 0.4832, AUROC: 0.8410, F1: 0.7264, Precision: 0.6698, Recall: 0.7933\n",
            "Best model saved for Fold 4 with AUROC: 0.8410\n",
            "Epoch 14, Train Loss: 0.4751, AUROC: 0.8446, F1: 0.7233, Precision: 0.7006, Recall: 0.7475\n",
            "Epoch 14, Val Loss: 0.4800, AUROC: 0.8434, F1: 0.7271, Precision: 0.6771, Recall: 0.7851\n",
            "Best model saved for Fold 4 with AUROC: 0.8434\n",
            "Epoch 15, Train Loss: 0.4686, AUROC: 0.8493, F1: 0.7277, Precision: 0.7044, Recall: 0.7526\n",
            "Epoch 15, Val Loss: 0.4794, AUROC: 0.8441, F1: 0.7258, Precision: 0.6824, Recall: 0.7750\n",
            "Best model saved for Fold 4 with AUROC: 0.8441\n",
            "Epoch 16, Train Loss: 0.4642, AUROC: 0.8527, F1: 0.7328, Precision: 0.7062, Recall: 0.7614\n",
            "Epoch 16, Val Loss: 0.4680, AUROC: 0.8518, F1: 0.7353, Precision: 0.6967, Recall: 0.7783\n",
            "Best model saved for Fold 4 with AUROC: 0.8518\n",
            "Epoch 17, Train Loss: 0.4557, AUROC: 0.8585, F1: 0.7379, Precision: 0.7128, Recall: 0.7649\n",
            "Epoch 17, Val Loss: 0.4730, AUROC: 0.8480, F1: 0.7280, Precision: 0.7152, Recall: 0.7412\n",
            "Epoch 18, Train Loss: 0.4517, AUROC: 0.8617, F1: 0.7410, Precision: 0.7154, Recall: 0.7685\n",
            "Epoch 18, Val Loss: 0.4778, AUROC: 0.8505, F1: 0.7334, Precision: 0.6612, Recall: 0.8234\n",
            "Epoch 19, Train Loss: 0.4453, AUROC: 0.8662, F1: 0.7478, Precision: 0.7208, Recall: 0.7769\n",
            "Epoch 19, Val Loss: 0.4690, AUROC: 0.8511, F1: 0.7353, Precision: 0.6860, Recall: 0.7923\n",
            "Epoch 20, Train Loss: 0.4386, AUROC: 0.8705, F1: 0.7506, Precision: 0.7229, Recall: 0.7806\n",
            "Epoch 20, Val Loss: 0.4665, AUROC: 0.8548, F1: 0.7270, Precision: 0.7297, Recall: 0.7244\n",
            "Best model saved for Fold 4 with AUROC: 0.8548\n",
            "Epoch 21, Train Loss: 0.4345, AUROC: 0.8733, F1: 0.7545, Precision: 0.7280, Recall: 0.7829\n",
            "Epoch 21, Val Loss: 0.4686, AUROC: 0.8565, F1: 0.7400, Precision: 0.6785, Recall: 0.8138\n",
            "Best model saved for Fold 4 with AUROC: 0.8565\n",
            "Epoch 22, Train Loss: 0.4260, AUROC: 0.8789, F1: 0.7603, Precision: 0.7332, Recall: 0.7895\n",
            "Epoch 22, Val Loss: 0.4552, AUROC: 0.8611, F1: 0.7423, Precision: 0.7036, Recall: 0.7854\n",
            "Best model saved for Fold 4 with AUROC: 0.8611\n",
            "Epoch 23, Train Loss: 0.4212, AUROC: 0.8819, F1: 0.7644, Precision: 0.7365, Recall: 0.7944\n",
            "Epoch 23, Val Loss: 0.4610, AUROC: 0.8613, F1: 0.7475, Precision: 0.6902, Recall: 0.8151\n",
            "Best model saved for Fold 4 with AUROC: 0.8613\n",
            "Epoch 24, Train Loss: 0.4157, AUROC: 0.8852, F1: 0.7669, Precision: 0.7384, Recall: 0.7977\n",
            "Epoch 24, Val Loss: 0.4564, AUROC: 0.8623, F1: 0.7450, Precision: 0.7045, Recall: 0.7904\n",
            "Best model saved for Fold 4 with AUROC: 0.8623\n",
            "Epoch 25, Train Loss: 0.4074, AUROC: 0.8902, F1: 0.7745, Precision: 0.7467, Recall: 0.8045\n",
            "Epoch 25, Val Loss: 0.4647, AUROC: 0.8576, F1: 0.7413, Precision: 0.6850, Recall: 0.8076\n",
            "Epoch 26, Train Loss: 0.4039, AUROC: 0.8923, F1: 0.7770, Precision: 0.7505, Recall: 0.8054\n",
            "Epoch 26, Val Loss: 0.4661, AUROC: 0.8638, F1: 0.7398, Precision: 0.7431, Recall: 0.7365\n",
            "Best model saved for Fold 4 with AUROC: 0.8638\n",
            "Epoch 27, Train Loss: 0.3964, AUROC: 0.8966, F1: 0.7815, Precision: 0.7541, Recall: 0.8109\n",
            "Epoch 27, Val Loss: 0.4664, AUROC: 0.8621, F1: 0.7386, Precision: 0.7288, Recall: 0.7487\n",
            "Epoch 28, Train Loss: 0.3893, AUROC: 0.9007, F1: 0.7868, Precision: 0.7602, Recall: 0.8153\n",
            "Epoch 28, Val Loss: 0.4617, AUROC: 0.8619, F1: 0.7458, Precision: 0.7142, Recall: 0.7804\n",
            "Epoch 29, Train Loss: 0.3859, AUROC: 0.9024, F1: 0.7874, Precision: 0.7609, Recall: 0.8158\n",
            "Epoch 29, Val Loss: 0.4562, AUROC: 0.8672, F1: 0.7499, Precision: 0.7241, Recall: 0.7776\n",
            "Best model saved for Fold 4 with AUROC: 0.8672\n",
            "Epoch 30, Train Loss: 0.3775, AUROC: 0.9069, F1: 0.7941, Precision: 0.7669, Recall: 0.8234\n",
            "Epoch 30, Val Loss: 0.4721, AUROC: 0.8613, F1: 0.7368, Precision: 0.7480, Recall: 0.7258\n",
            "Epoch 31, Train Loss: 0.3717, AUROC: 0.9100, F1: 0.7974, Precision: 0.7698, Recall: 0.8272\n",
            "Epoch 31, Val Loss: 0.4581, AUROC: 0.8679, F1: 0.7534, Precision: 0.7200, Recall: 0.7901\n",
            "Best model saved for Fold 4 with AUROC: 0.8679\n",
            "Epoch 32, Train Loss: 0.3654, AUROC: 0.9132, F1: 0.8009, Precision: 0.7748, Recall: 0.8288\n",
            "Epoch 32, Val Loss: 0.4652, AUROC: 0.8664, F1: 0.7422, Precision: 0.7409, Recall: 0.7434\n",
            "Epoch 33, Train Loss: 0.3592, AUROC: 0.9163, F1: 0.8040, Precision: 0.7792, Recall: 0.8304\n",
            "Epoch 33, Val Loss: 0.4640, AUROC: 0.8683, F1: 0.7533, Precision: 0.7220, Recall: 0.7874\n",
            "Best model saved for Fold 4 with AUROC: 0.8683\n",
            "Epoch 34, Train Loss: 0.3524, AUROC: 0.9196, F1: 0.8098, Precision: 0.7838, Recall: 0.8375\n",
            "Epoch 34, Val Loss: 0.4737, AUROC: 0.8651, F1: 0.7421, Precision: 0.7480, Recall: 0.7362\n",
            "Epoch 35, Train Loss: 0.3469, AUROC: 0.9223, F1: 0.8133, Precision: 0.7865, Recall: 0.8420\n",
            "Epoch 35, Val Loss: 0.4745, AUROC: 0.8656, F1: 0.7482, Precision: 0.7357, Recall: 0.7612\n",
            "Epoch 36, Train Loss: 0.3399, AUROC: 0.9256, F1: 0.8167, Precision: 0.7911, Recall: 0.8440\n",
            "Epoch 36, Val Loss: 0.4812, AUROC: 0.8648, F1: 0.7510, Precision: 0.7024, Recall: 0.8068\n",
            "Epoch 37, Train Loss: 0.3350, AUROC: 0.9278, F1: 0.8204, Precision: 0.7953, Recall: 0.8471\n",
            "Epoch 37, Val Loss: 0.4848, AUROC: 0.8656, F1: 0.7455, Precision: 0.7465, Recall: 0.7445\n",
            "Epoch 38, Train Loss: 0.3293, AUROC: 0.9303, F1: 0.8234, Precision: 0.7990, Recall: 0.8494\n",
            "Epoch 38, Val Loss: 0.4787, AUROC: 0.8679, F1: 0.7549, Precision: 0.7057, Recall: 0.8116\n",
            "Epoch 39, Train Loss: 0.3233, AUROC: 0.9331, F1: 0.8277, Precision: 0.8029, Recall: 0.8540\n",
            "Epoch 39, Val Loss: 0.4803, AUROC: 0.8690, F1: 0.7539, Precision: 0.7252, Recall: 0.7849\n",
            "Best model saved for Fold 4 with AUROC: 0.8690\n",
            "Epoch 40, Train Loss: 0.3174, AUROC: 0.9355, F1: 0.8316, Precision: 0.8060, Recall: 0.8590\n",
            "Epoch 40, Val Loss: 0.4910, AUROC: 0.8641, F1: 0.7443, Precision: 0.7474, Recall: 0.7412\n",
            "Epoch 41, Train Loss: 0.3090, AUROC: 0.9390, F1: 0.8354, Precision: 0.8116, Recall: 0.8607\n",
            "Epoch 41, Val Loss: 0.5151, AUROC: 0.8659, F1: 0.7502, Precision: 0.7269, Recall: 0.7750\n",
            "Epoch 42, Train Loss: 0.3031, AUROC: 0.9414, F1: 0.8391, Precision: 0.8161, Recall: 0.8634\n",
            "Epoch 42, Val Loss: 0.5001, AUROC: 0.8663, F1: 0.7511, Precision: 0.7268, Recall: 0.7770\n",
            "Epoch 43, Train Loss: 0.2956, AUROC: 0.9443, F1: 0.8434, Precision: 0.8189, Recall: 0.8693\n",
            "Epoch 43, Val Loss: 0.5134, AUROC: 0.8607, F1: 0.7471, Precision: 0.7076, Recall: 0.7913\n",
            "Epoch 44, Train Loss: 0.2908, AUROC: 0.9462, F1: 0.8452, Precision: 0.8217, Recall: 0.8701\n",
            "Epoch 44, Val Loss: 0.5090, AUROC: 0.8640, F1: 0.7516, Precision: 0.7127, Recall: 0.7951\n",
            "Epoch 45, Train Loss: 0.2863, AUROC: 0.9479, F1: 0.8493, Precision: 0.8257, Recall: 0.8743\n",
            "Epoch 45, Val Loss: 0.5146, AUROC: 0.8652, F1: 0.7521, Precision: 0.7047, Recall: 0.8063\n",
            "Epoch 46, Train Loss: 0.2795, AUROC: 0.9504, F1: 0.8532, Precision: 0.8298, Recall: 0.8780\n",
            "Epoch 46, Val Loss: 0.5273, AUROC: 0.8630, F1: 0.7432, Precision: 0.7441, Recall: 0.7423\n",
            "Epoch 47, Train Loss: 0.2736, AUROC: 0.9526, F1: 0.8570, Precision: 0.8351, Recall: 0.8801\n",
            "Epoch 47, Val Loss: 0.5151, AUROC: 0.8642, F1: 0.7513, Precision: 0.7000, Recall: 0.8108\n",
            "Epoch 48, Train Loss: 0.2659, AUROC: 0.9553, F1: 0.8592, Precision: 0.8375, Recall: 0.8820\n",
            "Epoch 48, Val Loss: 0.5410, AUROC: 0.8668, F1: 0.7524, Precision: 0.7279, Recall: 0.7786\n",
            "Epoch 49, Train Loss: 0.2603, AUROC: 0.9571, F1: 0.8634, Precision: 0.8417, Recall: 0.8862\n",
            "Epoch 49, Val Loss: 0.5598, AUROC: 0.8625, F1: 0.7456, Precision: 0.7161, Recall: 0.7777\n",
            "Early stopping at epoch 49. Best Val AUROC: 0.8690\n",
            "========== Completed Fold 4/5 ==========\n",
            "\n",
            "========== Starting Fold 5/5 ==========\n",
            "Epoch 1, Train Loss: 0.6081, AUROC: 0.7105, F1: 0.6020, Precision: 0.5738, Recall: 0.6331\n",
            "Epoch 1, Val Loss: 0.5758, AUROC: 0.7713, F1: 0.6047, Precision: 0.6942, Recall: 0.5357\n",
            "Best model saved for Fold 5 with AUROC: 0.7713\n",
            "Epoch 2, Train Loss: 0.5629, AUROC: 0.7665, F1: 0.6499, Precision: 0.6272, Recall: 0.6743\n",
            "Epoch 2, Val Loss: 0.5601, AUROC: 0.7863, F1: 0.6032, Precision: 0.7167, Recall: 0.5207\n",
            "Best model saved for Fold 5 with AUROC: 0.7863\n",
            "Epoch 3, Train Loss: 0.5487, AUROC: 0.7802, F1: 0.6602, Precision: 0.6418, Recall: 0.6796\n",
            "Epoch 3, Val Loss: 0.5359, AUROC: 0.7967, F1: 0.6797, Precision: 0.6276, Recall: 0.7413\n",
            "Best model saved for Fold 5 with AUROC: 0.7967\n",
            "Epoch 4, Train Loss: 0.5371, AUROC: 0.7915, F1: 0.6719, Precision: 0.6528, Recall: 0.6921\n",
            "Epoch 4, Val Loss: 0.5297, AUROC: 0.8021, F1: 0.6651, Precision: 0.6842, Recall: 0.6469\n",
            "Best model saved for Fold 5 with AUROC: 0.8021\n",
            "Epoch 5, Train Loss: 0.5313, AUROC: 0.7979, F1: 0.6784, Precision: 0.6601, Recall: 0.6977\n",
            "Epoch 5, Val Loss: 0.5197, AUROC: 0.8082, F1: 0.6817, Precision: 0.6729, Recall: 0.6908\n",
            "Best model saved for Fold 5 with AUROC: 0.8082\n",
            "Epoch 6, Train Loss: 0.5216, AUROC: 0.8063, F1: 0.6858, Precision: 0.6668, Recall: 0.7060\n",
            "Epoch 6, Val Loss: 0.5155, AUROC: 0.8122, F1: 0.6884, Precision: 0.6642, Recall: 0.7144\n",
            "Best model saved for Fold 5 with AUROC: 0.8122\n",
            "Epoch 7, Train Loss: 0.5138, AUROC: 0.8130, F1: 0.6918, Precision: 0.6733, Recall: 0.7114\n",
            "Epoch 7, Val Loss: 0.5055, AUROC: 0.8218, F1: 0.7049, Precision: 0.6559, Recall: 0.7617\n",
            "Best model saved for Fold 5 with AUROC: 0.8218\n",
            "Epoch 8, Train Loss: 0.5064, AUROC: 0.8195, F1: 0.6979, Precision: 0.6791, Recall: 0.7178\n",
            "Epoch 8, Val Loss: 0.5075, AUROC: 0.8279, F1: 0.7125, Precision: 0.6431, Recall: 0.7986\n",
            "Best model saved for Fold 5 with AUROC: 0.8279\n",
            "Epoch 9, Train Loss: 0.5013, AUROC: 0.8238, F1: 0.7032, Precision: 0.6816, Recall: 0.7262\n",
            "Epoch 9, Val Loss: 0.5007, AUROC: 0.8241, F1: 0.7024, Precision: 0.6797, Recall: 0.7267\n",
            "Epoch 10, Train Loss: 0.4921, AUROC: 0.8317, F1: 0.7111, Precision: 0.6889, Recall: 0.7348\n",
            "Epoch 10, Val Loss: 0.4923, AUROC: 0.8314, F1: 0.7135, Precision: 0.6781, Recall: 0.7527\n",
            "Best model saved for Fold 5 with AUROC: 0.8314\n",
            "Epoch 11, Train Loss: 0.4862, AUROC: 0.8361, F1: 0.7144, Precision: 0.6933, Recall: 0.7368\n",
            "Epoch 11, Val Loss: 0.4916, AUROC: 0.8325, F1: 0.7024, Precision: 0.7063, Recall: 0.6985\n",
            "Best model saved for Fold 5 with AUROC: 0.8325\n",
            "Epoch 12, Train Loss: 0.4814, AUROC: 0.8402, F1: 0.7209, Precision: 0.6955, Recall: 0.7482\n",
            "Epoch 12, Val Loss: 0.4968, AUROC: 0.8303, F1: 0.6972, Precision: 0.7117, Recall: 0.6833\n",
            "Epoch 13, Train Loss: 0.4743, AUROC: 0.8452, F1: 0.7253, Precision: 0.7007, Recall: 0.7518\n",
            "Epoch 13, Val Loss: 0.4875, AUROC: 0.8392, F1: 0.7228, Precision: 0.6784, Recall: 0.7734\n",
            "Best model saved for Fold 5 with AUROC: 0.8392\n",
            "Epoch 14, Train Loss: 0.4691, AUROC: 0.8490, F1: 0.7283, Precision: 0.7037, Recall: 0.7547\n",
            "Epoch 14, Val Loss: 0.4941, AUROC: 0.8338, F1: 0.7186, Precision: 0.6690, Recall: 0.7761\n",
            "Epoch 15, Train Loss: 0.4640, AUROC: 0.8528, F1: 0.7313, Precision: 0.7066, Recall: 0.7578\n",
            "Epoch 15, Val Loss: 0.4791, AUROC: 0.8439, F1: 0.7215, Precision: 0.7035, Recall: 0.7404\n",
            "Best model saved for Fold 5 with AUROC: 0.8439\n",
            "Epoch 16, Train Loss: 0.4580, AUROC: 0.8572, F1: 0.7364, Precision: 0.7106, Recall: 0.7642\n",
            "Epoch 16, Val Loss: 0.4731, AUROC: 0.8479, F1: 0.7340, Precision: 0.6940, Recall: 0.7790\n",
            "Best model saved for Fold 5 with AUROC: 0.8479\n",
            "Epoch 17, Train Loss: 0.4519, AUROC: 0.8618, F1: 0.7419, Precision: 0.7152, Recall: 0.7707\n",
            "Epoch 17, Val Loss: 0.4768, AUROC: 0.8462, F1: 0.7283, Precision: 0.6817, Recall: 0.7817\n",
            "Epoch 18, Train Loss: 0.4472, AUROC: 0.8649, F1: 0.7457, Precision: 0.7196, Recall: 0.7737\n",
            "Epoch 18, Val Loss: 0.4757, AUROC: 0.8494, F1: 0.7274, Precision: 0.6982, Recall: 0.7592\n",
            "Best model saved for Fold 5 with AUROC: 0.8494\n",
            "Epoch 19, Train Loss: 0.4414, AUROC: 0.8687, F1: 0.7496, Precision: 0.7232, Recall: 0.7779\n",
            "Epoch 19, Val Loss: 0.4809, AUROC: 0.8435, F1: 0.7273, Precision: 0.6908, Recall: 0.7679\n",
            "Epoch 20, Train Loss: 0.4366, AUROC: 0.8720, F1: 0.7528, Precision: 0.7269, Recall: 0.7806\n",
            "Epoch 20, Val Loss: 0.4733, AUROC: 0.8498, F1: 0.7329, Precision: 0.6847, Recall: 0.7883\n",
            "Best model saved for Fold 5 with AUROC: 0.8498\n",
            "Epoch 21, Train Loss: 0.4305, AUROC: 0.8760, F1: 0.7569, Precision: 0.7311, Recall: 0.7846\n",
            "Epoch 21, Val Loss: 0.4635, AUROC: 0.8554, F1: 0.7352, Precision: 0.7118, Recall: 0.7602\n",
            "Best model saved for Fold 5 with AUROC: 0.8554\n",
            "Epoch 22, Train Loss: 0.4240, AUROC: 0.8800, F1: 0.7612, Precision: 0.7345, Recall: 0.7898\n",
            "Epoch 22, Val Loss: 0.4698, AUROC: 0.8549, F1: 0.7378, Precision: 0.7017, Recall: 0.7779\n",
            "Epoch 23, Train Loss: 0.4187, AUROC: 0.8832, F1: 0.7653, Precision: 0.7388, Recall: 0.7938\n",
            "Epoch 23, Val Loss: 0.4667, AUROC: 0.8558, F1: 0.7375, Precision: 0.7194, Recall: 0.7565\n",
            "Best model saved for Fold 5 with AUROC: 0.8558\n",
            "Epoch 24, Train Loss: 0.4113, AUROC: 0.8881, F1: 0.7729, Precision: 0.7464, Recall: 0.8014\n",
            "Epoch 24, Val Loss: 0.4652, AUROC: 0.8577, F1: 0.7409, Precision: 0.7024, Recall: 0.7838\n",
            "Best model saved for Fold 5 with AUROC: 0.8577\n",
            "Epoch 25, Train Loss: 0.4067, AUROC: 0.8907, F1: 0.7740, Precision: 0.7478, Recall: 0.8022\n",
            "Epoch 25, Val Loss: 0.4676, AUROC: 0.8588, F1: 0.7435, Precision: 0.6783, Recall: 0.8225\n",
            "Best model saved for Fold 5 with AUROC: 0.8588\n",
            "Epoch 26, Train Loss: 0.3998, AUROC: 0.8947, F1: 0.7785, Precision: 0.7509, Recall: 0.8083\n",
            "Epoch 26, Val Loss: 0.4669, AUROC: 0.8607, F1: 0.7426, Precision: 0.7121, Recall: 0.7758\n",
            "Best model saved for Fold 5 with AUROC: 0.8607\n",
            "Epoch 27, Train Loss: 0.3945, AUROC: 0.8978, F1: 0.7812, Precision: 0.7534, Recall: 0.8111\n",
            "Epoch 27, Val Loss: 0.4725, AUROC: 0.8593, F1: 0.7432, Precision: 0.6861, Recall: 0.8107\n",
            "Epoch 28, Train Loss: 0.3899, AUROC: 0.9004, F1: 0.7848, Precision: 0.7575, Recall: 0.8141\n",
            "Epoch 28, Val Loss: 0.4694, AUROC: 0.8630, F1: 0.7437, Precision: 0.7272, Recall: 0.7611\n",
            "Best model saved for Fold 5 with AUROC: 0.8630\n",
            "Epoch 29, Train Loss: 0.3838, AUROC: 0.9036, F1: 0.7901, Precision: 0.7623, Recall: 0.8200\n",
            "Epoch 29, Val Loss: 0.4680, AUROC: 0.8611, F1: 0.7420, Precision: 0.7316, Recall: 0.7528\n",
            "Epoch 30, Train Loss: 0.3762, AUROC: 0.9076, F1: 0.7944, Precision: 0.7662, Recall: 0.8248\n",
            "Epoch 30, Val Loss: 0.4739, AUROC: 0.8575, F1: 0.7441, Precision: 0.6957, Recall: 0.7999\n",
            "Epoch 31, Train Loss: 0.3710, AUROC: 0.9105, F1: 0.7995, Precision: 0.7717, Recall: 0.8294\n",
            "Epoch 31, Val Loss: 0.4684, AUROC: 0.8621, F1: 0.7440, Precision: 0.7108, Recall: 0.7806\n",
            "Epoch 32, Train Loss: 0.3658, AUROC: 0.9131, F1: 0.8020, Precision: 0.7738, Recall: 0.8323\n",
            "Epoch 32, Val Loss: 0.4684, AUROC: 0.8639, F1: 0.7445, Precision: 0.7250, Recall: 0.7651\n",
            "Best model saved for Fold 5 with AUROC: 0.8639\n",
            "Epoch 33, Train Loss: 0.3583, AUROC: 0.9169, F1: 0.8070, Precision: 0.7769, Recall: 0.8395\n",
            "Epoch 33, Val Loss: 0.4710, AUROC: 0.8654, F1: 0.7451, Precision: 0.7315, Recall: 0.7592\n",
            "Best model saved for Fold 5 with AUROC: 0.8654\n",
            "Epoch 34, Train Loss: 0.3537, AUROC: 0.9191, F1: 0.8094, Precision: 0.7804, Recall: 0.8406\n",
            "Epoch 34, Val Loss: 0.4727, AUROC: 0.8664, F1: 0.7481, Precision: 0.7262, Recall: 0.7714\n",
            "Best model saved for Fold 5 with AUROC: 0.8664\n",
            "Epoch 35, Train Loss: 0.3471, AUROC: 0.9223, F1: 0.8131, Precision: 0.7848, Recall: 0.8436\n",
            "Epoch 35, Val Loss: 0.4817, AUROC: 0.8649, F1: 0.7529, Precision: 0.6989, Recall: 0.8159\n",
            "Epoch 36, Train Loss: 0.3401, AUROC: 0.9254, F1: 0.8165, Precision: 0.7893, Recall: 0.8457\n",
            "Epoch 36, Val Loss: 0.4925, AUROC: 0.8630, F1: 0.7491, Precision: 0.6986, Recall: 0.8075\n",
            "Epoch 37, Train Loss: 0.3347, AUROC: 0.9280, F1: 0.8195, Precision: 0.7920, Recall: 0.8489\n",
            "Epoch 37, Val Loss: 0.4789, AUROC: 0.8645, F1: 0.7492, Precision: 0.7228, Recall: 0.7777\n",
            "Epoch 38, Train Loss: 0.3297, AUROC: 0.9303, F1: 0.8254, Precision: 0.7982, Recall: 0.8545\n",
            "Epoch 38, Val Loss: 0.4793, AUROC: 0.8665, F1: 0.7528, Precision: 0.7051, Recall: 0.8075\n",
            "Best model saved for Fold 5 with AUROC: 0.8665\n",
            "Epoch 39, Train Loss: 0.3214, AUROC: 0.9338, F1: 0.8283, Precision: 0.8011, Recall: 0.8575\n",
            "Epoch 39, Val Loss: 0.5208, AUROC: 0.8620, F1: 0.7371, Precision: 0.7430, Recall: 0.7314\n",
            "Epoch 40, Train Loss: 0.3165, AUROC: 0.9359, F1: 0.8320, Precision: 0.8051, Recall: 0.8608\n",
            "Epoch 40, Val Loss: 0.4937, AUROC: 0.8657, F1: 0.7533, Precision: 0.7034, Recall: 0.8107\n",
            "Epoch 41, Train Loss: 0.3128, AUROC: 0.9375, F1: 0.8340, Precision: 0.8063, Recall: 0.8638\n",
            "Epoch 41, Val Loss: 0.5042, AUROC: 0.8612, F1: 0.7385, Precision: 0.7501, Recall: 0.7273\n",
            "Epoch 42, Train Loss: 0.3049, AUROC: 0.9407, F1: 0.8388, Precision: 0.8123, Recall: 0.8671\n",
            "Epoch 42, Val Loss: 0.5115, AUROC: 0.8601, F1: 0.7461, Precision: 0.6974, Recall: 0.8020\n",
            "Epoch 43, Train Loss: 0.2988, AUROC: 0.9432, F1: 0.8417, Precision: 0.8157, Recall: 0.8695\n",
            "Epoch 43, Val Loss: 0.5061, AUROC: 0.8671, F1: 0.7542, Precision: 0.7215, Recall: 0.7900\n",
            "Best model saved for Fold 5 with AUROC: 0.8671\n",
            "Epoch 44, Train Loss: 0.2948, AUROC: 0.9447, F1: 0.8438, Precision: 0.8175, Recall: 0.8718\n",
            "Epoch 44, Val Loss: 0.5081, AUROC: 0.8648, F1: 0.7497, Precision: 0.7245, Recall: 0.7768\n",
            "Epoch 45, Train Loss: 0.2880, AUROC: 0.9474, F1: 0.8489, Precision: 0.8220, Recall: 0.8775\n",
            "Epoch 45, Val Loss: 0.5168, AUROC: 0.8625, F1: 0.7483, Precision: 0.7132, Recall: 0.7871\n",
            "Epoch 46, Train Loss: 0.2805, AUROC: 0.9501, F1: 0.8523, Precision: 0.8269, Recall: 0.8793\n",
            "Epoch 46, Val Loss: 0.5307, AUROC: 0.8645, F1: 0.7501, Precision: 0.7233, Recall: 0.7789\n",
            "Epoch 47, Train Loss: 0.2745, AUROC: 0.9522, F1: 0.8556, Precision: 0.8287, Recall: 0.8843\n",
            "Epoch 47, Val Loss: 0.5446, AUROC: 0.8630, F1: 0.7464, Precision: 0.7319, Recall: 0.7614\n",
            "Epoch 48, Train Loss: 0.2702, AUROC: 0.9538, F1: 0.8587, Precision: 0.8328, Recall: 0.8862\n",
            "Epoch 48, Val Loss: 0.5348, AUROC: 0.8628, F1: 0.7434, Precision: 0.7276, Recall: 0.7600\n",
            "Epoch 49, Train Loss: 0.2637, AUROC: 0.9561, F1: 0.8628, Precision: 0.8378, Recall: 0.8894\n",
            "Epoch 49, Val Loss: 0.5500, AUROC: 0.8633, F1: 0.7441, Precision: 0.7296, Recall: 0.7593\n",
            "Epoch 50, Train Loss: 0.2590, AUROC: 0.9576, F1: 0.8645, Precision: 0.8404, Recall: 0.8900\n",
            "Epoch 50, Val Loss: 0.5481, AUROC: 0.8647, F1: 0.7480, Precision: 0.7223, Recall: 0.7756\n",
            "Epoch 51, Train Loss: 0.2507, AUROC: 0.9604, F1: 0.8696, Precision: 0.8452, Recall: 0.8955\n",
            "Epoch 51, Val Loss: 0.5570, AUROC: 0.8643, F1: 0.7545, Precision: 0.7284, Recall: 0.7825\n",
            "Epoch 52, Train Loss: 0.2495, AUROC: 0.9607, F1: 0.8703, Precision: 0.8461, Recall: 0.8960\n",
            "Epoch 52, Val Loss: 0.5888, AUROC: 0.8646, F1: 0.7436, Precision: 0.7431, Recall: 0.7440\n",
            "Epoch 53, Train Loss: 0.2417, AUROC: 0.9632, F1: 0.8745, Precision: 0.8513, Recall: 0.8989\n",
            "Epoch 53, Val Loss: 0.5735, AUROC: 0.8636, F1: 0.7483, Precision: 0.7321, Recall: 0.7652\n",
            "Early stopping at epoch 53. Best Val AUROC: 0.8671\n",
            "========== Completed Fold 5/5 ==========\n"
          ]
        }
      ]
    },
    {
      "cell_type": "code",
      "source": [
        "import torch\n",
        "import numpy as np\n",
        "import os\n",
        "import matplotlib.pyplot as plt\n",
        "from sklearn.metrics import roc_auc_score, f1_score, precision_score, recall_score, precision_recall_curve, roc_curve, confusion_matrix,auc\n",
        "import seaborn as sns\n",
        "\n",
        "test_dataset = TensorDataset(X_test[:, 0], X_test[:, 1], y_test)\n",
        "test_loader = DataLoader(test_dataset, batch_size=batch_size, shuffle=False)\n",
        "\n",
        "save_dir = \"/content/drive/MyDrive\"\n",
        "k_folds = 5\n",
        "\n",
        "device = torch.device(\"cuda\" if torch.cuda.is_available() else \"cpu\")\n",
        "\n",
        "models = []\n",
        "for fold in range(k_folds):\n",
        "    model = SequenceModel(model_dim, num_heads, num_layers, ffdim)\n",
        "    model.to(device)\n",
        "    model_path = os.path.join(save_dir, f\"best_model_fold_{fold + 1}.pth\")\n",
        "    model.load_state_dict(torch.load(model_path,weights_only=True))\n",
        "    model.eval()\n",
        "    models.append(model)\n",
        "\n",
        "total_preds = []\n",
        "total_labels = []\n",
        "total_loss = 0\n",
        "criterion = nn.BCEWithLogitsLoss()\n",
        "threshold = 0.4256\n",
        "total_loss = 0\n",
        "total_preds = []\n",
        "total_labels = []\n",
        "\n",
        "with torch.no_grad():\n",
        "    for pep_ids, mhc_ids, scores in test_loader:\n",
        "        pep_ids, mhc_ids, scores = pep_ids.to(device), mhc_ids.to(device), scores.to(device)\n",
        "\n",
        "        outputs = torch.zeros_like(scores, dtype=torch.float32).to(device)\n",
        "        for model in models:\n",
        "            outputs += model(pep_ids, mhc_ids).squeeze()\n",
        "        outputs /= len(models)\n",
        "\n",
        "        loss = criterion(outputs, scores)\n",
        "        total_loss += loss.item()\n",
        "\n",
        "        probs = torch.sigmoid(outputs).cpu().numpy()\n",
        "\n",
        "        total_preds.append(probs)\n",
        "        total_labels.append(scores.cpu().numpy())\n",
        "\n",
        "total_preds = np.concatenate(total_preds)\n",
        "total_labels = np.concatenate(total_labels)\n",
        "\n",
        "\n",
        "test_loss = total_loss / len(test_loader)\n",
        "test_auroc = roc_auc_score(total_labels, total_preds)\n",
        "test_f1 = f1_score(total_labels, total_preds > threshold)\n",
        "test_precision = precision_score(total_labels, total_preds > threshold)\n",
        "test_recall = recall_score(total_labels, total_preds > threshold)\n",
        "\n",
        "print(\"Test Metrics:\")\n",
        "print(f\"Loss: {test_loss:.4f}, AUROC: {test_auroc:.4f}, F1: {test_f1:.4f}, Precision: {test_precision:.4f}, Recall: {test_recall:.4f}\")\n",
        "\n",
        "precision, recall, _ = precision_recall_curve(total_labels, total_preds)\n",
        "plt.figure(figsize=(6,6))\n",
        "test_pr_auc = auc(recall, precision)\n",
        "plt.plot(recall, precision, color='blue', label=f'PR AUC = {test_pr_auc:.4f}')\n",
        "plt.xlabel(\"Recall\")\n",
        "plt.ylabel(\"Precision\")\n",
        "plt.title(\"Precision-Recall Curve\")\n",
        "plt.legend()\n",
        "plt.grid()\n",
        "plt.show()\n",
        "\n",
        "fpr, tpr, _ = roc_curve(total_labels, total_preds)\n",
        "plt.figure(figsize=(6,6))\n",
        "plt.plot(fpr, tpr, color='orange', label=f'AUROC = {test_auroc:.4f}')\n",
        "plt.xlabel(\"False Positive Rate\")\n",
        "plt.ylabel(\"True Positive Rate\")\n",
        "plt.title(\"ROC Curve\")\n",
        "plt.legend()\n",
        "plt.grid()\n",
        "plt.show()\n",
        "\n",
        "conf_matrix = confusion_matrix(total_labels, total_preds > threshold)\n",
        "plt.figure(figsize=(6,5))\n",
        "sns.heatmap(conf_matrix, annot=True, fmt=\"d\", cmap=\"Blues\", xticklabels=[\"Negative (0)\", \"Positive (1)\"], yticklabels=[\"Negative (0)\", \"Positive (1)\"])\n",
        "plt.xlabel(\"Predicted Label\")\n",
        "plt.ylabel(\"True Label\")\n",
        "plt.title(\"Confusion Matrix\")\n",
        "plt.show()\n"
      ],
      "metadata": {
        "id": "L0fFbEhixfck",
        "colab": {
          "base_uri": "https://localhost:8080/",
          "height": 1000
        },
        "outputId": "fb60b45e-7ef4-41c6-b343-41d2166101ee"
      },
      "execution_count": 41,
      "outputs": [
        {
          "output_type": "stream",
          "name": "stdout",
          "text": [
            "Test Metrics:\n",
            "Loss: 0.4355, AUROC: 0.8857, F1: 0.7698, Precision: 0.7446, Recall: 0.7968\n"
          ]
        },
        {
          "output_type": "display_data",
          "data": {
            "text/plain": [
              "<Figure size 600x600 with 1 Axes>"
            ],
            "image/png": "[encoded data removed]"
          },
          "metadata": {}
        },
        {
          "output_type": "display_data",
          "data": {
            "text/plain": [
              "<Figure size 600x600 with 1 Axes>"
            ],
            "image/png": "[encoded data removed]"
          },
          "metadata": {}
        },
        {
          "output_type": "display_data",
          "data": {
            "text/plain": [
              "<Figure size 600x500 with 2 Axes>"
            ],
            "image/png": "[encoded data removed]"
          },
          "metadata": {}
        }
      ]
    }
  ]
}