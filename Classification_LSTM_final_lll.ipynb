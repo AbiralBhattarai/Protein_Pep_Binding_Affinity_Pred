{
  "nbformat": 4,
  "nbformat_minor": 0,
  "metadata": {
    "colab": {
      "provenance": [],
      "gpuType": "T4"
    },
    "kernelspec": {
      "name": "python3",
      "display_name": "Python 3"
    },
    "language_info": {
      "name": "python"
    },
    "accelerator": "GPU",
    "widgets": {
      "application/vnd.jupyter.widget-state+json": {
        "8c49759897424f62894cb78b03cf7aa0": {
          "model_module": "@jupyter-widgets/controls",
          "model_name": "HBoxModel",
          "model_module_version": "1.5.0",
          "state": {
            "_dom_classes": [],
            "_model_module": "@jupyter-widgets/controls",
            "_model_module_version": "1.5.0",
            "_model_name": "HBoxModel",
            "_view_count": null,
            "_view_module": "@jupyter-widgets/controls",
            "_view_module_version": "1.5.0",
            "_view_name": "HBoxView",
            "box_style": "",
            "children": [
              "IPY_MODEL_71377614ec5b4ee89a0cb7efef5651c2",
              "IPY_MODEL_8738b7bc60fe4c828af146fbcf0666ed",
              "IPY_MODEL_52ffa43f481e463e8a8a4ea9702db4b8"
            ],
            "layout": "IPY_MODEL_72552c866b5e4ad89fcb9b93d5b8a8f7"
          }
        },
        "71377614ec5b4ee89a0cb7efef5651c2": {
          "model_module": "@jupyter-widgets/controls",
          "model_name": "HTMLModel",
          "model_module_version": "1.5.0",
          "state": {
            "_dom_classes": [],
            "_model_module": "@jupyter-widgets/controls",
            "_model_module_version": "1.5.0",
            "_model_name": "HTMLModel",
            "_view_count": null,
            "_view_module": "@jupyter-widgets/controls",
            "_view_module_version": "1.5.0",
            "_view_name": "HTMLView",
            "description": "",
            "description_tooltip": null,
            "layout": "IPY_MODEL_1622dbc9500f4176903e9405ecab8257",
            "placeholder": "​",
            "style": "IPY_MODEL_3964041659be49de9ee6128bb947f3bf",
            "value": "tokenizer_config.json: 100%"
          }
        },
        "8738b7bc60fe4c828af146fbcf0666ed": {
          "model_module": "@jupyter-widgets/controls",
          "model_name": "FloatProgressModel",
          "model_module_version": "1.5.0",
          "state": {
            "_dom_classes": [],
            "_model_module": "@jupyter-widgets/controls",
            "_model_module_version": "1.5.0",
            "_model_name": "FloatProgressModel",
            "_view_count": null,
            "_view_module": "@jupyter-widgets/controls",
            "_view_module_version": "1.5.0",
            "_view_name": "ProgressView",
            "bar_style": "success",
            "description": "",
            "description_tooltip": null,
            "layout": "IPY_MODEL_f1972b4206e64fcd9b27d62f9e933f38",
            "max": 95,
            "min": 0,
            "orientation": "horizontal",
            "style": "IPY_MODEL_932c2724b696422ea05ebe876c576d3b",
            "value": 95
          }
        },
        "52ffa43f481e463e8a8a4ea9702db4b8": {
          "model_module": "@jupyter-widgets/controls",
          "model_name": "HTMLModel",
          "model_module_version": "1.5.0",
          "state": {
            "_dom_classes": [],
            "_model_module": "@jupyter-widgets/controls",
            "_model_module_version": "1.5.0",
            "_model_name": "HTMLModel",
            "_view_count": null,
            "_view_module": "@jupyter-widgets/controls",
            "_view_module_version": "1.5.0",
            "_view_name": "HTMLView",
            "description": "",
            "description_tooltip": null,
            "layout": "IPY_MODEL_fbe260db00cd47579537b74bee2e218d",
            "placeholder": "​",
            "style": "IPY_MODEL_107136c452aa4fd8aaf314a9c3083ab1",
            "value": " 95.0/95.0 [00:00&lt;00:00, 10.4kB/s]"
          }
        },
        "72552c866b5e4ad89fcb9b93d5b8a8f7": {
          "model_module": "@jupyter-widgets/base",
          "model_name": "LayoutModel",
          "model_module_version": "1.2.0",
          "state": {
            "_model_module": "@jupyter-widgets/base",
            "_model_module_version": "1.2.0",
            "_model_name": "LayoutModel",
            "_view_count": null,
            "_view_module": "@jupyter-widgets/base",
            "_view_module_version": "1.2.0",
            "_view_name": "LayoutView",
            "align_content": null,
            "align_items": null,
            "align_self": null,
            "border": null,
            "bottom": null,
            "display": null,
            "flex": null,
            "flex_flow": null,
            "grid_area": null,
            "grid_auto_columns": null,
            "grid_auto_flow": null,
            "grid_auto_rows": null,
            "grid_column": null,
            "grid_gap": null,
            "grid_row": null,
            "grid_template_areas": null,
            "grid_template_columns": null,
            "grid_template_rows": null,
            "height": null,
            "justify_content": null,
            "justify_items": null,
            "left": null,
            "margin": null,
            "max_height": null,
            "max_width": null,
            "min_height": null,
            "min_width": null,
            "object_fit": null,
            "object_position": null,
            "order": null,
            "overflow": null,
            "overflow_x": null,
            "overflow_y": null,
            "padding": null,
            "right": null,
            "top": null,
            "visibility": null,
            "width": null
          }
        },
        "1622dbc9500f4176903e9405ecab8257": {
          "model_module": "@jupyter-widgets/base",
          "model_name": "LayoutModel",
          "model_module_version": "1.2.0",
          "state": {
            "_model_module": "@jupyter-widgets/base",
            "_model_module_version": "1.2.0",
            "_model_name": "LayoutModel",
            "_view_count": null,
            "_view_module": "@jupyter-widgets/base",
            "_view_module_version": "1.2.0",
            "_view_name": "LayoutView",
            "align_content": null,
            "align_items": null,
            "align_self": null,
            "border": null,
            "bottom": null,
            "display": null,
            "flex": null,
            "flex_flow": null,
            "grid_area": null,
            "grid_auto_columns": null,
            "grid_auto_flow": null,
            "grid_auto_rows": null,
            "grid_column": null,
            "grid_gap": null,
            "grid_row": null,
            "grid_template_areas": null,
            "grid_template_columns": null,
            "grid_template_rows": null,
            "height": null,
            "justify_content": null,
            "justify_items": null,
            "left": null,
            "margin": null,
            "max_height": null,
            "max_width": null,
            "min_height": null,
            "min_width": null,
            "object_fit": null,
            "object_position": null,
            "order": null,
            "overflow": null,
            "overflow_x": null,
            "overflow_y": null,
            "padding": null,
            "right": null,
            "top": null,
            "visibility": null,
            "width": null
          }
        },
        "3964041659be49de9ee6128bb947f3bf": {
          "model_module": "@jupyter-widgets/controls",
          "model_name": "DescriptionStyleModel",
          "model_module_version": "1.5.0",
          "state": {
            "_model_module": "@jupyter-widgets/controls",
            "_model_module_version": "1.5.0",
            "_model_name": "DescriptionStyleModel",
            "_view_count": null,
            "_view_module": "@jupyter-widgets/base",
            "_view_module_version": "1.2.0",
            "_view_name": "StyleView",
            "description_width": ""
          }
        },
        "f1972b4206e64fcd9b27d62f9e933f38": {
          "model_module": "@jupyter-widgets/base",
          "model_name": "LayoutModel",
          "model_module_version": "1.2.0",
          "state": {
            "_model_module": "@jupyter-widgets/base",
            "_model_module_version": "1.2.0",
            "_model_name": "LayoutModel",
            "_view_count": null,
            "_view_module": "@jupyter-widgets/base",
            "_view_module_version": "1.2.0",
            "_view_name": "LayoutView",
            "align_content": null,
            "align_items": null,
            "align_self": null,
            "border": null,
            "bottom": null,
            "display": null,
            "flex": null,
            "flex_flow": null,
            "grid_area": null,
            "grid_auto_columns": null,
            "grid_auto_flow": null,
            "grid_auto_rows": null,
            "grid_column": null,
            "grid_gap": null,
            "grid_row": null,
            "grid_template_areas": null,
            "grid_template_columns": null,
            "grid_template_rows": null,
            "height": null,
            "justify_content": null,
            "justify_items": null,
            "left": null,
            "margin": null,
            "max_height": null,
            "max_width": null,
            "min_height": null,
            "min_width": null,
            "object_fit": null,
            "object_position": null,
            "order": null,
            "overflow": null,
            "overflow_x": null,
            "overflow_y": null,
            "padding": null,
            "right": null,
            "top": null,
            "visibility": null,
            "width": null
          }
        },
        "932c2724b696422ea05ebe876c576d3b": {
          "model_module": "@jupyter-widgets/controls",
          "model_name": "ProgressStyleModel",
          "model_module_version": "1.5.0",
          "state": {
            "_model_module": "@jupyter-widgets/controls",
            "_model_module_version": "1.5.0",
            "_model_name": "ProgressStyleModel",
            "_view_count": null,
            "_view_module": "@jupyter-widgets/base",
            "_view_module_version": "1.2.0",
            "_view_name": "StyleView",
            "bar_color": null,
            "description_width": ""
          }
        },
        "fbe260db00cd47579537b74bee2e218d": {
          "model_module": "@jupyter-widgets/base",
          "model_name": "LayoutModel",
          "model_module_version": "1.2.0",
          "state": {
            "_model_module": "@jupyter-widgets/base",
            "_model_module_version": "1.2.0",
            "_model_name": "LayoutModel",
            "_view_count": null,
            "_view_module": "@jupyter-widgets/base",
            "_view_module_version": "1.2.0",
            "_view_name": "LayoutView",
            "align_content": null,
            "align_items": null,
            "align_self": null,
            "border": null,
            "bottom": null,
            "display": null,
            "flex": null,
            "flex_flow": null,
            "grid_area": null,
            "grid_auto_columns": null,
            "grid_auto_flow": null,
            "grid_auto_rows": null,
            "grid_column": null,
            "grid_gap": null,
            "grid_row": null,
            "grid_template_areas": null,
            "grid_template_columns": null,
            "grid_template_rows": null,
            "height": null,
            "justify_content": null,
            "justify_items": null,
            "left": null,
            "margin": null,
            "max_height": null,
            "max_width": null,
            "min_height": null,
            "min_width": null,
            "object_fit": null,
            "object_position": null,
            "order": null,
            "overflow": null,
            "overflow_x": null,
            "overflow_y": null,
            "padding": null,
            "right": null,
            "top": null,
            "visibility": null,
            "width": null
          }
        },
        "107136c452aa4fd8aaf314a9c3083ab1": {
          "model_module": "@jupyter-widgets/controls",
          "model_name": "DescriptionStyleModel",
          "model_module_version": "1.5.0",
          "state": {
            "_model_module": "@jupyter-widgets/controls",
            "_model_module_version": "1.5.0",
            "_model_name": "DescriptionStyleModel",
            "_view_count": null,
            "_view_module": "@jupyter-widgets/base",
            "_view_module_version": "1.2.0",
            "_view_name": "StyleView",
            "description_width": ""
          }
        },
        "3cfdce42578e420e930c23dd2e5732e5": {
          "model_module": "@jupyter-widgets/controls",
          "model_name": "HBoxModel",
          "model_module_version": "1.5.0",
          "state": {
            "_dom_classes": [],
            "_model_module": "@jupyter-widgets/controls",
            "_model_module_version": "1.5.0",
            "_model_name": "HBoxModel",
            "_view_count": null,
            "_view_module": "@jupyter-widgets/controls",
            "_view_module_version": "1.5.0",
            "_view_name": "HBoxView",
            "box_style": "",
            "children": [
              "IPY_MODEL_9de287ec6af94268af092aee44f3e687",
              "IPY_MODEL_4db1d9d3c6a04c778a5b41d3e7b16d49",
              "IPY_MODEL_e92fa09a590848ada2cdf879e88149e4"
            ],
            "layout": "IPY_MODEL_f0c180f1474f4fb49d944fa3216553b5"
          }
        },
        "9de287ec6af94268af092aee44f3e687": {
          "model_module": "@jupyter-widgets/controls",
          "model_name": "HTMLModel",
          "model_module_version": "1.5.0",
          "state": {
            "_dom_classes": [],
            "_model_module": "@jupyter-widgets/controls",
            "_model_module_version": "1.5.0",
            "_model_name": "HTMLModel",
            "_view_count": null,
            "_view_module": "@jupyter-widgets/controls",
            "_view_module_version": "1.5.0",
            "_view_name": "HTMLView",
            "description": "",
            "description_tooltip": null,
            "layout": "IPY_MODEL_05d47bc3128644579497d6e571338e4a",
            "placeholder": "​",
            "style": "IPY_MODEL_d7de464c359e4f95b4669bb567ecd62f",
            "value": "vocab.txt: 100%"
          }
        },
        "4db1d9d3c6a04c778a5b41d3e7b16d49": {
          "model_module": "@jupyter-widgets/controls",
          "model_name": "FloatProgressModel",
          "model_module_version": "1.5.0",
          "state": {
            "_dom_classes": [],
            "_model_module": "@jupyter-widgets/controls",
            "_model_module_version": "1.5.0",
            "_model_name": "FloatProgressModel",
            "_view_count": null,
            "_view_module": "@jupyter-widgets/controls",
            "_view_module_version": "1.5.0",
            "_view_name": "ProgressView",
            "bar_style": "success",
            "description": "",
            "description_tooltip": null,
            "layout": "IPY_MODEL_892c5a219bc1439f91656ec4f59bc382",
            "max": 93,
            "min": 0,
            "orientation": "horizontal",
            "style": "IPY_MODEL_1edb25bc06f245d4b81614b833edc35b",
            "value": 93
          }
        },
        "e92fa09a590848ada2cdf879e88149e4": {
          "model_module": "@jupyter-widgets/controls",
          "model_name": "HTMLModel",
          "model_module_version": "1.5.0",
          "state": {
            "_dom_classes": [],
            "_model_module": "@jupyter-widgets/controls",
            "_model_module_version": "1.5.0",
            "_model_name": "HTMLModel",
            "_view_count": null,
            "_view_module": "@jupyter-widgets/controls",
            "_view_module_version": "1.5.0",
            "_view_name": "HTMLView",
            "description": "",
            "description_tooltip": null,
            "layout": "IPY_MODEL_25fff28808b74e6499d66256b39eefa1",
            "placeholder": "​",
            "style": "IPY_MODEL_6caae0aa607d494fb0e61c069724af63",
            "value": " 93.0/93.0 [00:00&lt;00:00, 10.6kB/s]"
          }
        },
        "f0c180f1474f4fb49d944fa3216553b5": {
          "model_module": "@jupyter-widgets/base",
          "model_name": "LayoutModel",
          "model_module_version": "1.2.0",
          "state": {
            "_model_module": "@jupyter-widgets/base",
            "_model_module_version": "1.2.0",
            "_model_name": "LayoutModel",
            "_view_count": null,
            "_view_module": "@jupyter-widgets/base",
            "_view_module_version": "1.2.0",
            "_view_name": "LayoutView",
            "align_content": null,
            "align_items": null,
            "align_self": null,
            "border": null,
            "bottom": null,
            "display": null,
            "flex": null,
            "flex_flow": null,
            "grid_area": null,
            "grid_auto_columns": null,
            "grid_auto_flow": null,
            "grid_auto_rows": null,
            "grid_column": null,
            "grid_gap": null,
            "grid_row": null,
            "grid_template_areas": null,
            "grid_template_columns": null,
            "grid_template_rows": null,
            "height": null,
            "justify_content": null,
            "justify_items": null,
            "left": null,
            "margin": null,
            "max_height": null,
            "max_width": null,
            "min_height": null,
            "min_width": null,
            "object_fit": null,
            "object_position": null,
            "order": null,
            "overflow": null,
            "overflow_x": null,
            "overflow_y": null,
            "padding": null,
            "right": null,
            "top": null,
            "visibility": null,
            "width": null
          }
        },
        "05d47bc3128644579497d6e571338e4a": {
          "model_module": "@jupyter-widgets/base",
          "model_name": "LayoutModel",
          "model_module_version": "1.2.0",
          "state": {
            "_model_module": "@jupyter-widgets/base",
            "_model_module_version": "1.2.0",
            "_model_name": "LayoutModel",
            "_view_count": null,
            "_view_module": "@jupyter-widgets/base",
            "_view_module_version": "1.2.0",
            "_view_name": "LayoutView",
            "align_content": null,
            "align_items": null,
            "align_self": null,
            "border": null,
            "bottom": null,
            "display": null,
            "flex": null,
            "flex_flow": null,
            "grid_area": null,
            "grid_auto_columns": null,
            "grid_auto_flow": null,
            "grid_auto_rows": null,
            "grid_column": null,
            "grid_gap": null,
            "grid_row": null,
            "grid_template_areas": null,
            "grid_template_columns": null,
            "grid_template_rows": null,
            "height": null,
            "justify_content": null,
            "justify_items": null,
            "left": null,
            "margin": null,
            "max_height": null,
            "max_width": null,
            "min_height": null,
            "min_width": null,
            "object_fit": null,
            "object_position": null,
            "order": null,
            "overflow": null,
            "overflow_x": null,
            "overflow_y": null,
            "padding": null,
            "right": null,
            "top": null,
            "visibility": null,
            "width": null
          }
        },
        "d7de464c359e4f95b4669bb567ecd62f": {
          "model_module": "@jupyter-widgets/controls",
          "model_name": "DescriptionStyleModel",
          "model_module_version": "1.5.0",
          "state": {
            "_model_module": "@jupyter-widgets/controls",
            "_model_module_version": "1.5.0",
            "_model_name": "DescriptionStyleModel",
            "_view_count": null,
            "_view_module": "@jupyter-widgets/base",
            "_view_module_version": "1.2.0",
            "_view_name": "StyleView",
            "description_width": ""
          }
        },
        "892c5a219bc1439f91656ec4f59bc382": {
          "model_module": "@jupyter-widgets/base",
          "model_name": "LayoutModel",
          "model_module_version": "1.2.0",
          "state": {
            "_model_module": "@jupyter-widgets/base",
            "_model_module_version": "1.2.0",
            "_model_name": "LayoutModel",
            "_view_count": null,
            "_view_module": "@jupyter-widgets/base",
            "_view_module_version": "1.2.0",
            "_view_name": "LayoutView",
            "align_content": null,
            "align_items": null,
            "align_self": null,
            "border": null,
            "bottom": null,
            "display": null,
            "flex": null,
            "flex_flow": null,
            "grid_area": null,
            "grid_auto_columns": null,
            "grid_auto_flow": null,
            "grid_auto_rows": null,
            "grid_column": null,
            "grid_gap": null,
            "grid_row": null,
            "grid_template_areas": null,
            "grid_template_columns": null,
            "grid_template_rows": null,
            "height": null,
            "justify_content": null,
            "justify_items": null,
            "left": null,
            "margin": null,
            "max_height": null,
            "max_width": null,
            "min_height": null,
            "min_width": null,
            "object_fit": null,
            "object_position": null,
            "order": null,
            "overflow": null,
            "overflow_x": null,
            "overflow_y": null,
            "padding": null,
            "right": null,
            "top": null,
            "visibility": null,
            "width": null
          }
        },
        "1edb25bc06f245d4b81614b833edc35b": {
          "model_module": "@jupyter-widgets/controls",
          "model_name": "ProgressStyleModel",
          "model_module_version": "1.5.0",
          "state": {
            "_model_module": "@jupyter-widgets/controls",
            "_model_module_version": "1.5.0",
            "_model_name": "ProgressStyleModel",
            "_view_count": null,
            "_view_module": "@jupyter-widgets/base",
            "_view_module_version": "1.2.0",
            "_view_name": "StyleView",
            "bar_color": null,
            "description_width": ""
          }
        },
        "25fff28808b74e6499d66256b39eefa1": {
          "model_module": "@jupyter-widgets/base",
          "model_name": "LayoutModel",
          "model_module_version": "1.2.0",
          "state": {
            "_model_module": "@jupyter-widgets/base",
            "_model_module_version": "1.2.0",
            "_model_name": "LayoutModel",
            "_view_count": null,
            "_view_module": "@jupyter-widgets/base",
            "_view_module_version": "1.2.0",
            "_view_name": "LayoutView",
            "align_content": null,
            "align_items": null,
            "align_self": null,
            "border": null,
            "bottom": null,
            "display": null,
            "flex": null,
            "flex_flow": null,
            "grid_area": null,
            "grid_auto_columns": null,
            "grid_auto_flow": null,
            "grid_auto_rows": null,
            "grid_column": null,
            "grid_gap": null,
            "grid_row": null,
            "grid_template_areas": null,
            "grid_template_columns": null,
            "grid_template_rows": null,
            "height": null,
            "justify_content": null,
            "justify_items": null,
            "left": null,
            "margin": null,
            "max_height": null,
            "max_width": null,
            "min_height": null,
            "min_width": null,
            "object_fit": null,
            "object_position": null,
            "order": null,
            "overflow": null,
            "overflow_x": null,
            "overflow_y": null,
            "padding": null,
            "right": null,
            "top": null,
            "visibility": null,
            "width": null
          }
        },
        "6caae0aa607d494fb0e61c069724af63": {
          "model_module": "@jupyter-widgets/controls",
          "model_name": "DescriptionStyleModel",
          "model_module_version": "1.5.0",
          "state": {
            "_model_module": "@jupyter-widgets/controls",
            "_model_module_version": "1.5.0",
            "_model_name": "DescriptionStyleModel",
            "_view_count": null,
            "_view_module": "@jupyter-widgets/base",
            "_view_module_version": "1.2.0",
            "_view_name": "StyleView",
            "description_width": ""
          }
        },
        "5754195bd37248e886aa03dcada3403d": {
          "model_module": "@jupyter-widgets/controls",
          "model_name": "HBoxModel",
          "model_module_version": "1.5.0",
          "state": {
            "_dom_classes": [],
            "_model_module": "@jupyter-widgets/controls",
            "_model_module_version": "1.5.0",
            "_model_name": "HBoxModel",
            "_view_count": null,
            "_view_module": "@jupyter-widgets/controls",
            "_view_module_version": "1.5.0",
            "_view_name": "HBoxView",
            "box_style": "",
            "children": [
              "IPY_MODEL_9590051bc0f5473583b59e7e2d7ab6e2",
              "IPY_MODEL_c4dcd0641c6f457580fd1376f27d8622",
              "IPY_MODEL_0e2010d8313a4d0d985e8d9bcaa2f54e"
            ],
            "layout": "IPY_MODEL_1488466110d84f4cb0572eef040de4f9"
          }
        },
        "9590051bc0f5473583b59e7e2d7ab6e2": {
          "model_module": "@jupyter-widgets/controls",
          "model_name": "HTMLModel",
          "model_module_version": "1.5.0",
          "state": {
            "_dom_classes": [],
            "_model_module": "@jupyter-widgets/controls",
            "_model_module_version": "1.5.0",
            "_model_name": "HTMLModel",
            "_view_count": null,
            "_view_module": "@jupyter-widgets/controls",
            "_view_module_version": "1.5.0",
            "_view_name": "HTMLView",
            "description": "",
            "description_tooltip": null,
            "layout": "IPY_MODEL_77e0456d00dc44ce9b6a94e973d7f4e0",
            "placeholder": "​",
            "style": "IPY_MODEL_716c8498fdec4ce2bf40622951a9133d",
            "value": "special_tokens_map.json: 100%"
          }
        },
        "c4dcd0641c6f457580fd1376f27d8622": {
          "model_module": "@jupyter-widgets/controls",
          "model_name": "FloatProgressModel",
          "model_module_version": "1.5.0",
          "state": {
            "_dom_classes": [],
            "_model_module": "@jupyter-widgets/controls",
            "_model_module_version": "1.5.0",
            "_model_name": "FloatProgressModel",
            "_view_count": null,
            "_view_module": "@jupyter-widgets/controls",
            "_view_module_version": "1.5.0",
            "_view_name": "ProgressView",
            "bar_style": "success",
            "description": "",
            "description_tooltip": null,
            "layout": "IPY_MODEL_2119783264f34cd2a8a89c7b94fcfefa",
            "max": 125,
            "min": 0,
            "orientation": "horizontal",
            "style": "IPY_MODEL_44bf0568b1554f1d9e69214698a289d4",
            "value": 125
          }
        },
        "0e2010d8313a4d0d985e8d9bcaa2f54e": {
          "model_module": "@jupyter-widgets/controls",
          "model_name": "HTMLModel",
          "model_module_version": "1.5.0",
          "state": {
            "_dom_classes": [],
            "_model_module": "@jupyter-widgets/controls",
            "_model_module_version": "1.5.0",
            "_model_name": "HTMLModel",
            "_view_count": null,
            "_view_module": "@jupyter-widgets/controls",
            "_view_module_version": "1.5.0",
            "_view_name": "HTMLView",
            "description": "",
            "description_tooltip": null,
            "layout": "IPY_MODEL_adc4be54c23a4d21949c3e24c826420d",
            "placeholder": "​",
            "style": "IPY_MODEL_bb77493bb0f247b39d27b8a04b749e0f",
            "value": " 125/125 [00:00&lt;00:00, 10.8kB/s]"
          }
        },
        "1488466110d84f4cb0572eef040de4f9": {
          "model_module": "@jupyter-widgets/base",
          "model_name": "LayoutModel",
          "model_module_version": "1.2.0",
          "state": {
            "_model_module": "@jupyter-widgets/base",
            "_model_module_version": "1.2.0",
            "_model_name": "LayoutModel",
            "_view_count": null,
            "_view_module": "@jupyter-widgets/base",
            "_view_module_version": "1.2.0",
            "_view_name": "LayoutView",
            "align_content": null,
            "align_items": null,
            "align_self": null,
            "border": null,
            "bottom": null,
            "display": null,
            "flex": null,
            "flex_flow": null,
            "grid_area": null,
            "grid_auto_columns": null,
            "grid_auto_flow": null,
            "grid_auto_rows": null,
            "grid_column": null,
            "grid_gap": null,
            "grid_row": null,
            "grid_template_areas": null,
            "grid_template_columns": null,
            "grid_template_rows": null,
            "height": null,
            "justify_content": null,
            "justify_items": null,
            "left": null,
            "margin": null,
            "max_height": null,
            "max_width": null,
            "min_height": null,
            "min_width": null,
            "object_fit": null,
            "object_position": null,
            "order": null,
            "overflow": null,
            "overflow_x": null,
            "overflow_y": null,
            "padding": null,
            "right": null,
            "top": null,
            "visibility": null,
            "width": null
          }
        },
        "77e0456d00dc44ce9b6a94e973d7f4e0": {
          "model_module": "@jupyter-widgets/base",
          "model_name": "LayoutModel",
          "model_module_version": "1.2.0",
          "state": {
            "_model_module": "@jupyter-widgets/base",
            "_model_module_version": "1.2.0",
            "_model_name": "LayoutModel",
            "_view_count": null,
            "_view_module": "@jupyter-widgets/base",
            "_view_module_version": "1.2.0",
            "_view_name": "LayoutView",
            "align_content": null,
            "align_items": null,
            "align_self": null,
            "border": null,
            "bottom": null,
            "display": null,
            "flex": null,
            "flex_flow": null,
            "grid_area": null,
            "grid_auto_columns": null,
            "grid_auto_flow": null,
            "grid_auto_rows": null,
            "grid_column": null,
            "grid_gap": null,
            "grid_row": null,
            "grid_template_areas": null,
            "grid_template_columns": null,
            "grid_template_rows": null,
            "height": null,
            "justify_content": null,
            "justify_items": null,
            "left": null,
            "margin": null,
            "max_height": null,
            "max_width": null,
            "min_height": null,
            "min_width": null,
            "object_fit": null,
            "object_position": null,
            "order": null,
            "overflow": null,
            "overflow_x": null,
            "overflow_y": null,
            "padding": null,
            "right": null,
            "top": null,
            "visibility": null,
            "width": null
          }
        },
        "716c8498fdec4ce2bf40622951a9133d": {
          "model_module": "@jupyter-widgets/controls",
          "model_name": "DescriptionStyleModel",
          "model_module_version": "1.5.0",
          "state": {
            "_model_module": "@jupyter-widgets/controls",
            "_model_module_version": "1.5.0",
            "_model_name": "DescriptionStyleModel",
            "_view_count": null,
            "_view_module": "@jupyter-widgets/base",
            "_view_module_version": "1.2.0",
            "_view_name": "StyleView",
            "description_width": ""
          }
        },
        "2119783264f34cd2a8a89c7b94fcfefa": {
          "model_module": "@jupyter-widgets/base",
          "model_name": "LayoutModel",
          "model_module_version": "1.2.0",
          "state": {
            "_model_module": "@jupyter-widgets/base",
            "_model_module_version": "1.2.0",
            "_model_name": "LayoutModel",
            "_view_count": null,
            "_view_module": "@jupyter-widgets/base",
            "_view_module_version": "1.2.0",
            "_view_name": "LayoutView",
            "align_content": null,
            "align_items": null,
            "align_self": null,
            "border": null,
            "bottom": null,
            "display": null,
            "flex": null,
            "flex_flow": null,
            "grid_area": null,
            "grid_auto_columns": null,
            "grid_auto_flow": null,
            "grid_auto_rows": null,
            "grid_column": null,
            "grid_gap": null,
            "grid_row": null,
            "grid_template_areas": null,
            "grid_template_columns": null,
            "grid_template_rows": null,
            "height": null,
            "justify_content": null,
            "justify_items": null,
            "left": null,
            "margin": null,
            "max_height": null,
            "max_width": null,
            "min_height": null,
            "min_width": null,
            "object_fit": null,
            "object_position": null,
            "order": null,
            "overflow": null,
            "overflow_x": null,
            "overflow_y": null,
            "padding": null,
            "right": null,
            "top": null,
            "visibility": null,
            "width": null
          }
        },
        "44bf0568b1554f1d9e69214698a289d4": {
          "model_module": "@jupyter-widgets/controls",
          "model_name": "ProgressStyleModel",
          "model_module_version": "1.5.0",
          "state": {
            "_model_module": "@jupyter-widgets/controls",
            "_model_module_version": "1.5.0",
            "_model_name": "ProgressStyleModel",
            "_view_count": null,
            "_view_module": "@jupyter-widgets/base",
            "_view_module_version": "1.2.0",
            "_view_name": "StyleView",
            "bar_color": null,
            "description_width": ""
          }
        },
        "adc4be54c23a4d21949c3e24c826420d": {
          "model_module": "@jupyter-widgets/base",
          "model_name": "LayoutModel",
          "model_module_version": "1.2.0",
          "state": {
            "_model_module": "@jupyter-widgets/base",
            "_model_module_version": "1.2.0",
            "_model_name": "LayoutModel",
            "_view_count": null,
            "_view_module": "@jupyter-widgets/base",
            "_view_module_version": "1.2.0",
            "_view_name": "LayoutView",
            "align_content": null,
            "align_items": null,
            "align_self": null,
            "border": null,
            "bottom": null,
            "display": null,
            "flex": null,
            "flex_flow": null,
            "grid_area": null,
            "grid_auto_columns": null,
            "grid_auto_flow": null,
            "grid_auto_rows": null,
            "grid_column": null,
            "grid_gap": null,
            "grid_row": null,
            "grid_template_areas": null,
            "grid_template_columns": null,
            "grid_template_rows": null,
            "height": null,
            "justify_content": null,
            "justify_items": null,
            "left": null,
            "margin": null,
            "max_height": null,
            "max_width": null,
            "min_height": null,
            "min_width": null,
            "object_fit": null,
            "object_position": null,
            "order": null,
            "overflow": null,
            "overflow_x": null,
            "overflow_y": null,
            "padding": null,
            "right": null,
            "top": null,
            "visibility": null,
            "width": null
          }
        },
        "bb77493bb0f247b39d27b8a04b749e0f": {
          "model_module": "@jupyter-widgets/controls",
          "model_name": "DescriptionStyleModel",
          "model_module_version": "1.5.0",
          "state": {
            "_model_module": "@jupyter-widgets/controls",
            "_model_module_version": "1.5.0",
            "_model_name": "DescriptionStyleModel",
            "_view_count": null,
            "_view_module": "@jupyter-widgets/base",
            "_view_module_version": "1.2.0",
            "_view_name": "StyleView",
            "description_width": ""
          }
        }
      }
    }
  },
  "cells": [
    {
      "cell_type": "code",
      "execution_count": null,
      "metadata": {
        "id": "k3IB_Despm-P"
      },
      "outputs": [],
      "source": [
        "import numpy as np\n",
        "import pandas as pd\n",
        "import matplotlib.pyplot as plt\n",
        "import seaborn as sns\n",
        "from tensorflow.keras.preprocessing.text import Tokenizer\n",
        "from tensorflow.keras.preprocessing.sequence import pad_sequences\n",
        "from sklearn.model_selection import train_test_split,KFold\n",
        "import torch\n",
        "import torch.nn as nn\n",
        "from torch.utils.data import Dataset, DataLoader, TensorDataset, random_split\n",
        "from sklearn.metrics import roc_auc_score, r2_score, mean_squared_error,mean_absolute_error\n",
        "import math\n",
        "import torch.nn.functional as F\n",
        "import torch.optim as optim\n",
        "from torch.optim.lr_scheduler import ReduceLROnPlateau\n",
        "from transformers import T5Tokenizer,AutoTokenizer,BertTokenizer,AutoModel\n",
        "import re\n",
        "from sklearn.model_selection import train_test_split\n",
        "from torch.utils.data import Subset\n",
        "import os\n",
        "from sklearn.metrics import precision_score, recall_score, f1_score, roc_auc_score\n"
      ]
    },
    {
      "cell_type": "code",
      "source": [
        "torch.manual_seed(3407)"
      ],
      "metadata": {
        "colab": {
          "base_uri": "https://localhost:8080/"
        },
        "id": "QB3DTaMGmLHQ",
        "outputId": "317060cf-357c-45d9-d4b4-53e410177b55"
      },
      "execution_count": null,
      "outputs": [
        {
          "output_type": "execute_result",
          "data": {
            "text/plain": [
              "<torch._C.Generator at 0x7fcec094b330>"
            ]
          },
          "metadata": {},
          "execution_count": 2
        }
      ]
    },
    {
      "cell_type": "code",
      "source": [
        "from google.colab import drive\n",
        "drive.mount('/content/drive')"
      ],
      "metadata": {
        "colab": {
          "base_uri": "https://localhost:8080/"
        },
        "id": "4GnnSfbSMJzF",
        "outputId": "283a075d-ce99-43e6-bc26-f08088cc5ec9"
      },
      "execution_count": null,
      "outputs": [
        {
          "output_type": "stream",
          "name": "stdout",
          "text": [
            "Mounted at /content/drive\n"
          ]
        }
      ]
    },
    {
      "cell_type": "code",
      "source": [
        "df=pd.read_csv('/content/drive/MyDrive/lstm_data/data.csv')\n",
        "threshold = 0.4256\n",
        "df['logic']=df['logic'].apply(lambda x: 1 if x > threshold else 0)"
      ],
      "metadata": {
        "id": "oSc9RDrEML2l"
      },
      "execution_count": null,
      "outputs": []
    },
    {
      "cell_type": "code",
      "source": [
        "tokenizer = AutoTokenizer.from_pretrained(\"facebook/esm2_t6_8M_UR50D\",do_lower_case=False)"
      ],
      "metadata": {
        "id": "18O_3JVMMNR7",
        "colab": {
          "base_uri": "https://localhost:8080/",
          "height": 217,
          "referenced_widgets": [
            "8c49759897424f62894cb78b03cf7aa0",
            "71377614ec5b4ee89a0cb7efef5651c2",
            "8738b7bc60fe4c828af146fbcf0666ed",
            "52ffa43f481e463e8a8a4ea9702db4b8",
            "72552c866b5e4ad89fcb9b93d5b8a8f7",
            "1622dbc9500f4176903e9405ecab8257",
            "3964041659be49de9ee6128bb947f3bf",
            "f1972b4206e64fcd9b27d62f9e933f38",
            "932c2724b696422ea05ebe876c576d3b",
            "fbe260db00cd47579537b74bee2e218d",
            "107136c452aa4fd8aaf314a9c3083ab1",
            "3cfdce42578e420e930c23dd2e5732e5",
            "9de287ec6af94268af092aee44f3e687",
            "4db1d9d3c6a04c778a5b41d3e7b16d49",
            "e92fa09a590848ada2cdf879e88149e4",
            "f0c180f1474f4fb49d944fa3216553b5",
            "05d47bc3128644579497d6e571338e4a",
            "d7de464c359e4f95b4669bb567ecd62f",
            "892c5a219bc1439f91656ec4f59bc382",
            "1edb25bc06f245d4b81614b833edc35b",
            "25fff28808b74e6499d66256b39eefa1",
            "6caae0aa607d494fb0e61c069724af63",
            "5754195bd37248e886aa03dcada3403d",
            "9590051bc0f5473583b59e7e2d7ab6e2",
            "c4dcd0641c6f457580fd1376f27d8622",
            "0e2010d8313a4d0d985e8d9bcaa2f54e",
            "1488466110d84f4cb0572eef040de4f9",
            "77e0456d00dc44ce9b6a94e973d7f4e0",
            "716c8498fdec4ce2bf40622951a9133d",
            "2119783264f34cd2a8a89c7b94fcfefa",
            "44bf0568b1554f1d9e69214698a289d4",
            "adc4be54c23a4d21949c3e24c826420d",
            "bb77493bb0f247b39d27b8a04b749e0f"
          ]
        },
        "outputId": "2df45214-33b4-4d76-f335-d6c4505f0a83"
      },
      "execution_count": null,
      "outputs": [
        {
          "output_type": "stream",
          "name": "stderr",
          "text": [
            "/usr/local/lib/python3.11/dist-packages/huggingface_hub/utils/_auth.py:94: UserWarning: \n",
            "The secret `HF_TOKEN` does not exist in your Colab secrets.\n",
            "To authenticate with the Hugging Face Hub, create a token in your settings tab (https://huggingface.co/settings/tokens), set it as secret in your Google Colab and restart your session.\n",
            "You will be able to reuse this secret in all of your notebooks.\n",
            "Please note that authentication is recommended but still optional to access public models or datasets.\n",
            "  warnings.warn(\n"
          ]
        },
        {
          "output_type": "display_data",
          "data": {
            "text/plain": [
              "tokenizer_config.json:   0%|          | 0.00/95.0 [00:00<?, ?B/s]"
            ],
            "application/vnd.jupyter.widget-view+json": {
              "version_major": 2,
              "version_minor": 0,
              "model_id": "8c49759897424f62894cb78b03cf7aa0"
            }
          },
          "metadata": {}
        },
        {
          "output_type": "display_data",
          "data": {
            "text/plain": [
              "vocab.txt:   0%|          | 0.00/93.0 [00:00<?, ?B/s]"
            ],
            "application/vnd.jupyter.widget-view+json": {
              "version_major": 2,
              "version_minor": 0,
              "model_id": "3cfdce42578e420e930c23dd2e5732e5"
            }
          },
          "metadata": {}
        },
        {
          "output_type": "display_data",
          "data": {
            "text/plain": [
              "special_tokens_map.json:   0%|          | 0.00/125 [00:00<?, ?B/s]"
            ],
            "application/vnd.jupyter.widget-view+json": {
              "version_major": 2,
              "version_minor": 0,
              "model_id": "5754195bd37248e886aa03dcada3403d"
            }
          },
          "metadata": {}
        }
      ]
    },
    {
      "cell_type": "code",
      "source": [
        "pep_sequences = [\" \".join(list(re.sub(r\"[UZOB]\", \"X\", data))) for data in df['pep']]\n",
        "mhc_sequences = [\" \".join(list(re.sub(r\"[UZOB]\", \"X\", data))) for data in df['mhc']]"
      ],
      "metadata": {
        "id": "wGQ0YTZDmYBd"
      },
      "execution_count": null,
      "outputs": []
    },
    {
      "cell_type": "code",
      "source": [
        "pep_ids = tokenizer(pep_sequences, add_special_tokens=True, padding=\"longest\")\n",
        "mhc_ids = tokenizer(mhc_sequences, add_special_tokens=True, padding=\"longest\")"
      ],
      "metadata": {
        "id": "KMNYqa0ymZiO"
      },
      "execution_count": null,
      "outputs": []
    },
    {
      "cell_type": "code",
      "source": [
        "tokenizer.get_vocab()"
      ],
      "metadata": {
        "colab": {
          "base_uri": "https://localhost:8080/"
        },
        "id": "8eXdKzmGmbGG",
        "outputId": "bc5fbcda-0f78-4570-98ad-5e0fd4cd13a6"
      },
      "execution_count": null,
      "outputs": [
        {
          "output_type": "execute_result",
          "data": {
            "text/plain": [
              "{'<cls>': 0,\n",
              " '<pad>': 1,\n",
              " '<eos>': 2,\n",
              " '<unk>': 3,\n",
              " 'L': 4,\n",
              " 'A': 5,\n",
              " 'G': 6,\n",
              " 'V': 7,\n",
              " 'S': 8,\n",
              " 'E': 9,\n",
              " 'R': 10,\n",
              " 'T': 11,\n",
              " 'I': 12,\n",
              " 'D': 13,\n",
              " 'P': 14,\n",
              " 'K': 15,\n",
              " 'Q': 16,\n",
              " 'N': 17,\n",
              " 'F': 18,\n",
              " 'Y': 19,\n",
              " 'M': 20,\n",
              " 'H': 21,\n",
              " 'W': 22,\n",
              " 'C': 23,\n",
              " 'X': 24,\n",
              " 'B': 25,\n",
              " 'U': 26,\n",
              " 'Z': 27,\n",
              " 'O': 28,\n",
              " '.': 29,\n",
              " '-': 30,\n",
              " '<null_1>': 31,\n",
              " '<mask>': 32}"
            ]
          },
          "metadata": {},
          "execution_count": 8
        }
      ]
    },
    {
      "cell_type": "code",
      "source": [
        "vocab_size = len(tokenizer.get_vocab())\n",
        "print(vocab_size)"
      ],
      "metadata": {
        "colab": {
          "base_uri": "https://localhost:8080/"
        },
        "id": "pm52BrfGmc7c",
        "outputId": "86bbe259-6a0d-4f8d-fa75-630470af35e1"
      },
      "execution_count": null,
      "outputs": [
        {
          "output_type": "stream",
          "name": "stdout",
          "text": [
            "33\n"
          ]
        }
      ]
    },
    {
      "cell_type": "code",
      "source": [
        "device = 'cuda' if torch.cuda.is_available() else 'cpu'\n",
        "device"
      ],
      "metadata": {
        "colab": {
          "base_uri": "https://localhost:8080/",
          "height": 35
        },
        "id": "UbJ_WOm4meSI",
        "outputId": "381ff151-517f-4a1c-c1e9-7ead5cfc36c3"
      },
      "execution_count": null,
      "outputs": [
        {
          "output_type": "execute_result",
          "data": {
            "text/plain": [
              "'cuda'"
            ],
            "application/vnd.google.colaboratory.intrinsic+json": {
              "type": "string"
            }
          },
          "metadata": {},
          "execution_count": 10
        }
      ]
    },
    {
      "cell_type": "code",
      "source": [
        "pep_input_ids = torch.tensor(pep_ids['input_ids']).to(device)\n",
        "pep_attention_mask = torch.tensor(pep_ids['attention_mask']).to(device)\n",
        "mhc_input_ids = torch.tensor(mhc_ids['input_ids']).to(device)\n",
        "mhc_attention_mask = torch.tensor(mhc_ids['attention_mask']).to(device)"
      ],
      "metadata": {
        "id": "jYTNhznwmgAe"
      },
      "execution_count": null,
      "outputs": []
    },
    {
      "cell_type": "code",
      "source": [
        "scores = torch.tensor(df['logic'].values,dtype=torch.float32).to(device)"
      ],
      "metadata": {
        "id": "n3oLCTKlMPSo"
      },
      "execution_count": null,
      "outputs": []
    },
    {
      "cell_type": "code",
      "source": [
        "extra_pad = pep_input_ids.size(1)-mhc_input_ids.size(1)\n",
        "extra_pad"
      ],
      "metadata": {
        "id": "9KH21R1OMQ9O",
        "colab": {
          "base_uri": "https://localhost:8080/"
        },
        "outputId": "6952bc0c-d56a-41c9-eb06-e6667f55eb69"
      },
      "execution_count": null,
      "outputs": [
        {
          "output_type": "execute_result",
          "data": {
            "text/plain": [
              "3"
            ]
          },
          "metadata": {},
          "execution_count": 13
        }
      ]
    },
    {
      "cell_type": "code",
      "source": [
        "mhc_input_ids = F.pad(mhc_input_ids, (0, extra_pad), value = 1)\n",
        "mhc_attention_mask = F.pad(mhc_attention_mask, (0, extra_pad), value = 0)"
      ],
      "metadata": {
        "id": "zi3vU2i7MSp5"
      },
      "execution_count": null,
      "outputs": []
    },
    {
      "cell_type": "code",
      "source": [
        "y = scores"
      ],
      "metadata": {
        "id": "hyHySQZTmol3"
      },
      "execution_count": null,
      "outputs": []
    },
    {
      "cell_type": "code",
      "source": [
        "X = torch.stack((pep_input_ids,mhc_input_ids,pep_attention_mask,mhc_attention_mask),dim=1)\n",
        "y = torch.tensor(df['logic'].values,dtype=torch.float32).to(device)"
      ],
      "metadata": {
        "id": "dvH3YX5zmq19"
      },
      "execution_count": null,
      "outputs": []
    },
    {
      "cell_type": "code",
      "source": [
        "X_train,X_test,y_train,y_test = train_test_split(X,y,test_size=0.2,random_state=42)"
      ],
      "metadata": {
        "id": "dl4ZqAgKmswd"
      },
      "execution_count": null,
      "outputs": []
    },
    {
      "cell_type": "code",
      "source": [
        "X_train,X_val,y_train,y_val = train_test_split(X_train,y_train,test_size=0.2,random_state=42)"
      ],
      "metadata": {
        "id": "lPNdaBO1muGP"
      },
      "execution_count": null,
      "outputs": []
    },
    {
      "cell_type": "code",
      "source": [
        "train_dataset = TensorDataset(X_train[: ,0],X_train[:,1],X_train[:,2],X_train[:,3], y_train)\n",
        "val_dataset = TensorDataset(X_val[:,0],X_val[:,1],X_val[:,2],X_val[:,3], y_val)\n",
        "test_dataset = TensorDataset(X_test[:,0],X_test[:,1],X_test[:,2],X_test[:,3],y_test)"
      ],
      "metadata": {
        "id": "fCH7xJEiMZPg"
      },
      "execution_count": null,
      "outputs": []
    },
    {
      "cell_type": "code",
      "source": [
        "train_loader = DataLoader(train_dataset, batch_size=64, shuffle=True)\n",
        "val_loader = DataLoader(val_dataset,batch_size=64,shuffle=False)\n",
        "test_loader = DataLoader(test_dataset, batch_size=128, shuffle=False)"
      ],
      "metadata": {
        "id": "aXZ304u5mxVc"
      },
      "execution_count": null,
      "outputs": []
    },
    {
      "cell_type": "code",
      "source": [
        "import torch\n",
        "import torch.nn as nn\n",
        "from torch.nn.utils.rnn import pack_padded_sequence, pad_packed_sequence\n",
        "\n",
        "class LSTMEncoder(nn.Module):\n",
        "    def __init__(self, input_dim, hidden_dim, num_layers, dropout=0.1):\n",
        "        super().__init__()\n",
        "        self.lstm = nn.LSTM(\n",
        "            input_size=input_dim,\n",
        "            hidden_size=hidden_dim,\n",
        "            num_layers=num_layers,\n",
        "            batch_first=True,\n",
        "            dropout=dropout if num_layers > 1 else 0\n",
        "        )\n",
        "\n",
        "    def forward(self, x, lengths=None):\n",
        "        if lengths is not None:\n",
        "            # Sort sequences by length in descending order\n",
        "            sorted_lengths, sorted_indices = torch.sort(lengths, descending=True)\n",
        "            x_sorted = x[sorted_indices]\n",
        "\n",
        "            # Pack padded sequence\n",
        "            packed_x = pack_padded_sequence(x_sorted, sorted_lengths.cpu(), batch_first=True, enforce_sorted=True)\n",
        "            packed_output, (hidden, cell) = self.lstm(packed_x)\n",
        "\n",
        "            # Unpack and reorder to original sequence order\n",
        "            output, _ = pad_packed_sequence(packed_output, batch_first=True)\n",
        "            unsorted_indices = sorted_indices.argsort()\n",
        "            output = output[unsorted_indices]\n",
        "        else:\n",
        "            output, (hidden, cell) = self.lstm(x)\n",
        "\n",
        "        return output  # (batch_size, seq_len, hidden_dim)\n",
        "\n",
        "class CrossAttentionLayer(nn.Module):\n",
        "    def __init__(self, embed_dim, num_heads, dropout=0.1):\n",
        "        super().__init__()\n",
        "        self.multihead_attn = nn.MultiheadAttention(\n",
        "            embed_dim, num_heads, dropout=dropout, batch_first=True\n",
        "        )\n",
        "        self.norm1 = nn.LayerNorm(embed_dim)\n",
        "        self.ffn = nn.Sequential(\n",
        "            nn.Linear(embed_dim, 4 * embed_dim),\n",
        "            nn.GELU(),\n",
        "            nn.Dropout(dropout),\n",
        "            nn.Linear(4 * embed_dim, embed_dim)\n",
        "        )\n",
        "        self.norm2 = nn.LayerNorm(embed_dim)\n",
        "\n",
        "    def forward(self, query, key, value, key_padding_mask=None):\n",
        "        attn_output, attn_weights = self.multihead_attn(\n",
        "            query=query,\n",
        "            key=key,\n",
        "            value=value,\n",
        "            key_padding_mask=key_padding_mask\n",
        "        )\n",
        "        attn_output = self.norm1(attn_output + query)\n",
        "        ffn_output = self.ffn(attn_output)\n",
        "        output = self.norm2(ffn_output + attn_output)\n",
        "        return output, attn_weights\n",
        "\n",
        "class Model(nn.Module):\n",
        "    def __init__(self, input_dim, hidden_dim, num_heads, num_layers,\n",
        "                 vocab_size, dropout=0.1):\n",
        "        super().__init__()\n",
        "        self.embed_pep = nn.Sequential(\n",
        "            nn.Embedding(vocab_size, input_dim),\n",
        "            nn.LayerNorm(input_dim))\n",
        "\n",
        "        self.embed_mhc = nn.Sequential(\n",
        "            nn.Embedding(vocab_size, input_dim),\n",
        "            nn.LayerNorm(input_dim)\n",
        "        )\n",
        "\n",
        "        self.encoder_pep = LSTMEncoder(input_dim, hidden_dim, num_layers, dropout)\n",
        "        self.encoder_mhc = LSTMEncoder(input_dim, hidden_dim, num_layers, dropout)\n",
        "\n",
        "        self.cross_attention = CrossAttentionLayer(hidden_dim, num_heads, dropout)\n",
        "\n",
        "        self.last_layer = nn.Sequential(\n",
        "            nn.Linear(hidden_dim, 128),\n",
        "            nn.GELU(),\n",
        "            nn.Dropout(dropout),\n",
        "            nn.Linear(128, 64),\n",
        "            nn.GELU(),\n",
        "            nn.Dropout(dropout),\n",
        "            nn.Linear(64, 1)\n",
        "        )\n",
        "\n",
        "    def forward(self, pep_cls, mhc_cls):\n",
        "        # Embed sequences\n",
        "        pep_embedded = self.embed_pep(pep_cls)  # (batch_size, pep_len, input_dim)\n",
        "        mhc_embedded = self.embed_mhc(mhc_cls)  # (batch_size, mhc_len, input_dim)\n",
        "\n",
        "        # Calculate sequence lengths (assuming 0 is padding index)\n",
        "        pep_lengths = (pep_cls != 1).sum(dim=1)\n",
        "        mhc_lengths = (mhc_cls != 1).sum(dim=1)\n",
        "\n",
        "        # Encode sequences\n",
        "        pep_refined = self.encoder_pep(pep_embedded, pep_lengths)  # (batch, pep_len, hidden_dim)\n",
        "        mhc_refined = self.encoder_mhc(mhc_embedded, mhc_lengths)  # (batch, mhc_len, hidden_dim)\n",
        "\n",
        "        # Create padding mask for MHC sequences\n",
        "        mhc_padding_mask = (mhc_cls == 1)  # (batch_size, mhc_len)\n",
        "        mhc_padding_mask = mhc_padding_mask[:, :mhc_refined.shape[1]]\n",
        "\n",
        "        # Apply cross-attention\n",
        "        cross_output, attn_weights = self.cross_attention(\n",
        "            query=pep_refined,\n",
        "            key=mhc_refined,\n",
        "            value=mhc_refined,\n",
        "            key_padding_mask=mhc_padding_mask\n",
        "        )  # (batch_size, pep_len, hidden_dim)\n",
        "\n",
        "        # Aggregate cross-attention output\n",
        "        cross_aggregated = cross_output.mean(dim=1)  # (batch_size, hidden_dim)\n",
        "\n",
        "        # Final prediction\n",
        "        x = self.last_layer(cross_aggregated)\n",
        "\n",
        "        return x, attn_weights"
      ],
      "metadata": {
        "id": "FybIfxTeMetx"
      },
      "execution_count": null,
      "outputs": []
    },
    {
      "cell_type": "code",
      "source": [
        "device=\"cuda\" if torch.cuda.is_available() else \"cpu\"\n",
        "vocab_size= 33\n",
        "hidden_dim = input_dim = 128\n",
        "num_heads = 4\n",
        "num_layers = 2\n",
        "dropout = 0.3\n",
        "model = Model(input_dim, hidden_dim, num_heads, num_layers,vocab_size, dropout=dropout).to(device)\n",
        "criterion = nn.BCEWithLogitsLoss()\n",
        "optimizer = torch.optim.AdamW(model.parameters(), lr=1e-3,weight_decay=1e-05)\n",
        "scheduler = optim.lr_scheduler.ReduceLROnPlateau(optimizer, mode='min', factor=0.5, patience=3)\n",
        "epochs = 200"
      ],
      "metadata": {
        "id": "-HfW0isBm5Py"
      },
      "execution_count": null,
      "outputs": []
    },
    {
      "cell_type": "code",
      "source": [
        "patience = 5\n",
        "best_val_auroc = 0\n",
        "patience_counter = 0\n",
        "save_path = '/content/drive/MyDrive/lstm_data/model/classification.pth'\n",
        "train_losses = []\n",
        "val_losses = []\n",
        "train_auroc_list = []\n",
        "val_auroc_list = []\n",
        "train_f1_list = []\n",
        "val_f1_list = []\n",
        "train_precision_list = []\n",
        "val_precision_list = []\n",
        "train_recall_list = []\n",
        "val_recall_list = []\n",
        "best_val_loss = float('inf')\n",
        "\n",
        "\n",
        "for epoch in range(epochs):\n",
        "    #train loop\n",
        "    model.train()\n",
        "    train_loss = 0\n",
        "    total_train_preds = []\n",
        "    total_train_labels = []\n",
        "\n",
        "    for pep_ids, mhc_ids, pep_mask, mhc_mask, scores in train_loader:\n",
        "        pep_ids, mhc_ids, pep_mask, mhc_mask, scores = (\n",
        "            pep_ids.to(device), mhc_ids.to(device),\n",
        "            pep_mask.to(device), mhc_mask.to(device),\n",
        "            scores.to(device)\n",
        "        )\n",
        "        optimizer.zero_grad()\n",
        "        outputs,_ = model(pep_ids, mhc_ids)\n",
        "        loss = criterion(outputs.squeeze(), scores)\n",
        "        loss.backward()\n",
        "        optimizer.step()\n",
        "\n",
        "        train_loss += loss.item()\n",
        "        total_train_preds.append(torch.sigmoid(outputs).detach().cpu())\n",
        "        total_train_labels.append(scores.detach().cpu())\n",
        "\n",
        "    train_loss /= len(train_loader)\n",
        "    train_losses.append(train_loss)\n",
        "\n",
        "    total_train_preds = torch.cat(total_train_preds).numpy()\n",
        "    total_train_labels = torch.cat(total_train_labels).numpy()\n",
        "    train_auroc = roc_auc_score(total_train_labels, total_train_preds)\n",
        "    train_f1 = f1_score(total_train_labels, total_train_preds > 0.4256,zero_division=0)\n",
        "    train_precision = precision_score(total_train_labels, total_train_preds > 0.4256,zero_division=0)\n",
        "    train_recall = recall_score(total_train_labels, total_train_preds > 0.4256,zero_division=0)\n",
        "\n",
        "    train_auroc_list.append(train_auroc)\n",
        "    train_f1_list.append(train_f1)\n",
        "    train_precision_list.append(train_precision)\n",
        "    train_recall_list.append(train_recall)\n",
        "\n",
        "    #val loop\n",
        "    model.eval()\n",
        "    val_loss = 0\n",
        "    total_val_preds = []\n",
        "    total_val_labels = []\n",
        "\n",
        "    with torch.no_grad():\n",
        "        for pep_ids, mhc_ids, pep_mask, mhc_mask, scores in val_loader:\n",
        "            pep_ids, mhc_ids, pep_mask, mhc_mask, scores = (\n",
        "            pep_ids.to(device), mhc_ids.to(device),\n",
        "            pep_mask.to(device), mhc_mask.to(device),\n",
        "            scores.to(device)\n",
        "        )\n",
        "            outputs,_ = model(pep_ids, mhc_ids)\n",
        "            loss = criterion(outputs.squeeze(), scores)\n",
        "            val_loss += loss.item()\n",
        "            total_val_preds.append(torch.sigmoid(outputs).cpu())\n",
        "            total_val_labels.append(scores.cpu())\n",
        "\n",
        "    val_loss /= len(val_loader)\n",
        "    val_losses.append(val_loss)\n",
        "\n",
        "    scheduler.step(val_loss)\n",
        "    total_val_preds = torch.cat(total_val_preds).numpy()\n",
        "    total_val_labels = torch.cat(total_val_labels).numpy()\n",
        "    val_auroc = roc_auc_score(total_val_labels, total_val_preds)\n",
        "    val_f1 = f1_score(total_val_labels, total_val_preds > 0.4256)\n",
        "    val_precision = precision_score(total_val_labels, total_val_preds > 0.4256)\n",
        "    val_recall = recall_score(total_val_labels, total_val_preds > 0.4256)\n",
        "\n",
        "    val_auroc_list.append(val_auroc)\n",
        "    val_f1_list.append(val_f1)\n",
        "    val_precision_list.append(val_precision)\n",
        "    val_recall_list.append(val_recall)\n",
        "\n",
        "    print(f\"Epoch {epoch+1},Train Loss: {train_loss:.4f}, Val Loss: {val_loss:.4f}, AUROC: {val_auroc:.4f}, F1: {val_f1:.4f}, Precision: {val_precision:.4f}, Recall: {val_recall:.4f}\")\n",
        "\n",
        "    #early stop\n",
        "    if val_loss < best_val_loss:\n",
        "        best_val_loss = val_loss\n",
        "        patience_counter = 0\n",
        "        torch.save(model.state_dict(), save_path)\n",
        "        print(\"Model saved!\")\n",
        "    else:\n",
        "        patience_counter += 1\n",
        "        if patience_counter >= patience:\n",
        "            print(f\"Early stopping triggered after {epoch+1} epochs.\")\n",
        "            break\n",
        "\n"
      ],
      "metadata": {
        "colab": {
          "base_uri": "https://localhost:8080/"
        },
        "id": "gKeY6vtzNCwQ",
        "outputId": "44ad5587-d56e-47c9-a3da-4bf59e9616b1"
      },
      "execution_count": null,
      "outputs": [
        {
          "output_type": "stream",
          "name": "stdout",
          "text": [
            "Epoch 1,Train Loss: 0.5686, Val Loss: 0.5501, AUROC: 0.8002, F1: 0.6265, Precision: 0.7445, Recall: 0.5408\n",
            "Model saved!\n",
            "Epoch 2,Train Loss: 0.5127, Val Loss: 0.5047, AUROC: 0.8295, F1: 0.7190, Precision: 0.6560, Recall: 0.7954\n",
            "Model saved!\n",
            "Epoch 3,Train Loss: 0.4845, Val Loss: 0.4853, AUROC: 0.8395, F1: 0.7156, Precision: 0.7213, Recall: 0.7099\n",
            "Model saved!\n",
            "Epoch 4,Train Loss: 0.4616, Val Loss: 0.4723, AUROC: 0.8490, F1: 0.7361, Precision: 0.7028, Recall: 0.7726\n",
            "Model saved!\n",
            "Epoch 5,Train Loss: 0.4429, Val Loss: 0.4617, AUROC: 0.8571, F1: 0.7396, Precision: 0.7287, Recall: 0.7509\n",
            "Model saved!\n",
            "Epoch 6,Train Loss: 0.4290, Val Loss: 0.4641, AUROC: 0.8611, F1: 0.7440, Precision: 0.7327, Recall: 0.7556\n",
            "Epoch 7,Train Loss: 0.4146, Val Loss: 0.4686, AUROC: 0.8609, F1: 0.7411, Precision: 0.7380, Recall: 0.7441\n",
            "Epoch 8,Train Loss: 0.4032, Val Loss: 0.4534, AUROC: 0.8669, F1: 0.7556, Precision: 0.7087, Recall: 0.8091\n",
            "Model saved!\n",
            "Epoch 9,Train Loss: 0.3898, Val Loss: 0.4623, AUROC: 0.8683, F1: 0.7554, Precision: 0.7348, Recall: 0.7773\n",
            "Epoch 10,Train Loss: 0.3781, Val Loss: 0.4551, AUROC: 0.8680, F1: 0.7416, Precision: 0.7791, Recall: 0.7076\n",
            "Epoch 11,Train Loss: 0.3672, Val Loss: 0.4653, AUROC: 0.8711, F1: 0.7558, Precision: 0.7424, Recall: 0.7696\n",
            "Epoch 12,Train Loss: 0.3566, Val Loss: 0.4583, AUROC: 0.8698, F1: 0.7546, Precision: 0.7385, Recall: 0.7715\n",
            "Epoch 13,Train Loss: 0.3244, Val Loss: 0.4730, AUROC: 0.8733, F1: 0.7620, Precision: 0.7335, Recall: 0.7928\n",
            "Early stopping triggered after 13 epochs.\n"
          ]
        }
      ]
    },
    {
      "cell_type": "code",
      "source": [
        "plt.figure(figsize=(8,4))\n",
        "plt.plot(train_losses, label='Training Loss')\n",
        "plt.plot(val_losses, label='Validation Loss')\n",
        "plt.xlabel('Epoch')\n",
        "plt.ylabel('Loss')\n",
        "plt.title('Training and Validation Loss')\n",
        "plt.legend()"
      ],
      "metadata": {
        "colab": {
          "base_uri": "https://localhost:8080/",
          "height": 427
        },
        "id": "4u4Tzya0YIgc",
        "outputId": "3e47aee7-bd19-4747-df3f-7996d2ec4c79"
      },
      "execution_count": null,
      "outputs": [
        {
          "output_type": "execute_result",
          "data": {
            "text/plain": [
              "<matplotlib.legend.Legend at 0x7fcdef15b6d0>"
            ]
          },
          "metadata": {},
          "execution_count": 47
        },
        {
          "output_type": "display_data",
          "data": {
            "text/plain": [
              "<Figure size 800x400 with 1 Axes>"
            ],
            "image/png": "[encoded data removed]"
          },
          "metadata": {}
        }
      ]
    },
    {
      "cell_type": "code",
      "source": [
        "save_path =  '/content/drive/MyDrive/lstm_data/model/classification.pth'\n",
        "from sklearn.metrics import (\n",
        "    precision_recall_curve,\n",
        "    roc_curve,\n",
        "    auc,\n",
        "    confusion_matrix)\n",
        "\n",
        "model.load_state_dict(torch.load(save_path,weights_only=True))\n",
        "model.eval()\n",
        "total_test_preds = []\n",
        "total_test_labels = []\n",
        "test_loss = 0\n",
        "\n",
        "with torch.no_grad():\n",
        "    for pep_ids, mhc_ids, pep_mask, mhc_mask, scores in test_loader:\n",
        "        pep_ids, mhc_ids, scores = pep_ids.to(device), mhc_ids.to(device), scores.to(device)\n",
        "        outputs,_ = model(pep_ids, mhc_ids)\n",
        "        loss = criterion(outputs.squeeze(), scores)\n",
        "        test_loss += loss.item()\n",
        "        total_test_preds.append(torch.sigmoid(outputs).cpu())\n",
        "        total_test_labels.append(scores.cpu())\n",
        "\n",
        "test_loss /= len(test_loader)\n",
        "total_test_preds = torch.cat(total_test_preds).numpy()\n",
        "total_test_labels = torch.cat(total_test_labels).numpy()\n",
        "threshold = 0.4256\n",
        "binary_preds = (total_test_preds >= threshold).astype(int)\n",
        "test_auroc = roc_auc_score(total_test_labels, total_test_preds)\n",
        "test_f1 = f1_score(total_test_labels, binary_preds)\n",
        "test_precision = precision_score(total_test_labels, binary_preds)\n",
        "test_recall = recall_score(total_test_labels, binary_preds)\n",
        "print(f\"Test Loss: {test_loss:.4f}, AUROC: {test_auroc:.4f}, F1: {test_f1:.4f}, Precision: {test_precision:.4f}, Recall: {test_recall:.4f}\")\n"
      ],
      "metadata": {
        "colab": {
          "base_uri": "https://localhost:8080/"
        },
        "id": "KZ2YA2XGYI1u",
        "outputId": "b666c0ba-560c-49a5-cb5d-7a788f880832"
      },
      "execution_count": null,
      "outputs": [
        {
          "output_type": "stream",
          "name": "stdout",
          "text": [
            "Test Loss: 0.4409, AUROC: 0.8736, F1: 0.7603, Precision: 0.7150, Recall: 0.8117\n"
          ]
        }
      ]
    },
    {
      "cell_type": "code",
      "source": [
        "precision, recall, _ = precision_recall_curve(total_test_labels, total_test_preds)\n",
        "pr_auc = auc(recall, precision)\n",
        "\n",
        "\n",
        "plt.figure(figsize=(6, 6))\n",
        "plt.plot(recall, precision, label=f'AUC PR: {pr_auc:.4f}', color='blue')\n",
        "plt.xlabel('Recall')\n",
        "plt.ylabel('Precision')\n",
        "plt.title('PR Curve')\n",
        "plt.legend(loc='best')\n",
        "plt.grid()\n",
        "plt.show()"
      ],
      "metadata": {
        "colab": {
          "base_uri": "https://localhost:8080/",
          "height": 564
        },
        "id": "TgeZ-d4pYVj5",
        "outputId": "e0b8bde1-cf98-4ce9-c576-b93b1f61e3cd"
      },
      "execution_count": null,
      "outputs": [
        {
          "output_type": "display_data",
          "data": {
            "text/plain": [
              "<Figure size 600x600 with 1 Axes>"
            ],
            "image/png": "[encoded data removed]"
          },
          "metadata": {}
        }
      ]
    },
    {
      "cell_type": "code",
      "source": [
        "fpr, tpr, _ = roc_curve(total_test_labels, total_test_preds)\n",
        "roc_auc = auc(fpr, tpr)\n",
        "\n",
        "plt.figure(figsize=(6, 6))\n",
        "plt.plot(fpr, tpr, label=f'AUC ROC: {roc_auc:.4f}', color='darkorange')\n",
        "plt.xlabel('False Positive Rate')\n",
        "plt.ylabel('True Positive Rate')\n",
        "plt.title('ROC Curve')\n",
        "plt.legend(loc='best')\n",
        "plt.grid()\n",
        "plt.show()"
      ],
      "metadata": {
        "colab": {
          "base_uri": "https://localhost:8080/",
          "height": 564
        },
        "id": "6v7U3W2YYf5H",
        "outputId": "a27cd3dd-36d6-4119-b499-0b527b58b929"
      },
      "execution_count": null,
      "outputs": [
        {
          "output_type": "display_data",
          "data": {
            "text/plain": [
              "<Figure size 600x600 with 1 Axes>"
            ],
            "image/png": "[encoded data removed]"
          },
          "metadata": {}
        }
      ]
    },
    {
      "cell_type": "code",
      "source": [
        "from sklearn.metrics import confusion_matrix\n",
        "import seaborn as sns\n",
        "import matplotlib.pyplot as plt\n",
        "\n",
        "cm = confusion_matrix(total_test_labels, binary_preds)\n",
        "tn, fp, fn, tp = cm.ravel()\n",
        "plt.figure(figsize=(5, 4))\n",
        "sns.heatmap(cm, annot=True, fmt='d', cmap='Blues', xticklabels=['Negative (0)', 'Positive (1)'], yticklabels=['Negative (0)', 'Positive (1)'])\n",
        "plt.xlabel('Predicted Label')\n",
        "plt.ylabel('True Label')\n",
        "plt.title('Confusion Matrix')\n",
        "plt.figtext(0.5, -0.15, f'TN = {tn}  |  FP = {fp}  |  FN = {fn}  |  TP = {tp}',ha='center', fontsize=12, weight='bold')\n",
        "\n",
        "plt.show()\n"
      ],
      "metadata": {
        "colab": {
          "base_uri": "https://localhost:8080/",
          "height": 475
        },
        "id": "r1OCH_KiYiQH",
        "outputId": "c34a97a5-2f28-465d-cf04-1f00a77f8ff7"
      },
      "execution_count": null,
      "outputs": [
        {
          "output_type": "display_data",
          "data": {
            "text/plain": [
              "<Figure size 500x400 with 2 Axes>"
            ],
            "image/png": "[encoded data removed]"
          },
          "metadata": {}
        }
      ]
    },
    {
      "cell_type": "markdown",
      "source": [
        "# Kfold"
      ],
      "metadata": {
        "id": "kTD6rJEZ-Z2B"
      }
    },
    {
      "cell_type": "code",
      "source": [
        "from torch.utils.data import Subset\n",
        "from sklearn.model_selection import KFold\n",
        "import os\n",
        "\n",
        "\n",
        "\n",
        "k_folds = 5\n",
        "kf = KFold(n_splits=k_folds, shuffle=True, random_state=42)\n",
        "batch_size = 128\n",
        "epochs = 200\n",
        "patience = 6\n",
        "save_dir = '/content/drive/MyDrive/lstm_data/kfold'\n"
      ],
      "metadata": {
        "id": "dvQQQwmqYl3u"
      },
      "execution_count": null,
      "outputs": []
    },
    {
      "cell_type": "code",
      "source": [
        "X_train,X_test,y_train,y_test = train_test_split(X,y,test_size=0.2,random_state=42)"
      ],
      "metadata": {
        "id": "atm8t338-b4f"
      },
      "execution_count": null,
      "outputs": []
    },
    {
      "cell_type": "code",
      "source": [
        "train_dataset = TensorDataset(X_train[: ,0],X_train[:,1],X_train[:,2],X_train[:,3], y_train)\n",
        "test_dataset = TensorDataset(X_test[: ,0],X_test[:,1],X_test[:,2],X_test[:,3], y_test)"
      ],
      "metadata": {
        "id": "xs0LgzX8-82q"
      },
      "execution_count": null,
      "outputs": []
    },
    {
      "cell_type": "code",
      "source": [
        "batch_size=64"
      ],
      "metadata": {
        "id": "7mBTvK8l0Vdh"
      },
      "execution_count": null,
      "outputs": []
    },
    {
      "cell_type": "code",
      "source": [
        "device=\"cuda\" if torch.cuda.is_available() else \"cpu\"\n",
        "vocab_size= 33\n",
        "hidden_dim = input_dim = 128\n",
        "num_heads = 4\n",
        "num_layers = 2\n",
        "dropout = 0.3\n",
        "model = Model(input_dim, hidden_dim, num_heads, num_layers,vocab_size, dropout=dropout).to(device)\n",
        "criterion = nn.BCEWithLogitsLoss()\n",
        "optimizer = torch.optim.AdamW(model.parameters(), lr=1e-3,weight_decay=1e-05)\n",
        "scheduler = optim.lr_scheduler.ReduceLROnPlateau(optimizer, mode='min', factor=0.5, patience=3)\n",
        "epochs = 200"
      ],
      "metadata": {
        "id": "5XD8-4WTz4AG"
      },
      "execution_count": null,
      "outputs": []
    },
    {
      "cell_type": "code",
      "source": [
        "for fold, (train_idx, val_idx) in enumerate(kf.split(range(len(X_train)))):\n",
        "    print(f\"\\n========== Starting Fold {fold + 1}/{k_folds} ==========\")\n",
        "\n",
        "    train_subset = Subset(train_dataset, train_idx)\n",
        "    val_subset = Subset(train_dataset, val_idx)\n",
        "\n",
        "    train_loader = DataLoader(train_subset, batch_size=128, shuffle=True)\n",
        "    val_loader = DataLoader(val_subset, batch_size=128, shuffle=False)\n",
        "\n",
        "    #model init\n",
        "    model = Model(input_dim, hidden_dim, num_heads, num_layers,vocab_size, dropout=dropout).to(device)\n",
        "    model.to(device)\n",
        "    optimizer = torch.optim.AdamW(model.parameters(), lr=1e-3,weight_decay=1e-05)\n",
        "    scheduler = optim.lr_scheduler.ReduceLROnPlateau(optimizer, mode='min', factor=0.5, patience=3)\n",
        "    criterion = torch.nn.BCEWithLogitsLoss()\n",
        "\n",
        "    #early stop params\n",
        "    best_val_loss = float('inf')\n",
        "    patience_counter = 0\n",
        "    patience = 5\n",
        "    threshold = 0.4256\n",
        "    save_path = os.path.join(save_dir, f\"best_model_fold_{fold + 1}.pth\")\n",
        "\n",
        "    for epoch in range(epochs):\n",
        "        #train loop\n",
        "        model.train()\n",
        "        train_loss = 0\n",
        "        total_train_preds, total_train_labels = [], []\n",
        "\n",
        "        for pep_ids, mhc_ids, pep_mask, mhc_mask, scores in train_loader:\n",
        "            pep_ids, mhc_ids, scores = pep_ids.to(device), mhc_ids.to(device), scores.to(device)\n",
        "            optimizer.zero_grad()\n",
        "            outputs,_ = model(pep_ids, mhc_ids)\n",
        "            loss = criterion(outputs.squeeze(), scores)\n",
        "            loss.backward()\n",
        "            optimizer.step()\n",
        "\n",
        "            train_loss += loss.item()\n",
        "            total_train_preds.append(torch.sigmoid(outputs).detach().cpu())\n",
        "            total_train_labels.append(scores.detach().cpu())\n",
        "\n",
        "        train_loss /= len(train_loader)\n",
        "        total_train_preds = torch.cat(total_train_preds).numpy()\n",
        "        total_train_labels = torch.cat(total_train_labels).numpy()\n",
        "        train_auroc = roc_auc_score(total_train_labels, total_train_preds)\n",
        "        train_f1 = f1_score(total_train_labels, total_train_preds > threshold, zero_division=0)\n",
        "        train_precision = precision_score(total_train_labels, total_train_preds > threshold, zero_division=0)\n",
        "        train_recall = recall_score(total_train_labels, total_train_preds > threshold, zero_division=0)\n",
        "\n",
        "        print(f\"Epoch {epoch+1}, Train Loss: {train_loss:.4f}, AUROC: {train_auroc:.4f}, F1: {train_f1:.4f}, Precision: {train_precision:.4f}, Recall: {train_recall:.4f}\")\n",
        "\n",
        "        #val loop\n",
        "        model.eval()\n",
        "        val_loss = 0\n",
        "        total_val_preds, total_val_labels = [], []\n",
        "\n",
        "        with torch.no_grad():\n",
        "            for pep_ids, mhc_ids, pep_mask, mhc_mask, scores in val_loader:\n",
        "                pep_ids, mhc_ids, scores = pep_ids.to(device), mhc_ids.to(device), scores.to(device)\n",
        "                outputs,_ = model(pep_ids, mhc_ids)\n",
        "                loss = criterion(outputs.squeeze(), scores)\n",
        "                val_loss += loss.item()\n",
        "                total_val_preds.append(torch.sigmoid(outputs).cpu())\n",
        "                total_val_labels.append(scores.cpu())\n",
        "\n",
        "        val_loss /= len(val_loader)\n",
        "        # scheduler.step(val_loss)\n",
        "        total_val_preds = torch.cat(total_val_preds).numpy()\n",
        "        total_val_labels = torch.cat(total_val_labels).numpy()\n",
        "        val_auroc = roc_auc_score(total_val_labels, total_val_preds)\n",
        "        val_f1 = f1_score(total_val_labels, total_val_preds > threshold)\n",
        "        val_precision = precision_score(total_val_labels, total_val_preds > threshold)\n",
        "        val_recall = recall_score(total_val_labels, total_val_preds > threshold)\n",
        "\n",
        "        print(f\"Epoch {epoch+1}, Val Loss: {val_loss:.4f}, AUROC: {val_auroc:.4f}, F1: {val_f1:.4f}, Precision: {val_precision:.4f}, Recall: {val_recall:.4f}\")\n",
        "\n",
        "        #earlystop\n",
        "        if val_loss < best_val_loss:\n",
        "            best_val_loss = val_loss\n",
        "            patience_counter = 0\n",
        "            torch.save(model.state_dict(), save_path)\n",
        "            print(f\"Best model saved for Fold {fold+1} with Val loss: {best_val_loss:.4f}\")\n",
        "        else:\n",
        "            patience_counter += 1\n",
        "            if patience_counter >= patience:\n",
        "                print(f\"Early stopping at epoch {epoch+1}. Best Val auroc: {best_val_loss:.4f}\")\n",
        "                break\n",
        "\n",
        "    print(f\"========== Completed Fold {fold + 1}/{k_folds} ==========\")"
      ],
      "metadata": {
        "colab": {
          "base_uri": "https://localhost:8080/"
        },
        "id": "vBGXmWju-386",
        "outputId": "c34dc331-7665-4b0f-e7b1-d45b95523a24"
      },
      "execution_count": null,
      "outputs": [
        {
          "output_type": "stream",
          "name": "stdout",
          "text": [
            "\n",
            "========== Starting Fold 1/5 ==========\n",
            "Epoch 1, Train Loss: 0.5637, AUROC: 0.7663, F1: 0.6495, Precision: 0.6205, Recall: 0.6815\n",
            "Epoch 1, Val Loss: 0.5303, AUROC: 0.8033, F1: 0.6941, Precision: 0.6440, Recall: 0.7527\n",
            "Best model saved for Fold 1 with Val loss: 0.5303\n",
            "Epoch 2, Train Loss: 0.5147, AUROC: 0.8147, F1: 0.6960, Precision: 0.6743, Recall: 0.7191\n",
            "Epoch 2, Val Loss: 0.5050, AUROC: 0.8237, F1: 0.6960, Precision: 0.7141, Recall: 0.6788\n",
            "Best model saved for Fold 1 with Val loss: 0.5050\n",
            "Epoch 3, Train Loss: 0.4857, AUROC: 0.8385, F1: 0.7201, Precision: 0.6980, Recall: 0.7436\n",
            "Epoch 3, Val Loss: 0.4964, AUROC: 0.8368, F1: 0.7082, Precision: 0.7425, Recall: 0.6770\n",
            "Best model saved for Fold 1 with Val loss: 0.4964\n",
            "Epoch 4, Train Loss: 0.4661, AUROC: 0.8530, F1: 0.7366, Precision: 0.7104, Recall: 0.7648\n",
            "Epoch 4, Val Loss: 0.4740, AUROC: 0.8483, F1: 0.7328, Precision: 0.7183, Recall: 0.7479\n",
            "Best model saved for Fold 1 with Val loss: 0.4740\n",
            "Epoch 5, Train Loss: 0.4486, AUROC: 0.8655, F1: 0.7488, Precision: 0.7198, Recall: 0.7803\n",
            "Epoch 5, Val Loss: 0.4751, AUROC: 0.8506, F1: 0.7381, Precision: 0.6784, Recall: 0.8094\n",
            "Epoch 6, Train Loss: 0.4335, AUROC: 0.8755, F1: 0.7591, Precision: 0.7314, Recall: 0.7890\n",
            "Epoch 6, Val Loss: 0.4599, AUROC: 0.8581, F1: 0.7456, Precision: 0.6963, Recall: 0.8024\n",
            "Best model saved for Fold 1 with Val loss: 0.4599\n",
            "Epoch 7, Train Loss: 0.4195, AUROC: 0.8841, F1: 0.7709, Precision: 0.7433, Recall: 0.8007\n",
            "Epoch 7, Val Loss: 0.4717, AUROC: 0.8561, F1: 0.7438, Precision: 0.6637, Recall: 0.8458\n",
            "Epoch 8, Train Loss: 0.4070, AUROC: 0.8914, F1: 0.7752, Precision: 0.7473, Recall: 0.8053\n",
            "Epoch 8, Val Loss: 0.4561, AUROC: 0.8625, F1: 0.7481, Precision: 0.7327, Recall: 0.7642\n",
            "Best model saved for Fold 1 with Val loss: 0.4561\n",
            "Epoch 9, Train Loss: 0.3958, AUROC: 0.8978, F1: 0.7836, Precision: 0.7589, Recall: 0.8099\n",
            "Epoch 9, Val Loss: 0.4598, AUROC: 0.8648, F1: 0.7470, Precision: 0.7196, Recall: 0.7766\n",
            "Epoch 10, Train Loss: 0.3827, AUROC: 0.9051, F1: 0.7951, Precision: 0.7699, Recall: 0.8221\n",
            "Epoch 10, Val Loss: 0.4490, AUROC: 0.8670, F1: 0.7529, Precision: 0.7260, Recall: 0.7818\n",
            "Best model saved for Fold 1 with Val loss: 0.4490\n",
            "Epoch 11, Train Loss: 0.3715, AUROC: 0.9109, F1: 0.8004, Precision: 0.7765, Recall: 0.8258\n",
            "Epoch 11, Val Loss: 0.4587, AUROC: 0.8702, F1: 0.7492, Precision: 0.7651, Recall: 0.7340\n",
            "Epoch 12, Train Loss: 0.3604, AUROC: 0.9163, F1: 0.8073, Precision: 0.7821, Recall: 0.8341\n",
            "Epoch 12, Val Loss: 0.4581, AUROC: 0.8724, F1: 0.7622, Precision: 0.7237, Recall: 0.8049\n",
            "Epoch 13, Train Loss: 0.3511, AUROC: 0.9208, F1: 0.8130, Precision: 0.7885, Recall: 0.8391\n",
            "Epoch 13, Val Loss: 0.4545, AUROC: 0.8708, F1: 0.7617, Precision: 0.7229, Recall: 0.8048\n",
            "Epoch 14, Train Loss: 0.3406, AUROC: 0.9258, F1: 0.8189, Precision: 0.7934, Recall: 0.8461\n",
            "Epoch 14, Val Loss: 0.4639, AUROC: 0.8709, F1: 0.7558, Precision: 0.7542, Recall: 0.7573\n",
            "Epoch 15, Train Loss: 0.3302, AUROC: 0.9304, F1: 0.8257, Precision: 0.8025, Recall: 0.8503\n",
            "Epoch 15, Val Loss: 0.4731, AUROC: 0.8740, F1: 0.7606, Precision: 0.7605, Recall: 0.7606\n",
            "Early stopping at epoch 15. Best Val auroc: 0.4490\n",
            "========== Completed Fold 1/5 ==========\n",
            "\n",
            "========== Starting Fold 2/5 ==========\n",
            "Epoch 1, Train Loss: 0.5705, AUROC: 0.7583, F1: 0.6431, Precision: 0.6141, Recall: 0.6749\n",
            "Epoch 1, Val Loss: 0.5302, AUROC: 0.7984, F1: 0.6760, Precision: 0.6561, Recall: 0.6971\n",
            "Best model saved for Fold 2 with Val loss: 0.5302\n",
            "Epoch 2, Train Loss: 0.5195, AUROC: 0.8101, F1: 0.6927, Precision: 0.6728, Recall: 0.7138\n",
            "Epoch 2, Val Loss: 0.5045, AUROC: 0.8254, F1: 0.6856, Precision: 0.7179, Recall: 0.6560\n",
            "Best model saved for Fold 2 with Val loss: 0.5045\n",
            "Epoch 3, Train Loss: 0.4908, AUROC: 0.8350, F1: 0.7197, Precision: 0.6969, Recall: 0.7440\n",
            "Epoch 3, Val Loss: 0.4796, AUROC: 0.8421, F1: 0.7183, Precision: 0.7040, Recall: 0.7333\n",
            "Best model saved for Fold 2 with Val loss: 0.4796\n",
            "Epoch 4, Train Loss: 0.4688, AUROC: 0.8513, F1: 0.7350, Precision: 0.7108, Recall: 0.7609\n",
            "Epoch 4, Val Loss: 0.4673, AUROC: 0.8528, F1: 0.7348, Precision: 0.6795, Recall: 0.7998\n",
            "Best model saved for Fold 2 with Val loss: 0.4673\n",
            "Epoch 5, Train Loss: 0.4517, AUROC: 0.8635, F1: 0.7480, Precision: 0.7228, Recall: 0.7751\n",
            "Epoch 5, Val Loss: 0.4657, AUROC: 0.8552, F1: 0.7335, Precision: 0.6992, Recall: 0.7715\n",
            "Best model saved for Fold 2 with Val loss: 0.4657\n",
            "Epoch 6, Train Loss: 0.4377, AUROC: 0.8728, F1: 0.7575, Precision: 0.7327, Recall: 0.7841\n",
            "Epoch 6, Val Loss: 0.4521, AUROC: 0.8626, F1: 0.7425, Precision: 0.7255, Recall: 0.7604\n",
            "Best model saved for Fold 2 with Val loss: 0.4521\n",
            "Epoch 7, Train Loss: 0.4229, AUROC: 0.8821, F1: 0.7681, Precision: 0.7430, Recall: 0.7949\n",
            "Epoch 7, Val Loss: 0.4510, AUROC: 0.8638, F1: 0.7427, Precision: 0.7244, Recall: 0.7618\n",
            "Best model saved for Fold 2 with Val loss: 0.4510\n",
            "Epoch 8, Train Loss: 0.4098, AUROC: 0.8899, F1: 0.7773, Precision: 0.7513, Recall: 0.8052\n",
            "Epoch 8, Val Loss: 0.4498, AUROC: 0.8693, F1: 0.7444, Precision: 0.7494, Recall: 0.7395\n",
            "Best model saved for Fold 2 with Val loss: 0.4498\n",
            "Epoch 9, Train Loss: 0.3981, AUROC: 0.8968, F1: 0.7848, Precision: 0.7594, Recall: 0.8119\n",
            "Epoch 9, Val Loss: 0.4446, AUROC: 0.8702, F1: 0.7424, Precision: 0.7535, Recall: 0.7316\n",
            "Best model saved for Fold 2 with Val loss: 0.4446\n",
            "Epoch 10, Train Loss: 0.3863, AUROC: 0.9033, F1: 0.7927, Precision: 0.7670, Recall: 0.8202\n",
            "Epoch 10, Val Loss: 0.4396, AUROC: 0.8729, F1: 0.7529, Precision: 0.7339, Recall: 0.7728\n",
            "Best model saved for Fold 2 with Val loss: 0.4396\n",
            "Epoch 11, Train Loss: 0.3730, AUROC: 0.9101, F1: 0.8011, Precision: 0.7759, Recall: 0.8280\n",
            "Epoch 11, Val Loss: 0.4395, AUROC: 0.8756, F1: 0.7586, Precision: 0.7265, Recall: 0.7936\n",
            "Best model saved for Fold 2 with Val loss: 0.4395\n",
            "Epoch 12, Train Loss: 0.3619, AUROC: 0.9157, F1: 0.8084, Precision: 0.7853, Recall: 0.8329\n",
            "Epoch 12, Val Loss: 0.4412, AUROC: 0.8752, F1: 0.7557, Precision: 0.7069, Recall: 0.8118\n",
            "Epoch 13, Train Loss: 0.3522, AUROC: 0.9205, F1: 0.8139, Precision: 0.7902, Recall: 0.8392\n",
            "Epoch 13, Val Loss: 0.4471, AUROC: 0.8761, F1: 0.7553, Precision: 0.7337, Recall: 0.7781\n",
            "Epoch 14, Train Loss: 0.3421, AUROC: 0.9252, F1: 0.8196, Precision: 0.7972, Recall: 0.8432\n",
            "Epoch 14, Val Loss: 0.4505, AUROC: 0.8772, F1: 0.7596, Precision: 0.7419, Recall: 0.7782\n",
            "Epoch 15, Train Loss: 0.3314, AUROC: 0.9299, F1: 0.8248, Precision: 0.8028, Recall: 0.8482\n",
            "Epoch 15, Val Loss: 0.4695, AUROC: 0.8753, F1: 0.7548, Precision: 0.7513, Recall: 0.7584\n",
            "Epoch 16, Train Loss: 0.3198, AUROC: 0.9350, F1: 0.8324, Precision: 0.8113, Recall: 0.8546\n",
            "Epoch 16, Val Loss: 0.4506, AUROC: 0.8738, F1: 0.7535, Precision: 0.7363, Recall: 0.7716\n",
            "Early stopping at epoch 16. Best Val auroc: 0.4395\n",
            "========== Completed Fold 2/5 ==========\n",
            "\n",
            "========== Starting Fold 3/5 ==========\n",
            "Epoch 1, Train Loss: 0.5695, AUROC: 0.7596, F1: 0.6444, Precision: 0.6156, Recall: 0.6761\n",
            "Epoch 1, Val Loss: 0.5350, AUROC: 0.7962, F1: 0.6520, Precision: 0.6934, Recall: 0.6152\n",
            "Best model saved for Fold 3 with Val loss: 0.5350\n",
            "Epoch 2, Train Loss: 0.5180, AUROC: 0.8122, F1: 0.6960, Precision: 0.6736, Recall: 0.7200\n",
            "Epoch 2, Val Loss: 0.5034, AUROC: 0.8237, F1: 0.6958, Precision: 0.7074, Recall: 0.6846\n",
            "Best model saved for Fold 3 with Val loss: 0.5034\n",
            "Epoch 3, Train Loss: 0.4912, AUROC: 0.8344, F1: 0.7166, Precision: 0.6961, Recall: 0.7383\n",
            "Epoch 3, Val Loss: 0.4907, AUROC: 0.8410, F1: 0.6994, Precision: 0.7516, Recall: 0.6539\n",
            "Best model saved for Fold 3 with Val loss: 0.4907\n",
            "Epoch 4, Train Loss: 0.4707, AUROC: 0.8497, F1: 0.7324, Precision: 0.7087, Recall: 0.7577\n",
            "Epoch 4, Val Loss: 0.4781, AUROC: 0.8478, F1: 0.7191, Precision: 0.7282, Recall: 0.7101\n",
            "Best model saved for Fold 3 with Val loss: 0.4781\n",
            "Epoch 5, Train Loss: 0.4537, AUROC: 0.8620, F1: 0.7457, Precision: 0.7211, Recall: 0.7722\n",
            "Epoch 5, Val Loss: 0.4592, AUROC: 0.8581, F1: 0.7431, Precision: 0.7014, Recall: 0.7899\n",
            "Best model saved for Fold 3 with Val loss: 0.4592\n",
            "Epoch 6, Train Loss: 0.4370, AUROC: 0.8731, F1: 0.7579, Precision: 0.7349, Recall: 0.7825\n",
            "Epoch 6, Val Loss: 0.4581, AUROC: 0.8589, F1: 0.7414, Precision: 0.7128, Recall: 0.7724\n",
            "Best model saved for Fold 3 with Val loss: 0.4581\n",
            "Epoch 7, Train Loss: 0.4249, AUROC: 0.8811, F1: 0.7672, Precision: 0.7412, Recall: 0.7951\n",
            "Epoch 7, Val Loss: 0.4564, AUROC: 0.8627, F1: 0.7477, Precision: 0.6881, Recall: 0.8185\n",
            "Best model saved for Fold 3 with Val loss: 0.4564\n",
            "Epoch 8, Train Loss: 0.4116, AUROC: 0.8887, F1: 0.7758, Precision: 0.7507, Recall: 0.8028\n",
            "Epoch 8, Val Loss: 0.4585, AUROC: 0.8691, F1: 0.7497, Precision: 0.7175, Recall: 0.7850\n",
            "Epoch 9, Train Loss: 0.3991, AUROC: 0.8963, F1: 0.7826, Precision: 0.7571, Recall: 0.8098\n",
            "Epoch 9, Val Loss: 0.4455, AUROC: 0.8708, F1: 0.7547, Precision: 0.7407, Recall: 0.7693\n",
            "Best model saved for Fold 3 with Val loss: 0.4455\n",
            "Epoch 10, Train Loss: 0.3870, AUROC: 0.9027, F1: 0.7916, Precision: 0.7683, Recall: 0.8164\n",
            "Epoch 10, Val Loss: 0.4514, AUROC: 0.8692, F1: 0.7495, Precision: 0.7330, Recall: 0.7667\n",
            "Epoch 11, Train Loss: 0.3765, AUROC: 0.9084, F1: 0.7976, Precision: 0.7726, Recall: 0.8242\n",
            "Epoch 11, Val Loss: 0.4527, AUROC: 0.8708, F1: 0.7478, Precision: 0.7471, Recall: 0.7485\n",
            "Epoch 12, Train Loss: 0.3651, AUROC: 0.9143, F1: 0.8053, Precision: 0.7811, Recall: 0.8310\n",
            "Epoch 12, Val Loss: 0.4437, AUROC: 0.8742, F1: 0.7555, Precision: 0.7434, Recall: 0.7679\n",
            "Best model saved for Fold 3 with Val loss: 0.4437\n",
            "Epoch 13, Train Loss: 0.3558, AUROC: 0.9187, F1: 0.8109, Precision: 0.7881, Recall: 0.8351\n",
            "Epoch 13, Val Loss: 0.4497, AUROC: 0.8743, F1: 0.7521, Precision: 0.7643, Recall: 0.7403\n",
            "Epoch 14, Train Loss: 0.3437, AUROC: 0.9244, F1: 0.8186, Precision: 0.7958, Recall: 0.8428\n",
            "Epoch 14, Val Loss: 0.4515, AUROC: 0.8763, F1: 0.7606, Precision: 0.7414, Recall: 0.7808\n",
            "Epoch 15, Train Loss: 0.3342, AUROC: 0.9288, F1: 0.8247, Precision: 0.8022, Recall: 0.8486\n",
            "Epoch 15, Val Loss: 0.4595, AUROC: 0.8777, F1: 0.7588, Precision: 0.7575, Recall: 0.7602\n",
            "Epoch 16, Train Loss: 0.3247, AUROC: 0.9329, F1: 0.8291, Precision: 0.8078, Recall: 0.8516\n",
            "Epoch 16, Val Loss: 0.4557, AUROC: 0.8766, F1: 0.7592, Precision: 0.7453, Recall: 0.7736\n",
            "Epoch 17, Train Loss: 0.3150, AUROC: 0.9369, F1: 0.8358, Precision: 0.8142, Recall: 0.8585\n",
            "Epoch 17, Val Loss: 0.4773, AUROC: 0.8743, F1: 0.7614, Precision: 0.7291, Recall: 0.7968\n",
            "Early stopping at epoch 17. Best Val auroc: 0.4437\n",
            "========== Completed Fold 3/5 ==========\n",
            "\n",
            "========== Starting Fold 4/5 ==========\n",
            "Epoch 1, Train Loss: 0.5727, AUROC: 0.7556, F1: 0.6381, Precision: 0.6129, Recall: 0.6655\n",
            "Epoch 1, Val Loss: 0.5199, AUROC: 0.8118, F1: 0.6921, Precision: 0.6763, Recall: 0.7087\n",
            "Best model saved for Fold 4 with Val loss: 0.5199\n",
            "Epoch 2, Train Loss: 0.5211, AUROC: 0.8087, F1: 0.6896, Precision: 0.6745, Recall: 0.7053\n",
            "Epoch 2, Val Loss: 0.5054, AUROC: 0.8330, F1: 0.7163, Precision: 0.6279, Recall: 0.8339\n",
            "Best model saved for Fold 4 with Val loss: 0.5054\n",
            "Epoch 3, Train Loss: 0.4921, AUROC: 0.8333, F1: 0.7146, Precision: 0.6961, Recall: 0.7341\n",
            "Epoch 3, Val Loss: 0.4800, AUROC: 0.8461, F1: 0.7314, Precision: 0.6665, Recall: 0.8103\n",
            "Best model saved for Fold 4 with Val loss: 0.4800\n",
            "Epoch 4, Train Loss: 0.4727, AUROC: 0.8486, F1: 0.7321, Precision: 0.7112, Recall: 0.7542\n",
            "Epoch 4, Val Loss: 0.4710, AUROC: 0.8500, F1: 0.7336, Precision: 0.7114, Recall: 0.7573\n",
            "Best model saved for Fold 4 with Val loss: 0.4710\n",
            "Epoch 5, Train Loss: 0.4548, AUROC: 0.8613, F1: 0.7457, Precision: 0.7220, Recall: 0.7711\n",
            "Epoch 5, Val Loss: 0.4642, AUROC: 0.8548, F1: 0.7350, Precision: 0.7333, Recall: 0.7366\n",
            "Best model saved for Fold 4 with Val loss: 0.4642\n",
            "Epoch 6, Train Loss: 0.4389, AUROC: 0.8717, F1: 0.7559, Precision: 0.7299, Recall: 0.7838\n",
            "Epoch 6, Val Loss: 0.4500, AUROC: 0.8667, F1: 0.7385, Precision: 0.7532, Recall: 0.7244\n",
            "Best model saved for Fold 4 with Val loss: 0.4500\n",
            "Epoch 7, Train Loss: 0.4254, AUROC: 0.8803, F1: 0.7644, Precision: 0.7377, Recall: 0.7931\n",
            "Epoch 7, Val Loss: 0.4415, AUROC: 0.8701, F1: 0.7563, Precision: 0.7171, Recall: 0.8000\n",
            "Best model saved for Fold 4 with Val loss: 0.4415\n",
            "Epoch 8, Train Loss: 0.4120, AUROC: 0.8884, F1: 0.7747, Precision: 0.7481, Recall: 0.8034\n",
            "Epoch 8, Val Loss: 0.4408, AUROC: 0.8705, F1: 0.7522, Precision: 0.7316, Recall: 0.7739\n",
            "Best model saved for Fold 4 with Val loss: 0.4408\n",
            "Epoch 9, Train Loss: 0.4000, AUROC: 0.8955, F1: 0.7818, Precision: 0.7536, Recall: 0.8122\n",
            "Epoch 9, Val Loss: 0.4447, AUROC: 0.8740, F1: 0.7574, Precision: 0.7331, Recall: 0.7834\n",
            "Epoch 10, Train Loss: 0.3870, AUROC: 0.9026, F1: 0.7905, Precision: 0.7645, Recall: 0.8183\n",
            "Epoch 10, Val Loss: 0.4492, AUROC: 0.8755, F1: 0.7580, Precision: 0.7428, Recall: 0.7739\n",
            "Epoch 11, Train Loss: 0.3781, AUROC: 0.9075, F1: 0.7968, Precision: 0.7705, Recall: 0.8251\n",
            "Epoch 11, Val Loss: 0.4536, AUROC: 0.8743, F1: 0.7517, Precision: 0.7614, Recall: 0.7422\n",
            "Epoch 12, Train Loss: 0.3665, AUROC: 0.9132, F1: 0.8039, Precision: 0.7797, Recall: 0.8296\n",
            "Epoch 12, Val Loss: 0.4484, AUROC: 0.8748, F1: 0.7577, Precision: 0.7432, Recall: 0.7728\n",
            "Epoch 13, Train Loss: 0.3554, AUROC: 0.9188, F1: 0.8107, Precision: 0.7858, Recall: 0.8372\n",
            "Epoch 13, Val Loss: 0.4526, AUROC: 0.8701, F1: 0.7483, Precision: 0.7392, Recall: 0.7576\n",
            "Early stopping at epoch 13. Best Val auroc: 0.4408\n",
            "========== Completed Fold 4/5 ==========\n",
            "\n",
            "========== Starting Fold 5/5 ==========\n",
            "Epoch 1, Train Loss: 0.5672, AUROC: 0.7624, F1: 0.6469, Precision: 0.6196, Recall: 0.6766\n",
            "Epoch 1, Val Loss: 0.5230, AUROC: 0.8097, F1: 0.6759, Precision: 0.7058, Recall: 0.6484\n",
            "Best model saved for Fold 5 with Val loss: 0.5230\n",
            "Epoch 2, Train Loss: 0.5145, AUROC: 0.8154, F1: 0.6970, Precision: 0.6778, Recall: 0.7172\n",
            "Epoch 2, Val Loss: 0.5053, AUROC: 0.8265, F1: 0.6739, Precision: 0.7392, Recall: 0.6191\n",
            "Best model saved for Fold 5 with Val loss: 0.5053\n",
            "Epoch 3, Train Loss: 0.4877, AUROC: 0.8370, F1: 0.7202, Precision: 0.6978, Recall: 0.7440\n",
            "Epoch 3, Val Loss: 0.4839, AUROC: 0.8390, F1: 0.7202, Precision: 0.6956, Recall: 0.7465\n",
            "Best model saved for Fold 5 with Val loss: 0.4839\n",
            "Epoch 4, Train Loss: 0.4669, AUROC: 0.8526, F1: 0.7361, Precision: 0.7114, Recall: 0.7626\n",
            "Epoch 4, Val Loss: 0.4841, AUROC: 0.8509, F1: 0.7365, Precision: 0.6785, Recall: 0.8052\n",
            "Epoch 5, Train Loss: 0.4528, AUROC: 0.8627, F1: 0.7465, Precision: 0.7223, Recall: 0.7724\n",
            "Epoch 5, Val Loss: 0.4569, AUROC: 0.8592, F1: 0.7373, Precision: 0.7245, Recall: 0.7505\n",
            "Best model saved for Fold 5 with Val loss: 0.4569\n",
            "Epoch 6, Train Loss: 0.4368, AUROC: 0.8734, F1: 0.7580, Precision: 0.7326, Recall: 0.7853\n",
            "Epoch 6, Val Loss: 0.4537, AUROC: 0.8629, F1: 0.7481, Precision: 0.7105, Recall: 0.7899\n",
            "Best model saved for Fold 5 with Val loss: 0.4537\n",
            "Epoch 7, Train Loss: 0.4223, AUROC: 0.8825, F1: 0.7675, Precision: 0.7430, Recall: 0.7937\n",
            "Epoch 7, Val Loss: 0.4458, AUROC: 0.8676, F1: 0.7479, Precision: 0.7263, Recall: 0.7707\n",
            "Best model saved for Fold 5 with Val loss: 0.4458\n",
            "Epoch 8, Train Loss: 0.4103, AUROC: 0.8895, F1: 0.7747, Precision: 0.7493, Recall: 0.8017\n",
            "Epoch 8, Val Loss: 0.4431, AUROC: 0.8699, F1: 0.7548, Precision: 0.7109, Recall: 0.8045\n",
            "Best model saved for Fold 5 with Val loss: 0.4431\n",
            "Epoch 9, Train Loss: 0.3987, AUROC: 0.8962, F1: 0.7844, Precision: 0.7570, Recall: 0.8139\n",
            "Epoch 9, Val Loss: 0.4420, AUROC: 0.8715, F1: 0.7557, Precision: 0.7202, Recall: 0.7949\n",
            "Best model saved for Fold 5 with Val loss: 0.4420\n",
            "Epoch 10, Train Loss: 0.3888, AUROC: 0.9019, F1: 0.7897, Precision: 0.7618, Recall: 0.8196\n",
            "Epoch 10, Val Loss: 0.4489, AUROC: 0.8732, F1: 0.7538, Precision: 0.7191, Recall: 0.7920\n",
            "Epoch 11, Train Loss: 0.3760, AUROC: 0.9085, F1: 0.7992, Precision: 0.7714, Recall: 0.8291\n",
            "Epoch 11, Val Loss: 0.4447, AUROC: 0.8747, F1: 0.7573, Precision: 0.6932, Recall: 0.8345\n",
            "Epoch 12, Train Loss: 0.3653, AUROC: 0.9139, F1: 0.8046, Precision: 0.7789, Recall: 0.8320\n",
            "Epoch 12, Val Loss: 0.4566, AUROC: 0.8759, F1: 0.7569, Precision: 0.7188, Recall: 0.7993\n",
            "Epoch 13, Train Loss: 0.3557, AUROC: 0.9187, F1: 0.8112, Precision: 0.7851, Recall: 0.8391\n",
            "Epoch 13, Val Loss: 0.4484, AUROC: 0.8736, F1: 0.7555, Precision: 0.7419, Recall: 0.7696\n",
            "Epoch 14, Train Loss: 0.3464, AUROC: 0.9233, F1: 0.8173, Precision: 0.7902, Recall: 0.8463\n",
            "Epoch 14, Val Loss: 0.4591, AUROC: 0.8755, F1: 0.7608, Precision: 0.7078, Recall: 0.8225\n",
            "Early stopping at epoch 14. Best Val auroc: 0.4420\n",
            "========== Completed Fold 5/5 ==========\n"
          ]
        }
      ]
    },
    {
      "cell_type": "code",
      "source": [
        "import torch\n",
        "import numpy as np\n",
        "import os\n",
        "import matplotlib.pyplot as plt\n",
        "from sklearn.metrics import roc_auc_score, f1_score, precision_score, recall_score, precision_recall_curve, roc_curve, confusion_matrix,auc\n",
        "import seaborn as sns\n",
        "\n",
        "test_dataset = TensorDataset(X_test[:, 0], X_test[:, 1], y_test)\n",
        "test_loader = DataLoader(test_dataset, batch_size=batch_size, shuffle=False)\n",
        "\n",
        "save_dir = \"/content/drive/MyDrive/lstm_data/kfold\"\n",
        "k_folds = 5\n",
        "\n",
        "device = torch.device(\"cuda\" if torch.cuda.is_available() else \"cpu\")\n",
        "\n",
        "models = []\n",
        "for fold in range(k_folds):\n",
        "    model = Model(input_dim, hidden_dim, num_heads, num_layers,vocab_size, dropout=dropout).to(device)\n",
        "    model.to(device)\n",
        "    model_path = os.path.join(save_dir, f\"best_model_fold_{fold + 1}.pth\")\n",
        "    model.load_state_dict(torch.load(model_path,weights_only=True))\n",
        "    model.eval()\n",
        "    models.append(model)\n",
        "\n",
        "total_preds = []\n",
        "total_labels = []\n",
        "total_loss = 0\n",
        "criterion = nn.BCEWithLogitsLoss()\n",
        "threshold = 0.4256\n",
        "total_loss = 0\n",
        "total_preds = []\n",
        "total_labels = []\n",
        "\n",
        "with torch.no_grad():\n",
        "    for pep_ids, mhc_ids, scores in test_loader:\n",
        "        pep_ids, mhc_ids, scores = pep_ids.to(device), mhc_ids.to(device), scores.to(device)\n",
        "\n",
        "        outputs = torch.zeros_like(scores, dtype=torch.float32).to(device)\n",
        "        for model in models:\n",
        "            out,_= model(pep_ids, mhc_ids)\n",
        "            outputs +=out.squeeze()\n",
        "        outputs /= len(models)\n",
        "\n",
        "        loss = criterion(outputs, scores)\n",
        "        total_loss += loss.item()\n",
        "\n",
        "        probs = torch.sigmoid(outputs).cpu().numpy()\n",
        "\n",
        "        total_preds.append(probs)\n",
        "        total_labels.append(scores.cpu().numpy())\n",
        "\n",
        "total_preds = np.concatenate(total_preds)\n",
        "total_labels = np.concatenate(total_labels)\n",
        "\n",
        "\n",
        "test_loss = total_loss / len(test_loader)\n",
        "test_auroc = roc_auc_score(total_labels, total_preds)\n",
        "test_f1 = f1_score(total_labels, total_preds > threshold)\n",
        "test_precision = precision_score(total_labels, total_preds > threshold)\n",
        "test_recall = recall_score(total_labels, total_preds > threshold)\n",
        "\n",
        "print(\"Test Metrics:\")\n",
        "print(f\"Loss: {test_loss:.4f}, AUC ROC: {test_auroc:.4f}, F1: {test_f1:.4f}, Precision: {test_precision:.4f}, Recall: {test_recall:.4f}\")\n",
        "\n"
      ],
      "metadata": {
        "colab": {
          "base_uri": "https://localhost:8080/"
        },
        "id": "thZ-ULQq-36-",
        "outputId": "aa124b59-48e7-4844-8b65-c12af8dc5e53"
      },
      "execution_count": null,
      "outputs": [
        {
          "output_type": "stream",
          "name": "stdout",
          "text": [
            "Test Metrics:\n",
            "Loss: 0.4107, AUC ROC: 0.8889, F1: 0.7736, Precision: 0.7502, Recall: 0.7985\n"
          ]
        }
      ]
    },
    {
      "cell_type": "code",
      "source": [
        "precision, recall, _ = precision_recall_curve(total_labels, total_preds)\n",
        "plt.figure(figsize=(6,6))\n",
        "test_pr_auc = auc(recall, precision)\n",
        "plt.plot(recall, precision, color='blue', label=f'AUC PR = {test_pr_auc:.4f}')\n",
        "plt.xlabel(\"Recall\")\n",
        "plt.ylabel(\"Precision\")\n",
        "plt.title(\"PR Curve\")\n",
        "plt.legend()\n",
        "plt.grid()\n",
        "plt.show()\n",
        "\n",
        "fpr, tpr, _ = roc_curve(total_labels, total_preds)\n",
        "plt.figure(figsize=(6,6))\n",
        "plt.plot(fpr, tpr, color='orange', label=f'AUC ROC = {test_auroc:.4f}')\n",
        "plt.xlabel(\"False Positive Rate\")\n",
        "plt.ylabel(\"True Positive Rate\")\n",
        "plt.title(\"ROC Curve\")\n",
        "plt.legend()\n",
        "plt.grid()\n",
        "plt.show()\n",
        "\n",
        "conf_matrix = confusion_matrix(total_labels, total_preds > threshold)\n",
        "tn, fp, fn, tp = conf_matrix.ravel()\n",
        "plt.figure(figsize=(6,5))\n",
        "sns.heatmap(conf_matrix, annot=True, fmt=\"d\", cmap=\"Blues\", xticklabels=[\"Negative (0)\", \"Positive (1)\"], yticklabels=[\"Negative (0)\", \"Positive (1)\"])\n",
        "plt.xlabel(\"Predicted Label\")\n",
        "plt.ylabel(\"True Label\")\n",
        "plt.title(\"Confusion Matrix\")\n",
        "plt.figtext(0.5, -0.15, f'TN = {tn}  |  FP = {fp}  |  FN = {fn}  |  TP = {tp}',ha='center', fontsize=12, weight='bold')\n",
        "plt.show()\n"
      ],
      "metadata": {
        "colab": {
          "base_uri": "https://localhost:8080/",
          "height": 1000
        },
        "id": "0DXDGGXLRzqB",
        "outputId": "0e18bd62-da20-4f0d-a1dc-c6176c6956e1"
      },
      "execution_count": null,
      "outputs": [
        {
          "output_type": "display_data",
          "data": {
            "text/plain": [
              "<Figure size 600x600 with 1 Axes>"
            ],
            "image/png": "[encoded data removed]"
          },
          "metadata": {}
        },
        {
          "output_type": "display_data",
          "data": {
            "text/plain": [
              "<Figure size 600x600 with 1 Axes>"
            ],
            "image/png": "[encoded data removed]"
          },
          "metadata": {}
        },
        {
          "output_type": "display_data",
          "data": {
            "text/plain": [
              "<Figure size 600x500 with 2 Axes>"
            ],
            "image/png": "[encoded data removed]"
          },
          "metadata": {}
        }
      ]
    }
  ]
}